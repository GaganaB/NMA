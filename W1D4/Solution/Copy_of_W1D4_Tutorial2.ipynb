{
  "nbformat": 4,
  "nbformat_minor": 0,
  "metadata": {
    "celltoolbar": "Slideshow",
    "colab": {
      "name": "Copy of W1D4_Tutorial2",
      "provenance": [],
      "collapsed_sections": [],
      "toc_visible": true
    },
    "kernel": {
      "display_name": "Python 3",
      "language": "python",
      "name": "python3"
    },
    "kernelspec": {
      "display_name": "Python 3",
      "language": "python",
      "name": "python3"
    },
    "language_info": {
      "codemirror_mode": {
        "name": "ipython",
        "version": 3
      },
      "file_extension": ".py",
      "mimetype": "text/x-python",
      "name": "python",
      "nbconvert_exporter": "python",
      "pygments_lexer": "ipython3",
      "version": "3.7.8"
    }
  },
  "cells": [
    {
      "cell_type": "markdown",
      "metadata": {
        "id": "R0w40vlVtTyJ"
      },
      "source": [
        "# Neuromatch Academy: Week 1, Day 4, Tutorial 2\n",
        "# Machine Learning: Classifiers and regularizers\n",
        "\n",
        "__Content creators:__ Pierre-Etienne H. Fiquet, Ari Benjamin, Jakob Macke\n",
        "\n",
        "__Content reviewers:__ Davide Valeriani, Alish Dipani, Michael Waskom\n"
      ]
    },
    {
      "cell_type": "markdown",
      "metadata": {
        "id": "IjHrfpX3tTyK"
      },
      "source": [
        "This is part 2 of a 2-part series about Generalized Linear Models (GLMs), which are a fundamental framework for supervised learning. In part 1, we learned about and implemented GLMs. In this tutorial, we’ll implement logistic regression, a special case of GLMs used to model binary outcomes.\n",
        "Oftentimes the variable you would like to predict takes only one of two possible values. Left or right? Awake or asleep? Car or bus? In this tutorial, we will decode a mouse's left/right decisions from spike train data. Our objectives are to:\n",
        "1.\tLearn about logistic regression, how it is derived within the GLM theory, and how it is implemented in scikit-learn\n",
        "2.\tApply logistic regression to decode choies from neural responses\n",
        "3.\tLearn about regularization, including the different approaches and the influence of hyperparameters\n",
        "\n",
        "---\n",
        "We would like to acknowledge [Steinmetz _et al._ (2019)](https://www.nature.com/articles/s41586-019-1787-x) for sharing their data, a subset of which is used here.\n"
      ]
    },
    {
      "cell_type": "markdown",
      "metadata": {
        "id": "7darjo83tTyK"
      },
      "source": [
        "# Setup\n"
      ]
    },
    {
      "cell_type": "code",
      "metadata": {
        "cellView": "both",
        "id": "yiOm0yvCtTyL"
      },
      "source": [
        "import numpy as np\n",
        "import matplotlib.pyplot as plt\n",
        "\n",
        "from sklearn.linear_model import LogisticRegression\n",
        "from sklearn.model_selection import cross_val_score"
      ],
      "execution_count": null,
      "outputs": []
    },
    {
      "cell_type": "code",
      "metadata": {
        "cellView": "form",
        "id": "dIPkg6SutTyL"
      },
      "source": [
        "#@title Figure settings\n",
        "import ipywidgets as widgets\n",
        "\n",
        "%matplotlib inline\n",
        "%config InlineBackend.figure_format = 'retina'\n",
        "plt.style.use(\"https://raw.githubusercontent.com/NeuromatchAcademy/course-content/master/nma.mplstyle\")"
      ],
      "execution_count": null,
      "outputs": []
    },
    {
      "cell_type": "code",
      "metadata": {
        "id": "ZGIHnj-6tTyM"
      },
      "source": [
        "#@title Helper functions\n",
        "\n",
        "def plot_weights(models, sharey=True):\n",
        "  \"\"\"Draw a stem plot of weights for each model in models dict.\"\"\"\n",
        "  n = len(models)\n",
        "  f = plt.figure(figsize=(10, 2.5 * n))\n",
        "  axs = f.subplots(n, sharex=True, sharey=sharey)\n",
        "  axs = np.atleast_1d(axs)\n",
        "\n",
        "  for ax, (title, model) in zip(axs, models.items()):\n",
        "\n",
        "    ax.margins(x=.02)\n",
        "    stem = ax.stem(model.coef_.squeeze(), use_line_collection=True)\n",
        "    stem[0].set_marker(\".\")\n",
        "    stem[0].set_color(\".2\")\n",
        "    stem[1].set_linewidths(.5)\n",
        "    stem[1].set_color(\".2\")\n",
        "    stem[2].set_visible(False)\n",
        "    ax.axhline(0, color=\"C3\", lw=3)\n",
        "    ax.set(ylabel=\"Weight\", title=title)\n",
        "  ax.set(xlabel=\"Neuron (a.k.a. feature)\")\n",
        "  f.tight_layout()\n",
        "\n",
        "\n",
        "def plot_function(f, name, var, points=(-10, 10)):\n",
        "    \"\"\"Evaluate f() on linear space between points and plot.\n",
        "\n",
        "    Args:\n",
        "      f (callable): function that maps scalar -> scalar\n",
        "      name (string): Function name for axis labels\n",
        "      var (string): Variable name for axis labels.\n",
        "      points (tuple): Args for np.linspace to create eval grid.\n",
        "    \"\"\"\n",
        "    x = np.linspace(*points)\n",
        "    ax = plt.figure().subplots()\n",
        "    ax.plot(x, f(x))\n",
        "    ax.set(\n",
        "      xlabel=f'${var}$',\n",
        "      ylabel=f'${name}({var})$'\n",
        "    )\n",
        "\n",
        "\n",
        "def plot_model_selection(C_values, accuracies):\n",
        "  \"\"\"Plot the accuracy curve over log-spaced C values.\"\"\"\n",
        "  ax = plt.figure().subplots()\n",
        "  ax.set_xscale(\"log\")\n",
        "  ax.plot(C_values, accuracies, marker=\"o\")\n",
        "  best_C = C_values[np.argmax(accuracies)]\n",
        "  ax.set(\n",
        "      xticks=C_values,\n",
        "      xlabel=\"$C$\",\n",
        "      ylabel=\"Cross-validated accuracy\",\n",
        "      title=f\"Best C: {best_C:1g} ({np.max(accuracies):.2%})\",\n",
        "  )\n",
        "\n",
        "def plot_non_zero_coefs(C_values, non_zero_l1, n_voxels):\n",
        "  \"\"\"Plot the accuracy curve over log-spaced C values.\"\"\"\n",
        "  ax = plt.figure().subplots()\n",
        "  ax.set_xscale(\"log\")\n",
        "  ax.plot(C_values, non_zero_l1, marker=\"o\")\n",
        "  ax.set(\n",
        "    xticks=C_values,\n",
        "    xlabel=\"$C$\",\n",
        "    ylabel=\"Number of non-zero coefficients\",\n",
        "  )\n",
        "  ax.axhline(n_voxels, color=\".1\", linestyle=\":\")\n",
        "  ax.annotate(\"Total\\n# Neurons\", (C_values[0], n_voxels * .98), va=\"top\")"
      ],
      "execution_count": null,
      "outputs": []
    },
    {
      "cell_type": "markdown",
      "metadata": {
        "id": "dvsLmFlputgz"
      },
      "source": [
        "# Discussion of Helper functions:\n",
        "\n",
        "*plot_weights*:\n",
        "stem plot for every model where yaxis is the weight and xaxis is the neuron aka feature.\n",
        "\n",
        "*plot_function*:\n",
        "Evaluate scalar to scalar mapping function on linear space between points and plot\n",
        "where xaxis = variable name for axis labels and yaxis = function name for axis labels.\n",
        "\n",
        "*plot_model_selection*:\n",
        "plot cross validated accuracy (yaxis) over log-spaced c values (xaxis) in order to find best c/ max accuracy. \n",
        "\n",
        "*plot_non_zero_coefs*:\n",
        "Plot the accuracy curve/ number of non 0 coefficients (yaxis) over log-spaced C values (xaxis) to return the top value of all neurons.\n",
        "\n",
        " "
      ]
    },
    {
      "cell_type": "code",
      "metadata": {
        "cellView": "form",
        "id": "Ako2hW65tTyM"
      },
      "source": [
        "#@title Data retrieval and loading\n",
        "import os\n",
        "import requests\n",
        "import hashlib\n",
        "\n",
        "url = \"https://osf.io/r9gh8/download\"\n",
        "fname = \"W1D4_steinmetz_data.npz\"\n",
        "expected_md5 = \"d19716354fed0981267456b80db07ea8\"\n",
        "\n",
        "if not os.path.isfile(fname):\n",
        "  try:\n",
        "    r = requests.get(url)\n",
        "  except requests.ConnectionError:\n",
        "    print(\"!!! Failed to download data !!!\")\n",
        "  else:\n",
        "    if r.status_code != requests.codes.ok:\n",
        "      print(\"!!! Failed to download data !!!\")\n",
        "    elif hashlib.md5(r.content).hexdigest() != expected_md5:\n",
        "      print(\"!!! Data download appears corrupted !!!\")\n",
        "    else:\n",
        "      with open(fname, \"wb\") as fid:\n",
        "        fid.write(r.content)\n",
        "\n",
        "def load_steinmetz_data(data_fname=fname):\n",
        "\n",
        "  with np.load(data_fname) as dobj:\n",
        "    data = dict(**dobj)\n",
        "\n",
        "  return data"
      ],
      "execution_count": null,
      "outputs": []
    },
    {
      "cell_type": "markdown",
      "metadata": {
        "id": "3zB7iUdytTyN"
      },
      "source": [
        "---\n",
        "\n",
        "#Section 1: Logistic regression"
      ]
    },
    {
      "cell_type": "code",
      "metadata": {
        "cellView": "form",
        "id": "-sCVub6btTyN",
        "colab": {
          "base_uri": "https://localhost:8080/",
          "height": 518
        },
        "outputId": "4ed0cc95-3f93-4a1c-dc00-4ecfe3567fa3"
      },
      "source": [
        "#@title Video 1: Logistic regression\n",
        "from IPython.display import YouTubeVideo\n",
        "video = YouTubeVideo(id=\"qfXFrUnLU0o\", width=854, height=480, fs=1)\n",
        "print(\"Video available at https://youtube.com/watch?v=\" + video.id)\n",
        "video"
      ],
      "execution_count": 1,
      "outputs": [
        {
          "output_type": "stream",
          "text": [
            "Video available at https://youtube.com/watch?v=qfXFrUnLU0o\n"
          ],
          "name": "stdout"
        },
        {
          "output_type": "execute_result",
          "data": {
            "text/html": [
              "\n",
              "        <iframe\n",
              "            width=\"854\"\n",
              "            height=\"480\"\n",
              "            src=\"https://www.youtube.com/embed/qfXFrUnLU0o?fs=1\"\n",
              "            frameborder=\"0\"\n",
              "            allowfullscreen\n",
              "        ></iframe>\n",
              "        "
            ],
            "text/plain": [
              "<IPython.lib.display.YouTubeVideo at 0x7f4cdbecf6a0>"
            ],
            "image/jpeg": "[encoded data removed]"
          },
          "metadata": {
            "tags": []
          },
          "execution_count": 1
        }
      ]
    },
    {
      "cell_type": "markdown",
      "metadata": {
        "id": "ZWgtV7ykwaPD"
      },
      "source": [
        "# Summary of Video 1:\n",
        "\n",
        "- explore another example of GLM which is called logistic regression. \n",
        "\n",
        "In the previous tutorial, we introduced how to use Poisson GLM to encode neural spike trains from stimuli. The nonlinear function is exponential function and the noise distribution is Poisson. \n",
        "\n",
        "- another instantiation of GLM for the purpose of decoding a binary decision of an animal from spike train data. the input x is now the discrete spike count and generates binary decision variable y. \n",
        "\n",
        "- An encoding model usually attempts to predict brain responses based on the presented stimuli. Well, the decoding model attempts to predict external experimental variables such as behavior, decision and accession based purely on neural signals in the brain. \n",
        "\n",
        "Here we have an example binary decision data set. The input is the linear predictor theta multiplying x and output is the probability of y is equal to 1 or 0. If f is still a linear function, then the black line here would be the best of fit linear curve or linear line. But they actually follow a sigmoid shaped curve. Thus we have the intuition to define f to be a sigmoid function, sigma here, which is a squashing function. \n",
        "\n",
        "distribution of the observation noise: Bernoulli distribution to generate a binary value with some input probability value. \n",
        "Think of a simple single coin flip experiment. Why is a binary random variable representing the outcome of the flip? And the head shows up with probability p and the tail shows up with probability (1 minus p). Then the probability of y is written as this form- is equal to p when y is 1, and is equal to (1 minus p) when y is 0.\n",
        "\n",
        "Thus for all data points, the density function is the product of the probability density for each data point Which has this final expression and therefore, we could finally assign Bernoulli as the noise distribution. We call it Bernoulli GLM. \n",
        "\n",
        "Given the decoding distribution, we could write down the log likelihood for Bernoulli GLM but it doesn't give us closed form solution for theta neither and we need optimization to feed the model similar to Poisson GLM. Finally, this model is also referred to as logistic regression. It's closely related to linear model but with the sigmoid function and works only for discrete outcomes due to the Bernoulli noise distribution. \n",
        "\n",
        "This specific filter tells us that the first chunk of spikes positively correlated to the behavior while the later chunk of the spikes negatively correlated to the behavior. The spike counts around the peak and the valley have the strongest impact. \n",
        "\n",
        "Here, we show a comparison of the three GLMs \n",
        "\n",
        "linear Gaussian model. The output type is real value, the likelihood is Gaussian, and the mean of the Gaussian is just a linear predictor without nonlinear mapping function, f. \n",
        "\n",
        "Poisson GLM. The type of the model is discrete count. We use it for fitting the spike count data. The likelihood is Poisson and the spike rate, lambda, is exponential of the linear predictor. \n",
        "\n",
        "Bernoulli GLM, which is usually called as logistic regression. The output type is binary. It's used for a binary decision prediction task. The likelihood is Bernoulli and the probability of this Bernoulli is sigmoid over the linear predictor. \n",
        "\n",
        "In the following notebook, you will inspect the sigmoid function and use Scikit-learn to fit the logistic regression model to a simulated decision making data. "
      ]
    },
    {
      "cell_type": "markdown",
      "metadata": {
        "id": "aOIAJxc7tTyO"
      },
      "source": [
        "Logistic Regression is a binary classification model. It is a GLM with a *logistic* link function and a *Bernoulli* (i.e. coinflip) noise model.\n",
        "\n",
        "Like in the last notebook, logistic regression invokes a standard procedure:\n",
        "\n",
        "1.   Define a *model* of how inputs relate to outputs.\n",
        "2.   Adjust the parameters to maximize (log) probability of your data given your model\n",
        "\n",
        "## Section 1.1: The logistic regression model\n",
        "\n",
        "The fundamental input/output equation of logistic regression is:\n",
        "\n",
        "\n",
        "$$ \\hat{y} \\equiv p(y=1|x,\\theta) = \\sigma(\\theta^Tx)$$\n",
        "\n",
        "Note that we interpret the output of logistic regression, $\\hat{y}$, as the **probability that y = 1** given inputs $x$ and parameters $\\theta$.\n",
        "\n",
        "Here $\\sigma()$ is a \"squashing\" function called the **sigmoid function** or **logistic function**. Its output is in the range $0 \\leq y \\leq 1$. It looks like this:\n",
        "\n",
        "$$\\sigma(z) = \\frac{1}{1 + \\textrm{exp}(-z)}$$\n",
        "\n",
        "Recall that $z = \\theta^T x$. The parameters decide whether $\\theta^T x$ will be very negative, in which case $\\sigma(\\theta^T x)\\approx 0$, or very positive, meaning  $\\sigma(\\theta^T x)\\approx 1$.\n"
      ]
    },
    {
      "cell_type": "markdown",
      "metadata": {
        "id": "fCD7KvJntTyP"
      },
      "source": [
        "### Exercise 1: implement the sigmoid function\n"
      ]
    },
    {
      "cell_type": "code",
      "metadata": {
        "cellView": "both",
        "id": "NdoH9o0itTyP"
      },
      "source": [
        "def sigmoid(z):\n",
        "  \"\"\"Return the logistic transform of z.\"\"\"\n",
        "  ##############################################################################\n",
        "  # TODO for students: Fill in the missing code (...) and remove the error\n",
        "  raise NotImplementedError(\"Student excercise: implement the sigmoid function\")\n",
        "  ##############################################################################\n",
        "  return ...\n",
        "\n",
        "# Uncomment to test your sigmoid function\n",
        "# plot_function(sigmoid, \"\\sigma\", \"z\", (-10, 10))"
      ],
      "execution_count": null,
      "outputs": []
    },
    {
      "cell_type": "code",
      "metadata": {
        "id": "1gMYvjkBtTyQ"
      },
      "source": [
        "# to_remove solution\n",
        "def sigmoid(z):\n",
        "  \"\"\"Return the logistic transform of z.\"\"\"\n",
        "  return 1 / (1 + np.exp(-z))\n",
        "with plt.xkcd():\n",
        "  plot_function(sigmoid, \"\\sigma\", \"z\", (-10, 10))"
      ],
      "execution_count": null,
      "outputs": []
    },
    {
      "cell_type": "markdown",
      "metadata": {
        "id": "8n6H4FSttTyQ"
      },
      "source": [
        "## Section 1.2: Using scikit-learn\n",
        "\n",
        "Unlike the previous notebook, we're not going to write the code that implements all of the Logistic Regression model itself. Instead, we're going to use the implementation in [scikit-learn](https://scikit-learn.org/stable/), a very popular library for Machine Learning.\n",
        "\n",
        "The goal of this next section is to introduce `scikit-learn` classifiers and understand how to apply it to real neural data."
      ]
    },
    {
      "cell_type": "markdown",
      "metadata": {
        "id": "i7_6zf94tTyQ"
      },
      "source": [
        "#Section 2: Decoding neural data with logistic regression"
      ]
    },
    {
      "cell_type": "markdown",
      "metadata": {
        "id": "QI3dVaomtTyQ"
      },
      "source": [
        "## Section 2.1: Setting up the data\n",
        "\n",
        "In this notebook we'll use the Steinmetz dataset that you have seen previously. Recall that this dataset includes recordings of neurons as mice perform a decision task. \n",
        "\n",
        "Mice had the task of turning a wheel to indicate whether they perceived a Gabor stimulus to the left, to the right, or not at all. Neuropixel probes measured spikes across the cortex. Check out the following task schematic from the BiorXiv preprint:\n",
        "\n",
        "<img src='http://kordinglab.com/images/others/steinmetz-task.png' width= '200'/>\n",
        "\n",
        "Today we're going to **decode the decision from neural data** using Logistic Regression. We will only consider trials where the mouse chose \"Left\" or \"Right\" and ignore NoGo trials.\n",
        "\n",
        "### Data format\n",
        "\n",
        "In the hidden `Data retrieval and loading` cell, there is a function that loads the data:\n",
        "\n",
        "- `spikes`: an array of normalized spike rates with shape `(n_trials, n_neurons)`\n",
        "- `choices`: a vector of 0s and 1s, indicating the animal's behavioral response, with length `n_trials`."
      ]
    },
    {
      "cell_type": "code",
      "metadata": {
        "id": "7Gi3zuaQtTyR"
      },
      "source": [
        "data = load_steinmetz_data()\n",
        "for key, val in data.items():\n",
        "  print(key, val.shape)"
      ],
      "execution_count": null,
      "outputs": []
    },
    {
      "cell_type": "markdown",
      "metadata": {
        "id": "vdoVT6T-tTyR"
      },
      "source": [
        "As with the GLMs you've seen in the previous tutorial (Linear and Poisson Regression), we will need two data structures:\n",
        "\n",
        "- an `X` matrix with shape `(n_samples, n_features)`\n",
        "- a `y` vector with length `n_samples`.\n",
        "\n",
        "In the previous notebook, `y` corresponded to the neural data, and `X` corresponded to something about the experiment. Here, we are going to invert those relationships. That's what makes this a *decoding* model: we are going to predict behavior (`y`) from the neural responses (`X`):"
      ]
    },
    {
      "cell_type": "code",
      "metadata": {
        "id": "sJMvVmZRtTyR"
      },
      "source": [
        "y = data[\"choices\"]\n",
        "X = data[\"spikes\"]"
      ],
      "execution_count": null,
      "outputs": []
    },
    {
      "cell_type": "markdown",
      "metadata": {
        "id": "gx3U1kFItTyS"
      },
      "source": [
        "## Section 2.2: Fitting the model\n",
        "\n",
        "Using a Logistic Regression model within `scikit-learn` is very simple. "
      ]
    },
    {
      "cell_type": "code",
      "metadata": {
        "id": "Z04KM2kdtTyS"
      },
      "source": [
        "# First define the model\n",
        "log_reg = LogisticRegression(penalty=\"none\")\n",
        "\n",
        "#Then fit it to data\n",
        "log_reg.fit(X, y)"
      ],
      "execution_count": null,
      "outputs": []
    },
    {
      "cell_type": "markdown",
      "metadata": {
        "id": "KAs7hpZmtTyS"
      },
      "source": [
        "There's two steps here:\n",
        "\n",
        "- We *initialized* the model with a hyperparameter, telling it what penalty to use (we'll focus on this in the second part of the notebook)\n",
        "- We *fit* the model by passing it the `X` and `y` objects.\n",
        "\n"
      ]
    },
    {
      "cell_type": "markdown",
      "metadata": {
        "id": "4sPsUpBWtTyT"
      },
      "source": [
        "## Section 2.3: Classifying the training data\n",
        "\n",
        "Fitting the model performs maximum likelihood optimization, learning a set of *feature weights*. We can use those learned weights to *classify* new data, or predict the labels for each sample:"
      ]
    },
    {
      "cell_type": "code",
      "metadata": {
        "id": "2jcnXR-itTyT"
      },
      "source": [
        "y_pred = log_reg.predict(X)"
      ],
      "execution_count": null,
      "outputs": []
    },
    {
      "cell_type": "markdown",
      "metadata": {
        "id": "RyquYkQptTyU"
      },
      "source": [
        "## Section 2.4: Evaluating the model\n",
        "\n",
        "Now we need to evaluate the model's predictions. We'll do that with an *accuracy* score. The accuracy of the classifier is the proportion of trials where the predicted label matches the true label.\n"
      ]
    },
    {
      "cell_type": "markdown",
      "metadata": {
        "id": "moC21bd1tTyU"
      },
      "source": [
        "### Exercise 2: classifier accuracy\n",
        "\n",
        "For the first exercise, implement a function to evaluate a classifier using the accuracy score. Use it to get the accuracy of the classifier on the *training* data."
      ]
    },
    {
      "cell_type": "code",
      "metadata": {
        "id": "JT2486LutTyU"
      },
      "source": [
        "def compute_accuracy(X, y, model):\n",
        "  \"\"\"Compute accuracy of classifier predictions.\n",
        "\n",
        "  Args:\n",
        "    X (2D array): Data matrix\n",
        "    y (1D array): Label vector\n",
        "    model (sklearn estimator): Classifier with trained weights.\n",
        "\n",
        "  Returns:\n",
        "    accuracy (float): Proportion of correct predictions.\n",
        "  \"\"\"\n",
        "  #############################################################################\n",
        "  # TODO Complete the function, then remove the next line to test it\n",
        "  raise NotImplementedError(\"Implement the compute_accuracy function\")\n",
        "  #############################################################################\n",
        "\n",
        "  y_pred = model.predict(X)\n",
        "  accuracy = ...\n",
        "\n",
        "  return accuracy\n",
        "\n",
        "# Uncomment and run to test your function:\n",
        "# train_accuracy = compute_accuracy(X, y, log_reg)\n",
        "# print(f\"Accuracy on the training data: {train_accuracy:.2%}\")"
      ],
      "execution_count": null,
      "outputs": []
    },
    {
      "cell_type": "code",
      "metadata": {
        "id": "oyDFWqkctTyU"
      },
      "source": [
        "# to_remove solution\n",
        "def compute_accuracy(X, y, model):\n",
        "  \"\"\"Compute accuracy of classifier predictions.\n",
        "\n",
        "  Args:\n",
        "    X (2D array): Data matrix\n",
        "    y (1D array): Label vector\n",
        "    model (sklearn estimator): Classifier with trained weights.\n",
        "\n",
        "  Returns:\n",
        "    accuracy (float): Proportion of correct predictions.\n",
        "  \"\"\"\n",
        "  y_pred = model.predict(X)\n",
        "  accuracy = (y == y_pred).mean()\n",
        "\n",
        "  return accuracy\n",
        "\n",
        "train_accuracy = compute_accuracy(X, y, log_reg)\n",
        "print(f\"Accuracy on the training data: {train_accuracy:.2%}\")"
      ],
      "execution_count": null,
      "outputs": []
    },
    {
      "cell_type": "markdown",
      "metadata": {
        "id": "rxYTYyTYtTyU"
      },
      "source": [
        "## Section 2.5: Cross-validating the classifer\n",
        "\n",
        "Classification accuracy on the training data is 100%! That might sound impressive, but you should recall from yesterday the concept of *overfitting*: the classifier may have learned something idiosyncratic about the training data. If that's the case, it won't have really learned the underlying data->decision function, and thus won't generalize well to new data.\n",
        "\n",
        "To check this, we can evaluate the *cross-validated* accuracy.\n",
        "\n",
        "\n",
        "<img src='http://kordinglab.com/images/others/justCV-01.png' width= '700'/>"
      ]
    },
    {
      "cell_type": "markdown",
      "metadata": {
        "id": "GMN1ZrGItTyU"
      },
      "source": [
        "### Cross-validating using `scikit-learn` helper functions\n",
        "\n",
        "Yesterday, we asked you to write your own functions for implementing cross-validation. In practice, this won't be necessary, because `scikit-learn` offers a number of [helpful functions](https://scikit-learn.org/stable/model_selection.html) that will do this for you. For example, you can cross-validate a classifier using `cross_val_score`.\n",
        "\n",
        "`cross_val_score` takes a `sklearn` model like `LogisticRegression`, as well as your `X` and `y` data. It then retrains your model on test/train splits of `X` and `y`, and returns the test accuracy on each of the test sets."
      ]
    },
    {
      "cell_type": "code",
      "metadata": {
        "id": "9kCMRuYstTyU"
      },
      "source": [
        "accuracies = cross_val_score(LogisticRegression(penalty='none'), X, y, cv=8) # k=8 crossvalidation"
      ],
      "execution_count": null,
      "outputs": []
    },
    {
      "cell_type": "code",
      "metadata": {
        "cellView": "form",
        "id": "k8lLRPXQtTyW"
      },
      "source": [
        "#@title\n",
        "#@markdown Run to plot out these `k=8` accuracy scores.\n",
        "f, ax = plt.subplots(figsize=(8, 3))\n",
        "ax.boxplot(accuracies, vert=False, widths=.7)\n",
        "ax.scatter(accuracies, np.ones(8))\n",
        "ax.set(\n",
        "  xlabel=\"Accuracy\",\n",
        "  yticks=[],\n",
        "  title=f\"Average test accuracy: {accuracies.mean():.2%}\"\n",
        ")\n",
        "ax.spines[\"left\"].set_visible(False)"
      ],
      "execution_count": null,
      "outputs": []
    },
    {
      "cell_type": "markdown",
      "metadata": {
        "id": "mq42UZDQtTyW"
      },
      "source": [
        "The lower cross-validated accuracy compared to the training accuracy (100%) suggests that the model is being *overfit*. Is this surprising? Think about the shape of the $X$ matrix:"
      ]
    },
    {
      "cell_type": "code",
      "metadata": {
        "id": "RP8FVeZRtTyW"
      },
      "source": [
        "X.shape"
      ],
      "execution_count": null,
      "outputs": []
    },
    {
      "cell_type": "markdown",
      "metadata": {
        "id": "lIxO45gFtTyW"
      },
      "source": [
        "The model has almost three times as many features as samples. This is a situation where overfitting is very likely (almost guaranteed).\n",
        "\n",
        "**Link to neuroscience**: Neuro data commonly has more features than samples. Having more neurons than independent trials is one example. In fMRI data, there are commonly more measured voxels than independent trials.\n"
      ]
    },
    {
      "cell_type": "markdown",
      "metadata": {
        "id": "X1IFbNWFtTyW"
      },
      "source": [
        "\n",
        "### Why more features than samples leads to overfitting\n",
        "\n",
        "In brief, the variance of model estimation increases when there are more features than samples. That is, you would get a very different model every time you get new data and run `.fit()`. This is very related to the *bias/variance tradeoff* you learned about on day 1. \n",
        "\n",
        "Why does this happen? Here's a tiny example to get your intuition going. Imagine trying to find a best-fit line in 2D when you only have 1 datapoint. There are simply a infinite number of lines that pass through that point. This is the situation we find ourselves in with more features than samples.\n",
        "\n",
        "### What we can do about it\n",
        "As you learned on day 1, you can decrease model variance if you don't mind increasing its bias. Here, we will increase bias by assuming that the correct parameters are all small. In our 2D example, this is like preferring the horizontal line to all others. This is one example of *regularization*. "
      ]
    },
    {
      "cell_type": "markdown",
      "metadata": {
        "id": "nyeenxq-tTyW"
      },
      "source": [
        "-----\n",
        "\n",
        "#Section 3: Regularization\n"
      ]
    },
    {
      "cell_type": "code",
      "metadata": {
        "cellView": "form",
        "id": "wMb5KAf7tTyW",
        "colab": {
          "base_uri": "https://localhost:8080/",
          "height": 518
        },
        "outputId": "08e9f8aa-7da9-4089-9914-0acaf719890d"
      },
      "source": [
        "#@title Video 2: Regularization\n",
        "from IPython.display import YouTubeVideo\n",
        "video = YouTubeVideo(id=\"b2IaUCZ91bo\", width=854, height=480, fs=1)\n",
        "print(\"Video available at https://youtube.com/watch?v=\" + video.id)\n",
        "video"
      ],
      "execution_count": 2,
      "outputs": [
        {
          "output_type": "stream",
          "text": [
            "Video available at https://youtube.com/watch?v=b2IaUCZ91bo\n"
          ],
          "name": "stdout"
        },
        {
          "output_type": "execute_result",
          "data": {
            "text/html": [
              "\n",
              "        <iframe\n",
              "            width=\"854\"\n",
              "            height=\"480\"\n",
              "            src=\"https://www.youtube.com/embed/b2IaUCZ91bo?fs=1\"\n",
              "            frameborder=\"0\"\n",
              "            allowfullscreen\n",
              "        ></iframe>\n",
              "        "
            ],
            "text/plain": [
              "<IPython.lib.display.YouTubeVideo at 0x7f4cdb6984a8>"
            ],
            "image/jpeg": "[encoded data removed]"
          },
          "metadata": {
            "tags": []
          },
          "execution_count": 2
        }
      ]
    },
    {
      "cell_type": "markdown",
      "metadata": {
        "id": "U1WFW7hFwjoc"
      },
      "source": [
        "# Summary of Video 2:\n",
        "\n",
        "Regularization with linear regression and logistic regression. \n",
        "\n",
        "in linear regression model, when data sample is small and the distribution of sample data is far from the true data distribution, the linear model could overfit to the data resulting in a bad estimate. Thus the model fit is quite different from the true model. And we say overfitting happens when we have less data. Moreover, we also show that in polynomial regression, when the polynomial order is high, which means high model complexity, the model could also overfit to the data resulting in a bad estimate. We can summarize this situation as more features. In general, overfitting happens when we have less data and more features. To overcome overfitting issue, people use regularization. It shrinks the parameter theta in GLMs towards zero. Thus, it can reduce overfitting. \n",
        "\n",
        "Here is some intuition with an example using linear Gaussian model. When the matrix X has more features than data points, d is larger than n, so it's a fat matrix. Assume we have some true parameter theta plot : Each element in this vector theta correspond to a feature from the input X. We use this theta and X to generate some data Y, and fit a linear Gaussian model using MLE. MLE is calculated with this closed-form solution and we can plot it on top of the two theta to compare. theta MLE adapts to reflect the quirks of training data and this estimate doesn't well generalize to other data, even sample from the same true model since noise doesn't repeatedly occur in any data sample. So one intuitive way of improving the parameter estimate is to suppress these large theta values. Thus L2 regularization, which is also known as Ridge regularization. It penalizes squared parameters and suppresses all features. We add a penalty term to the log-likelihood,  maximizing the log likelihood, will lead to minimizing the magnitude of theta i. But theta won't be minimized all the way to the zero. Because when theta is equal to zero, in my results, in a small likelihood term, the log of L. Thus the maximization is a balancing between these two terms. Beta is named as hyperparameter in regularization and with such a penalty term the estimate of theta will have smaller magnitude, thus, generalizes better. \n",
        "\n",
        "Mathematically if X has more columns than rows, which means the number of features in the input X is more than the number of data points. The covariance X transpose X is a low rank matrix now and adding this diagonal makes the matrix full rank. Thus, the inversion is more stable. Another popular regularization is L1 regularization, which is also known as Lasso regularization. Different from L2, it penalizes the absolute value of the parameters and thus, encourages sparse solutions. The L1 penalty pushes many features' weights to zero and effectively selects informative features. And we've thus mitigated the issue of more features than data samples by throwing away some features. The log likelihood of linear Gaussian with L1 penalty is very similar to L2 but L1 it doesn't have a closed form solution even for linear Gaussian model. The reason is the absolute value of theta is non-differentiable. Thus, we need optimization to fit the model. When we fit the model, we're talking about fitting for theta only, not include a hyperparameter beta. \n",
        "\n",
        "In practice, we need to select different beta values using cross-validation. \n",
        "- When beta is very small, the penalty term can be ignored. Thus the estimate looks very much like the MLE estimate.  \n",
        "- When beta is 0.1, all parameters are squashed with some zero values appearing. \n",
        "- When beta is ten, many parameters are squashed to zero and \n",
        "- when beta is a hundred most of the parameters are zero now. \n",
        "\n",
        "First, we need to use cross-validation to select which beta actually gives us the best estimate of parameters \n",
        "Similarly we can add L2 or L1 penalty to the log likelihood of logistic regression as well.\n",
        "\n",
        "Here - data fitting example for logistic regression plus L2 regularization. We have a binary classification problem. The output y is 1 or 0 and the input x is 2-dimensional. Thus, we have two weight coefficients, theta 1 and theta 2. We vary the hyperparameter, beta, from small to large shown in the x axis. We can see the magnitudes of these two coefficients decrease gradually all the way to 0 together. Thus there is no feature selection with L2 penalty. It doesn't prefer one over the other. We also plot the accuracy performance on the validation data given different beta values. We can see the accuracy increases a bit ,peaks at about beta is equal to 1, and then decreases as beta continues increasing. Then, based on this optimal beta value, the optimal theta1 and theta2 are picked with beta is equal to 1. Thus, without doing model evaluation on the validation data, it's really hard to figure out which data parameters are the best in practice. Because thetas are different, given different beta values. \n",
        "\n",
        "Here - another example for logistic regression plus L1 penalty. Still we have a binary classification problem. The main difference now is that the magnitudes of these two coefficients decrease to zero but not in a synchronous manner. Theta2 become zero earlier than theta1. Thus, after theta2 reaches zero, L1 achieves feature selection by throwing away the second feature. We also plot the accuracy performance on the test data given different beta values and we can see the accuracy increases a bit, peaks at beta is around 0.8 and then decreases as beta continues increasing. Then the optimal theta1 and theta2 are picked when beta is equal to 0.8 where theta1 is about 1.5 and theta2 is 0. Therefore, this solution is sparse. \n",
        "\n",
        "In the following notebook, you will see how the hyperparameter affects model fitting for logistic regression with L1 and L2 penalties. You will run cross validation to select the optimum hyperparameters beta for both L1 and L2. "
      ]
    },
    {
      "cell_type": "markdown",
      "metadata": {
        "id": "h93v7jpFtTyW"
      },
      "source": [
        "Regularization forces a model to learn a set of solutions you *a priori* believe to be more correct, which reduces overfitting because it doesn't have as much flexibility to fit idiosyncrasies in the training data. This adds model bias, but it's a good bias because you know (maybe) that parameters should be small or mostly 0.\n",
        "\n",
        "In a GLM, a common form of regularization is to *shrink* the classifier weights. In a linear model, you can see its effect by plotting the weights. We've defined a helper function, `plot_weights`, that we'll use extensively in this section.\n",
        "\n",
        "Here is what the weights look like for a Logistic Regression model with no regularization:"
      ]
    },
    {
      "cell_type": "code",
      "metadata": {
        "id": "9puOuF1ItTyW"
      },
      "source": [
        "log_reg = LogisticRegression(penalty=\"none\").fit(X, y)\n",
        "plot_weights({\"No regularization\": log_reg})"
      ],
      "execution_count": null,
      "outputs": []
    },
    {
      "cell_type": "markdown",
      "metadata": {
        "id": "iCvf0fnFtTyW"
      },
      "source": [
        "It's important to understand this plot. Each dot visualizes a value in our parameter vector $\\theta$. (It's the same style of plot as the one showing $\\theta$ in the video). Since each feature is the time-averaged response of a neuron, each dot shows how the model uses each neuron to estimate a decision.\n",
        "\n",
        "Note the scale of the y-axis. Some neurons have values of about $20$, whereas others scale to $-20$."
      ]
    },
    {
      "cell_type": "markdown",
      "metadata": {
        "id": "nuVqJO7gtTyW"
      },
      "source": [
        "## Section 3.1: $L_2$ regularization\n",
        "\n",
        "Regularization comes in different flavors. A very common one uses an $L_2$ or \"ridge\" penalty. This changes the objective function to\n",
        "\n",
        "$$-\\log\\mathcal{L}'(\\theta | X, y)=\n",
        "-\\log\\mathcal{L}(\\theta | X, y) +\\frac\\beta2\\sum_i\\theta_i^2,\n",
        "$$\n",
        "\n",
        "where $\\beta$ is a *hyperparameter* that sets the *strength* of the regularization.\n",
        "\n",
        "You can use regularization in `scikit-learn` by changing the `penalty`, and you can set the strength of the regularization with the `C` hyperparameter ($C = \\frac{1}{\\beta}$, so this sets the *inverse* regularization).\n",
        "\n",
        "Let's compare the unregularized classifier weights with the classifier weights when we use the default `C = 1`:"
      ]
    },
    {
      "cell_type": "code",
      "metadata": {
        "id": "u-a7z3QttTyW"
      },
      "source": [
        "log_reg_l2 = LogisticRegression(penalty=\"l2\", C=1).fit(X, y)\n",
        "\n",
        "# now show the two models\n",
        "models = {\n",
        "  \"No regularization\": log_reg,\n",
        "  \"$L_2$ (C = 1)\": log_reg_l2,\n",
        "}\n",
        "plot_weights(models)"
      ],
      "execution_count": null,
      "outputs": []
    },
    {
      "cell_type": "markdown",
      "metadata": {
        "id": "ML-br6FmtTyW"
      },
      "source": [
        "Using the same scale for the two y axes, it's almost impossible to see the $L_2$ weights. Let's allow the y axis scales to adjust to each set of weights:"
      ]
    },
    {
      "cell_type": "code",
      "metadata": {
        "id": "8wBK5rK3tTyX"
      },
      "source": [
        "plot_weights(models, sharey=False)"
      ],
      "execution_count": null,
      "outputs": []
    },
    {
      "cell_type": "markdown",
      "metadata": {
        "id": "18bcs6OstTyX"
      },
      "source": [
        "\n",
        "Now you can see that the weights have the same basic pattern, but the regularized weights are an order-of-magnitude smaller.\n",
        "\n",
        "### Interactive Demo: The effect of varying C on parameter size\n",
        "\n",
        "We can use this same approach to see how the weights depend on the *strength* of the regularization:"
      ]
    },
    {
      "cell_type": "code",
      "metadata": {
        "cellView": "form",
        "id": "-TMhkMMmtTyX"
      },
      "source": [
        "#@title\n",
        "\n",
        "#@markdown Execute this cell to enable the widget!\n",
        "\n",
        "# Precompute the models so the widget is responsive\n",
        "log_C_steps = 1, 10, 1\n",
        "penalized_models = {}\n",
        "for log_C in np.arange(*log_C_steps, dtype=int):\n",
        "  m = LogisticRegression(\"l2\", C=10 ** log_C, max_iter=5000)\n",
        "  penalized_models[log_C] = m.fit(X, y)\n",
        "\n",
        "@widgets.interact\n",
        "def plot_observed(log_C=log_C_steps):\n",
        "  models = {\n",
        "    \"No regularization\": log_reg,\n",
        "    f\"$L_2$ (C = $10^{log_C}$)\": penalized_models[log_C]\n",
        "  }\n",
        "  plot_weights(models)"
      ],
      "execution_count": null,
      "outputs": []
    },
    {
      "cell_type": "markdown",
      "metadata": {
        "id": "vTY9j06PtTyX"
      },
      "source": [
        "Recall from above that $C=\\frac1\\beta$ so larger `C` is less regularization. The top panel corresponds to $C=\\infty$."
      ]
    },
    {
      "cell_type": "markdown",
      "metadata": {
        "id": "c70bfJDztTyX"
      },
      "source": [
        "## Section 3.2: $L_1$ regularization\n",
        "\n",
        "$L_2$ is not the only option for regularization. There is also the $L_1$, or \"Lasso\" penalty. This changes the objective function to\n",
        "\n",
        "$$\n",
        "-\\log\\mathcal{L}'(\\theta | X, y)=\n",
        "-\\log\\mathcal{L}(\\theta | X, y) +\\frac\\beta2\\sum_i|\\theta_i|\n",
        "$$\n",
        "\n",
        "In practice, using the summed absolute values of the weights causes *sparsity*: instead of just getting smaller, some of the weights will get forced to $0$:"
      ]
    },
    {
      "cell_type": "code",
      "metadata": {
        "id": "UHJOpl1LtTyX"
      },
      "source": [
        "log_reg_l1 = LogisticRegression(penalty=\"l1\", C=1, solver=\"saga\", max_iter=5000)\n",
        "log_reg_l1.fit(X, y)\n",
        "models = {\n",
        "  \"$L_2$ (C = 1)\": log_reg_l2,\n",
        "  \"$L_1$ (C = 1)\": log_reg_l1,\n",
        "}\n",
        "plot_weights(models)"
      ],
      "execution_count": null,
      "outputs": []
    },
    {
      "cell_type": "markdown",
      "metadata": {
        "id": "EsZHOj4EtTyX"
      },
      "source": [
        "Note: You'll notice that we added two additional parameters: `solver=\"saga\"` and `max_iter=5000`. The `LogisticRegression` class can use several different optimization algorithms (\"solvers\"), and not all of them support the $L_1$ penalty. At a certain point, the solver will give up if it hasn't found a minimum value. The `max_iter` parameter tells it to make more attempts; otherwise, we'd see an ugly warning about \"convergence\"."
      ]
    },
    {
      "cell_type": "markdown",
      "metadata": {
        "id": "Q-yN4GputTyY"
      },
      "source": [
        "# Section 4: The key difference between $L_1$ and $L_2$ regularization: sparsity\n",
        "\n",
        "When should you use $L_1$ vs. $L_2$ regularization? Both penalties shrink parameters, and both will help reduce overfitting. However, the models they lead to are different. \n",
        "\n",
        "In particular, the $L_1$ penalty encourages *sparse* solutions in which most parameters are 0. Let's unpack the notion of sparsity.\n",
        "\n",
        "A \"dense\" vector has mostly nonzero elements:\n",
        "$\\begin{bmatrix}\n",
        "  0.1 \\\\ -0.6\\\\-9.1\\\\0.07 \n",
        "\\end{bmatrix}$. \n",
        "A \"sparse\" vector has mostly zero elements:\n",
        "$\\begin{bmatrix}\n",
        "  0 \\\\ -0.7\\\\ 0\\\\0\n",
        "\\end{bmatrix}$.\n",
        "\n",
        "The same is true of matrices:"
      ]
    },
    {
      "cell_type": "code",
      "metadata": {
        "cellView": "form",
        "id": "KGuH53gjtTyY"
      },
      "source": [
        "#@title\n",
        "#@markdown Execute to plot a dense and a sparse matrix\n",
        "np.random.seed(50)\n",
        "n = 5\n",
        "M = np.random.random((n, n))\n",
        "M_sparse = np.random.choice([0,1], size=(n, n), p=[0.8, 0.2])\n",
        "\n",
        "fig, axs = plt.subplots(1, 2, sharey=True, figsize=(10,5))\n",
        "\n",
        "axs[0].imshow(M)\n",
        "axs[1].imshow(M_sparse)\n",
        "axs[0].axis('off')\n",
        "axs[1].axis('off')\n",
        "axs[0].set_title(\"A dense matrix\", fontsize=15)\n",
        "axs[1].set_title(\"A sparse matrix\", fontsize=15)\n",
        "text_kws = dict(ha=\"center\", va=\"center\")\n",
        "for i in range(n):\n",
        "  for j in range(n):\n",
        "    iter_parts = axs, [M, M_sparse], [\"{:.1f}\", \"{:d}\"]\n",
        "    for ax, mat, fmt in zip(*iter_parts):\n",
        "      val = mat[i, j]\n",
        "      color = \".1\" if val > .7 else \"w\"\n",
        "      ax.text(j, i, fmt.format(val), c=color, **text_kws)"
      ],
      "execution_count": null,
      "outputs": []
    },
    {
      "cell_type": "markdown",
      "metadata": {
        "id": "6kMzQb3CtTyZ"
      },
      "source": [
        "## Exercise 3: The effect of $L_1$ regularization on parameter sparsity\n",
        "\n",
        "Please complete the following function to fit a regularized `LogisticRegression` model and return **the number of coefficients in the parameter vector that are equal to 0**.\n",
        "\n",
        "Don't forget to check out the [scikit-learn documentation](https://scikit-learn.org/stable/modules/generated/sklearn.linear_model.LogisticRegression.html).\n"
      ]
    },
    {
      "cell_type": "code",
      "metadata": {
        "id": "IlOgXV4QtTyZ"
      },
      "source": [
        "def count_non_zero_coefs(X, y, C_values):\n",
        "  \"\"\"Fit models with different L1 penalty values and count non-zero coefficients.\n",
        "\n",
        "  Args:\n",
        "    X (2D array): Data matrix\n",
        "    y (1D array): Label vector\n",
        "    C_values (1D array): List of hyperparameter values\n",
        "\n",
        "  Returns:\n",
        "    non_zero_coefs (list): number of coefficients in each model that are nonzero\n",
        "\n",
        "  \"\"\"\n",
        "  #############################################################################\n",
        "  # TODO Complete the function and remove the error\n",
        "  raise NotImplementedError(\"Implement the count_non_zero_coefs function\")\n",
        "  #############################################################################\n",
        "\n",
        "  non_zero_coefs = []\n",
        "  for C in C_values:\n",
        "\n",
        "    # Initialize and fit the model\n",
        "    # (Hint, you may need to set max_iter)\n",
        "    model = ...\n",
        "    ...\n",
        "\n",
        "    # Get the coefs of the fit model\n",
        "    coefs = ...\n",
        "\n",
        "    # Count the number of non-zero elements in coefs\n",
        "    non_zero = ...\n",
        "    non_zero_coefs.append(non_zero)\n",
        "\n",
        "  return non_zero_coefs\n",
        "\n",
        "# Use log-spaced values for C\n",
        "C_values = np.logspace(-4, 4, 5)\n",
        "\n",
        "# Uncomment and run when the function is ready for testing\n",
        "# non_zero_l1 = count_non_zero_coefs(X, y, C_values)\n",
        "# plot_non_zero_coefs(C_values, non_zero_l1, n_voxels=X.shape[1])"
      ],
      "execution_count": null,
      "outputs": []
    },
    {
      "cell_type": "code",
      "metadata": {
        "id": "36Snl5_UtTyZ"
      },
      "source": [
        "# to_remove solution\n",
        "def count_non_zero_coefs(X, y, C_values):\n",
        "  \"\"\"Fit models with different L1 penalty values and count non-zero coefficients.\n",
        "\n",
        "  Args:\n",
        "    X (2D array): Data matrix\n",
        "    y (1D array): Label vector\n",
        "    C_values (1D array): List of hyperparameter values\n",
        "\n",
        "  Returns:\n",
        "    non_zero_coefs (list): number of coefficients in each model that are nonzero\n",
        "\n",
        "  \"\"\"\n",
        "  non_zero_coefs = []\n",
        "  for C in C_values:\n",
        "\n",
        "    # Initialize and fit the model\n",
        "    # (Hint, you may need to set max_iter)\n",
        "    model = LogisticRegression(penalty=\"l1\", C=C, solver=\"saga\", max_iter=5000)\n",
        "    model.fit(X,y)\n",
        "\n",
        "    # Get the coefs of the fit model\n",
        "    coefs = model.coef_\n",
        "\n",
        "    # Count the number of non-zero elements in coefs\n",
        "    non_zero = np.sum(coefs != 0)\n",
        "    non_zero_coefs.append(non_zero)\n",
        "\n",
        "  return non_zero_coefs\n",
        "\n",
        "# Use log-spaced values for C\n",
        "C_values = np.logspace(-4, 4, 5)\n",
        "\n",
        "non_zero_l1 = count_non_zero_coefs(X, y, C_values)\n",
        "\n",
        "with plt.xkcd():\n",
        "  plot_non_zero_coefs(C_values, non_zero_l1, n_voxels=X.shape[1])"
      ],
      "execution_count": null,
      "outputs": []
    },
    {
      "cell_type": "markdown",
      "metadata": {
        "id": "hH1dkasqtTyZ"
      },
      "source": [
        "Smaller `C` (bigger $\\beta$) leads to sparser solutions.\n",
        "\n",
        "**Link to neuroscience**: When is it OK to assume that the parameter vector is sparse? Whenever it is true that most features don't affect the outcome. One use-case might be decoding low-level visual features from whole-brain fMRI: we may expect only voxels in V1 and thalamus should be used in the prediction.\n",
        "\n",
        "**WARNING**: be careful when interpreting $\\theta$. Never interpret the nonzero coefficients as *evidence* that only those voxels/neurons/features carry information about the outcome. This is a product of our regularization scheme, and thus *our prior assumption that the solution is sparse*. Other regularization types or models may find very distributed relationships across the brain. Never use a model as evidence for a phenomena when that phenomena is encoded in the assumptions of the model. "
      ]
    },
    {
      "cell_type": "markdown",
      "metadata": {
        "id": "HQKY7DtTtTyZ"
      },
      "source": [
        "---\n",
        "\n",
        "## Section 4.1: Choosing the regularization penalty\n",
        "\n",
        "In the examples above, we just picked arbitrary numbers for the strength of regularization. How do you know what value of the hyperparameter to use?\n",
        "\n",
        "The answer is the same as when you want to know whether you have learned good parameter values: use cross-validation. The best hyperparameter will be the one that allows the model to generalize best to unseen data."
      ]
    },
    {
      "cell_type": "markdown",
      "metadata": {
        "id": "5XTCrm-2tTyZ"
      },
      "source": [
        "### Exercise 4: Model selection\n",
        "\n",
        "In the final exercise, we will use cross-validation to evaluate a set of models, each with a different $L_2$ penalty. Your `model_selection` function should have a for-loop that gets the mean cross-validated accuracy for each penalty value (use the `cross_val_score` function that we introduced above)."
      ]
    },
    {
      "cell_type": "code",
      "metadata": {
        "id": "YcygjJhZtTya"
      },
      "source": [
        "def model_selection(X, y, C_values):\n",
        "  \"\"\"Compute CV accuracy for each C value.\n",
        "\n",
        "  Args:\n",
        "    X (2D array): Data matrix\n",
        "    y (1D array): Label vector\n",
        "    C_values (1D array): Array of hyperparameter values\n",
        "\n",
        "  Returns:\n",
        "    accuracies (1D array): CV accuracy with each value of C\n",
        "\n",
        "  \"\"\"\n",
        "  #############################################################################\n",
        "  # TODO Complete the function and remove the error\n",
        "  raise NotImplementedError(\"Implement the model_selection function\")\n",
        "  #############################################################################\n",
        "\n",
        "  accuracies = []\n",
        "  for C in C_values:\n",
        "\n",
        "    # Initialize and fit the model\n",
        "    # (Hint, you may need to set max_iter)\n",
        "    model = ...\n",
        "\n",
        "    # Get the accuracy for each test split\n",
        "    accs = ...\n",
        "\n",
        "    # Store the average test accuracy for this value of C\n",
        "    accuracies.append(...)\n",
        "\n",
        "  return accuracies\n",
        "\n",
        "# Use log-spaced values for C\n",
        "C_values = np.logspace(-4, 4, 9)\n",
        "\n",
        "# Uncomment and run when the function is ready to test\n",
        "# accuracies = model_selection(X, y, C_values)\n",
        "# plot_model_selection(C_values, accuracies)"
      ],
      "execution_count": null,
      "outputs": []
    },
    {
      "cell_type": "code",
      "metadata": {
        "id": "_gefy9txtTya"
      },
      "source": [
        "# to_remove solution\n",
        "def model_selection(X, y, C_values):\n",
        "  \"\"\"Compute CV accuracy for each C value.\n",
        "\n",
        "  Args:\n",
        "    X (2D array): Data matrix\n",
        "    y (1D array): Label vector\n",
        "    C_values (1D array): Array of hyperparameter values.\n",
        "\n",
        "  Returns:\n",
        "    accuracies (1D array): CV accuracy with each value of C.\n",
        "\n",
        "  \"\"\"\n",
        "  accuracies = []\n",
        "  for C in C_values:\n",
        "\n",
        "    # Initialize and fit the model\n",
        "    # (Hint, you may need to set max_iter)\n",
        "    model = LogisticRegression(penalty=\"l2\", C=C, max_iter=5000)\n",
        "\n",
        "    # Get the accuracy for each test split\n",
        "    accs = cross_val_score(model, X, y, cv=8)\n",
        "\n",
        "    # Store the average test accuracy for this value of C\n",
        "    accuracies.append(accs.mean())\n",
        "\n",
        "  return accuracies\n",
        "\n",
        "# Use log-spaced values for C\n",
        "C_values = np.logspace(-4, 4, 9)\n",
        "\n",
        "accuracies = model_selection(X, y, C_values)\n",
        "with plt.xkcd():\n",
        "  plot_model_selection(C_values, accuracies)"
      ],
      "execution_count": null,
      "outputs": []
    },
    {
      "cell_type": "markdown",
      "metadata": {
        "id": "eLnZ37OwtTya"
      },
      "source": [
        "This plot suggests that the right value of $C$ does matter — up to a point. Remember that C is the *inverse* regularization. The plot shows that models where the regularization was too strong (small C values) performed very poorly. For $C > 10^{-2}$, the differences are marginal, but the best performance was obtained with an intermediate value ($C \\approx 10^1$)."
      ]
    },
    {
      "cell_type": "markdown",
      "metadata": {
        "id": "aPxdntPKtTya"
      },
      "source": [
        "# Summary\n",
        "\n",
        "In this notebook, we learned about Logistic Regression, a fundamental algorithm for *classification*. We applied the algorithm to a *neural decoding* problem: we tried to predict an animal's behavioral choice from its neural activity. We saw again how important it is to use *cross-validation* to evaluate complex models that are at risk for *overfitting*, and we learned how *regularization* can be used to fit models that generalize better. Finally, we learned about some of the different options for regularization, and we saw how cross-validation can be useful for *model selection*."
      ]
    },
    {
      "cell_type": "markdown",
      "metadata": {
        "id": "ZD7bpiM3tTya"
      },
      "source": [
        "-----"
      ]
    },
    {
      "cell_type": "markdown",
      "metadata": {
        "id": "mZTHn2tTtTya"
      },
      "source": [
        "# Appendix: The Logistic Regression model in full\n",
        "\n",
        "The fundamental input/output equation of logistic regression is:\n",
        "\n",
        "$$p(y_i = 1 |x_i, \\theta) = \\sigma(\\theta^Tx_i)$$\n",
        "\n",
        "## The logistic link function\n",
        "\n",
        "You've seen $\\theta^T x_i$ before, but the $\\sigma$ is new. It's the *sigmoidal* or *logistic* link function that \"squashes\" $\\theta^T x_i$ to keep it between $0$ and $1$:\n",
        "\n",
        "$$\\sigma(z) = \\frac{1}{1 + \\textrm{exp}(-z)}$$\n",
        "\n",
        "## The Bernoulli likelihood\n",
        "\n",
        "You might have noticed that the output of the sigmoid, $\\hat{y}$ is not a binary value (0 or 1), even though the true data $y$ is! Instead, we interpret the value of $\\hat{y}$ as the *probability that y = 1*:\n",
        "\n",
        "$$ \\hat{y_i} \\equiv p(y_i=1|x_i,\\theta) = \\frac{1}{{1 + \\textrm{exp}(-\\theta^Tx_i)}}$$\n",
        "\n",
        "To get the likelihood of the parameters, we need to define *the probability of seeing $y$ given $\\hat{y}$*. In logistic regression, we do this using the Bernoulli distribution:\n",
        "\n",
        "$$P(y_i\\ |\\ \\hat{y}_i) = \\hat{y}_i^{y_i}(1 - \\hat{y}_i)^{(1 - y_i)}$$\n",
        "\n",
        "So plugging in the regression model:\n",
        "\n",
        "$$P(y_i\\ |\\ \\theta, x_i) = \\sigma(\\theta^Tx_i)^{y_i}(1 - \\sigma(\\theta^Tx_i))^{(1 - y_i)}.$$\n",
        "\n",
        "This expression effectively measures how good our parameters $\\theta$ are. We can also write it as the likelihood of the parameters given the data:\n",
        "\n",
        "$$\\mathcal{L}(\\theta\\ |\\ y_i, x_i) = P(y_i\\ |\\ \\theta, x_i),$$\n",
        "\n",
        "and then use this as a target of optimization, considering all of the trials independently:\n",
        "\n",
        "$$\\textrm{log}\\mathcal{L}(\\theta | X, y) = \\sum_{i=1}^Ny_i\\textrm{log}(\\sigma(\\theta^Tx_i))\\ +\\ (1-y_i)\\textrm{log}(1 - \\sigma(\\theta^Tx_i)).$$"
      ]
    },
    {
      "cell_type": "markdown",
      "metadata": {
        "id": "s0N39bn_tTyb"
      },
      "source": [
        "# Appendix: More detail about model selection\n",
        "\n",
        "In the final exercise, we used all of the data to choose the hyperparameters. That means we don't have any fresh data left over to evaluate the performance of the selected model. In practice, you would want to have two *nested* layers of cross-validation, where the final evaluation is performed on data that played no role in selecting or training the model.\n",
        "\n",
        "Indeed, the proper method for splitting your data to choose hyperparameters can get confusing. Here's a guide that the authors of this notebook developed while writing a tutorial on using machine learning for neural decoding (https://arxiv.org/abs/1708.00909).\n",
        "\n",
        "<img src='http://kordinglab.com/images/others/CV-01.png' width= '700'/>\n"
      ]
    }
  ]
}