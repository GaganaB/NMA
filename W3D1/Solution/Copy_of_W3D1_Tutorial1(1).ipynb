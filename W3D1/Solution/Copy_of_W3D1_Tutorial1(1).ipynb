{
  "nbformat": 4,
  "nbformat_minor": 0,
  "metadata": {
    "colab": {
      "name": "Copy of W3D1_Tutorial1",
      "provenance": [],
      "collapsed_sections": [],
      "toc_visible": true
    },
    "kernel": {
      "display_name": "Python 3",
      "language": "python",
      "name": "python3"
    },
    "kernelspec": {
      "display_name": "Python 3",
      "name": "python3"
    },
    "language_info": {
      "codemirror_mode": {
        "name": "ipython",
        "version": 3
      },
      "file_extension": ".py",
      "mimetype": "text/x-python",
      "name": "python",
      "nbconvert_exporter": "python",
      "pygments_lexer": "ipython3",
      "version": "3.7.8"
    }
  },
  "cells": [
    {
      "cell_type": "markdown",
      "metadata": {
        "id": "HUUJzYjOSpUa"
      },
      "source": [
        "# Neuromatch Academy: Week 3, Day 1, Tutorial 1\n",
        "# Real Neurons: The Leaky Integrate-and-Fire (LIF) Neuron Model\n",
        "__Content creators:__ Qinglong Gu, Songtin Li, John Murray, Richard Naud, Arvind Kumar\n",
        "\n",
        "__Content reviewers:__  Maryam Vaziri-Pashkam, Ella Batty, Lorenzo Fontolan, Richard Gao, Matthew Krause, Spiros Chavlis, Michael Waskom"
      ]
    },
    {
      "cell_type": "markdown",
      "metadata": {
        "id": "r_KLqjQHSpUh"
      },
      "source": [
        "---\n",
        "# Tutorial Objectives\n",
        "This is Tutorial 1 of a series on implementing realistic neuron models. In this tutorial, we will build up a leaky integrate-and-fire (LIF) neuron model and study its dynamics in response to various types of inputs. In particular, we are going to write a few lines of code to:  \n",
        "\n",
        "- simulate the LIF neuron model\n",
        "\n",
        "- drive the LIF neuron with external inputs, such as direct currents, Gaussian white noise, and Poisson spike trains, etc.\n",
        "\n",
        "- study how different inputs affect the  LIF neuron's output (firing rate and spike time irregularity)\n",
        "\n",
        "Here, we will especially emphasize identifying conditions (input statistics) under which a neuron can spike at low firing rates and in an irregular manner. The reason for focusing on this is that in most cases, neocortical neurons spike in an irregular manner."
      ]
    },
    {
      "cell_type": "markdown",
      "metadata": {
        "id": "4uAy8zU2SpUi"
      },
      "source": [
        "---\n",
        "# Setup"
      ]
    },
    {
      "cell_type": "code",
      "metadata": {
        "cellView": "both",
        "id": "C3lNs515SpUj"
      },
      "source": [
        "# Imports\n",
        "import numpy as np\n",
        "import matplotlib.pyplot as plt"
      ],
      "execution_count": null,
      "outputs": []
    },
    {
      "cell_type": "code",
      "metadata": {
        "cellView": "form",
        "id": "QpRUC3l7SpUk"
      },
      "source": [
        "# @title Figure Settings\n",
        "import ipywidgets as widgets  # interactive display\n",
        "%config InlineBackend.figure_format = 'retina'\n",
        "# use NMA plot style\n",
        "plt.style.use(\"https://raw.githubusercontent.com/NeuromatchAcademy/course-content/master/nma.mplstyle\")\n",
        "my_layout = widgets.Layout()"
      ],
      "execution_count": null,
      "outputs": []
    },
    {
      "cell_type": "code",
      "metadata": {
        "id": "BggnNUvdSpUl"
      },
      "source": [
        "# @title Helper functions\n",
        "\n",
        "\n",
        "def plot_volt_trace(pars, v, sp):\n",
        "  \"\"\"\n",
        "  Plot trajectory of membrane potential for a single neuron\n",
        "\n",
        "  Expects:\n",
        "  pars   : parameter dictionary\n",
        "  v      : volt trajetory\n",
        "  sp     : spike train\n",
        "\n",
        "  Returns:\n",
        "  figure of the membrane potential trajectory for a single neuron\n",
        "  \"\"\"\n",
        "\n",
        "  V_th = pars['V_th']\n",
        "  dt, range_t = pars['dt'], pars['range_t']\n",
        "  if sp.size:\n",
        "    sp_num = (sp / dt).astype(int) - 1\n",
        "    v[sp_num] += 20  # draw nicer spikes\n",
        "\n",
        "  plt.plot(pars['range_t'], v, 'b')\n",
        "  plt.axhline(V_th, 0, 1, color='k', ls='--')\n",
        "  plt.xlabel('Time (ms)')\n",
        "  plt.ylabel('V (mV)')\n",
        "  plt.legend(['Membrane\\npotential', r'Threshold V$_{\\mathrm{th}}$'],\n",
        "             loc=[1.05, 0.75])\n",
        "  plt.ylim([-80, -40])\n",
        "\n",
        "\n",
        "def plot_GWN(pars, I_GWN):\n",
        "  \"\"\"\n",
        "  Args:\n",
        "    pars  : parameter dictionary\n",
        "    I_GWN : Gaussian white noise input\n",
        "\n",
        "  Returns:\n",
        "    figure of the gaussian white noise input\n",
        "  \"\"\"\n",
        "\n",
        "  plt.figure(figsize=(12, 4))\n",
        "  plt.subplot(121)\n",
        "  plt.plot(pars['range_t'][::3], I_GWN[::3], 'b')\n",
        "  plt.xlabel('Time (ms)')\n",
        "  plt.ylabel(r'$I_{GWN}$ (pA)')\n",
        "  plt.subplot(122)\n",
        "  plot_volt_trace(pars, v, sp)\n",
        "  plt.tight_layout()\n",
        "\n",
        "\n",
        "def my_hists(isi1, isi2, cv1, cv2, sigma1, sigma2):\n",
        "  \"\"\"\n",
        "  Args:\n",
        "    isi1 : vector with inter-spike intervals\n",
        "    isi2 : vector with inter-spike intervals\n",
        "    cv1  : coefficient of variation for isi1\n",
        "    cv2  : coefficient of variation for isi2\n",
        "\n",
        "  Returns:\n",
        "    figure with two histograms, isi1, isi2\n",
        "\n",
        "  \"\"\"\n",
        "  plt.figure(figsize=(11, 4))\n",
        "  my_bins = np.linspace(10, 30, 20)\n",
        "  plt.subplot(121)\n",
        "  plt.hist(isi1, bins=my_bins, color='b', alpha=0.5)\n",
        "  plt.xlabel('ISI (ms)')\n",
        "  plt.ylabel('count')\n",
        "  plt.title(r'$\\sigma_{GWN}=$%.1f, CV$_{\\mathrm{isi}}$=%.3f' % (sigma1, cv1))\n",
        "\n",
        "  plt.subplot(122)\n",
        "  plt.hist(isi2, bins=my_bins, color='b', alpha=0.5)\n",
        "  plt.xlabel('ISI (ms)')\n",
        "  plt.ylabel('count')\n",
        "  plt.title(r'$\\sigma_{GWN}=$%.1f, CV$_{\\mathrm{isi}}$=%.3f' % (sigma2, cv2))\n",
        "  plt.tight_layout()\n",
        "  plt.show()\n",
        "\n",
        "\n",
        "# the function plot the raster of the Poisson spike train\n",
        "def my_raster_Poisson(range_t, spike_train, n):\n",
        "  \"\"\"\n",
        "  Generates poisson trains\n",
        "\n",
        "  Args:\n",
        "    range_t     : time sequence\n",
        "    spike_train : binary spike trains, with shape (N, Lt)\n",
        "    n           : number of Poisson trains plot\n",
        "\n",
        "  Returns:\n",
        "    Raster plot of the spike train\n",
        "  \"\"\"\n",
        "\n",
        "  # find the number of all the spike trains\n",
        "  N = spike_train.shape[0]\n",
        "\n",
        "  # n should smaller than N:\n",
        "  if n > N:\n",
        "    print('The number n exceeds the size of spike trains')\n",
        "    print('The number n is set to be the size of spike trains')\n",
        "    n = N\n",
        "\n",
        "  # plot rater\n",
        "  i = 0\n",
        "  while i < n:\n",
        "    if spike_train[i, :].sum() > 0.:\n",
        "      t_sp = range_t[spike_train[i, :] > 0.5]  # spike times\n",
        "      plt.plot(t_sp, i * np.ones(len(t_sp)), 'k|', ms=10, markeredgewidth=2)\n",
        "    i += 1\n",
        "  plt.xlim([range_t[0], range_t[-1]])\n",
        "  plt.ylim([-0.5, n + 0.5])\n",
        "  plt.xlabel('Time (ms)', fontsize=12)\n",
        "  plt.ylabel('Neuron ID', fontsize=12)"
      ],
      "execution_count": null,
      "outputs": []
    },
    {
      "cell_type": "markdown",
      "metadata": {
        "id": "-pkdqKKjTpbS"
      },
      "source": [
        "# Summary of helper functions:\n",
        "\n",
        "*plot_volt_trace*:\n",
        "Plot trajectory of membrane potential (yaxis) for a single neuron over time (xaxis) using threshold\n",
        "\n",
        "*plot_GWN*:\n",
        "plots gaussian white noise input (yaxis) over time (xaxis)\n",
        "\n",
        "*my_hists*:\n",
        "plots two histograms (count: yaxis) of vectors for interspike intervals (xaxis)\n",
        "\n",
        "*my_raster_Poisson*:\n",
        "plot the raster of the Poisson spike train where xaxis = time and yaxis = neuron ID\n"
      ]
    },
    {
      "cell_type": "markdown",
      "metadata": {
        "id": "7mQ1oYR1SpUn"
      },
      "source": [
        "---\n",
        "# Section 1: The Leaky Integrate-and-Fire (LIF) model"
      ]
    },
    {
      "cell_type": "code",
      "metadata": {
        "cellView": "form",
        "id": "OpuHhhi1SpUn",
        "colab": {
          "base_uri": "https://localhost:8080/",
          "height": 518
        },
        "outputId": "ae48aa40-a21b-41bb-82fe-148d3d610db6"
      },
      "source": [
        "#@title Video 1: Reduced Neuron Models\n",
        "from IPython.display import YouTubeVideo\n",
        "video = YouTubeVideo(id='rSExvwCVRYg', width=854, height=480, fs=1)\n",
        "print(\"Video available at https://youtube.com/watch?v=\" + video.id)\n",
        "video"
      ],
      "execution_count": null,
      "outputs": [
        {
          "output_type": "stream",
          "text": [
            "Video available at https://youtube.com/watch?v=rSExvwCVRYg\n"
          ],
          "name": "stdout"
        },
        {
          "output_type": "execute_result",
          "data": {
            "text/html": [
              "\n",
              "        <iframe\n",
              "            width=\"854\"\n",
              "            height=\"480\"\n",
              "            src=\"https://www.youtube.com/embed/rSExvwCVRYg?fs=1\"\n",
              "            frameborder=\"0\"\n",
              "            allowfullscreen\n",
              "        ></iframe>\n",
              "        "
            ],
            "text/plain": [
              "<IPython.lib.display.YouTubeVideo at 0x7f60116c6898>"
            ],
            "image/jpeg": "[encoded data removed]"
          },
          "metadata": {
            "tags": []
          },
          "execution_count": 1
        }
      ]
    },
    {
      "cell_type": "markdown",
      "metadata": {
        "id": "aXBinnCUW_Cw"
      },
      "source": [
        "# Summary of Video 1:\n",
        "\n",
        "- describe a mathematical neuron model for how neurons are generating action potentials; describe the simplest picture that I can come up with that remains fairly accurate; \n",
        "- there is a set of equations,\n",
        "that is surprisingly accurate in\n",
        "reproducing the activity of neurons.\n",
        "- Neurons have axons. These axons are the wires that send the action potentials.\n",
        "There's a cell body which roughly is summing currents from dendrites and synapses, \n",
        "and making this decision of generating of an action potential.\n",
        "There are dendrites which are receiving inputs from synapses,\n",
        "and there's the synapses that are the connections with other neurons.\n",
        "So when an input comes from other neurons,\n",
        "it first goes through synapses\n",
        "and then dendrites and then goes to the cell body\n",
        "where the decision of making an action potential is being made.\n",
        "- So if we zoom on\n",
        "a patch of membrane, we have a current that is possibly time dependent\n",
        "that impinges on that lipid bilayer.\n",
        "And this will influence the membrane potential that is\n",
        "the difference in electrical potential between inside and outside of the cell.\n",
        "Now we can understand the relationship between the current and the membrane potential by considering\n",
        "the biophysics of the membrane as an electrical circuit.\n",
        "The lipid bilayer acts as a capacitance because charges can accumulate on either sides of the membrane.\n",
        "It also acts as a conductance because charges are conceived as flowing through the membrane.\n",
        "It's a conductance\n",
        "that is coupled with a battery,\n",
        "because this flowing through the membrane will depend on the relative concentration of ions inside and outside of the cell.\n",
        "And then\n",
        "there's the ion channels. Ion channels are these proteins sitting on the lipid by the air that can allow ions to flow through.\n",
        "But this allowing ions to flow through is regulated by the shape of the protein\n",
        "such that we conceive those ion channels as conductance\n",
        "that are variable and that are coupled also to a battery. And\n",
        "the conductance actually depends on the membrane potential itself.\n",
        "- So if we go to the physics of these\n",
        "devices and we describe the current flowing through, we will\n",
        "apply Kirchhoff's equation. Which is that when a current comes at one node\n",
        "it will have to go through either one of the different branches that comes out of that node. So\n",
        "that means that the current that impinges on the membrane will either go to charge the capacitor\n",
        "or leak through the membrane.\n",
        "- And then there's the current flowing through the different ion channels.\n",
        "Now these different ion channels come in different types; sodium ion channel (Na) the potassium ion channel (K) both of these are generating the action potential.\n",
        "And there are also a bunch of other ion channels that are not involved in generating the action potentials.\n",
        "- So the approach of the leaky integrate and fire \n",
        "is to first ignore\n",
        "those ion channels that are not involved in generating the action potential\n",
        "And to replace the generation of an action potential, the machinery involved in doing that,\n",
        "by\n",
        "the phenomenology of this. That is a threshold. Once\n",
        "we reach a certain threshold\n",
        "voltage\n",
        "these ion channels, particularly the sodium ion channel, is being activated\n",
        "and triggers the action potential. Which after the action potential\n",
        "is done resets the membrane potential. And\n",
        "the dynamics continue to unfold.\n",
        "- Here are the equations of the model:\n",
        "We have a first order differential equation for the membrane potential V\n",
        "as a function of a time dependent input current I.\n",
        "And we have a threshold condition. The threshold condition is such that whenever the membrane potential reaches\n",
        "the threshold\n",
        "we will stop the dynamics,\n",
        "and\n",
        "restart the dynamics only a time delta later.\n",
        "This delta is the absolute refractory period and it corresponds\n",
        "to the time it takes for an action potential to be generated, roughly one or two milliseconds.\n",
        "And we then reset the membrane potential to say the equilibrium potential, could be something else, but equilibrium potential is easy.\n",
        "- exponential relaxation will follow a time course that is characterized by\n",
        "the membrane time constant, which is just the ratio of the capacitance and the leak.\n",
        "And this is typically between 10 and 50 milliseconds in real neurons.\n",
        "The time between successive spikes is called the inter-spike interval and one over that time is the firing frequency\n",
        "of that cell.\n",
        "- And\n",
        "for a constant current\n",
        "the inter-spike interval will remain constant\n",
        "it will change only as the input current is changing. So the main assumption here\n",
        "is that we've assumed that action potentials are always of the same shape. They don't have a variable time course.\n",
        "\n",
        "No matter what was the inter-spike interval, the current that came in to generate the action potential,\n",
        "when\n",
        "superposed was always looking pretty precisely the same.\n",
        "And you can see here this was the spiking threshold where the membrane potential is\n",
        "high enough that we are sure that an action potential will be generated.\n",
        "And then we see here that\n",
        "invariably no matter what happened\n",
        "the cell always came back to the same voltage the same membrane potential.\n",
        "And that's our voltage reset. Now, there are a few exceptions, some cell types do not have those stereotypical\n",
        "action potentials. And the action potential does tend to lengthen and\n",
        "become weaker when you're in a burst, a set of spikes coming at high frequency,\n",
        "but generally\n",
        "it is a fairly good assumption. \n",
        "\n",
        "- integrate and fire models are a useful\n",
        "approximation of complex dynamics of real neurons.\n",
        "- explore these dynamics with various types of inputs.\n"
      ]
    },
    {
      "cell_type": "markdown",
      "metadata": {
        "id": "ALLBJ4qqSpUo"
      },
      "source": [
        "## Implementation of an LIF neuron model\n",
        "\n",
        "Now, it's your turn to implement one of the simplest mathematical model of a neuron: the leaky integrate-and-fire (LIF) model. The basic idea of LIF neuron was proposed in 1907 by Louis Édouard Lapicque, long before we understood the electrophysiology of a neuron (see a translation of [Lapicque's paper](https://pubmed.ncbi.nlm.nih.gov/17968583/) ). More details of the model can be found in the book [**Theoretical neuroscience**](http://www.gatsby.ucl.ac.uk/~dayan/book/) by Peter Dayan and Laurence F. Abbott.\n",
        "\n",
        "The subthreshold membrane potential dynamics of a LIF neuron is described by\n",
        "\n",
        "\\begin{eqnarray}\n",
        "C_m\\frac{dV}{dt} = -g_L(V-E_L) + I,\\quad (1)\n",
        "\\end{eqnarray}\n",
        "\n",
        "where $C_m$ is the membrane capacitance, $V$ is the membrane potential, $g_L$ is the leak conductance ($g_L = 1/R$, the inverse of the leak resistance $R$ mentioned in previous tutorials), $E_L$ is the resting potential, and $I$ is the external input current. \n",
        "\n",
        "Dividing both sides of the above equation by $g_L$ gives\n",
        "\n",
        "\\begin{align}\n",
        "\\tau_m\\frac{dV}{dt} = -(V-E_L) + \\frac{I}{g_L}\\,,\\quad (2)\n",
        "\\end{align}\n",
        "\n",
        "where the $\\tau_m$ is membrane time constant and is defined as $\\tau_m=C_m/g_L$. \n",
        "\n",
        "You might wonder why dividing capacitance by conductance gives units of time! Find out yourself why this is true.\n",
        "\n",
        "Below, we will use Eqn.(2) to simulate LIF neuron dynamics. \n",
        "\n",
        "If $I$ is sufficiently strong such that $V$ reaches a certain threshold value $V_{\\rm th}$, $V$ is reset to a reset potential $V_{\\rm reset}< V_{\\rm th}$, and voltage is clamped to $V_{\\rm reset}$ for $\\tau_{\\rm ref}$ ms, mimicking the refractoriness of the neuron during an action potential:\n",
        "\n",
        "\\begin{eqnarray}\n",
        "\\mathrm{if}\\quad V(t_{\\text{sp}})\\geq V_{\\rm th}&:& V(t)=V_{\\rm reset} \\text{  for } t\\in(t_{\\text{sp}}, t_{\\text{sp}} + \\tau_{\\text{ref}}]\n",
        "\\end{eqnarray}\n",
        "where $t_{\\rm sp}$ is the spike time when $V(t)$ just exceeded $V_{\\rm th}$.\n",
        "\n",
        "(__Note__: in the lecture slides, $\\theta$ corresponds to the threshold voltage $V_{th}$, and $\\Delta$ corresponds to the refractory time $\\tau_{\\rm ref}$.)\n",
        "\n",
        "Thus, the LIF model captures the facts that a neuron:\n",
        "- performs spatial and temporal integration of synaptic inputs \n",
        "- generates a spike when the voltage reaches a certain threshold\n",
        "- goes refractory during the action potential\n",
        "- has a leaky membrane \n",
        "\n",
        "The LIF model assumes that the spatial and temporal integration of inputs is linear. Also, membrane potential dynamics close to the spike threshold are much slower in LIF neurons than in real neurons. \n"
      ]
    },
    {
      "cell_type": "markdown",
      "metadata": {
        "id": "HjIgobMISpUo"
      },
      "source": [
        "## Exercise 1: Python code to simulate the LIF neuron\n",
        "\n",
        "We now write Python code to calculate Eqn. (2) and simulate the LIF neuron dynamics. We will use the Euler method, which you saw in the linear systems case last week,  to numerically integrate Eq 2.\n",
        "\n",
        "The cell below initializes a dictionary that stores parameters of the LIF neuron model and the simulation scheme. You can use `pars=default_pars(T=simulation_time, dt=time_step)` to get the parameters (you can try to print the dictionary `pars`). Note that, `simulation_time` and `time_step` have the unit `ms`. In addition, you can add the value to a new parameter by `pars['New_param'] = value`."
      ]
    },
    {
      "cell_type": "code",
      "metadata": {
        "cellView": "form",
        "id": "PgHNGrnSSpUp"
      },
      "source": [
        "# @title\n",
        "\n",
        "# @markdown Execute this code to initialize the default parameters\n",
        "\n",
        "\n",
        "def default_pars(**kwargs):\n",
        "  pars = {}\n",
        "\n",
        "  # typical neuron parameters#\n",
        "  pars['V_th'] = -55.     # spike threshold [mV]\n",
        "  pars['V_reset'] = -75.  # reset potential [mV]\n",
        "  pars['tau_m'] = 10.     # membrane time constant [ms]\n",
        "  pars['g_L'] = 10.       # leak conductance [nS]\n",
        "  pars['V_init'] = -75.   # initial potential [mV]\n",
        "  pars['E_L'] = -75.      # leak reversal potential [mV]\n",
        "  pars['tref'] = 2.       # refractory time (ms)\n",
        "\n",
        "  # simulation parameters #\n",
        "  pars['T'] = 400.  # Total duration of simulation [ms]\n",
        "  pars['dt'] = .1   # Simulation time step [ms]\n",
        "\n",
        "  # external parameters if any #\n",
        "  for k in kwargs:\n",
        "    pars[k] = kwargs[k]\n",
        "\n",
        "  pars['range_t'] = np.arange(0, pars['T'], pars['dt'])  # Vector of discretized time points [ms]\n",
        "\n",
        "  return pars\n",
        "\n",
        "\n",
        "pars = default_pars()"
      ],
      "execution_count": null,
      "outputs": []
    },
    {
      "cell_type": "markdown",
      "metadata": {
        "id": "kNvh7wtMSpUq"
      },
      "source": [
        "The cell below defines the function to simulate the LIF neuron when receiving external current inputs. You can use `v, sp = run_LIF(pars, Iinj)` to get the membrane potential (`v`) and spike train (`sp`) given the dictionary `pars` and input current `Iinj`."
      ]
    },
    {
      "cell_type": "code",
      "metadata": {
        "cellView": "both",
        "id": "06QpdZGySpUq"
      },
      "source": [
        "def run_LIF(pars, Iinj, stop=False):\n",
        "  \"\"\"\n",
        "  Simulate the LIF dynamics with external input current\n",
        "\n",
        "  Args:\n",
        "    pars       : parameter dictionary\n",
        "    Iinj       : input current [pA]. The injected current here can be a value\n",
        "                 or an array\n",
        "    stop       : boolean. If True, use a current pulse\n",
        "\n",
        "  Returns:\n",
        "    rec_v      : membrane potential\n",
        "    rec_sp     : spike times\n",
        "  \"\"\"\n",
        "\n",
        "  # Set parameters\n",
        "  V_th, V_reset = pars['V_th'], pars['V_reset']\n",
        "  tau_m, g_L = pars['tau_m'], pars['g_L']\n",
        "  V_init, E_L = pars['V_init'], pars['E_L']\n",
        "  dt, range_t = pars['dt'], pars['range_t']\n",
        "  Lt = range_t.size\n",
        "  tref = pars['tref']\n",
        "\n",
        "  # Initialize voltage and current\n",
        "  v = np.zeros(Lt)\n",
        "  v[0] = V_init\n",
        "  Iinj = Iinj * np.ones(Lt)\n",
        "  if stop:  # set end of current to 0 if current pulse\n",
        "    Iinj[:int(len(Iinj) / 2) - 1000] = 0\n",
        "    Iinj[int(len(Iinj) / 2) + 1000:] = 0\n",
        "  tr = 0.  # the count for refractory duration\n",
        "\n",
        "  # Simulate the LIF dynamics\n",
        "  rec_spikes = []  # record spike times\n",
        "  for it in range(Lt - 1):\n",
        "    if tr > 0:  # check for refractoriness\n",
        "      v[it] = V_reset\n",
        "      tr = tr - 1\n",
        "    elif v[it] >= V_th:  # reset voltage and record spike event\n",
        "      rec_spikes.append(it)\n",
        "      v[it] = V_reset\n",
        "      tr = tref / dt\n",
        "\n",
        "    ########################################################################\n",
        "    ## TODO for students: compute the membrane potential v, spike train sp #\n",
        "    # Fill out function and remove\n",
        "    raise NotImplementedError('Student Exercise: calculate the dv/dt and the update step!')\n",
        "    ########################################################################\n",
        "    # calculate the increment of the membrane potential\n",
        "    dv = ...\n",
        "\n",
        "    # update the membrane potential\n",
        "    v[it + 1] = ...\n",
        "\n",
        "  rec_spikes = np.array(rec_spikes) * dt\n",
        "\n",
        "  return v, rec_spikes\n",
        "\n",
        "\n",
        "pars = default_pars(T=500)\n",
        "# Uncomment below to test your function\n",
        "# v, sp = run_LIF(pars, Iinj=100, stop=True)\n",
        "# plot_volt_trace(pars, v, sp)\n",
        "# plt.ylim([-80, -60])\n",
        "# plt.show()"
      ],
      "execution_count": null,
      "outputs": []
    },
    {
      "cell_type": "code",
      "metadata": {
        "id": "rk4pTUXGSpUq"
      },
      "source": [
        "# to_remove solution\n",
        "def run_LIF(pars, Iinj, stop=False):\n",
        "  \"\"\"\n",
        "  Simulate the LIF dynamics with external input current\n",
        "\n",
        "  Args:\n",
        "    pars       : parameter dictionary\n",
        "    Iinj       : input current [pA]. The injected current here can be a value\n",
        "                 or an array\n",
        "    stop       : boolean. If True, use a current pulse\n",
        "\n",
        "  Returns:\n",
        "    rec_v      : membrane potential\n",
        "    rec_sp     : spike times\n",
        "  \"\"\"\n",
        "  # Set parameters\n",
        "  V_th, V_reset = pars['V_th'], pars['V_reset']\n",
        "  tau_m, g_L = pars['tau_m'], pars['g_L']\n",
        "  V_init, E_L = pars['V_init'], pars['E_L']\n",
        "  dt, range_t = pars['dt'], pars['range_t']\n",
        "  Lt = range_t.size\n",
        "  tref = pars['tref']\n",
        "\n",
        "  # Initialize voltage and current\n",
        "  v = np.zeros(Lt)\n",
        "  v[0] = V_init\n",
        "  Iinj = Iinj * np.ones(Lt)\n",
        "  if stop:  # set end of current to 0 if current pulse\n",
        "    Iinj[:int(len(Iinj) / 2) - 1000] = 0\n",
        "    Iinj[int(len(Iinj) / 2) + 1000:] = 0\n",
        "  tr = 0.  # the count for refractory duration\n",
        "\n",
        "  # Simulate the LIF dynamics\n",
        "  rec_spikes = []  # record spike times\n",
        "  for it in range(Lt - 1):\n",
        "    if tr > 0:  # check for refractoriness\n",
        "      v[it] = V_reset\n",
        "      tr = tr - 1\n",
        "    elif v[it] >= V_th:  # reset voltage and record spike event\n",
        "      rec_spikes.append(it)\n",
        "      v[it] = V_reset\n",
        "      tr = tref / dt\n",
        "\n",
        "    # calculate the increment of the membrane potential\n",
        "    dv = (-(v[it] - E_L) + Iinj[it] / g_L) * (dt / tau_m)\n",
        "\n",
        "    # update the membrane potential\n",
        "    v[it + 1] = v[it] + dv\n",
        "\n",
        "  rec_spikes = np.array(rec_spikes) * dt\n",
        "\n",
        "  return v, rec_spikes\n",
        "\n",
        "\n",
        "pars = default_pars(T=500)\n",
        "# Uncomment below to test your function\n",
        "v, sp = run_LIF(pars, Iinj=100, stop=True)\n",
        "with plt.xkcd():\n",
        "  plot_volt_trace(pars, v, sp)\n",
        "  plt.ylim([-80, -60])\n",
        "  plt.show()"
      ],
      "execution_count": null,
      "outputs": []
    },
    {
      "cell_type": "markdown",
      "metadata": {
        "id": "xSt_EI2zSpUr"
      },
      "source": [
        "---\n",
        "# Section 2: Response of an LIF model to different types of input currents\n",
        "In the following section, we will learn how to inject direct current and white noise to study the response of an LIF neuron."
      ]
    },
    {
      "cell_type": "code",
      "metadata": {
        "cellView": "form",
        "id": "XKUW-fzySpUr",
        "colab": {
          "base_uri": "https://localhost:8080/",
          "height": 518
        },
        "outputId": "2632408b-4fbe-4071-89f5-2ce7255218cc"
      },
      "source": [
        "#@title Video 2: Response of the LIF neuron to different inputs\n",
        "from IPython.display import YouTubeVideo\n",
        "video = YouTubeVideo(id='preNGdab7Kk', width=854, height=480, fs=1)\n",
        "print(\"Video available at https://youtube.com/watch?v=\" + video.id)\n",
        "video"
      ],
      "execution_count": null,
      "outputs": [
        {
          "output_type": "stream",
          "text": [
            "Video available at https://youtube.com/watch?v=preNGdab7Kk\n"
          ],
          "name": "stdout"
        },
        {
          "output_type": "execute_result",
          "data": {
            "text/html": [
              "\n",
              "        <iframe\n",
              "            width=\"854\"\n",
              "            height=\"480\"\n",
              "            src=\"https://www.youtube.com/embed/preNGdab7Kk?fs=1\"\n",
              "            frameborder=\"0\"\n",
              "            allowfullscreen\n",
              "        ></iframe>\n",
              "        "
            ],
            "text/plain": [
              "<IPython.lib.display.YouTubeVideo at 0x7f6010e6eba8>"
            ],
            "image/jpeg": "[encoded data removed]"
          },
          "metadata": {
            "tags": []
          },
          "execution_count": 2
        }
      ]
    },
    {
      "cell_type": "markdown",
      "metadata": {
        "id": "TIOR2QjMY_fJ"
      },
      "source": [
        "# Summary of Video 2:\n",
        "- So now that we've simulated the leaky integrate and fire model,\n",
        "we will consider the input output function of that same model.\n",
        "Any\n",
        "element of an electrical circuit is understood in terms of its input output function. For instance, a\n",
        "transistor will be understood in terms of the current flowing through as a function of the potential between the gates.\n",
        "Now if the neuron is a core computational unit,\n",
        "similar to the transistor, what is its input output function?\n",
        "Well, this is a fairly complicated question because we don't really know what's the input\n",
        "feature that is to be considered and we don't really know what's the output feature that's to be communicated.\n",
        "- simplify that problem a little bit and from the myriad of synapses\n",
        "impinging on the cell and giving rise to currents that are then triggering processes in the dendrites,\n",
        "only consider the currents that are flowing from the dendrites and the synapses that are on the cell body that are the ones that are\n",
        "most immediately going to give rise to an action potential: consider features of this input current.\n",
        "Generally, its amplitude, how much current is flowing through.\n",
        "Now the output can be many possible features of the output spike trains.\n",
        "- So the simplest scenario is a\n",
        "condition where you have constant input.\n",
        "Constant current that is\n",
        "stimulating the neuron. So if we consider a leaky integrate and fire model\n",
        "where this current is stimulating changes in the membrane potential\n",
        "until it reaches a threshold where the membrane potential is reset,\n",
        "- And\n",
        "after an absolute refractory period,\n",
        "the membrane potential follows a relaxation\n",
        "to a steady-state and it is first\n",
        "reaching the threshold, emits an action potential, resets. \n",
        "- Now a natural feature to look at is the inter-spike interval, the amount of time between two spikes.\n",
        "So this\n",
        "taken as an inverse is the firing frequency. And\n",
        "note that\n",
        "the number of spikes within a fairly\n",
        "large time window divided by number of spikes by the length of that window, => get a firing frequency\n",
        "which would be exactly equivalent to\n",
        "the inverse of the inter-spike interval.\n",
        "So this firing frequency\n",
        "will depend on the current, the magnitude of the current being injected.\n",
        "Firing will start at some point where current is strong enough to elicit an action potential and\n",
        "then it follows this logarithmic curve,\n",
        "which will go to an asymptote of 1 over the absolute refractory period.\n",
        "- The curve can be found\n",
        "analytically fairly easily from the equations of the leaky integrate and fire model. depends on the\n",
        "parameters of the model, in particular\n",
        "the current and the distance to the threshold.\n",
        "\n",
        "NOISE:\n",
        "Imagine that it's not just a mean input, but there are fluctuations\n",
        "that might have to do with the fact that there's not always exactly the same number of inputs at any moment of time,\n",
        "stimulating that neuron. So we add\n",
        "noise to the leaky integrate and fire model and the output will look fairly similar, but more noisy.\n",
        "Now you can't calculate the inter-spike interval at one point and call it the frequency. You need to average\n",
        "over multiple spikes. So you can, for instance, take the inverse of the average inter-spike interval.\n",
        "And if you plot this\n",
        "in the absence of noise there's a sharp transition to\n",
        "starting a response and a very strong gain at the onset of the input-output function, in the presence of noise; \n",
        "the\n",
        "input-output function is much more linear. So that is to say that the noise is linearizing the input output function.\n",
        "\n",
        "Another interesting aspect is that\n",
        "in average currents that were previously not\n",
        "eliciting any response, that is they are in a mean amplitude below\n",
        "the threshold, are able to elicit a small response, a small firing rate.\n",
        "\n",
        "This is because these spikes are being driven by fluctuations,\n",
        "random fluctuations that happen to be strong enough to elicit a response. And\n",
        "since these are fairly infrequent, you see a small firing rate.\n",
        "\n",
        "Now the analytical equation that describes\n",
        "a curve - also known it's called the Siegert equation. It is made of error function; constant current combined with a background noise can be understood in terms of the average \n",
        "inter-spike interval in response to that input, but that's not the whole story.\n",
        "The inter-spike interval can be more or less\n",
        "variable. \n",
        "\n",
        "- The CV is just the standard deviation of the inter-spike interval,\n",
        "so the width of the curve,\n",
        "over the mean, so the mean inter-spike interval; the response will grow as a function of the average injected current\n",
        "and\n",
        "where we can delineate the\n",
        "area below threshold in the absence of noise\n",
        "and the CV will decrease with the average injected current. And that\n",
        "below that threshold\n",
        "the CV is markedly higher.\n",
        "- This has driven people to talk about two regimes. We have the\n",
        "fluctuation driven regime where the neuron would not be able to fire if it were not for those fluctuations. And it is\n",
        "associated with high\n",
        "CV and high irregularity. And then there's the mean driven regime, where the neuron is\n",
        "mostly driven by the mean and the neuron is firing\n",
        "regularly at\n",
        "an inter-spike interval with very narrow distribution.\n",
        "So to conclude\n",
        "the firing rate response of a leaky integrate and fire model is a\n",
        "nonlinear function of the current that is arriving to the neuronal cell body.\n",
        "Also noise can linearize (that is make more linear) this input output function.\n",
        "And the variability of the responses\n",
        "doesn't depend only on the variability of the inputs, but depends on both the mean and the variance of the input.\n",
        "\n",
        "- explore how a leaky integrate and fire\n",
        "neuron model\n",
        "driven by noisy input gives rise to various types of output.\n"
      ]
    },
    {
      "cell_type": "markdown",
      "metadata": {
        "id": "-saV06ZNSpUr"
      },
      "source": [
        "## Section 2.1: Direct current (DC)"
      ]
    },
    {
      "cell_type": "markdown",
      "metadata": {
        "id": "-I1YL_1zSpUs"
      },
      "source": [
        "### LIF neuron driven by constant current\n",
        "Investigate the voltage response of the LIF neuron when receiving a DC input of 300 pA by `run_LIF` function."
      ]
    },
    {
      "cell_type": "code",
      "metadata": {
        "id": "XiySfoGvSpUs"
      },
      "source": [
        "pars = default_pars(T=100)  # get the parameters\n",
        "\n",
        "# Run the model to obtain v and sp\n",
        "v, sp = run_LIF(pars, Iinj=300)\n",
        "\n",
        "plot_volt_trace(pars, v, sp)\n",
        "plt.show()"
      ],
      "execution_count": null,
      "outputs": []
    },
    {
      "cell_type": "markdown",
      "metadata": {
        "id": "ERgnjaooSpUs"
      },
      "source": [
        "In the plot above, you see the membrane potential of an LIF neuron. You may notice that the neuron generates a spike. But this is just a cosmetic spike only for illustration purposes. In an LIF neuron, we only need to keep track of times when the neuron hit the threshold so the postsynaptic neurons can be informed of the spike. "
      ]
    },
    {
      "cell_type": "markdown",
      "metadata": {
        "id": "gi1VyOmNSpUs"
      },
      "source": [
        "### Interactive Demo: Parameter exploration of DC input amplitude \n",
        "Here's an interactive demo that shows how the LIF neuron behavior changes for DC input with different amplitudes.\n",
        "\n",
        "How much DC is needed to reach the threshold (rheobase current)? How does the membrane time constant affect the frequency of the neuron?"
      ]
    },
    {
      "cell_type": "code",
      "metadata": {
        "cellView": "form",
        "id": "yRLnNu11SpUs"
      },
      "source": [
        "# @title\n",
        "# @markdown Make sure you execute this cell to enable the widget!\n",
        "my_layout.width = '450px'\n",
        "@widgets.interact(\n",
        "    I_dc=widgets.FloatSlider(50., min=0., max=300., step=10.,\n",
        "                               layout=my_layout),\n",
        "    tau_m=widgets.FloatSlider(10., min=2., max=20., step=2.,\n",
        "                                layout=my_layout)\n",
        ")\n",
        "\n",
        "def diff_DC(I_dc=200., tau_m=10.):\n",
        "  pars = default_pars(T=100.)\n",
        "  pars['tau_m'] = tau_m\n",
        "  v, sp = run_LIF(pars, Iinj=I_dc)\n",
        "  plot_volt_trace(pars, v, sp)\n",
        "  plt.show()"
      ],
      "execution_count": null,
      "outputs": []
    },
    {
      "cell_type": "code",
      "metadata": {
        "id": "FmoX9BMISpUs"
      },
      "source": [
        "# to_remove explanation\n",
        "\n",
        "\"\"\"\n",
        "1. As we increase the current, we observe that at 210 pA we cross the threshold.\n",
        "\n",
        "2. As we increase the membrane time constant (slower membrane), the firing rate\n",
        "is decreased because the membrane needs more time to reach the threshold after\n",
        "the reset.\n",
        "\"\"\";"
      ],
      "execution_count": null,
      "outputs": []
    },
    {
      "cell_type": "markdown",
      "metadata": {
        "id": "3aevexNmSpUt"
      },
      "source": [
        "## Section 2.2: Gaussian white noise (GWN) current \n",
        "\n",
        "Given the noisy nature of neuronal activity _in vivo_, neurons usually receive complex, time-varying inputs.\n",
        "\n",
        "To mimic this, we will now investigate the neuronal response when the LIF neuron receives Gaussian white noise $\\xi(t)$ with mean \n",
        "\n",
        "\\begin{eqnarray}\n",
        "E[\\xi(t)]=\\mu=0,\n",
        "\\end{eqnarray}\n",
        "\n",
        "and autocovariance \n",
        "\\begin{eqnarray}\n",
        "E[\\xi(t)\\xi(t+\\tau)]=\\sigma_\\xi^2 \\delta(\\tau)\n",
        "\\end{eqnarray}\n",
        "\n",
        "Note that the GWN has zero mean, that is, it describes only the fluctuations of the input received by a neuron. We can thus modify our definition of GWN to have a nonzero mean value $\\mu$ that equals the DC input, since this is the average input into the cell. The cell below defines the modified gaussian white noise currents with nonzero mean $\\mu$."
      ]
    },
    {
      "cell_type": "code",
      "metadata": {
        "cellView": "form",
        "id": "TCDTkt-rSpUt"
      },
      "source": [
        "#@title\n",
        "#@markdown Execute this cell to get function to generate GWN\n",
        "\n",
        "def my_GWN(pars, mu, sig, myseed=False):\n",
        "  \"\"\"\n",
        "  Function that generates Gaussian white noise input\n",
        "\n",
        "  Args:\n",
        "    pars       : parameter dictionary\n",
        "    mu         : noise baseline (mean)\n",
        "    sig        : noise amplitute (standard deviation)\n",
        "    myseed     : random seed. int or boolean\n",
        "                 the same seed will give the same\n",
        "                 random number sequence\n",
        "\n",
        "  Returns:\n",
        "    I          : Gaussian white noise input\n",
        "  \"\"\"\n",
        "\n",
        "  # Retrieve simulation parameters\n",
        "  dt, range_t = pars['dt'], pars['range_t']\n",
        "  Lt = range_t.size\n",
        "\n",
        "  # set random seed\n",
        "  # you can fix the seed of the random number generator so that the results\n",
        "  # are reliable however, when you want to generate multiple realization\n",
        "  # make sure that you change the seed for each new realization.\n",
        "  if myseed:\n",
        "      np.random.seed(seed=myseed)\n",
        "  else:\n",
        "      np.random.seed()\n",
        "\n",
        "  # generate GWN\n",
        "  # we divide here by 1000 to convert units to sec.\n",
        "  I_gwn = mu + sig * np.random.randn(Lt) / np.sqrt(dt / 1000.)\n",
        "\n",
        "  return I_gwn"
      ],
      "execution_count": null,
      "outputs": []
    },
    {
      "cell_type": "markdown",
      "metadata": {
        "id": "vqyrx_bQSpUt"
      },
      "source": [
        "### Exercise 2: LIF neuron driven by GWN\n",
        "\n",
        "You can generate a noisy input with `my_GWN(pars, mu, sig, myseed=False)`. Here, $\\mu=250$ and $\\sigma=5$. Note that fixing the value of the random seed (e.g., `myseed=2020`) will allow you to obtain the same result every time you run this. "
      ]
    },
    {
      "cell_type": "code",
      "metadata": {
        "id": "skFjhtUpSpUt"
      },
      "source": [
        "pars = default_pars(T=100.)\n",
        "sig_gwn = 5.\n",
        "mu_gwn = 250.\n",
        "#######################################################\n",
        "## TODO for students: compute the noisy input I_GWN   #\n",
        "# and then compute v, sp with inject I_GWN into LIF   #\n",
        "#######################################################\n",
        "\n",
        "# Calculate the GWN current\n",
        "# I_GWN = my_GWN(pars, ..., ..., myseed=2020)\n",
        "\n",
        "# Run the model and calculate the v and the sp\n",
        "# v, sp = run_LIF(pars, ...)\n",
        "\n",
        "# Uncomment these lines after obtaining v, sp\n",
        "# plot_GWN(pars, I_GWN)\n",
        "# plt.show()"
      ],
      "execution_count": null,
      "outputs": []
    },
    {
      "cell_type": "code",
      "metadata": {
        "id": "QONMf4WzSpUu"
      },
      "source": [
        "# to_remove solution\n",
        "pars = default_pars(T=100.)\n",
        "sig_gwn = 5.\n",
        "mu_gwn = 250.\n",
        "\n",
        "# Calculate the GWN current\n",
        "I_GWN = my_GWN(pars, mu=mu_gwn, sig=sig_gwn, myseed=2020)\n",
        "\n",
        "# Run the model and calculate the v and the sp\n",
        "v, sp = run_LIF(pars, Iinj=I_GWN)\n",
        "\n",
        "with plt.xkcd():\n",
        "  plot_GWN(pars, I_GWN)\n",
        "  plt.show()"
      ],
      "execution_count": null,
      "outputs": []
    },
    {
      "cell_type": "markdown",
      "metadata": {
        "id": "vZBn49AVSpUu"
      },
      "source": [
        "### Interactive Demo: LIF neuron Explorer for noisy input\n",
        "\n",
        "The mean of the GWN is the amplitude of DC. Indeed, when $\\sigma = 0$, GWN is just a DC.\n",
        "\n",
        "So the question arises how does $\\sigma$ of the GWN affect the spiking behavior of the neuron. For instance we may want to know\n",
        "- how does the minimum input (i.e. $\\mu$) needed to make a neuron spike change with increase in $\\sigma$\n",
        "- how does the spike regularity change with increase in $\\sigma$\n",
        "\n",
        "To get an intuition about these questions you can use the following interactive demo that shows how the LIF neuron behavior changes for noisy input with different amplitudes (the mean $\\mu$) and fluctuation sizes ($\\sigma$)."
      ]
    },
    {
      "cell_type": "code",
      "metadata": {
        "cellView": "form",
        "id": "bLQzmxQBSpUu"
      },
      "source": [
        "# @title\n",
        "\n",
        "# @markdown Make sure you execute this cell to enable the widget!\n",
        "\n",
        "my_layout.width = '450px'\n",
        "@widgets.interact(\n",
        "    mu_gwn=widgets.FloatSlider(200., min=100., max=300., step=5.,\n",
        "                               layout=my_layout),\n",
        "    sig_gwn=widgets.FloatSlider(2.5, min=0., max=5., step=.5,\n",
        "                                layout=my_layout)\n",
        ")\n",
        "\n",
        "\n",
        "def diff_GWN_to_LIF(mu_gwn, sig_gwn):\n",
        "  pars = default_pars(T=100.)\n",
        "  I_GWN = my_GWN(pars, mu=mu_gwn, sig=sig_gwn)\n",
        "  v, sp = run_LIF(pars, Iinj=I_GWN)\n",
        "  plt.figure(figsize=(12, 4))\n",
        "  plt.subplot(121)\n",
        "  plt.plot(pars['range_t'][::3], I_GWN[::3], 'b')\n",
        "  plt.xlabel('Time (ms)')\n",
        "  plt.ylabel(r'$I_{GWN}$ (pA)')\n",
        "  plt.subplot(122)\n",
        "  plot_volt_trace(pars, v, sp)\n",
        "  plt.tight_layout()\n",
        "  plt.show()"
      ],
      "execution_count": null,
      "outputs": []
    },
    {
      "cell_type": "code",
      "metadata": {
        "id": "fK1VdCzpSpUu"
      },
      "source": [
        "# to_remove explanation\n",
        "\n",
        "\"\"\"\n",
        "If we have bigger current fluctuations (increased sigma), the minimum input needed\n",
        "to make a neuron spike is smaller as the fluctuations can help push the voltage above\n",
        "threshold.\n",
        "\n",
        "The standard deviation (or size of current fluctuations) dictates the level of\n",
        "irregularity of the spikes; the higher the sigma the more irregular the observed\n",
        "spikes.\n",
        "\n",
        "\"\"\";"
      ],
      "execution_count": null,
      "outputs": []
    },
    {
      "cell_type": "markdown",
      "metadata": {
        "id": "3b1QYX3MSpUv"
      },
      "source": [
        "## Think!\n",
        "- As we increase the input average ($\\mu$) or the input fluctuation ($\\sigma$), the spike count changes. How much can we increase the spike count, and what might be the relationship between GWN mean/std or DC value and spike count? \n",
        "\n",
        "- We have seen above that when we inject DC, the neuron spikes in a regular manner (clock like), and this regularity is reduced when GWN is injected. The question is, how irregular can we make the neurons spiking by changing the parameters of the GWN? \n"
      ]
    },
    {
      "cell_type": "markdown",
      "metadata": {
        "id": "AY40UKR2yX1u"
      },
      "source": [
        "*hint*:\n",
        "1. What function connects the DC value and spike count?\n",
        "2. Think about the effect of noise and what quantifies spike irregularity."
      ]
    },
    {
      "cell_type": "markdown",
      "metadata": {
        "id": "fAgH-LPQy_ey"
      },
      "source": [
        "*answer*:\n",
        "1. DC value and spike count are related via Input-output transfer function\n",
        "2. Spike regularity can be quantified as the coefficient of variation (CV) of the inter-spike-interval (ISI)"
      ]
    },
    {
      "cell_type": "markdown",
      "metadata": {
        "id": "wkOP1kGaSpUv"
      },
      "source": [
        "---\n",
        "# Section 3: Firing rate and spike time irregularity\n",
        "When we plot the output firing rate as a function of GWN mean or DC value, it is called the input-output transfer function of the neuron (so simply F-I curve).\n",
        "\n",
        "Spike regularity can be quantified as the **coefficient of variation (CV) of the inter-spike-interval (ISI)**:\n",
        "\\begin{align}\n",
        "\\text{CV}_{\\text{ISI}} = \\frac{std(\\text{ISI})}{mean(\\text{ISI})}\n",
        "\\end{align}\n",
        "\n",
        "A Poisson train is an example of high irregularity, in which $\\textbf{CV}_{\\textbf{ISI}} \\textbf{= 1}$. And for a clocklike (regular) process we have $\\textbf{CV}_{\\textbf{ISI}} \\textbf{= 0}$ because of **std(ISI)=0**."
      ]
    },
    {
      "cell_type": "markdown",
      "metadata": {
        "id": "wp__gHRoSpUv"
      },
      "source": [
        "## Interactive Demo: F-I Explorer for different `sig_gwn`\n",
        "\n",
        "How does the F-I curve of the LIF neuron change as we increase the $\\sigma$ of the GWN? We can already expect that the F-I curve will be stochastic and the results will vary from one trial to another. But will there be any other change compared to the F-I curved measured using DC?\n",
        "\n",
        "Here's an interactive demo that shows how the F-I curve of a LIF neuron changes for different levels of fluctuation $\\sigma$.\n"
      ]
    },
    {
      "cell_type": "code",
      "metadata": {
        "cellView": "form",
        "id": "u4jSb6u-SpUw"
      },
      "source": [
        "# @title\n",
        "\n",
        "# @markdown Make sure you execute this cell to enable the widget!\n",
        "\n",
        "\n",
        "my_layout.width = '450px'\n",
        "@widgets.interact(\n",
        "    sig_gwn=widgets.FloatSlider(3.0, min=0., max=6., step=0.5,\n",
        "                                layout=my_layout)\n",
        ")\n",
        "\n",
        "\n",
        "def diff_std_affect_fI(sig_gwn):\n",
        "  pars = default_pars(T=1000.)\n",
        "  I_mean = np.arange(100., 400., 10.)\n",
        "  spk_count = np.zeros(len(I_mean))\n",
        "  spk_count_dc = np.zeros(len(I_mean))\n",
        "\n",
        "  for idx in range(len(I_mean)):\n",
        "      I_GWN = my_GWN(pars, mu=I_mean[idx], sig=sig_gwn, myseed=2020)\n",
        "      v, rec_spikes = run_LIF(pars, Iinj=I_GWN)\n",
        "      v_dc, rec_sp_dc = run_LIF(pars, Iinj=I_mean[idx])\n",
        "      spk_count[idx] = len(rec_spikes)\n",
        "      spk_count_dc[idx] = len(rec_sp_dc)\n",
        "\n",
        "  # Plot the F-I curve i.e. Output firing rate as a function of input mean.\n",
        "  plt.figure()\n",
        "  plt.plot(I_mean, spk_count, 'k',\n",
        "           label=r'$\\sigma_{\\mathrm{GWN}}=%.2f$' % sig_gwn)\n",
        "  plt.plot(I_mean, spk_count_dc, 'k--', alpha=0.5, lw=4, dashes=(2, 2),\n",
        "           label='DC input')\n",
        "  plt.ylabel('Spike count')\n",
        "  plt.xlabel('Average injected current (pA)')\n",
        "  plt.legend(loc='best')\n",
        "  plt.show()"
      ],
      "execution_count": null,
      "outputs": []
    },
    {
      "cell_type": "code",
      "metadata": {
        "id": "u_7bPkfiSpUw"
      },
      "source": [
        "# to_remove explanation\n",
        "\n",
        "\"\"\"\n",
        "Discussion: If we use a DC input, the F-I curve is deterministic, and we can\n",
        "found its shape by solving the membrane equation of the neuron. If we have GWN,\n",
        "as we increase the sigma, the F-I curve has a more linear shape, and the neuron\n",
        "reaches its threshold using less average injected current.\n",
        "\"\"\""
      ],
      "execution_count": null,
      "outputs": []
    },
    {
      "cell_type": "markdown",
      "metadata": {
        "id": "GMqeyEDpSpUw"
      },
      "source": [
        "### Exercise 3: Compute $CV_{ISI}$ values\n",
        "\n",
        "As shown above, the F-I curve becomes smoother while increasing the amplitude of the fluctuation ($\\sigma$). In addition, the fluctuation can also change the irregularity of the spikes. Let's investigate the effect of $\\mu=250$ with $\\sigma=0.5$ vs $\\sigma=3$. \n",
        "\n",
        "Fill in the code below to compute ISI, then plot the histogram of the ISI and compute the $CV_{ISI}$. Note that, you can use `np.diff` to calculate ISI."
      ]
    },
    {
      "cell_type": "code",
      "metadata": {
        "id": "R5csqhhOSpUw"
      },
      "source": [
        "def isi_cv_LIF(spike_times):\n",
        "  \"\"\"\n",
        "  Calculates the inter-spike intervals (isi) and\n",
        "  the coefficient of variation (cv) for a given spike_train\n",
        "\n",
        "  Args:\n",
        "    spike_times : (n, ) vector with the spike times (ndarray)\n",
        "\n",
        "  Returns:\n",
        "    isi         : (n-1,) vector with the inter-spike intervals (ms)\n",
        "    cv          : coefficient of variation of isi (float)\n",
        "\n",
        "  \"\"\"\n",
        "  ########################################################################\n",
        "  ## TODO for students: compute the membrane potential v, spike train sp #\n",
        "  # Fill out function and remove\n",
        "  raise NotImplementedError('Student Exercise: calculate the isi and the cv!')\n",
        "  ########################################################################\n",
        "  if len(spike_times) >= 2:\n",
        "    # Compute isi\n",
        "    isi = ...\n",
        "    # Compute cv\n",
        "    cv = ...\n",
        "  else:\n",
        "    isi = np.nan\n",
        "    cv = np.nan\n",
        "\n",
        "  return isi, cv\n",
        "\n",
        "\n",
        "pars = default_pars(T=1000.)\n",
        "mu_gwn = 250\n",
        "sig_gwn1 = 0.5\n",
        "sig_gwn2 = 3.0\n",
        "\n",
        "I_GWN1 = my_GWN(pars, mu=mu_gwn, sig=sig_gwn1, myseed=2020)\n",
        "_, sp1 = run_LIF(pars, Iinj=I_GWN1)\n",
        "\n",
        "I_GWN2 = my_GWN(pars, mu=mu_gwn, sig=sig_gwn2, myseed=2020)\n",
        "_, sp2 = run_LIF(pars, Iinj=I_GWN2)\n",
        "\n",
        "# Uncomment to check your function\n",
        "# isi1, cv1 = isi_cv_LIF(sp1)\n",
        "# isi2, cv2 = isi_cv_LIF(sp2)\n",
        "\n",
        "# my_hists(isi1, isi2, cv1, cv2, sig_gwn1, sig_gwn2)"
      ],
      "execution_count": null,
      "outputs": []
    },
    {
      "cell_type": "code",
      "metadata": {
        "id": "R_7Dotj5SpUx"
      },
      "source": [
        "# to_remove solution\n",
        "def isi_cv_LIF(spike_times):\n",
        "  \"\"\"\n",
        "  Calculates the inter-spike intervals (isi) and\n",
        "  the coefficient of variation (cv) for a given spike_train\n",
        "\n",
        "  Args:\n",
        "    spike_times : (n, ) vector with the spike times (ndarray)\n",
        "\n",
        "  Returns:\n",
        "    isi         : (n-1,) vector with the inter-spike intervals (ms)\n",
        "    cv          : coefficient of variation of isi (float)\n",
        "\n",
        "  \"\"\"\n",
        "\n",
        "  if len(spike_times) >= 2:\n",
        "    # Compute isi\n",
        "    isi = np.diff(spike_times)\n",
        "    # Compute cv\n",
        "    cv = isi.std()/isi.mean()\n",
        "  else:\n",
        "    isi = np.nan\n",
        "    cv = np.nan\n",
        "\n",
        "  return isi, cv\n",
        "\n",
        "\n",
        "pars = default_pars(T=1000.)\n",
        "mu_gwn = 250\n",
        "sig_gwn1 = 0.5\n",
        "sig_gwn2 = 3.0\n",
        "\n",
        "I_GWN1 = my_GWN(pars, mu=mu_gwn, sig=sig_gwn1, myseed=2020)\n",
        "_, sp1 = run_LIF(pars, Iinj=I_GWN1)\n",
        "\n",
        "I_GWN2 = my_GWN(pars, mu=mu_gwn, sig=sig_gwn2, myseed=2020)\n",
        "_, sp2 = run_LIF(pars, Iinj=I_GWN2)\n",
        "\n",
        "# Uncomment to check your function\n",
        "isi1, cv1 = isi_cv_LIF(sp1)\n",
        "isi2, cv2 = isi_cv_LIF(sp2)\n",
        "\n",
        "with plt.xkcd():\n",
        "  my_hists(isi1, isi2, cv1, cv2, sig_gwn1, sig_gwn2)"
      ],
      "execution_count": null,
      "outputs": []
    },
    {
      "cell_type": "markdown",
      "metadata": {
        "id": "fFGb89AMSpUx"
      },
      "source": [
        "## Interactive Demo: Spike irregularity explorer for different `sig_gwn`\n",
        "\n",
        "In the above illustration, we see that the CV of inter-spike-interval (ISI) distribution depends on $\\sigma$ of GWN. What about the mean of GWN, should that also affect the CV$_{\\rm ISI}$? If yes, how? Does the efficacy of $\\sigma$ in increasing the CV$_{\\rm ISI}$ depend on $\\mu$?\n",
        "\n",
        "In the following interactive demo, you will examine how different levels of fluctuation $\\sigma$ affect the CVs for different average injected currents ($\\mu$)."
      ]
    },
    {
      "cell_type": "code",
      "metadata": {
        "cellView": "form",
        "id": "L6EV1cnBSpUx"
      },
      "source": [
        "#@title\n",
        "\n",
        "#@markdown Make sure you execute this cell to enable the widget!\n",
        "\n",
        "my_layout.width = '450px'\n",
        "@widgets.interact(\n",
        "    sig_gwn=widgets.FloatSlider(0.0, min=0., max=10.,\n",
        "                                step=0.5, layout=my_layout)\n",
        ")\n",
        "\n",
        "\n",
        "def diff_std_affect_fI(sig_gwn):\n",
        "  pars = default_pars(T=1000.)\n",
        "  I_mean = np.arange(100., 400., 20)\n",
        "  spk_count = np.zeros(len(I_mean))\n",
        "  cv_isi = np.empty(len(I_mean))\n",
        "\n",
        "  for idx in range(len(I_mean)):\n",
        "    I_GWN = my_GWN(pars, mu=I_mean[idx], sig=sig_gwn)\n",
        "    v, rec_spikes = run_LIF(pars, Iinj=I_GWN)\n",
        "    spk_count[idx] = len(rec_spikes)\n",
        "    if len(rec_spikes) > 3:\n",
        "      isi = np.diff(rec_spikes)\n",
        "      cv_isi[idx] = np.std(isi) / np.mean(isi)\n",
        "\n",
        "  # Plot the F-I curve i.e. Output firing rate as a function of input mean.\n",
        "  plt.figure()\n",
        "  plt.plot(I_mean[spk_count > 5], cv_isi[spk_count > 5], 'bo', alpha=0.5)\n",
        "  plt.xlabel('Average injected current (pA)')\n",
        "  plt.ylabel(r'Spike irregularity ($\\mathrm{CV}_\\mathrm{ISI}$)')\n",
        "  plt.ylim(-0.1, 1.5)\n",
        "  plt.grid(True)\n",
        "  plt.show()"
      ],
      "execution_count": null,
      "outputs": []
    },
    {
      "cell_type": "markdown",
      "metadata": {
        "id": "FmZHFRK8SpUx"
      },
      "source": [
        "### Try to answer the following:\n",
        "- Does the standard deviation of the injected current affect the F-I curve in any qualitative manner?\n",
        "- Why does increasing the mean of GWN reduce the $CV_{ISI}$?\n",
        "- If you plot spike count (or rate) vs. $CV_{ISI}$, should there be a relationship between the two? Try out yourself.\n"
      ]
    },
    {
      "cell_type": "code",
      "metadata": {
        "id": "6U-G3Ga-SpUx"
      },
      "source": [
        "# to_remove explanation\n",
        "\n",
        "\"\"\"\n",
        "1. Yes, it does. With DC input the F-I curve has a strong non-linearity but when\n",
        "a neuron is driven with GWN, as we increase the $\\sigma$ the non-linearity is\n",
        "smoothened out. Essentially, in this case noise is acting to suppress the\n",
        "non-linearities and render a neuron as a linear system.\n",
        "\n",
        "2. (here is a short answer) When we increase the mean of the GWN, at some point\n",
        "effective input mean is above the spike threshold and then the neuron operates\n",
        "in the so called mean-driven regime -- as the input is so high all the neuron\n",
        "is does is charge up to the spike threshold and reset. This essentially gives\n",
        "almost regular spiking.\n",
        "\n",
        "3. In an LIF, high firing rates are achieved for high GWN mean. Higher the mean,\n",
        "higher the firing rate and lower the CV_ISI. So you will expect that as firing rate\n",
        "increases, spike irregularity decreases. This is because of the spike threshold.\n",
        "FOr a Poisson process there is no relationship between spike rate and spike\n",
        "irregularity.\n",
        "\"\"\";"
      ],
      "execution_count": null,
      "outputs": []
    },
    {
      "cell_type": "markdown",
      "metadata": {
        "id": "GRb_f2YNSpUy"
      },
      "source": [
        "---\n",
        "# Section 4: Generation of Poisson type spike trains\n",
        "\n",
        "*In the next tutorials, we will often use Poisson type spike train to explore properties of neurons and synapses. Therefore, it is good to know how to generate Poisson type spike trains.*\n",
        "\n",
        "Mathematically, a spike train is a Point Process. One of the simplest models of a sequence of presynaptic pulse inputs is the Poisson process. We know that given temporal integration and refractoriness, neurons cannot behave as a Poisson Process, and Gamma Process gives a better approximation (*find out what might be the difference in the two processes*). \n",
        "Here, however, we will assume that the incoming spikes are following Poisson statistics. A question arises about how to simulate a Poisson process. The generation of the Poisson process can be realized by at least two following ways:\n",
        "\n",
        "- By definition, for a Poisson process with rate $\\lambda$, the probability of finding one event in the time window with a sufficiently small length $\\Delta t$ is $P(N = 1) = \\lambda \\Delta t$. Therefore, in each time window, we generate a uniformly distributed random variable $r \\in [0,1]$ and generate a Poisson event when $r <\\lambda \\Delta t$. This method allows us to generate Poisson distributed spikes in an online manner.\n",
        "\n",
        "\n",
        "- The interval $t_{k+1}-t_{k}$ between two Poisson events with rate $\\lambda$ follows the exponential distribution, i.e., $P(t_{k+1}-t_{k}<t) = 1 - e^{\\lambda t}$. Therefore, we only need to generate a set of exponentially distributed variables $\\{s_k\\}$ to obtain the timing of Poisson events $t_{k+1}=t_{k}+s_{k}$. In this method, we need to generate all future spikes at once. \n",
        "\n",
        "Below, we use the first method in a function `Poisson_generator`, which takes arguments `(pars, rate, n, myseed)`."
      ]
    },
    {
      "cell_type": "code",
      "metadata": {
        "cellView": "form",
        "id": "3HKLBHXUSpUy"
      },
      "source": [
        "# @title\n",
        "# @markdown Execute this cell to get a Poisson_generator function\n",
        "\n",
        "\n",
        "def Poisson_generator(pars, rate, n, myseed=False):\n",
        "  \"\"\"\n",
        "  Generates poisson trains\n",
        "\n",
        "  Args:\n",
        "    pars            : parameter dictionary\n",
        "    rate            : noise amplitute [Hz]\n",
        "    n               : number of Poisson trains\n",
        "    myseed          : random seed. int or boolean\n",
        "\n",
        "  Returns:\n",
        "    pre_spike_train : spike train matrix, ith row represents whether\n",
        "                      there is a spike in ith spike train over time\n",
        "                      (1 if spike, 0 otherwise)\n",
        "  \"\"\"\n",
        "\n",
        "  # Retrieve simulation parameters\n",
        "  dt, range_t = pars['dt'], pars['range_t']\n",
        "  Lt = range_t.size\n",
        "\n",
        "  # set random seed\n",
        "  if myseed:\n",
        "      np.random.seed(seed=myseed)\n",
        "  else:\n",
        "      np.random.seed()\n",
        "\n",
        "  # generate uniformly distributed random variables\n",
        "  u_rand = np.random.rand(n, Lt)\n",
        "\n",
        "  # generate Poisson train\n",
        "  poisson_train = 1. * (u_rand < rate * (dt / 1000.))\n",
        "\n",
        "  return poisson_train"
      ],
      "execution_count": null,
      "outputs": []
    },
    {
      "cell_type": "code",
      "metadata": {
        "id": "LeKyc1wZSpUy"
      },
      "source": [
        "# we can use Poisson_generator to mimic presynaptic spike trains\n",
        "pars = default_pars()\n",
        "pre_spike_train = Poisson_generator(pars, rate=10, n=100, myseed=2020)\n",
        "my_raster_Poisson(pars['range_t'], pre_spike_train, 100)"
      ],
      "execution_count": null,
      "outputs": []
    },
    {
      "cell_type": "markdown",
      "metadata": {
        "id": "SU1zzy6HSpUy"
      },
      "source": [
        "How do we make sure that the above spike trains are following Poisson statistics?\n",
        "A Poisson process must have the following properties:\n",
        "- The ratio of the mean and variance of spike count is 1\n",
        "- Inter-spike-intervals are exponentially distributed\n",
        "- Spike times are irregular i.e. $CV_{\\rm ISI} = 1$\n",
        "- Adjacent spike intervals are independent of each other.\n"
      ]
    },
    {
      "cell_type": "markdown",
      "metadata": {
        "id": "CBJndPZ4SpUz"
      },
      "source": [
        "---\n",
        "# Summary\n",
        "\n",
        "Congratulations! You've just built a leaky integrate-and-fire (LIF) neuron model from scratch, and studied its dynamics in response to various types of inputs, having:\n",
        "\n",
        "- simulated the LIF neuron model\n",
        "\n",
        "- driven the LIF neuron with external inputs, such as direct current, Gaussian white noise, and Poisson spike trains, etc.\n",
        "\n",
        "- studied how different inputs affect the  LIF neuron's output (firing rate and spike time irregularity),\n",
        "\n",
        "with a special focus on low rate and irregular firing regime to mimic real cortical neurons. The next tutorial will look at how spiking statistics may be influenced by a neuron's input statistics.\n",
        "\n",
        "However, if you have extra time, follow the section below to explore a different type of noise input.\n"
      ]
    },
    {
      "cell_type": "markdown",
      "metadata": {
        "id": "8toZg_QhSpUz"
      },
      "source": [
        "---\n",
        "# Bonus 1: Ornstein-Uhlenbeck Process\n",
        "\n",
        "When a neuron receives spiking input, the synaptic current is Shot Noise -- which is a kind of colored noise and the spectrum of the noise determined by the synaptic kernel time constant. That is, a neuron is driven by **colored noise** and not GWN.\n",
        "\n",
        "We can model colored noise using the Ornstein-Uhlenbeck process - filtered white noise. "
      ]
    },
    {
      "cell_type": "markdown",
      "metadata": {
        "id": "9VUb8y2kSpUz"
      },
      "source": [
        "## Ornstein-Uhlenbeck (OU) current\n",
        "\n",
        "We next study if the input current is temporally correlated and is modeled as an Ornstein-Uhlenbeck process $\\eta(t)$, i.e., low-pass filtered GWN with a time constant $\\tau_{\\eta}$: \n",
        "\n",
        "$$\\tau_\\eta \\frac{d}{dt}\\eta(t) = \\mu-\\eta(t) + \\sigma_\\eta\\sqrt{2\\tau_\\eta}\\xi(t).$$\n",
        "\n",
        "**Hint:** An OU process as defined above has\n",
        "\n",
        "$$E[\\eta(t)]=\\mu$$ \n",
        "\n",
        "and autocovariance \n",
        "\n",
        "$$[\\eta(t)\\eta(t+\\tau)]=\\sigma_\\eta^2e^{-|t-\\tau|/\\tau_\\eta},$$\n",
        "\n",
        "which can be used to check your code. "
      ]
    },
    {
      "cell_type": "code",
      "metadata": {
        "id": "GO7-L7QfSpU0"
      },
      "source": [
        "# @title `my_OU(pars, mu, sig, myseed)`\n",
        "# @markdown Execute this cell to enable the OU process\n",
        "\n",
        "\n",
        "def my_OU(pars, mu, sig, myseed=False):\n",
        "  \"\"\"\n",
        "  Function that produces Ornstein-Uhlenbeck input\n",
        "\n",
        "  Args:\n",
        "    pars       : parameter dictionary\n",
        "    sig        : noise amplitute\n",
        "    myseed     : random seed. int or boolean\n",
        "\n",
        "  Returns:\n",
        "    I_ou       : Ornstein-Uhlenbeck input current\n",
        "  \"\"\"\n",
        "\n",
        "  # Retrieve simulation parameters\n",
        "  dt, range_t = pars['dt'], pars['range_t']\n",
        "  Lt = range_t.size\n",
        "  tau_ou = pars['tau_ou']  # [ms]\n",
        "\n",
        "  # set random seed\n",
        "  if myseed:\n",
        "    np.random.seed(seed=myseed)\n",
        "  else:\n",
        "    np.random.seed()\n",
        "\n",
        "  # Initialize\n",
        "  noise = np.random.randn(Lt)\n",
        "  I_ou = np.zeros(Lt)\n",
        "  I_ou[0] = noise[0] * sig\n",
        "\n",
        "  # generate OU\n",
        "  for it in range(Lt-1):\n",
        "    I_ou[it+1] = I_ou[it] + (dt / tau_ou) * (mu - I_ou[it]) + np.sqrt(2 * dt / tau_ou) * sig * noise[it + 1]\n",
        "\n",
        "  return I_ou"
      ],
      "execution_count": null,
      "outputs": []
    },
    {
      "cell_type": "markdown",
      "metadata": {
        "id": "qQqfzRuHSpU1"
      },
      "source": [
        "### Interactive Demo: LIF Explorer with OU input\n",
        "In the following, we will check how a neuron responds to a noisy current that follows the statistics of an OU process."
      ]
    },
    {
      "cell_type": "code",
      "metadata": {
        "cellView": "form",
        "id": "ewkdwvIASpU1"
      },
      "source": [
        "# @title\n",
        "\n",
        "# @markdown Remember to enable the widget by running the cell!\n",
        "\n",
        "my_layout.width = '450px'\n",
        "@widgets.interact(\n",
        "  tau_ou=widgets.FloatSlider(10.0, min=5., max=20.,\n",
        "                             step=2.5, layout=my_layout),\n",
        "  sig_ou=widgets.FloatSlider(10.0, min=5., max=40.,\n",
        "                             step=2.5, layout=my_layout),\n",
        "  mu_ou=widgets.FloatSlider(190.0, min=180., max=220.,\n",
        "                            step=2.5, layout=my_layout)\n",
        ")\n",
        "\n",
        "\n",
        "def LIF_with_OU(tau_ou=10., sig_ou=40., mu_ou=200.):\n",
        "  pars = default_pars(T=1000.)\n",
        "  pars['tau_ou'] = tau_ou  # [ms]\n",
        "\n",
        "  I_ou = my_OU(pars, mu_ou, sig_ou)\n",
        "\n",
        "  v, sp = run_LIF(pars, Iinj=I_ou)\n",
        "\n",
        "  plt.figure(figsize=(12, 4))\n",
        "  plt.subplot(121)\n",
        "  plt.plot(pars['range_t'], I_ou, 'b', lw=1.0)\n",
        "  plt.xlabel('Time (ms)')\n",
        "  plt.ylabel(r'$I_{\\mathrm{OU}}$ (pA)')\n",
        "  plt.subplot(122)\n",
        "  plot_volt_trace(pars, v, sp)\n",
        "  plt.tight_layout()\n",
        "  plt.show()"
      ],
      "execution_count": null,
      "outputs": []
    },
    {
      "cell_type": "markdown",
      "metadata": {
        "id": "hQXuHUydSpU1"
      },
      "source": [
        "## Think!\n",
        "- How does the OU type input change neuron responsiveness? \n",
        "- What do you think will happen to the spike pattern and rate if you increased or decreased the time constant of the OU process?"
      ]
    },
    {
      "cell_type": "code",
      "metadata": {
        "id": "-jQC0Uc_SpU1"
      },
      "source": [
        "# to_remove explanation\n",
        "\n",
        "\"\"\"\n",
        "Discussion:\n",
        "\n",
        "In a limiting case, when the time constant of the OU process is very long and the\n",
        "input current is almost flat, we expect the firing rate to decrease and neuron\n",
        "will spike more regularly. So as the OU process time constant increases, we expect\n",
        "firing rate and CV_ISI to decrease, if all other parameters are kept constant. We\n",
        "can also relate the OU process time constant to the membrane time constant as the\n",
        "neuron membrane does the same operation. This way we can link to the very first\n",
        "interactive demo.\n",
        "\"\"\";"
      ],
      "execution_count": null,
      "outputs": []
    },
    {
      "cell_type": "markdown",
      "metadata": {
        "id": "_WCS1S11SpU2"
      },
      "source": [
        "---\n",
        "# Bonus 2: Generalized Integrate-and-Fire models\n",
        "\n",
        "LIF model is not the only abstraction of real neurons. If you want to learn about more realistic types of neuronal models, watch the Bonus Video!"
      ]
    },
    {
      "cell_type": "code",
      "metadata": {
        "cellView": "form",
        "id": "85onbhdfSpU2",
        "colab": {
          "base_uri": "https://localhost:8080/",
          "height": 518
        },
        "outputId": "cd797203-7231-49b4-9e78-7b62cf4bdc11"
      },
      "source": [
        "#@title Video 3 (Bonus): Extensions to Integrate-and-Fire models\n",
        "from IPython.display import YouTubeVideo\n",
        "video = YouTubeVideo(id='G0b6wLhuQxE', width=854, height=480, fs=1)\n",
        "print(\"Video available at https://youtube.com/watch?v=\" + video.id)\n",
        "video"
      ],
      "execution_count": null,
      "outputs": [
        {
          "output_type": "stream",
          "text": [
            "Video available at https://youtube.com/watch?v=G0b6wLhuQxE\n"
          ],
          "name": "stdout"
        },
        {
          "output_type": "execute_result",
          "data": {
            "text/html": [
              "\n",
              "        <iframe\n",
              "            width=\"854\"\n",
              "            height=\"480\"\n",
              "            src=\"https://www.youtube.com/embed/G0b6wLhuQxE?fs=1\"\n",
              "            frameborder=\"0\"\n",
              "            allowfullscreen\n",
              "        ></iframe>\n",
              "        "
            ],
            "text/plain": [
              "<IPython.lib.display.YouTubeVideo at 0x7f9bb878e908>"
            ],
            "image/jpeg": "[encoded data removed]"
          },
          "metadata": {
            "tags": []
          },
          "execution_count": 1
        }
      ]
    },
    {
      "cell_type": "markdown",
      "metadata": {
        "id": "gvYbjdYZczfh"
      },
      "source": [
        "# Summary of Video 3:\n",
        "\n",
        "- What's not such a good assumption was to ignore the other ion channels\n",
        "because those ion channels can regulate strongly\n",
        "the dynamics before reaching the action potential and therefore\n",
        "change whether you have or have not generated an action potential.\n",
        "- Consider an extension of the leaky integrate and fire that is called a generalized integrate and fire and the approach \n",
        "is to replace the complex non-linear equations, that would normally describe the currents flowing from\n",
        "the ion channels\n",
        "with linear equations.\n",
        "- The parameters are the time scale tau and\n",
        "the coupling with the membrane potential 'a' that can be strong can be positive / can be negative.\n",
        "And the current will evolve following linear dynamics,\n",
        "(linear ordinary differential equation).\n",
        "~ linear sub-threshold current. \n",
        "- It introduces\n",
        "additional time scales to the membrane dynamics.\n",
        "When you give a step increase in current\n",
        "instead of a mono exponential relaxation to a stationary point\n",
        "you have this overshoot that is followed by sometimes even an undershoot and then reaches the stationary point.\n",
        "This non-monoexponential relaxation\n",
        "is due to this sub-threshold current that is acting exactly in that period of time.\n",
        "- More importantly the generalized integrate and fire also captures spike frequency adaptation.\n",
        "So spike frequency adaptation is the process\n",
        "of neurons adapting to a certain stimulation, meaning that the inter-spike interval increases\n",
        "gradually\n",
        "with time when an input is not changing but remains constant and stimulating.\n",
        "- We have a supra-threshold current step and the inter-spike interval is increasing.\n",
        "Almost all cells are showing some degree of spike frequency adaptation.\n",
        "The integrate and fire model is not able to reproduce this. It will always have exactly the same inter-spike interval\n",
        "for a given\n",
        "input current intensity.\n",
        "- have this\n",
        "adaptation current\n",
        "increasing, jumping up, whenever there's a spike,\n",
        "and then to follow this linear dynamics. So we call that that a spike\n",
        "triggered current.\n",
        "And\n",
        "within the equations framework we add\n",
        "this spike triggered current to the threshold condition such that whenever we reach a threshold and we say we're emitting a spike\n",
        "not only do we reset the membrane potential to some potential EL,\n",
        "but we also make a jump\n",
        "and then we follow the same dynamics.\n",
        "This is what we call the linearized spike triggered current.\n",
        "\n",
        "- Another process that is also able to\n",
        "make spike frequency adaptation - the process of the threshold itself being dynamic.\n",
        "Such that whenever we spike the threshold is moving up and can decay following linear dynamics.\n",
        "This is seen in real neurons and real neurons at least the excitatory neurons\n",
        "are very frequently showing this sort of moving threshold.\n",
        "Now we'll test our model accuracy; inject a time-dependent current in real neurons taken in slices from the\n",
        "cortex. The neuron receives an input current; The response are spikes in time.\n",
        "The goal of our mathematical neuron model is to predict those spikes that is to use the knowledge of the input current\n",
        "and some of the response to calibrate the model parameters\n",
        "and then let the model evolve,\\\n",
        "let it spike and test whether the spike times arrive at the correct place.\n",
        "\n",
        "Our metric will be\n",
        "having the correct spike timing plus or minus 4 milliseconds.\n",
        "\n",
        "We normalize that total number of correct\n",
        "spike time predictions\n",
        "by a measure of intrinsic variability because neurons are not perfectly\n",
        "deterministic.\n",
        "\n",
        "You give them the same input multiple times and they won't always respond at the same time. So we take this into account.\n",
        "Now, how is the model comparison looking like?\n",
        "Well, the leaky integrate and fire, may be not so surprisingly, is not particularly good at predicting the responses.\n",
        "The leaky integrate and fire captures most of the neuron's variability.\n",
        "The generalized integrate and fire by taking into account adaptive features is reaching\n",
        "80 percent\n",
        "in terms of model accuracy. This is just as much as a much more complicated model based on\n",
        "non-linear dynamics of the ion channels opening and closing on the cell membrane. That's called the Hodgkin-Huxley type model.\n",
        "Now these results depend on the particular cell type\n",
        "that was used for doing that analysis.\n",
        "This\n",
        "was made on excitatory cells. So that is most of the cortex is made of those excitatory cells.\n",
        "If we look instead at the inhibitory cells\n",
        "the generalized integrate and fire model is capturing 100 percent of the predictable spike times.\n",
        "So it's arguably\n",
        "the simplest model that has the highest accuracy for those cells.\n",
        "But generalized integrate and fire models integrate some adaptive features and that allows this model without much\n",
        "more complexity to capture the behavior of real cells.\n"
      ]
    }
  ]
}