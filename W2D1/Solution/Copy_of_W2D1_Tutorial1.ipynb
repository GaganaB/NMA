{
  "nbformat": 4,
  "nbformat_minor": 0,
  "metadata": {
    "colab": {
      "name": "Copy of W2D1_Tutorial1",
      "provenance": [],
      "collapsed_sections": []
    },
    "kernel": {
      "display_name": "Python 3",
      "language": "python",
      "name": "python3"
    },
    "kernelspec": {
      "display_name": "Python 3",
      "language": "python",
      "name": "python3"
    },
    "language_info": {
      "codemirror_mode": {
        "name": "ipython",
        "version": 3
      },
      "file_extension": ".py",
      "mimetype": "text/x-python",
      "name": "python",
      "nbconvert_exporter": "python",
      "pygments_lexer": "ipython3",
      "version": "3.7.8"
    }
  },
  "cells": [
    {
      "cell_type": "markdown",
      "metadata": {
        "id": "Hpd0cdPDGW8_"
      },
      "source": [
        "# Neuromatch Academy: Week 2, Day 1, Tutorial 1\n",
        "# Bayes rule with Gaussians\n",
        "\n",
        "__Content creators:__ Vincent Valton, Konrad Kording, with help from Matt Krause\n",
        "\n",
        "__Content reviewers:__ Matt Krause, Jesse Livezey, Karolina Stosio, Saeed Salehi, Michael Waskom"
      ]
    },
    {
      "cell_type": "markdown",
      "metadata": {
        "id": "LQ3YLvTwGW9A"
      },
      "source": [
        "# Tutorial Objectives\n",
        "This is the first in a series of three main tutorials (+ one bonus tutorial) on Bayesian statistics. In these tutorials, we will develop a Bayesian model for localizing sounds based on audio and visual cues. This model will combine **prior** information about where sounds generally originate with sensory information about the **likelihood** that a specific sound came from a particular location. As we will see in subsequent lessons, the resulting **posterior distribution** not only allows us to make optimal decision about the sound's origin, but also lets us quantify how uncertain that decision is. Bayesian techniques are therefore useful **normative models**: the behavior of human or animal subjects can be compared against these models to determine how efficiently they make use of information. \n",
        "\n",
        "This notebook will introduce two fundamental building blocks for Bayesian statistics: the Gaussian distribution and the Bayes Theorem. You will: \n",
        "\n",
        "1. Implement a Gaussian distribution\n",
        "2. Use Bayes' Theorem to find the posterior from a Gaussian-distributed prior and likelihood. \n",
        "3. Change the likelihood mean and variance and observe how posterior changes.\n",
        "4. Advanced (*optional*): Observe what happens if the prior is a mixture of two gaussians?\n"
      ]
    },
    {
      "cell_type": "code",
      "metadata": {
        "cellView": "form",
        "id": "cfeL8Kp0GW9A",
        "colab": {
          "base_uri": "https://localhost:8080/",
          "height": 518
        },
        "outputId": "78ac8832-789a-408f-980c-70e43c58f99c"
      },
      "source": [
        "#@title Video 1: Introduction to Bayesian Statistics\n",
        "from IPython.display import YouTubeVideo\n",
        "video = YouTubeVideo(id='K4sSKZtk-Sc', width=854, height=480, fs=1)\n",
        "print(\"Video available at https://youtube.com/watch?v=\" + video.id)\n",
        "video"
      ],
      "execution_count": 1,
      "outputs": [
        {
          "output_type": "stream",
          "text": [
            "Video available at https://youtube.com/watch?v=K4sSKZtk-Sc\n"
          ],
          "name": "stdout"
        },
        {
          "output_type": "execute_result",
          "data": {
            "text/html": [
              "\n",
              "        <iframe\n",
              "            width=\"854\"\n",
              "            height=\"480\"\n",
              "            src=\"https://www.youtube.com/embed/K4sSKZtk-Sc?fs=1\"\n",
              "            frameborder=\"0\"\n",
              "            allowfullscreen\n",
              "        ></iframe>\n",
              "        "
            ],
            "text/plain": [
              "<IPython.lib.display.YouTubeVideo at 0x7ff662aee6a0>"
            ],
            "image/jpeg": "[encoded data removed]"
          },
          "metadata": {
            "tags": []
          },
          "execution_count": 1
        }
      ]
    },
    {
      "cell_type": "markdown",
      "metadata": {
        "id": "6QxTGvb4G1Tu"
      },
      "source": [
        "# Summary of Video 1:\n",
        "\n",
        "\n",
        "Bayesian models are \"why\" models. We often build them to understand behavior.\n",
        "So therefore, dealing with uncertainty and dealing with statistics is really central \n",
        "\n",
        "- Part 1: Gaussians, their multiplications,\n",
        "and what that teaches us about cue combination.\n",
        "A simple example of cue combination is visual-auditory cue combination.\n",
        "  - move the location of the auditory stimulus relative to the visual stimulus, and study the illusion. \n",
        "And so we can in that sense say that vision sets us up with a prior belief\n",
        "that it is more likely that the auditory stimuli that comes afterwards auditory stimulus will be in the vicinity of this area and less likely that it is further away here.\n",
        "  - right equation to model this prior belief of ours is a Gaussian.\n",
        "The Gaussian is a probability distribution, which means it adds up to 1.\n",
        "It is characterized by a mean and a standard deviation.\n",
        "e to the power of -(x - mu^2) divided by 2*sigma^2.\n",
        "Now as we move mu the maximum will move, and\n",
        "sigma will characterize how wide that is here.\n",
        "Due to the central limit theorem many real-world distributions are in first approximation Gaussian.\n",
        "\n",
        "\n",
        "So now let's implement a Gaussian in Python.\n",
        "\n"
      ]
    },
    {
      "cell_type": "markdown",
      "metadata": {
        "id": "40HSIZ0GGW9C"
      },
      "source": [
        "## Setup  \n",
        "Please execute the cells below to initialize the notebook environment."
      ]
    },
    {
      "cell_type": "code",
      "metadata": {
        "id": "tK2hQ5TbGW9C"
      },
      "source": [
        "import numpy as np\n",
        "import matplotlib.pyplot as plt"
      ],
      "execution_count": null,
      "outputs": []
    },
    {
      "cell_type": "code",
      "metadata": {
        "cellView": "form",
        "id": "UlvRfNUAGW9D"
      },
      "source": [
        "#@title Figure Settings\n",
        "import ipywidgets as widgets\n",
        "plt.style.use(\"https://raw.githubusercontent.com/NeuromatchAcademy/course-content/master/nma.mplstyle\")\n",
        "%matplotlib inline\n",
        "%config InlineBackend.figure_format = 'retina'"
      ],
      "execution_count": null,
      "outputs": []
    },
    {
      "cell_type": "code",
      "metadata": {
        "id": "3uohv5vWGW9D"
      },
      "source": [
        "#@title Helper functions\n",
        "def my_plot_single(x, px):\n",
        "    \"\"\"\n",
        "    Plots normalized Gaussian distribution\n",
        "\n",
        "    Args:\n",
        "        x (numpy array of floats):     points at which the likelihood has been evaluated\n",
        "        px (numpy array of floats):    normalized probabilities for prior evaluated at each `x`\n",
        "\n",
        "    Returns:\n",
        "        Nothing.\n",
        "    \"\"\"\n",
        "    if px is None:\n",
        "        px = np.zeros_like(x)\n",
        "\n",
        "    fig, ax = plt.subplots()\n",
        "    ax.plot(x, px, '-', color='C2', LineWidth=2, label='Prior')\n",
        "    ax.legend()\n",
        "    ax.set_ylabel('Probability')\n",
        "    ax.set_xlabel('Orientation (Degrees)')\n",
        "\n",
        "\n",
        "def posterior_plot(x, likelihood=None, prior=None, posterior_pointwise=None, ax=None):\n",
        "    \"\"\"\n",
        "    Plots normalized Gaussian distributions and posterior\n",
        "\n",
        "    Args:\n",
        "        x (numpy array of floats):         points at which the likelihood has been evaluated\n",
        "        auditory (numpy array of floats):  normalized probabilities for auditory likelihood evaluated at each `x`\n",
        "        visual (numpy array of floats):    normalized probabilities for visual likelihood evaluated at each `x`\n",
        "        posterior (numpy array of floats): normalized probabilities for the posterior evaluated at each `x`\n",
        "        ax: Axis in which to plot. If None, create new axis.\n",
        "\n",
        "    Returns:\n",
        "        Nothing.\n",
        "    \"\"\"\n",
        "    if likelihood is None:\n",
        "        likelihood = np.zeros_like(x)\n",
        "\n",
        "    if prior is None:\n",
        "        prior = np.zeros_like(x)\n",
        "\n",
        "    if posterior_pointwise is None:\n",
        "        posterior_pointwise = np.zeros_like(x)\n",
        "\n",
        "    if ax is None:\n",
        "      fig, ax = plt.subplots()\n",
        "\n",
        "    ax.plot(x, likelihood, '-C1', LineWidth=2, label='Auditory')\n",
        "    ax.plot(x, prior, '-C0', LineWidth=2, label='Visual')\n",
        "    ax.plot(x, posterior_pointwise, '-C2', LineWidth=2, label='Posterior')\n",
        "    ax.legend()\n",
        "    ax.set_ylabel('Probability')\n",
        "    ax.set_xlabel('Orientation (Degrees)')\n",
        "\n",
        "    return ax\n",
        "\n",
        "\n",
        "def plot_visual(mu_visuals, mu_posteriors, max_posteriors):\n",
        "    \"\"\"\n",
        "    Plots the comparison of computing the mean of the posterior analytically and\n",
        "    the max of the posterior empirically via multiplication.\n",
        "\n",
        "    Args:\n",
        "        mu_visuals (numpy array of floats): means of the visual likelihood\n",
        "        mu_posteriors (numpy array of floats):  means of the posterior, calculated analytically\n",
        "        max_posteriors (numpy array of floats): max of the posteriors, calculated via maxing the max_posteriors.\n",
        "        posterior (numpy array of floats): normalized probabilities for the posterior evaluated at each `x`\n",
        "\n",
        "    Returns:\n",
        "        Nothing.\n",
        "    \"\"\"\n",
        "    fig_w, fig_h = plt.rcParams.get('figure.figsize')\n",
        "    fig, ax = plt.subplots(nrows=2, ncols=1, figsize=(fig_w, 2 * fig_h))\n",
        "\n",
        "    ax[0].plot(mu_visuals, max_posteriors, '-C2', label='mean')\n",
        "    ax[0].set_xlabel('Visual stimulus position')\n",
        "    ax[0].set_ylabel('Multiplied posterior mean')\n",
        "    ax[0].set_title('Sample output')\n",
        "\n",
        "    ax[1].plot(mu_visuals, mu_posteriors, '--', color='xkcd:gray', label='argmax')\n",
        "    ax[1].set_xlabel('Visual stimulus position')\n",
        "    ax[1].set_ylabel('Analytical posterior mean')\n",
        "    fig.tight_layout()\n",
        "    ax[1].set_title('Hurray for math!')\n",
        "\n",
        "\n",
        "def multimodal_plot(x, example_prior, example_likelihood,\n",
        "                    mu_visuals, posterior_modes):\n",
        "  \"\"\"Helper function for plotting Section 4 results\"\"\"\n",
        "\n",
        "  fig_w, fig_h = plt.rcParams.get('figure.figsize')\n",
        "  fig, ax = plt.subplots(nrows=2, ncols=1, figsize=(fig_w, 2*fig_h), sharex=True)\n",
        "\n",
        "  # Plot the last instance that we tried.\n",
        "  posterior_plot(x,\n",
        "    example_prior,\n",
        "    example_likelihood,\n",
        "    compute_posterior_pointwise(example_prior, example_likelihood),\n",
        "    ax=ax[0]\n",
        "    )\n",
        "  ax[0].set_title('Example combination')\n",
        "\n",
        "  ax[1].plot(mu_visuals, posterior_modes, '-C2', label='argmax')\n",
        "  ax[1].set_xlabel('Visual stimulus position\\n(Mean of blue dist. above)')\n",
        "  ax[1].set_ylabel('Posterior mode\\n(Peak of green dist. above)')\n",
        "  fig.tight_layout()"
      ],
      "execution_count": null,
      "outputs": []
    },
    {
      "cell_type": "markdown",
      "metadata": {
        "id": "igzrqj9sso3Y"
      },
      "source": [
        "# Discussion of helper functions:\n",
        "\n",
        "*my_plot_single*:\n",
        "plots normalised gaussian distribution showing prior with orientation (xaxis) vs probability (yaxis) using points at which the likelihood has been evaluated and  normalized probabilities for prior evaluated at each `x`\n",
        "\n",
        "*posterior_plot*:\n",
        "Plots normalized Gaussian distributions and posterior using points at which the likelihood has been evaluated, normalized probabilities for auditory/ visual/ posterior and likelihood evaluated at each `x`\n",
        "\n",
        "*plot_visual*:\n",
        "Plots the comparison of computing the mean of the posterior analytically and the max of the posterior empirically via multiplication using means of the visual likelihood, means of the posterior, calculated analytically, max of the posteriors calculated via maxing the max_posteriors, normalized probabilities for the posterior evaluated at each `x`\n",
        "- visual stimulus position xaxis vs multiplied posterior mean yaxis (sample output)\n",
        "- visual stimulus position xaxis vs analytical posterior mean yaxis\n",
        "\n",
        "*multimodal_plot*:\n",
        "plot visual stimulus position xaxis vs posterior mode yaxis"
      ]
    },
    {
      "cell_type": "markdown",
      "metadata": {
        "id": "rIK5XXTkGW9D"
      },
      "source": [
        "# Section 1: The Gaussian Distribution\n",
        "\n",
        "Bayesian analysis operates on probability distributions. Although these can take many forms, the Gaussian distribution is a very common choice. Because of the central limit theorem, many quantities are Gaussian-distributed. Gaussians also have some mathematical properties that permit simple closed-form solutions to several important problems. \n",
        "\n",
        "In this exercise, you will implement a Gaussian by filling in the missing portion of `my_gaussian` below. Gaussians have two parameters. The **mean** $\\mu$, which sets the location of its center. Its \"scale\" or spread is controlled by its **standard deviation** $\\sigma$ or its square, the **variance** $\\sigma^2$. (Be careful not to use one when the other is required). \n",
        "\n",
        "The equation for a Gaussian is:\n",
        "$$\n",
        "\\mathcal{N}(\\mu,\\sigma^2) = \\frac{1}{\\sqrt{2\\pi\\sigma^2}}\\exp\\left(\\frac{-(x-\\mu)^2}{2\\sigma^2}\\right)\n",
        "$$\n",
        "Also, don't forget that this is a probability distribution and should therefore sum to one. While this happens \"automatically\" when integrated from $-\\infty$ to $\\infty$, your version will only be computed over a finite number of points. You therefore need to explicitly normalize it yourself. \n",
        "\n",
        "Test out your implementation with a $\\mu = -1$ and $\\sigma = 1$. After you have it working, play with the  parameters to develop an intuition for how changing $\\mu$ and $\\sigma$ alter the shape of the Gaussian. This is important, because subsequent exercises will be built out of Gaussians. "
      ]
    },
    {
      "cell_type": "markdown",
      "metadata": {
        "id": "FkEsfWIYGW9D"
      },
      "source": [
        "## Exercise 1: Implement a Gaussian"
      ]
    },
    {
      "cell_type": "code",
      "metadata": {
        "cellView": "code",
        "id": "Ts6ukd1LGW9D"
      },
      "source": [
        "def my_gaussian(x_points, mu, sigma):\n",
        "    \"\"\"\n",
        "    Returns normalized Gaussian estimated at points `x_points`, with parameters:\n",
        "     mean `mu` and std `sigma`\n",
        "\n",
        "    Args:\n",
        "        x_points (numpy array of floats): points at which the gaussian is\n",
        "                                          evaluated\n",
        "        mu (scalar): mean of the Gaussian\n",
        "        sigma (scalar): std of the gaussian\n",
        "\n",
        "    Returns:\n",
        "        (numpy array of floats) : normalized Gaussian evaluated at `x`\n",
        "    \"\"\"\n",
        "\n",
        "    ###################################################################\n",
        "    ## Add code to calcualte the gaussian px as a function of mu and sigma,\n",
        "    ## for every x in x_points\n",
        "    ## Function Hints: exp -> np.exp()\n",
        "    ##                 power -> z**2\n",
        "    ## remove the raise below to test your function\n",
        "    raise NotImplementedError(\"You need to implement the Gaussian function!\")\n",
        "    ###################################################################\n",
        "    px = ...\n",
        "\n",
        "    return px\n",
        "\n",
        "\n",
        "x = np.arange(-8, 9, 0.1)\n",
        "\n",
        "# Uncomment to plot the results\n",
        "# px = my_gaussian(x, -1, 1)\n",
        "# my_plot_single(x, px)"
      ],
      "execution_count": null,
      "outputs": []
    },
    {
      "cell_type": "code",
      "metadata": {
        "id": "UqVYm17cGW9E"
      },
      "source": [
        "# to_remove solution\n",
        "def my_gaussian(x_points, mu, sigma):\n",
        "    \"\"\"\n",
        "    Returns normalized Gaussian estimated at points `x_points`, with parameters:\n",
        "     mean `mu` and std `sigma`\n",
        "\n",
        "    Args:\n",
        "        x_points (numpy array of floats): points at which the gaussian is\n",
        "                                          evaluated\n",
        "        mu (scalar): mean of the Gaussian\n",
        "        sigma (scalar): std of the gaussian\n",
        "\n",
        "    Returns:\n",
        "        (numpy array of floats) : normalized Gaussian evaluated at `x`\n",
        "    \"\"\"\n",
        "    px = np.exp(- 1/2/sigma**2 * (mu - x_points) ** 2)\n",
        "    px = px / px.sum() # this is the normalization: this part ensures the sum of\n",
        "                       # the individual probabilities at each `x` add up to one.\n",
        "                       # It makes a very strong assumption though:\n",
        "                       # That the `x_points` cover the big portion of\n",
        "                       # probability mass around the mean.\n",
        "                       # Please think/discuss when this would be a dangerous\n",
        "                       # assumption.\n",
        "                       # E.g.: What do you think will happen to the values on\n",
        "                       # the y-axis\n",
        "                       # if the `x` values (x_point) range from -1 to 8 instead\n",
        "                       # of -8 to 8?\n",
        "    return px\n",
        "\n",
        "x = np.arange(-8, 9, 0.1)\n",
        "\n",
        "px = my_gaussian(x, -1, 1)\n",
        "\n",
        "with plt.xkcd():\n",
        "  my_plot_single(x, px)"
      ],
      "execution_count": null,
      "outputs": []
    },
    {
      "cell_type": "markdown",
      "metadata": {
        "id": "gfRNG1qkGW9E"
      },
      "source": [
        "# Section 2. Bayes' Theorem and the Posterior"
      ]
    },
    {
      "cell_type": "code",
      "metadata": {
        "cellView": "form",
        "id": "5nAPREroGW9E",
        "colab": {
          "base_uri": "https://localhost:8080/",
          "height": 518
        },
        "outputId": "f19356d1-b2f9-4373-fb63-e081cc11d737"
      },
      "source": [
        "#@title Video 2: Bayes' theorem\n",
        "from IPython.display import YouTubeVideo\n",
        "video = YouTubeVideo(id='ewQPHQMcdBs', width=854, height=480, fs=1)\n",
        "print(\"Video available at https://youtube.com/watch?v=\" + video.id)\n",
        "video"
      ],
      "execution_count": 1,
      "outputs": [
        {
          "output_type": "stream",
          "text": [
            "Video available at https://youtube.com/watch?v=ewQPHQMcdBs\n"
          ],
          "name": "stdout"
        },
        {
          "output_type": "execute_result",
          "data": {
            "text/html": [
              "\n",
              "        <iframe\n",
              "            width=\"854\"\n",
              "            height=\"480\"\n",
              "            src=\"https://www.youtube.com/embed/ewQPHQMcdBs?fs=1\"\n",
              "            frameborder=\"0\"\n",
              "            allowfullscreen\n",
              "        ></iframe>\n",
              "        "
            ],
            "text/plain": [
              "<IPython.lib.display.YouTubeVideo at 0x7fbe6d58c6a0>"
            ],
            "image/jpeg": "[encoded data removed]"
          },
          "metadata": {
            "tags": []
          },
          "execution_count": 1
        }
      ]
    },
    {
      "cell_type": "markdown",
      "metadata": {
        "id": "CXo6ppljnAwy"
      },
      "source": [
        "# Summary of Video 2:\n",
        "\n",
        "- we assume that vision is\n",
        "near-perfect and sets up a prior belief\n",
        "where an auditory stimulus may occur \n",
        "- we\n",
        "assume that there's a constraint namely\n",
        "that audition is noisy with irreducible\n",
        "uncertainty about the direction of noise\n",
        "and then we assume that the brain has\n",
        "the objective of minimizing estimation\n",
        "errors \n",
        "\n",
        "we want to describe the way people\n",
        "estimate auditory locations when\n",
        "uncertainty is involved so think\n",
        "about what arrives at the brain exists a\n",
        "true stimulus at some place but this\n",
        "true stimulus isn't directly accessible\n",
        "instead on some trials we might\n",
        "hear it to be a little further to the\n",
        "left on others we might hear it a little\n",
        "further to the right so in other words\n",
        "if the true stimulus is always the same\n",
        "the brain encoded stimulus will vary\n",
        "from trial to trial; so it means that the encoding\n",
        "that we have in the brain is most\n",
        "compatible with the assumption that the\n",
        "true stim is actually present and it is\n",
        "less compatible with it being left or\n",
        "right \n",
        "\n",
        "with no prior information\n",
        "I would think it's most likely that the\n",
        "stimulus is here and less likely as we\n",
        "go away from this now \n",
        "\n",
        "calculate - probability that the true stimulus is as\n",
        "ahead as is at a hypothesized\n",
        "location given they encoded stimulus\n",
        "that we have so we want to calculate\n",
        "this and it's called the posterior\n",
        "\n",
        "how can we calculate that well we need\n",
        "to take the\n",
        "prior which is the probability of the\n",
        "true stillness the probability that the\n",
        "hypothesized one is the true one that\n",
        "we know based on the distribution in\n",
        "that context of  seeing this visual\n",
        "stimulus here times the likelihood\n",
        "function \n",
        "\n",
        "the probability that they encoded\n",
        "stimulus in the brain has the value that\n",
        "it has under the hypothesis that the\n",
        "true stimulus has a certain value and\n",
        "now like all probability distribution\n",
        "this must add up to one therefore it is\n",
        "divided by the probability of the\n",
        "encoded stimulus which is the so called\n",
        "partition function (the product of two times the prior\n",
        "probability and the likelihood) \n",
        "\n",
        "Now multiply the Gaussian to implement that \n",
        "the posterior for which you\n",
        "will multiply the prior and likelihood which\n",
        "tells you how based on the prior\n",
        "knowledge and the auditory not how\n",
        "probable it is that the true stimulus is\n",
        "at each possible hypothesized location\n"
      ]
    },
    {
      "cell_type": "markdown",
      "metadata": {
        "id": "mfCP7rZJGW9E"
      },
      "source": [
        "\n",
        "\n",
        "Bayes' rule tells us how to combine two sources of information: the prior (e.g., a noisy representation of our expectations about where the stimulus might come from) and the likelihood (e.g., a noisy representation of the stimulus position on a given trial), to obtain a posterior distribution taking into account both pieces of information. Bayes' rule states:\n",
        "\n",
        "\\begin{eqnarray}\n",
        "\\text{Posterior} = \\frac{ \\text{Likelihood} \\times \\text{Prior}}{ \\text{Normalization constant}}\n",
        "\\end{eqnarray}\n",
        "\n",
        "When both the prior and likelihood are Gaussians, this translates into the following form:\n",
        "\n",
        "$$\n",
        "\\begin{array}{rcl}\n",
        "\\text{Likelihood} &=& \\mathcal{N}(\\mu_{likelihood},\\sigma_{likelihood}^2) \\\\\n",
        "\\text{Prior} &=& \\mathcal{N}(\\mu_{prior},\\sigma_{prior}^2) \\\\\n",
        "\\text{Posterior} &\\propto& \\mathcal{N}(\\mu_{likelihood},\\sigma_{likelihood}^2) \\times \\mathcal{N}(\\mu_{prior},\\sigma_{prior}^2) \\\\\n",
        "&&= \\mathcal{N}\\left( \\frac{\\sigma^2_{likelihood}\\mu_{prior}+\\sigma^2_{prior}\\mu_{likelihood}}{\\sigma^2_{likelihood}+\\sigma^2_{prior}}, \\frac{\\sigma^2_{likelihood}\\sigma^2_{prior}}{\\sigma^2_{likelihood}+\\sigma^2_{prior}} \\right) \n",
        "\\end{array}\n",
        "$$\n",
        "\n",
        "In these equations, $\\mathcal{N}(\\mu,\\sigma^2)$ denotes a Gaussian distribution with parameters $\\mu$ and $\\sigma^2$:\n",
        "$$\n",
        "\\mathcal{N}(\\mu, \\sigma) = \\frac{1}{\\sqrt{2 \\pi \\sigma^2}} \\; \\exp \\bigg( \\frac{-(x-\\mu)^2}{2\\sigma^2} \\bigg)\n",
        "$$\n",
        "\n",
        "In Exercise 2A, we will use the first form of the posterior, where the two distributions are combined via pointwise multiplication.  Although this method requires more computation, it works for any type of probability distribution. In Exercise 2B, we will see that the closed-form solution shown on the line below produces the same result. "
      ]
    },
    {
      "cell_type": "markdown",
      "metadata": {
        "id": "uofIWJsNGW9E"
      },
      "source": [
        "## Exercise 2A: Finding the posterior computationally\n",
        "\n",
        "Imagine an experiment where participants estimate the location of a noise-emitting object. To estimate its position, the participants can use two sources of information: \n",
        "  1. new noisy auditory information (the likelihood)\n",
        "  2. prior visual expectations of where the stimulus is likely to come from (visual prior). \n",
        "\n",
        "The auditory and visual information are both noisy, so participants will combine these sources of information to better estimate the position of the object.\n",
        "\n",
        "We will use Gaussian distributions to represent the auditory likelihood (in red), and a Gaussian visual prior (expectations - in blue). Using Bayes rule, you will combine them into a posterior distribution that summarizes the probability that the object is in each location. \n",
        "\n",
        "We have provided you with a ready-to-use plotting function, and a code skeleton.\n",
        "\n",
        "* Use `my_gaussian`, the answer to exercise 1, to generate an auditory likelihood with parameters $\\mu$ = 3 and $\\sigma$ = 1.5\n",
        "* Generate a visual prior with parameters $\\mu$ = -1 and $\\sigma$ = 1.5\n",
        "* Calculate the posterior using pointwise multiplication of the likelihood and prior. Don't forget to normalize so the posterior adds up to 1. \n",
        "* Plot the likelihood, prior and posterior using the predefined function `posterior_plot`\n",
        "\n"
      ]
    },
    {
      "cell_type": "code",
      "metadata": {
        "cellView": "code",
        "id": "UqJGfKcxGW9E"
      },
      "source": [
        "def compute_posterior_pointwise(prior, likelihood):\n",
        "  ##############################################################################\n",
        "  # Write code to compute the posterior from the prior and likelihood via\n",
        "  # pointwise multiplication. (You may assume both are defined over the same x-axis)\n",
        "  #\n",
        "  # Comment out the line below to test your solution\n",
        "  raise NotImplementedError(\"Finish the simulation code first\")\n",
        "  ##############################################################################\n",
        "\n",
        "  posterior = ...\n",
        "\n",
        "  return posterior\n",
        "\n",
        "\n",
        "def localization_simulation(mu_auditory=3.0, sigma_auditory=1.5,\n",
        "                            mu_visual=-1.0, sigma_visual=1.5):\n",
        "\n",
        "  ##############################################################################\n",
        "  ## Using the x variable below,\n",
        "  ##      create a gaussian called 'auditory' with mean 3, and std 1.5\n",
        "  ##      create a gaussian called 'visual' with mean -1, and std 1.5\n",
        "  #\n",
        "  #\n",
        "  ## Comment out the line below to test your solution\n",
        "  raise NotImplementedError(\"Finish the simulation code first\")\n",
        "  ###############################################################################\n",
        "  x = np.arange(-8, 9, 0.1)\n",
        "\n",
        "  auditory = ...\n",
        "  visual = ...\n",
        "  posterior = compute_posterior_pointwise(auditory, visual)\n",
        "\n",
        "  return x, auditory, visual, posterior\n",
        "\n",
        "\n",
        "# Uncomment the lines below to plot the results\n",
        "# x, auditory, visual, posterior_pointwise = localization_simulation()\n",
        "# posterior_plot(x, auditory, visual, posterior_pointwise)"
      ],
      "execution_count": null,
      "outputs": []
    },
    {
      "cell_type": "code",
      "metadata": {
        "id": "CQyJtTnfGW9E"
      },
      "source": [
        "# to_remove solution\n",
        "def compute_posterior_pointwise(prior, likelihood):\n",
        "  ##############################################################################\n",
        "  # Write code to compute the posterior from the prior and likelihood via\n",
        "  # pointwise multiplication. (You may assume both are defined over the same x-axis)\n",
        "  #\n",
        "  # Comment out the line below to test your solution\n",
        "  # raise NotImplementedError(\"Finish the simulation code first\")\n",
        "  ##############################################################################\n",
        "\n",
        "  posterior = prior * likelihood\n",
        "  posterior /= posterior.sum()\n",
        "\n",
        "  return posterior\n",
        "\n",
        "\n",
        "def localization_simulation(mu_auditory=3.0, sigma_auditory=1.5,\n",
        "                            mu_visual=-1.0, sigma_visual=1.5):\n",
        "\n",
        "  ##############################################################################\n",
        "  ## Using the x variable below,\n",
        "  ##      create a gaussian called 'auditory' with mean 3, and std 1.5\n",
        "  ##      create a gaussian called 'visual' with mean -1, and std 1.5\n",
        "  #\n",
        "  ## Comment out the line below to test your solution\n",
        "  #raise NotImplementedError(\"Finish the simulation code first\")\n",
        "  ###############################################################################\n",
        "  x = np.arange(-8, 9, 0.1)\n",
        "\n",
        "  auditory = my_gaussian(x, mu_auditory, sigma_auditory)\n",
        "  visual = my_gaussian(x, mu_visual, sigma_visual)\n",
        "  posterior = compute_posterior_pointwise(auditory, visual)\n",
        "\n",
        "  return x, auditory, visual, posterior\n",
        "\n",
        "\n",
        "# Uncomment the lines below to plot the results\n",
        "x, auditory, visual, posterior_pointwise = localization_simulation()\n",
        "\n",
        "with plt.xkcd():\n",
        "  posterior_plot(x, auditory, visual, posterior_pointwise)"
      ],
      "execution_count": null,
      "outputs": []
    },
    {
      "cell_type": "markdown",
      "metadata": {
        "id": "eh_QwoxVGW9E"
      },
      "source": [
        "## Interactive Demo: What affects the posterior?\n",
        "\n",
        "Now that we can compute the posterior of two Gaussians with *Bayes rule*, let's vary the parameters of those Gaussians to see how changing the prior and likelihood affect the posterior. \n",
        "\n",
        "**Hit the Play button or Ctrl+Enter in the cell below** and play with the sliders to get an intuition for how the means and standard deviations of prior and likelihood influence the posterior.\n",
        "\n",
        "When does the prior have the strongest influence over the posterior? When is it the weakest?  "
      ]
    },
    {
      "cell_type": "code",
      "metadata": {
        "cellView": "form",
        "id": "R2CQT138GW9E"
      },
      "source": [
        "#@title\n",
        "#@markdown Make sure you execute this cell to enable the widget!\n",
        "\n",
        "x = np.arange(-10, 11, 0.1)\n",
        "\n",
        "import ipywidgets as widgets\n",
        "\n",
        "def refresh(mu_auditory=3, sigma_auditory=1.5, mu_visual=-1, sigma_visual=1.5):\n",
        "    auditory = my_gaussian(x, mu_auditory, sigma_auditory)\n",
        "    visual = my_gaussian(x, mu_visual, sigma_visual)\n",
        "    posterior_pointwise = visual * auditory\n",
        "    posterior_pointwise /= posterior_pointwise.sum()\n",
        "\n",
        "    w_auditory = (sigma_visual** 2) / (sigma_auditory**2 + sigma_visual**2)\n",
        "    theoretical_prediction = mu_auditory * w_auditory + mu_visual * (1 - w_auditory)\n",
        "\n",
        "    ax = posterior_plot(x, auditory, visual, posterior_pointwise)\n",
        "    ax.plot([theoretical_prediction, theoretical_prediction],\n",
        "            [0, posterior_pointwise.max() * 1.2], '-.', color='xkcd:medium gray')\n",
        "    ax.set_title(f\"Gray line shows analytical mean of posterior: {theoretical_prediction:0.2f}\")\n",
        "    plt.show()\n",
        "\n",
        "style = {'description_width': 'initial'}\n",
        "\n",
        "_ = widgets.interact(refresh,\n",
        "    mu_auditory=widgets.FloatSlider(value=2, min=-10, max=10, step=0.5, description=\"mu_auditory:\", style=style),\n",
        "    sigma_auditory=widgets.FloatSlider(value=0.5, min=0.5, max=10, step=0.5, description=\"sigma_auditory:\", style=style),\n",
        "    mu_visual=widgets.FloatSlider(value=-2, min=-10, max=10, step=0.5, description=\"mu_visual:\", style=style),\n",
        "    sigma_visual=widgets.FloatSlider(value=0.5, min=0.5, max=10, step=0.5, description=\"sigma_visual:\", style=style)\n",
        ")"
      ],
      "execution_count": null,
      "outputs": []
    },
    {
      "cell_type": "markdown",
      "metadata": {
        "id": "e-JI9FjyGW9E"
      },
      "source": [
        "## Video 3: Multiplying Gaussians"
      ]
    },
    {
      "cell_type": "code",
      "metadata": {
        "cellView": "form",
        "id": "UCGmvG6MGW9E"
      },
      "source": [
        "#@title\n",
        "from IPython.display import YouTubeVideo\n",
        "\n",
        "video = YouTubeVideo(id='AbXorOLBrws', width=854, height=480, fs=1)\n",
        "print(\"Video available at https://youtube.com/watch?v=\" + video.id)\n",
        "video"
      ],
      "execution_count": null,
      "outputs": []
    },
    {
      "cell_type": "markdown",
      "metadata": {
        "id": "p0ok3b80GW9F"
      },
      "source": [
        "## Exercise 2B: Finding the posterior analytically\n",
        "\n",
        "[If you are running short on time, feel free to skip the coding exercise below].\n",
        "\n",
        "As you may have noticed from the interactive demo, the product of two Gaussian distributions, like our prior and likelihood, remains a Gaussian, regardless of the parameters. We can directly compute the  parameters of that Gaussian from the means and variances of the prior and likelihood. For example, the posterior mean is given by:\n",
        "\n",
        "$$ \\mu_{posterior} = \\frac{\\mu_{auditory} \\cdot \\frac{1}{\\sigma_{auditory}^2} + \\mu_{visual} \\cdot \\frac{1}{\\sigma_{visual}^2}}{1/\\sigma_{auditory}^2 + 1/\\sigma_{visual}^2} \n",
        "$$\n",
        "\n",
        "This formula is a special case for two Gaussians, but is a very useful one because:\n",
        "*   The posterior has the same form (here, a normal distribution) as the prior, and\n",
        "*   There is simple, closed-form expression for its parameters.\n",
        "\n",
        "When these properties hold, we call them **conjugate distributions** or **conjugate priors** (for a particular likelihood). Working with conjugate distributions is very convenient; otherwise, it is often necessary to use computationally-intensive numerical methods to combine the prior and likelihood. \n",
        "\n",
        "In this exercise, we ask you to verify that property.  To do so, we will hold our auditory likelihood constant as an $\\mathcal{N}(3, 1.5)$ distribution, while considering visual priors with different means ranging from $\\mu=-10$ to $\\mu=10$. For each prior,\n",
        "\n",
        "* Compute the posterior distribution using the function you wrote in Exercise 2A. Next, find its mean. The mean of a probability distribution is $\\int_x p(x) dx$ or $\\sum_x x\\cdot p(x)$. \n",
        "* Compute the analytical posterior mean from auditory and visual using the equation above.\n",
        "* Use the provided plotting code to plot both estimates of the mean. \n",
        "\n",
        "Are the estimates of the posterior mean the same in both cases? \n",
        "\n",
        "Using these results, try to predict the posterior mean for the combination of a $\\mathcal{N}(-4,4)$ prior and and $\\mathcal{N}(4, 2)$ likelihood. Use the widget above to check your prediction. You can enter values directly by clicking on the numbers to the right of each slider; $\\sqrt{2} \\approx 1.41$."
      ]
    },
    {
      "cell_type": "code",
      "metadata": {
        "cellView": "code",
        "id": "eZkLyXFCGW9F"
      },
      "source": [
        "def compare_computational_analytical_means():\n",
        "  x = np.arange(-10, 11, 0.1)\n",
        "\n",
        "  # Fixed auditory likelihood\n",
        "  mu_auditory = 3\n",
        "  sigma_auditory = 1.5\n",
        "  likelihood = my_gaussian(x, mu_auditory, sigma_auditory)\n",
        "\n",
        "  # Varying visual prior\n",
        "  mu_visuals = np.linspace(-10, 10)\n",
        "  sigma_visual = 1.5\n",
        "\n",
        "  # Accumulate results here\n",
        "  mus_by_integration = []\n",
        "  mus_analytical = []\n",
        "\n",
        "  for mu_visual in mu_visuals:\n",
        "    prior = my_gaussian(x, mu_visual, sigma_visual)\n",
        "    posterior = compute_posterior_pointwise(prior, likelihood)\n",
        "\n",
        "    ############################################################################\n",
        "    ## Add code that will find the posterior mean via numerical integration\n",
        "    #\n",
        "    ############################################################################\n",
        "    mu_integrated = ...\n",
        "\n",
        "    ############################################################################\n",
        "    ## Add more code below that will calculate the posterior mean analytically\n",
        "    #\n",
        "    # Comment out the line below to test your solution\n",
        "    raise NotImplementedError(\"Please add code to find the mean both ways first\")\n",
        "    ############################################################################\n",
        "    mu_analytical = ...\n",
        "\n",
        "    mus_by_integration.append(mu_integrated)\n",
        "    mus_analytical.append(mu_analytical)\n",
        "\n",
        "  return mu_visuals, mus_analytical, mus_by_integration\n",
        "\n",
        "\n",
        "# Uncomment the lines below to visualize your results\n",
        "# mu_visuals, mu_analytical, mu_computational = compare_computational_analytical_means()\n",
        "# plot_visual(mu_visuals, mu_analytical, mu_computational)"
      ],
      "execution_count": null,
      "outputs": []
    },
    {
      "cell_type": "code",
      "metadata": {
        "cellView": "code",
        "id": "K6EwTDXQGW9F"
      },
      "source": [
        "#to_remove solution\n",
        "def compare_computational_analytical_means():\n",
        "  x = np.arange(-10, 11, 0.1)\n",
        "\n",
        "  # Fixed auditory likelihood\n",
        "  mu_auditory = 3\n",
        "  sigma_auditory = 1.5\n",
        "  likelihood = my_gaussian(x, mu_auditory, sigma_auditory)\n",
        "\n",
        "  # Varying visual prior\n",
        "  mu_visuals = np.linspace(-10, 10)\n",
        "  sigma_visual = 1.5\n",
        "\n",
        "  # Accumulate results here\n",
        "  mus_by_integration = []\n",
        "  mus_analytical = []\n",
        "\n",
        "  for mu_visual in mu_visuals:\n",
        "    prior = my_gaussian(x, mu_visual, sigma_visual)\n",
        "    posterior = compute_posterior_pointwise(prior, likelihood)\n",
        "\n",
        "    ############################################################################\n",
        "    ## Add code that will find the posterior mean via numerical integration\n",
        "    #\n",
        "    ############################################################################\n",
        "    mu_integrated = np.sum(x*posterior)\n",
        "\n",
        "    ############################################################################\n",
        "    ## Add more code below that will calculate the posterior mean analytically\n",
        "    #\n",
        "    # Comment out the line below to test your solution\n",
        "    #raise NotImplementedError(\"Please add code to find the mean both ways first\")\n",
        "    ############################################################################\n",
        "    mu_analytical = ((mu_auditory / sigma_auditory ** 2 + mu_visual / sigma_visual ** 2) /\n",
        "                  (1 / sigma_auditory ** 2 + 1 / sigma_visual ** 2))\n",
        "\n",
        "    mus_by_integration.append(mu_integrated)\n",
        "    mus_analytical.append(mu_analytical)\n",
        "\n",
        "  return mu_visuals, mus_analytical, mus_by_integration\n",
        "\n",
        "\n",
        "# Uncomment the lines below to visualize your results\n",
        "mu_visuals, mu_analytical, mu_computational = compare_computational_analytical_means()\n",
        "\n",
        "with plt.xkcd():\n",
        "  plot_visual(mu_visuals, mu_analytical, mu_computational)"
      ],
      "execution_count": null,
      "outputs": []
    },
    {
      "cell_type": "markdown",
      "metadata": {
        "id": "T5hSGfNJGW9F"
      },
      "source": [
        "# Section 3: Conclusion\n",
        "\n",
        "This tutorial introduced the Gaussian distribution and used Bayes' Theorem to combine Gaussians representing priors and likelihoods. In the next tutorial, we will use these concepts to probe how subjects integrate sensory information.\n",
        "\n"
      ]
    },
    {
      "cell_type": "code",
      "metadata": {
        "cellView": "form",
        "id": "jrJ9lbpkGW9F",
        "colab": {
          "base_uri": "https://localhost:8080/",
          "height": 518
        },
        "outputId": "aa7131ea-ab87-4776-bd05-8c825297333d"
      },
      "source": [
        "#@title Video 4: Conclusion\n",
        "from IPython.display import YouTubeVideo\n",
        "\n",
        "video = YouTubeVideo(id='YC8GylOAAHs', width=854, height=480, fs=1)\n",
        "print(\"Video available at https://youtube.com/watch?v=\" + video.id)\n",
        "video"
      ],
      "execution_count": 2,
      "outputs": [
        {
          "output_type": "stream",
          "text": [
            "Video available at https://youtube.com/watch?v=YC8GylOAAHs\n"
          ],
          "name": "stdout"
        },
        {
          "output_type": "execute_result",
          "data": {
            "text/html": [
              "\n",
              "        <iframe\n",
              "            width=\"854\"\n",
              "            height=\"480\"\n",
              "            src=\"https://www.youtube.com/embed/YC8GylOAAHs?fs=1\"\n",
              "            frameborder=\"0\"\n",
              "            allowfullscreen\n",
              "        ></iframe>\n",
              "        "
            ],
            "text/plain": [
              "<IPython.lib.display.YouTubeVideo at 0x7ff66229ec88>"
            ],
            "image/jpeg": "[encoded data removed]"
          },
          "metadata": {
            "tags": []
          },
          "execution_count": 2
        }
      ]
    },
    {
      "cell_type": "markdown",
      "metadata": {
        "id": "5yTfr58YMScy"
      },
      "source": [
        "#Summary of Video 4\n",
        "\n",
        "Intuitions:\n",
        "- The two important ones are: if audition is good, the Sigma of our auditory system is small, which just means the auditory systems are good at localizing where something is happening.\n",
        "  - Then, audition has a big weight and our priors will have a small weight.\n",
        "  - If, on the other hand, we have really strong expectation, \n",
        "a good prior of where sounds are coming from, then those priors are important -\n",
        "which is just a very natural intuition. \n",
        "\n",
        "We have a true stimulus X.\n",
        "Now that stimulus is encoded,\n",
        "arrives in the brain as X-tilda, and ultimately,\n",
        "we have that the estimate of the subject, X-hat.\n",
        "\n",
        "We measure how good one piece of information is - maybe: How precise are you at hearing? How precise are your priors?\n",
        "We measure how good another piece of information is and then\n",
        "we either measure the response variance or the importance of each of the pieces in this strategy.\n",
        "for example, here,\n",
        "plot the auditory location as a function of where the visual stimulus was.\n",
        "So the finding of Bayes-like behavior is near-universal.\n",
        "These models have been successful in the way we combine what we hear with what we see\n",
        "in the combination of priors and likelihoods when we talk about movements (say, of hands), the combination of vision and proprioception\n",
        "when it comes to grabbing things, texture and disparity, lots of applications in cognitive science, and\n",
        "they all reflect something that is very intuitive, which is: we rely more on the things that have lower uncertainty.\n",
        "\n",
        "How does the brain do that?\n",
        "Well, this idea of Bayesian integration\n",
        "of pieces of information has profoundly influenced neural theory.\n",
        "\n",
        "Many popular theories, probabilistic population codes, neural sampling, Bayesian brain hypothesis, \n",
        "all build on ideas about how the brain can solve Bayesian problems.\n",
        "It drives a lot of search for the neural correlates of uncertainty calculations.\n",
        "\n",
        "And that's why it's important for you to get introduced to Bayesian models.\n"
      ]
    },
    {
      "cell_type": "markdown",
      "metadata": {
        "id": "C7AmhorZGW9F"
      },
      "source": [
        "# Bonus Section: Multimodal Priors\n",
        "\n",
        "\n",
        "**Only do this if the first half-hour has not yet passed.**\n",
        "\n",
        "The preceding exercises used a Gaussian prior, implying that participants expected the stimulus to come from a single location, though they might not know precisely where. However, suppose the subjects actually thought that sound might come from one of two distinct locations. Perhaps they can see two speakers (and know that speakers often emit noise). \n",
        "\n",
        "We could model this using a Gaussian prior with a large $\\sigma$ that covers both locations, but that would also make every point in between seem likely too.A better approach is to adjust the form of the prior so that it better matches the participants' experiences/expectations. In this optional exercise, we will build a bimodal (2-peaked) prior out of Gaussians and examine the resulting posterior and its peaks. "
      ]
    },
    {
      "cell_type": "markdown",
      "metadata": {
        "id": "cYVY9NIqGW9F"
      },
      "source": [
        "## Exercise 3: Implement and test a multimodal prior\n",
        "\n",
        "* Complete the `bimodal_prior` function below to create a bimodal prior, comprised of the sum of two Gaussians with means $\\mu = -3$ and $\\mu = 3$. Use $\\sigma=1$ for both Gaussians. Be sure to normalize the result so it is a proper probability distribution. \n",
        "\n",
        "* In Exercise 2, we used the mean location to summarize the posterior distribution. This is not always the best choice, especially for multimodal distributions. What is the mean of our new prior? Is it a particularly likely location for the stimulus? Instead, we will use the posterior **mode** to summarize the distribution. The mode is the *location* of the most probable part of the distribution. Complete `posterior_mode` below, to find it. (Hint: `np.argmax` returns the *index* of the largest element in an array).\n",
        "\n",
        "* Run the provided simulation and plotting code. Observe what happens to the posterior as the likelihood gets closer to the different peaks of the prior.\n",
        "* Notice what happens to the posterior when the likelihood is exactly in between the two modes of the prior (i.e., $\\mu_{Likelihood} = 0$)"
      ]
    },
    {
      "cell_type": "code",
      "metadata": {
        "cellView": "code",
        "id": "Ojohvs6-GW9F"
      },
      "source": [
        "def bimodal_prior(x, mu_1=-3, sigma_1=1, mu_2=3, sigma_2=1):\n",
        "  ################################################################################\n",
        "  ## Finish this function so that it returns a bimodal prior, comprised of the\n",
        "  # sum of two Gaussians\n",
        "  #\n",
        "  # Comment out the line below to test out your solution\n",
        "  raise NotImplementedError(\"Please implement the bimodal prior\")\n",
        "  ################################################################################\n",
        "  prior = ...\n",
        "\n",
        "  return prior\n",
        "\n",
        "\n",
        "def posterior_mode(x, posterior):\n",
        "  ################################################################################\n",
        "  ## Finish this function so that it returns the location of the mode\n",
        "  #\n",
        "  # Comment out the line below to test out your solution\n",
        "  raise NotImplementedError(\"Please implement the posterior mode\")\n",
        "  ################################################################################\n",
        "  mode = ...\n",
        "\n",
        "  return mode\n",
        "\n",
        "\n",
        "def multimodal_simulation(x, mus_visual, sigma_visual=1):\n",
        "  \"\"\"\n",
        "  Simulate an experiment where bimodal prior is held constant while\n",
        "  a Gaussian visual likelihood is shifted across locations.\n",
        "  Args:\n",
        "        x:            array of points at which prior/likelihood/posterior are evaluated\n",
        "        mus_visual:   array of means for the Gaussian likelihood\n",
        "        sigma_visual: scalar standard deviation for the Gaussian likelihood\n",
        "\n",
        "  Returns:\n",
        "    posterior_modes:  array containing the posterior mode for each mean in mus_visual\n",
        "  \"\"\"\n",
        "\n",
        "  prior = bimodal_prior(x, -3, 1, 3, 1)\n",
        "  posterior_modes = []\n",
        "\n",
        "  for mu in mus_visual:\n",
        "    likelihood = my_gaussian(x, mu, 3)\n",
        "    posterior = compute_posterior_pointwise(prior, likelihood)\n",
        "\n",
        "    p_mode = posterior_mode(x, posterior)\n",
        "    posterior_modes.append(p_mode)\n",
        "\n",
        "  return posterior_modes\n",
        "\n",
        "\n",
        "x = np.arange(-10, 10, 0.1)\n",
        "mus = np.arange(-8, 8, 0.05)\n",
        "# Uncomment the lines below to visualize your results\n",
        "# posterior_modes = multimodal_simulation(x, mus, 1)\n",
        "# multimodal_plot(x,\n",
        "#                 bimodal_prior(x, -3, 1, 3, 1),\n",
        "#                 my_gaussian(x, 1, 1),\n",
        "#                 mus, posterior_modes)"
      ],
      "execution_count": null,
      "outputs": []
    },
    {
      "cell_type": "code",
      "metadata": {
        "id": "rthBNryjGW9F"
      },
      "source": [
        "#to_remove solution\n",
        "def bimodal_prior(x, mu_1=-3, sigma_1=1, mu_2=3, sigma_2=1):\n",
        "  ################################################################################\n",
        "  ## Finish this function so that it returns a bimodal prior, comprised of the\n",
        "  # sum of two Gaussians\n",
        "  #\n",
        "  # Comment out the line below to test out your solution\n",
        "  #raise NotImplementedError(\"Please implement the bimodal prior\")\n",
        "  ################################################################################\n",
        "  prior = my_gaussian(x, mu_1, sigma_1) + my_gaussian(x, mu_2, sigma_2)\n",
        "  prior /= prior.sum()\n",
        "\n",
        "  return prior\n",
        "\n",
        "\n",
        "def posterior_mode(x, posterior):\n",
        "  ################################################################################\n",
        "  ## Finish this function so that it returns the location of the mode\n",
        "  #\n",
        "  # Comment out the line below to test out your solution\n",
        "  #raise NotImplementedError(\"Please implement the posterior mode\")\n",
        "  ################################################################################\n",
        "  mode = x[np.argmax(posterior)]\n",
        "\n",
        "  return mode\n",
        "\n",
        "\n",
        "def multimodal_simulation(x, mus_visual, sigma_visual=1):\n",
        "  \"\"\"\n",
        "  Simulate an experiment where bimodal prior is held constant while\n",
        "  a Gaussian visual likelihood is shifted across locations.\n",
        "  Args:\n",
        "        x:            array of points at which prior/likelihood/posterior are evaluated\n",
        "        mus_visual:   array of means for the Gaussian likelihood\n",
        "        sigma_visual: scalar standard deviation for the Gaussian likelihood\n",
        "\n",
        "  Returns:\n",
        "    posterior_modes:  array containing the posterior mode for each mean in mus_visual\n",
        "  \"\"\"\n",
        "\n",
        "  prior = bimodal_prior(x, -3, 1, 3, 1)\n",
        "  posterior_modes = []\n",
        "\n",
        "  for mu in mus_visual:\n",
        "    likelihood = my_gaussian(x, mu, 3)\n",
        "    posterior = compute_posterior_pointwise(prior, likelihood)\n",
        "\n",
        "    p_mode = posterior_mode(x, posterior)\n",
        "    posterior_modes.append(p_mode)\n",
        "\n",
        "  return posterior_modes\n",
        "\n",
        "\n",
        "x = np.arange(-10, 10, 0.1)\n",
        "mus = np.arange(-8, 8, 0.05)\n",
        "# Uncomment the lines below to visualize your results\n",
        "posterior_modes = multimodal_simulation(x, mus, 1)\n",
        "with plt.xkcd():\n",
        "  multimodal_plot(x,\n",
        "                  bimodal_prior(x, -3, 1, 3, 1),\n",
        "                  my_gaussian(x, 1, 1),\n",
        "                  mus, posterior_modes)"
      ],
      "execution_count": null,
      "outputs": []
    }
  ]
}