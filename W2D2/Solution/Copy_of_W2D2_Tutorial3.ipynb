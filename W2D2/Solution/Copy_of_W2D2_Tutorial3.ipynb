{
  "nbformat": 4,
  "nbformat_minor": 0,
  "metadata": {
    "colab": {
      "name": "Copy of W2D2_Tutorial3",
      "provenance": [],
      "collapsed_sections": [],
      "toc_visible": true
    },
    "kernel": {
      "display_name": "Python 3",
      "language": "python",
      "name": "python3"
    },
    "kernelspec": {
      "display_name": "Python 3",
      "name": "python3"
    },
    "language_info": {
      "codemirror_mode": {
        "name": "ipython",
        "version": 3
      },
      "file_extension": ".py",
      "mimetype": "text/x-python",
      "name": "python",
      "nbconvert_exporter": "python",
      "pygments_lexer": "ipython3",
      "version": "3.7.8"
    }
  },
  "cells": [
    {
      "cell_type": "markdown",
      "metadata": {
        "id": "WBJeZXNkJQak"
      },
      "source": [
        "# Neuromatch Academy 2020, Week 2, Day 2, Tutorial 3\n",
        "\n",
        "# Combining determinism and stochasticity\n",
        "\n",
        "**Content Creators**: Bing Wen Brunton, Alice Schwarze, Biraj Pandey\n",
        "\n",
        "**Content Reviewers**: Norma Kuhn, John Butler, Matthew Krause, Ella Batty, Richard Gao, Michael Waskom"
      ]
    },
    {
      "cell_type": "markdown",
      "metadata": {
        "id": "2GFM5JXtJQao"
      },
      "source": [
        "---\n",
        "# Tutorial Objectives\n",
        "\n",
        "Time-dependent processes rule the world. \n",
        "\n",
        "Now that we've spent some time familiarizing ourselves with the behavior of such systems when their trajectories are (1) entirely predictable and deterministic, or (2) governed by random processes, it's time to consider that neither is sufficient to describe neuroscience. Instead, we are often faced with processes for which we know some dynamics, but there is some random aspect as well. We call these **dynamical systems with stochasticity**.\n",
        "\n",
        "This tutorial will build on our knowledge and gain some intuition for how deterministic and stochastic processes can both be a part of a dynamical system by:\n",
        "* Simulating random walks \n",
        "* Investigating the mean and variance of a Ornstein-Uhlenbeck (OU) process\n",
        "* Quantifying the OU process's behavior at equilibrium."
      ]
    },
    {
      "cell_type": "markdown",
      "metadata": {
        "id": "5ffr37BLJQao"
      },
      "source": [
        "---\n",
        "# Setup"
      ]
    },
    {
      "cell_type": "code",
      "metadata": {
        "id": "YVgWM1fMJQap"
      },
      "source": [
        "import numpy as np\n",
        "import matplotlib.pyplot as plt"
      ],
      "execution_count": null,
      "outputs": []
    },
    {
      "cell_type": "code",
      "metadata": {
        "cellView": "form",
        "id": "mEzTy2GNJQaq"
      },
      "source": [
        "#@title Figure settings\n",
        "import ipywidgets as widgets       # interactive display\n",
        "%config InlineBackend.figure_format = 'retina'\n",
        "plt.style.use(\"https://raw.githubusercontent.com/NeuromatchAcademy/course-content/master/nma.mplstyle\")"
      ],
      "execution_count": null,
      "outputs": []
    },
    {
      "cell_type": "code",
      "metadata": {
        "id": "pBwN2mRUJQaq"
      },
      "source": [
        "# @title Helper Functions\n",
        "# drift-diffusion model\n",
        "# returns t, x\n",
        "def ddm(T, x0, xinfty, lam, sig):\n",
        "    t = np.arange(0, T, 1.)\n",
        "    x = np.zeros_like(t)\n",
        "    x[0] = x0\n",
        "\n",
        "    for k in range(len(t)-1):\n",
        "        x[k+1] = xinfty + lam * (x[k] - xinfty) + sig * np.random.standard_normal(size=1)\n",
        "\n",
        "    return t, x\n",
        "\n",
        "# computes equilibrium variance of ddm\n",
        "# returns variance\n",
        "def ddm_eq_var(T, x0, xinfty, lam, sig):\n",
        "    t, x = ddm(T, x0, xinfty, lam, sig)\n",
        "\n",
        "    # returns variance of the second half of the simulation\n",
        "    # this is a hack: assumes system has settled by second half\n",
        "    return x[-round(T/2):].var()\n",
        "\n",
        "def plot_random_walk_sims(sims, nsims=10):\n",
        "  \"\"\"Helper for exercise 3A\"\"\"\n",
        "  fig = plt.figure()\n",
        "  plt.plot(sim[:nsims, :].T)\n",
        "  plt.xlabel('time')\n",
        "  plt.ylabel('position x')\n",
        "  plt.show()\n",
        "\n",
        "def plot_mean_var_by_timestep(mu, var):\n",
        "  \"\"\"Helper function for exercise 3A.2\"\"\"\n",
        "  fig, (ah1, ah2) = plt.subplots(2)\n",
        "\n",
        "  # plot mean of distribution as a function of time\n",
        "  ah1.plot(mu)\n",
        "  ah1.set(ylabel='mean')\n",
        "  ah1.set_ylim([-5, 5])\n",
        "\n",
        "  # plot variance of distribution as a function of time\n",
        "  ah2.plot(var)\n",
        "  ah2.set(xlabel='time')\n",
        "  ah2.set(ylabel='variance')\n",
        "\n",
        "  plt.show()\n",
        "\n",
        "def plot_ddm(t, x, xinfty, lam, x0):\n",
        "  fig = plt.figure()\n",
        "\n",
        "  plt.plot(t, xinfty * (1 - lam**t) + x0 * lam**t, 'r')\n",
        "  plt.plot(t, x, 'k.')          # simulated data pts\n",
        "\n",
        "  plt.xlabel('t')\n",
        "  plt.ylabel('x')\n",
        "\n",
        "  plt.legend({'deterministic solution', 'simulation'})\n",
        "  plt.show()\n",
        "\n",
        "def var_comparison_plot(empirical, analytical):\n",
        "  fig = plt.figure()\n",
        "  plt.plot(empirical, analytical, '.', markersize=15)\n",
        "  plt.xlabel('empirical equilibrium variance')\n",
        "  plt.ylabel('analytic equilibrium variance')\n",
        "  plt.plot(np.arange(8), np.arange(8), 'k', label='45 deg line')\n",
        "  plt.legend()\n",
        "\n",
        "  plt.grid(True)\n",
        "  plt.show()"
      ],
      "execution_count": null,
      "outputs": []
    },
    {
      "cell_type": "markdown",
      "metadata": {
        "id": "IPS6rWJ4nzcQ"
      },
      "source": [
        "*ddm*:\n",
        "simulation of drift diffusion model. \n",
        "\n",
        "*ddm_eq_var*:\n",
        "computes equilibrium variance of ddm and returns variance of the second half of the simulation (assumption: system is settled by second half). \n",
        "\n",
        "*plot_random_walk_sims*:\n",
        "simulate random walk and plot position x(yaxis) over time (xaxis). \n",
        "\n",
        "*plot_mean_var_by_timestep*:\n",
        "plot mean/ variance (yaxis) of distribution as a function of time (xaxis)\n",
        "\n",
        "*plot_ddm*:\n",
        "plots t(xaxis) vs x(yaxis) to show simulation and the deterministic solution. \n",
        "\n",
        "*var_comparison_plot*:\n",
        "plots empirical equilibrium variance vs analytic equilibrium variance"
      ]
    },
    {
      "cell_type": "markdown",
      "metadata": {
        "id": "OxoLaJKRJQar"
      },
      "source": [
        "---\n",
        "# Section 1: Random Walks\n"
      ]
    },
    {
      "cell_type": "code",
      "metadata": {
        "cellView": "form",
        "id": "InYcuUv6JQas",
        "colab": {
          "base_uri": "https://localhost:8080/",
          "height": 518
        },
        "outputId": "816dc450-6366-4fd4-b1ef-ffbe224d6c7e"
      },
      "source": [
        "#@title Video 1: E. coli and Random Walks\n",
        "# Insert the ID of the corresponding youtube video\n",
        "from IPython.display import YouTubeVideo\n",
        "video = YouTubeVideo(id=\"VHwTBCQJjfw\", width=854, height=480, fs=1)\n",
        "print(\"Video available at https://youtu.be/\" + video.id)\n",
        "video"
      ],
      "execution_count": 1,
      "outputs": [
        {
          "output_type": "stream",
          "text": [
            "Video available at https://youtu.be/VHwTBCQJjfw\n"
          ],
          "name": "stdout"
        },
        {
          "output_type": "execute_result",
          "data": {
            "text/html": [
              "\n",
              "        <iframe\n",
              "            width=\"854\"\n",
              "            height=\"480\"\n",
              "            src=\"https://www.youtube.com/embed/VHwTBCQJjfw?fs=1\"\n",
              "            frameborder=\"0\"\n",
              "            allowfullscreen\n",
              "        ></iframe>\n",
              "        "
            ],
            "text/plain": [
              "<IPython.lib.display.YouTubeVideo at 0x7f318ae49940>"
            ],
            "image/jpeg": "[encoded data removed]"
          },
          "metadata": {
            "tags": []
          },
          "execution_count": 1
        }
      ]
    },
    {
      "cell_type": "markdown",
      "metadata": {
        "id": "iw4xsIN60WHy"
      },
      "source": [
        "# Summary of Video 1:\n",
        "\n",
        "Ornstein-Uhlenbeck.\n",
        "OU process, that has aspects of deterministic as well as stochastic dynamical systems. \n",
        "\n",
        "E. coli bacterium:\n",
        "So, despite being really small, this bacterium is probably an order of a micron in length.\n",
        "It actually lives really fascinating lives with pretty rich behaviors. Even though it is tiny,\n",
        "it nevertheless makes decisions and behaves in such a way that it is able to find sources of food by following\n",
        "concentration gradient. And a strategy for doing so is pretty simple.\n",
        "It tumbles about pretty much at random\n",
        "until it finds a measurable gradient, a change in the concentration of food.\n",
        "And when it finds that change, it follows the direction of the gradient until it gets lost again, which case in, it tumbles.\n",
        "And the way that this E. coli bacterium tumbles around is modeled by random walks.\n",
        "\n",
        "Simulation of random walk\n",
        "walking around in a one-dimensional line and at every moment in time you toss a coin, and\n",
        "If it lands heads, you go left and if it lands tails you go right.\n",
        "Okay, so 0.5 probability of heading in either the negative one or the positive one direction.\n",
        "- steps instead of being a binary \n",
        "variable, either negative 1 or +1,\n",
        "it could be normally distributed, where it is specified by a Gaussian distribution with some mean, mu. Could be zero and\n",
        "some standard deviation, sigma.\n",
        "\n",
        "simulate to the random walks in both of these different ways.\n",
        "simulate it as a step where each step is negative 1 or positive 1 with equal probability.\n",
        "generalize that as a general random walk process with a step size determined by a Gaussian random process. And,\n",
        "explore the relationship between the mean and the variance\n",
        "of what happens in this random walk after 'T' number of steps, as a function of the mean and variance\n",
        "of the underlying Gaussian random number that determined the steps\n"
      ]
    },
    {
      "cell_type": "markdown",
      "metadata": {
        "id": "swN-YuM3JQas"
      },
      "source": [
        "To begin, let's first take a gander at how life sometimes wanders around aimlessly. One of the simplest and best-studied living systems that has some interesting behaviors is the _E. coli_ bacterium, which is capable of navigating odor gradients on a substrate to seek a food source. Larger life (including flies, dogs, and blindfolded humans) sometimes use the same strategies to guide their decisions.\n",
        "\n",
        "Here, we will consider what the _E. coli_ does in the absence of food odors. What's the best strategy when one does not know where to head? Why, flail around randomly, of course!\n",
        "\n",
        "The **random walk** is exactly that --- at every time step, use a random process like flipping a coin to change one's heading accordingly. Note that this process is closely related to _Brownian motion_, so you may sometimes hear that terminology used as well."
      ]
    },
    {
      "cell_type": "markdown",
      "metadata": {
        "id": "EZFwx_EMJQat"
      },
      "source": [
        "Let's start with a **one-dimensional random walk**. A bacterium starts at $x=0$. At every time step, it flips a coin (a very small, microscopic coin of protein mintage), then heads left $\\Delta x = -1$ or right $\\Delta x = +1$ for with equal probability. For instance, if at time step $1$ the result of the coin flip is to head right, then its position at that time step becomes $x_1 = x_0 + \\Delta x = 1.$ Continuing in this way, its position at time step $k+1$ is given by \n",
        "$$x_{k+1} = x_k + \\Delta x $$    \n",
        "\n",
        "We will simulate this process below and plot the position of the bacterium as a function of the time step. **Run the code below.**"
      ]
    },
    {
      "cell_type": "code",
      "metadata": {
        "cellView": "form",
        "id": "qvTz6N32JQau"
      },
      "source": [
        "# @title Simulating the random walk\n",
        "# parameters of simulation\n",
        "T = 100\n",
        "t = np.arange(T)\n",
        "x = np.zeros_like(t)\n",
        "np.random.seed(2020) # set random seed\n",
        "\n",
        "# initial position\n",
        "x[0] = 0\n",
        "\n",
        "# step forward in time\n",
        "for k in range(len(t)-1):\n",
        "    # choose randomly between -1 and 1 (coin flip)\n",
        "    this_step = np.random.choice([-1,1])\n",
        "\n",
        "    # make the step\n",
        "    x[k+1] = x[k] + this_step\n",
        "\n",
        "# plot this trajectory\n",
        "fig = plt.figure()\n",
        "plt.step(t, x)\n",
        "plt.xlabel('time')\n",
        "plt.ylabel('position x')"
      ],
      "execution_count": null,
      "outputs": []
    },
    {
      "cell_type": "markdown",
      "metadata": {
        "id": "ie-WmDvUJQav"
      },
      "source": [
        "## Exercise 1 (3A Part 1): Random walk simulation"
      ]
    },
    {
      "cell_type": "markdown",
      "metadata": {
        "id": "UmTwy-7sJQav"
      },
      "source": [
        "In the previous plot, we assumed that the bacterium takes a step of size $1$ at every point in time. Let's let it take steps of different sizes!\n",
        "\n",
        "We will code a random walk where the steps have a standard normal distribution (with mean $\\mu$ and standard deviation $\\sigma$). Instead of running one trajectory at a time, we will write our code so that we can simulate a large number of trajectories efficiently. We will combine this all into a function ``random_walk_simulator`` that generates $N$ random walks each with $T$ time points efficiently.\n",
        "\n",
        "We will plot 10 random walks for 10000 time steps each.\n"
      ]
    },
    {
      "cell_type": "code",
      "metadata": {
        "id": "bWZnw_9tJQav"
      },
      "source": [
        "def random_walk_simulator(N, T, mu=0, sigma=1):\n",
        "    '''Simulate N random walks for T time points. At each time point, the step\n",
        "       is drawn from a Gaussian distribution with mean mu and standard deviation\n",
        "       sigma.\n",
        "\n",
        "    Args:\n",
        "      T (integer) : Duration of simulation in time steps\n",
        "      N (integer) : Number of random walks\n",
        "      mu (float) : mean of step distribution\n",
        "      sigma (float) : standard deviation of step distribution\n",
        "\n",
        "    Returns:\n",
        "      (numpy array) : NxT array in which each row corresponds to trajectory\n",
        "    '''\n",
        "\n",
        "    ###############################################################################\n",
        "    ## TODO: Code the simulated random steps to take\n",
        "    ## Hints: you can generate all the random steps in one go in an N x T matrix\n",
        "    raise NotImplementedError('Complete random_walk_simulator_function')\n",
        "    ###############################################################################\n",
        "    # generate all the random steps for all steps in all simulations in one go\n",
        "    # produces a N x T array\n",
        "    steps = np.random.normal(..., ..., size=(..., ...))\n",
        "\n",
        "    # compute the cumulative sum of all the steps over the time axis\n",
        "    sim = np.cumsum(steps, axis=1)\n",
        "\n",
        "    return sim\n",
        "\n",
        "np.random.seed(2020) # set random seed\n",
        "\n",
        "# Uncomment the lines below once the function above is completed\n",
        "# simulate 1000 random walks for 10000 time steps\n",
        "# sim = random_walk_simulator(1000, 10000,  mu=0, sigma=1)\n",
        "# take a peek at the first 10 simulations\n",
        "# plot_random_walk_sims(sim, nsims=10)"
      ],
      "execution_count": null,
      "outputs": []
    },
    {
      "cell_type": "code",
      "metadata": {
        "id": "eV_m4w0UJQaw"
      },
      "source": [
        "# to_remove solution\n",
        "def random_walk_simulator(N, T, mu=0, sigma=1):\n",
        "    '''Simulate N random walks for T time points. At each time point, the step\n",
        "       is drawn from a Gaussian distribution with mean mu and standard deviation\n",
        "       sigma.\n",
        "\n",
        "    Args:\n",
        "      T (integer) : Duration of simulation in time steps\n",
        "      N (integer) : Number of random walks\n",
        "      mu (float) : mean of step distribution\n",
        "      sigma (float) : standard deviation of step distribution\n",
        "\n",
        "    Returns:\n",
        "      (numpy array) : NxT array in which each row corresponds to trajectory\n",
        "    '''\n",
        "    # generate all the random steps for all steps in all simulations in one go\n",
        "    # produces a N x T array\n",
        "    steps = np.random.normal(mu, sigma, size=(N, T))\n",
        "\n",
        "    # compute the cumulative sum of all the steps over the time axis\n",
        "    sim = np.cumsum(steps, axis=1)\n",
        "\n",
        "    return sim\n",
        "\n",
        "np.random.seed(2020) # set random seed\n",
        "\n",
        "# Uncomment the lines below once the function above is completed\n",
        "# simulate 1000 random walks for 10000 time steps\n",
        "sim = random_walk_simulator(1000, 10000,  mu=0, sigma=1)\n",
        "# take a peek at the first 10 simulations\n",
        "with plt.xkcd():\n",
        "  plot_random_walk_sims(sim, nsims=10)"
      ],
      "execution_count": null,
      "outputs": []
    },
    {
      "cell_type": "markdown",
      "metadata": {
        "id": "mJIHHWsDJQax"
      },
      "source": [
        "We see that the trajectories all look a little different from each other. But there are some general observations one can make: at the beginning almost all trajectories are very close to $x=0$, which is where our bacterium started. As time progresses, some trajectories move further and further away from the starting point. However, a lot of trajectories stay close to the starting point of $x=0$. \n",
        "\n",
        "Now let's take a look at the distribution of bacteria positions at different points in time, analyzing all the trajectories we just generated above. **Run the code below.** You do not have to modify anything."
      ]
    },
    {
      "cell_type": "code",
      "metadata": {
        "id": "IIL8OGo9JQax"
      },
      "source": [
        "#@title Distribution of bacteria positions\n",
        "fig = plt.figure()\n",
        "# look at the distribution of positions at different times\n",
        "for i, t in enumerate([1000,2500,10000]):\n",
        "\n",
        "    # get mean and standard deviation of distribution at time t\n",
        "    mu = sim[:, t-1].mean()\n",
        "    sig2 = sim[:, t-1].std()\n",
        "\n",
        "    # make a plot label\n",
        "    mytitle = '$t=${time:d} ($\\mu=${mu:.2f}, $\\sigma=${var:.2f})'\n",
        "\n",
        "    # plot histogram\n",
        "    plt.hist(sim[:,t-1],\n",
        "             color=['blue','orange','black'][i],\n",
        "             #make sure the histograms have the same bins!\n",
        "             bins=np.arange(-300,300,20),\n",
        "             # make histograms a little see-through\n",
        "             alpha=0.6,\n",
        "             # draw second histogram behind the first one\n",
        "             zorder=3-i,\n",
        "             label=mytitle.format(time=t, mu=mu, var=sig2))\n",
        "\n",
        "    plt.xlabel('position x')\n",
        "\n",
        "    # plot range\n",
        "    plt.xlim([-500, 250])\n",
        "\n",
        "    # add legend\n",
        "    plt.legend(loc=2)\n",
        "\n",
        "    # add title\n",
        "    plt.title(r'Distribution of trajectory positions at time $t$')"
      ],
      "execution_count": null,
      "outputs": []
    },
    {
      "cell_type": "markdown",
      "metadata": {
        "id": "55Ppzvf-JQax"
      },
      "source": [
        "At the beginning of the simulation, the distribution of positions is sharply peaked about $0$. As time progresses, the distribution becomes wider but its center stays closer to $0$. In other words, the mean of the distribution is independent of time, but the variance and standard deviation of the distribution scale with time. Such a process is called a **diffusive process**.\n"
      ]
    },
    {
      "cell_type": "markdown",
      "metadata": {
        "id": "A2yhsgGnJQax"
      },
      "source": [
        "## Exercise 2 (3A Part 2): Random walk mean & variance\n",
        "\n",
        "Compute and then plot the mean and variance of our bacterium's random walk as a function of time."
      ]
    },
    {
      "cell_type": "code",
      "metadata": {
        "cellView": "code",
        "id": "yp2iH4gsJQay"
      },
      "source": [
        "# simulate random walks\n",
        "np.random.seed(2020) # set random seed\n",
        "sim = random_walk_simulator(5000, 1000, mu=0, sigma=1)\n",
        "\n",
        "##############################################################################\n",
        "# TODO: Insert your code here to compute the mean and variance of trajectory positions\n",
        "# at every time point:\n",
        "##############################################################################\n",
        "\n",
        "# mu = ...\n",
        "# var = ...\n",
        "\n",
        "# Uncomment below once you've completed above task\n",
        "#plot_mean_var_by_timestep(mu, var)"
      ],
      "execution_count": null,
      "outputs": []
    },
    {
      "cell_type": "code",
      "metadata": {
        "id": "16TtvVxiJQay"
      },
      "source": [
        "# to_remove solution\n",
        "# simulate random walks\n",
        "np.random.seed(2020) # set random seed\n",
        "sim = random_walk_simulator(5000, 1000, mu=0, sigma=1)\n",
        "\n",
        "# compute the mean and variance of trajectory positions at every time point\n",
        "mu = np.mean(sim, axis=0)\n",
        "var = np.var(sim, axis=0)\n",
        "\n",
        "with plt.xkcd():\n",
        "  plot_mean_var_by_timestep(mu, var)"
      ],
      "execution_count": null,
      "outputs": []
    },
    {
      "cell_type": "markdown",
      "metadata": {
        "id": "QyMqNA4fJQay"
      },
      "source": [
        "The expected value of $x$ stays close to 0, even for random walks of very long time. Cool!\n",
        "\n",
        "The variance, on the other hand, clearly increases with time. In fact, the variance seems to increase linearly with time!\n"
      ]
    },
    {
      "cell_type": "markdown",
      "metadata": {
        "id": "sbOxFQGCJQay"
      },
      "source": [
        "## Interactive Demo: Influence of Parameter Choice\n",
        "\n",
        " How do the parameters $\\mu$ and $\\sigma$ of the Gaussian distribution from which we choose the steps affect the mean and variance of the bacterium's random walk?"
      ]
    },
    {
      "cell_type": "code",
      "metadata": {
        "cellView": "form",
        "id": "YCBcYcGsJQaz"
      },
      "source": [
        "#@title\n",
        "\n",
        "#@markdown Make sure you execute this cell to enable the widget!\n",
        "\n",
        "@widgets.interact\n",
        "def plot_gaussian(mean=(-0.5, 0.5, .02), std=(.5, 10, .5)):\n",
        "  sim = random_walk_simulator(5000, 1000, mu=mean, sigma=std)\n",
        "\n",
        "  # compute the mean and variance of trajectory positions at every time point\n",
        "  mu = np.mean(sim, axis=0)\n",
        "  var = np.var(sim, axis=0)\n",
        "\n",
        "  #  make a figure\n",
        "  fig, (ah1, ah2) = plt.subplots(2)\n",
        "\n",
        "  # plot mean of distribution as a function of time\n",
        "  ah1.plot(mu)\n",
        "  ah1.set(ylabel='mean')\n",
        "\n",
        "  # plot variance of distribution as a function of time\n",
        "  ah2.plot(var)\n",
        "  ah2.set(xlabel='time')\n",
        "  ah2.set(ylabel='variance')"
      ],
      "execution_count": null,
      "outputs": []
    },
    {
      "cell_type": "code",
      "metadata": {
        "id": "OenbIFPgJQaz"
      },
      "source": [
        "# to_remove explanation\n",
        "\"\"\"\n",
        "When mu is 0, the solutions remain around 0, regardless of sigma.\n",
        "\n",
        "When mu is not 0, the mean of the solutions drift toward positive or negative,\n",
        "proportional to the magnitude of mu.\n",
        "\n",
        "The variance of the solutions increases linearly in time. The slope of the\n",
        "increase is proportional to the std of the Gaussian distribution at each step.\n",
        "\n",
        "\n",
        "\"\"\";"
      ],
      "execution_count": null,
      "outputs": []
    },
    {
      "cell_type": "markdown",
      "metadata": {
        "id": "YN0SXCo0JQaz"
      },
      "source": [
        "---\n",
        "# Section 2: The Ornstein-Uhlenbeck (OU) process"
      ]
    },
    {
      "cell_type": "code",
      "metadata": {
        "cellView": "form",
        "id": "-vuZTrB4JQa0",
        "colab": {
          "base_uri": "https://localhost:8080/",
          "height": 518
        },
        "outputId": "4c8324d4-003a-4980-e15d-bc26c21d81fd"
      },
      "source": [
        "#@title Video 2: Combining Deterministic & Stochastic Processes\n",
        "# Insert the ID of the corresponding youtube video\n",
        "from IPython.display import YouTubeVideo\n",
        "video = YouTubeVideo(id=\"pDNfs5p38fI\", width=854, height=480, fs=1)\n",
        "print(\"Video available at https://youtu.be/\" + video.id)\n",
        "video"
      ],
      "execution_count": 2,
      "outputs": [
        {
          "output_type": "stream",
          "text": [
            "Video available at https://youtu.be/pDNfs5p38fI\n"
          ],
          "name": "stdout"
        },
        {
          "output_type": "execute_result",
          "data": {
            "text/html": [
              "\n",
              "        <iframe\n",
              "            width=\"854\"\n",
              "            height=\"480\"\n",
              "            src=\"https://www.youtube.com/embed/pDNfs5p38fI?fs=1\"\n",
              "            frameborder=\"0\"\n",
              "            allowfullscreen\n",
              "        ></iframe>\n",
              "        "
            ],
            "text/plain": [
              "<IPython.lib.display.YouTubeVideo at 0x7f318a5fee80>"
            ],
            "image/jpeg": "[encoded data removed]"
          },
          "metadata": {
            "tags": []
          },
          "execution_count": 2
        }
      ]
    },
    {
      "cell_type": "markdown",
      "metadata": {
        "id": "OWIXrbWM2SGe"
      },
      "source": [
        "# Summary of Video 2:\n",
        "variance of the random walk distribution of solutions increases as a\n",
        "function of time in a way that is proportional to the variance of the underlying steps\n",
        "If you glue it together, this random walk process with the deterministic\n",
        "dynamical system what you end up with is an Ornstein-Uhlenbeck process that has aspects of this deterministic behavior\n",
        "with a little bit of randomness injected to it. Perhaps most relevantly in neuroscience,\n",
        "it has been useful for modeling decision making and short-term memory.\n",
        "So we're gonna go back and just remind ourselves about the behavior of these deterministic linear dynamical systems.\n",
        "\n",
        "add another non deterministic term \n",
        "That is a Gaussian random number with mean, 0 and standard\n",
        "deviation, sigma.\n",
        "\n",
        "when you simulate the OU process : the simulation results are comparable to the\n",
        "analytic solution on average, but they don't follow them exactly. Because we've added this element of stochasticity into it\n"
      ]
    },
    {
      "cell_type": "markdown",
      "metadata": {
        "id": "18xnw8DqJQa1"
      },
      "source": [
        "The random walk process we just explored is diffusive, and the distribution of possible trajectories _spreads_, taking on increasing variance with time. Even so, at least in one dimension, the mean remains close to the initial value (in the example above, 0).\n",
        "\n",
        "Our goal is now to build on this model to construct a **drift-diffusion** model (DDM). DDM is a popular model for memory, which as we all know, is often an exercise in hanging on to a value imperfectly. Decision-making and memory will be the topic for tomorrow, so here we build the mathematical foundations and develop some intuition for how such systems behave!"
      ]
    },
    {
      "cell_type": "markdown",
      "metadata": {
        "id": "wjb-GQkzJQa1"
      },
      "source": [
        "To build such a model, let's combine the random walk model with the first differential equations we explored in Tutorial 1 earlier. Although those models had been written in continuous time as $\\dot{x} = a x$, here let's consider the discrete version of the same system and write:\n",
        "\n",
        "$x_{k+1} = \\lambda x_k$,\n",
        "\n",
        "whose solution can be written as\n",
        "\n",
        "$x_k = x_0 \\lambda^k$,\n",
        "\n",
        "where $x_0$ is the value of $x$ at time $t=0$.\n",
        "\n",
        "Now, let's simulate and plot the solution of the discrete version of our first differential equation from Tutorial 1 below. **Run the code below.**"
      ]
    },
    {
      "cell_type": "code",
      "metadata": {
        "cellView": "both",
        "id": "ZOF9tX4fJQa1"
      },
      "source": [
        "# parameters\n",
        "lam = 0.9\n",
        "T = 100      # total Time duration in steps\n",
        "x0 = 4.     # initial condition of x at time 0\n",
        "\n",
        "# initiatialize variables\n",
        "t = np.arange(0, T, 1.)\n",
        "x = np.zeros_like(t)\n",
        "x[0] = x0\n",
        "\n",
        "# Step through in time\n",
        "for k in range(len(t)-1):\n",
        "    x[k+1] = lam * x[k]\n",
        "\n",
        "# plot x as it evolves in time\n",
        "fig = plt.figure()\n",
        "plt.title('$\\lambda=%0.1f$' % lam, fontsize=16)\n",
        "plt.plot(t, x0 * lam**t, 'r') # analytic solution\n",
        "plt.plot(t, x, 'k.')          # simulated data pts\n",
        "plt.ylim(0, x0+1)\n",
        "\n",
        "plt.xlabel('t')\n",
        "plt.ylabel('x')\n",
        "plt.show()"
      ],
      "execution_count": null,
      "outputs": []
    },
    {
      "cell_type": "markdown",
      "metadata": {
        "id": "Zeee7mzzJQa1"
      },
      "source": [
        "Notice that this process decays towards position $x=0$. We can make it decay towards any position by adding another parameter $x_\\infty$. The rate of decay is proportional to the difference between $x$ and $x_\\infty$. Our new system is\n",
        "\n",
        "$x_{k+1} = x_\\infty + \\lambda(x_k - x_{\\infty})$ \n",
        "\n",
        "We have to modify our analytic solution slightly to take this into account:\n",
        "\n",
        "$x_k = x_\\infty(1 - \\lambda^k) + x_0 \\lambda^k$.\n",
        "\n",
        "Let's simulate and plot the dynamics of this process below. Hopefully, we see that it start at $x_0$ and decay towards $x_{\\infty}.$\n"
      ]
    },
    {
      "cell_type": "code",
      "metadata": {
        "cellView": "both",
        "id": "8Qtx8CsvJQa1"
      },
      "source": [
        "# parameters\n",
        "lam = 0.9    # decay rate\n",
        "T = 100      # total Time duration in steps\n",
        "x0 = 4.      # initial condition of x at time 0\n",
        "xinfty = 1.  # x drifts towards this value in long time\n",
        "\n",
        "# initiatialize variables\n",
        "t = np.arange(0, T, 1.)\n",
        "x = np.zeros_like(t)\n",
        "x[0] = x0\n",
        "\n",
        "# Step through in time\n",
        "for k in range(len(t)-1):\n",
        "    x[k+1] = xinfty + lam * (x[k] - xinfty)\n",
        "\n",
        "# plot x as it evolves in time\n",
        "fig = plt.figure()\n",
        "plt.title('$\\lambda=%0.1f$' % lam, fontsize=16)\n",
        "plt.plot(t, xinfty + (x0 - xinfty) * lam**t, 'r', label='analytic solution')\n",
        "plt.plot(t, x, 'k.', label='simulation')\n",
        "plt.ylim(0, x0+1)\n",
        "\n",
        "plt.xlabel('t')\n",
        "plt.ylabel('x')\n",
        "\n",
        "plt.legend()\n",
        "plt.show()"
      ],
      "execution_count": null,
      "outputs": []
    },
    {
      "cell_type": "markdown",
      "metadata": {
        "id": "RjrDLlUvJQa2"
      },
      "source": [
        "Now we are ready to take this basic, deterministic difference equation and add a diffusion process on top of it! Fun times in Python land.\n",
        "\n",
        "As a point of terminology: this type of process is commonly known as a **drift-diffusion model** or **Ornstein-Uhlenbeck (OU) process**. The model is a combination of a _drift_ term toward $x_{\\infty}$ and a _diffusion_ term that walks randomly. You may sometimes see them written as continuous stochastic differential equations, but here we are doing the discrete version to maintain continuity in the tutorial. The discrete version of our OU process has the following form:\n",
        "\n",
        "$x_{k+1} = x_\\infty + \\lambda(x_k - x_{\\infty}) + \\sigma \\eta$\n",
        "\n",
        "where $\\eta$ is sampled from a standard normal distribution ($\\mu=0, \\sigma=1$). \n"
      ]
    },
    {
      "cell_type": "markdown",
      "metadata": {
        "id": "uATR6FSgJQa2"
      },
      "source": [
        "## Exercise 3 (3B): Drift-diffusion model\n",
        "\n",
        "Modify the code below so that each step through time has a _deterministic_ part (_hint_: exactly like the code above) plus a _random, diffusive_ part that is drawn from from a normal distribution with standard deviation of $\\sigma$ (sig in the code). It will plot the dynamics of this process."
      ]
    },
    {
      "cell_type": "code",
      "metadata": {
        "id": "6xkHRjYfJQa2"
      },
      "source": [
        "def simulate_ddm(lam, sig, x0, xinfty, T):\n",
        "  \"\"\"\n",
        "  Simulate the drift-diffusion model with given parameters and initial condition.\n",
        "  Args:\n",
        "    lam (scalar): decay rate\n",
        "    sig (scalar): standard deviation of normal distribution\n",
        "    x0 (scalar): initial condition (x at time 0)\n",
        "    xinfty (scalar): drift towards convergence in the limit\n",
        "    T (scalar): total duration of the simulation (in steps)\n",
        "\n",
        "  Returns:\n",
        "    ndarray, ndarray: `x` for all simulation steps and the time `t` at each step\n",
        "  \"\"\"\n",
        "\n",
        "  # initiatialize variables\n",
        "  t = np.arange(0, T, 1.)\n",
        "  x = np.zeros_like(t)\n",
        "  x[0] = x0\n",
        "\n",
        "  # Step through in time\n",
        "  for k in range(len(t)-1):\n",
        "      ##############################################################################\n",
        "      ## TODO: Insert your code below then remove\n",
        "      raise NotImplementedError(\"Student exercise: need to implement simulation\")\n",
        "      ##############################################################################\n",
        "      # update x at time k+1 with a determinstic and a stochastic component\n",
        "      # hint: the deterministic component will be like above, and\n",
        "      #   the stochastic component is drawn from a scaled normal distribution\n",
        "      x[k+1] = ...\n",
        "\n",
        "  return t, x\n",
        "\n",
        "lam = 0.9    # decay rate\n",
        "sig = 0.1   # standard deviation of diffusive process\n",
        "T = 500      # total Time duration in steps\n",
        "x0 = 4.      # initial condition of x at time 0\n",
        "xinfty = 1.  # x drifts towards this value in long time\n",
        "\n",
        "# Uncomment once above is completed to plot x as it evolves in time\n",
        "# np.random.seed(2020)\n",
        "# t, x = simulate_ddm(lam, sig, x0, xinfty, T)\n",
        "# plot_ddm(t, x, xinfty, lam, x0)"
      ],
      "execution_count": null,
      "outputs": []
    },
    {
      "cell_type": "code",
      "metadata": {
        "id": "SWeMBOMaJQa2"
      },
      "source": [
        "# to_remove solution\n",
        "\n",
        "def simulate_ddm(lam, sig, x0, xinfty, T):\n",
        "  \"\"\"\n",
        "  Simulate the drift-diffusion model with given parameters and initial condition.\n",
        "  Args:\n",
        "    lam (scalar): decay rate\n",
        "    sig (scalar): standard deviation of normal distribution\n",
        "    x0 (scalar): initial condition (x at time 0)\n",
        "    xinfty (scalar): drift towards convergence in the limit\n",
        "    T (scalar): total duration of the simulation (in steps)\n",
        "\n",
        "  Returns:\n",
        "    ndarray, ndarray: `x` for all simulation steps and the time `t` at each step\n",
        "  \"\"\"\n",
        "\n",
        "  # initiatialize variables\n",
        "  t = np.arange(0, T, 1.)\n",
        "  x = np.zeros_like(t)\n",
        "  x[0] = x0\n",
        "\n",
        "  # Step through in time\n",
        "  for k in range(len(t)-1):\n",
        "      # update x at time k+1 with a determinstic and a stochastic component\n",
        "      # hint: the deterministic component will be like above, and\n",
        "      #   the stochastic component is drawn from a scaled normal distribution\n",
        "      x[k+1] = xinfty + lam * (x[k] - xinfty) + sig * np.random.standard_normal(size=1)\n",
        "\n",
        "  return t, x\n",
        "\n",
        "lam = 0.9    # decay rate\n",
        "sig = 0.1   # standard deviation of diffusive process\n",
        "T = 500      # total Time duration in steps\n",
        "x0 = 4.      # initial condition of x at time 0\n",
        "xinfty = 1.  # x drifts towards this value in long time\n",
        "\n",
        "# Uncomment once above is completed to plot x as it evolves in time\n",
        "np.random.seed(2020)\n",
        "t, x = simulate_ddm(lam, sig, x0, xinfty, T)\n",
        "with plt.xkcd():\n",
        "  plot_ddm(t, x, xinfty, lam, x0)"
      ],
      "execution_count": null,
      "outputs": []
    },
    {
      "cell_type": "markdown",
      "metadata": {
        "id": "HYWSFLrIJQa2"
      },
      "source": [
        "### Think\n",
        "\n",
        "Describe the behavior of your simulation by making some observations. How does it compare to the deterministic solution? How does it behave in the beginning of the stimulation? At the end?"
      ]
    },
    {
      "cell_type": "code",
      "metadata": {
        "id": "7ZL7e0BHJQa2"
      },
      "source": [
        "# Some space for your ideas"
      ],
      "execution_count": null,
      "outputs": []
    },
    {
      "cell_type": "code",
      "metadata": {
        "id": "_M79n39KJQa2"
      },
      "source": [
        "# to_remove explanation\n",
        "\"\"\"\n",
        "The solution follows the deterministic solution on average, especially at\n",
        "the beginning.\n",
        "\n",
        "At the end, it follows the analytic solution on average, but there's\n",
        "non-zero variation around this solution. The next part explores the variance.\n",
        "\"\"\";"
      ],
      "execution_count": null,
      "outputs": []
    },
    {
      "cell_type": "markdown",
      "metadata": {
        "id": "QpDVMVNoJQa2"
      },
      "source": [
        "---\n",
        "# Section 3: Variance of the OU process\n",
        "\n"
      ]
    },
    {
      "cell_type": "code",
      "metadata": {
        "cellView": "form",
        "id": "IF6VwkJ8JQa3",
        "colab": {
          "base_uri": "https://localhost:8080/",
          "height": 518
        },
        "outputId": "436da6d1-435a-48b8-c894-27c78b8de233"
      },
      "source": [
        "#@title Video 3: Balance of Variances\n",
        "# Insert the ID of the corresponding youtube video\n",
        "from IPython.display import YouTubeVideo\n",
        "video = YouTubeVideo(id=\"49A-3kftau0\", width=854, height=480, fs=1)\n",
        "print(\"Video available at https://youtu.be/\" + video.id)\n",
        "video"
      ],
      "execution_count": 3,
      "outputs": [
        {
          "output_type": "stream",
          "text": [
            "Video available at https://youtu.be/49A-3kftau0\n"
          ],
          "name": "stdout"
        },
        {
          "output_type": "execute_result",
          "data": {
            "text/html": [
              "\n",
              "        <iframe\n",
              "            width=\"854\"\n",
              "            height=\"480\"\n",
              "            src=\"https://www.youtube.com/embed/49A-3kftau0?fs=1\"\n",
              "            frameborder=\"0\"\n",
              "            allowfullscreen\n",
              "        ></iframe>\n",
              "        "
            ],
            "text/plain": [
              "<IPython.lib.display.YouTubeVideo at 0x7f318d311278>"
            ],
            "image/jpeg": "[encoded data removed]"
          },
          "metadata": {
            "tags": []
          },
          "execution_count": 3
        }
      ]
    },
    {
      "cell_type": "markdown",
      "metadata": {
        "id": "jxQuK9Lf3Kir"
      },
      "source": [
        "# Summary of Video 3:\n",
        "\n",
        "mean of this OU process\n",
        "follows the analytic solution for the deterministic part of it. \n",
        "Variance:\n",
        "Well as it turns out, unlike a random walk process, where the variance grows basically\n",
        "without bounds for large times T. In this particular case, we have two processes that are competing with each other.\n",
        "And so the random walk process is trying to increase the variance of the solution and it does.\n",
        "But then, we have this deterministic part, this lambda here, which is less than one, that's trying to bring it back.\n",
        "It has a decaying effect, right? So it's trying to bring it back towards x infinity. And so the balance of these two\n",
        "respective\n",
        "components, these two parameters,\n",
        "determines the variance of the ultimate solution for the OU process.\n",
        "In particular, we can write the variance of the solution at equilibrium after a long time, as the balance between\n",
        "sigma, which is the standard deviation of the random walk process, and\n",
        "lambda, which is this decaying process that is trying to bring it back together.\n",
        "\n",
        "Exercise: to compute and compare the variance of the OU process at\n",
        "equilibrium and you compare that with the expected results."
      ]
    },
    {
      "cell_type": "markdown",
      "metadata": {
        "id": "O4lYdo3cJQa3"
      },
      "source": [
        "As we can see, the **mean** of the process follows the solution to the deterministic part of the governing equation. So far, so good!\n",
        "\n",
        "But what about the **variance**? \n",
        "\n",
        "Unlike the random walk, because there's a decay process that \"pulls\" $x$ back towards $x_\\infty$, the variance does not grow without bound with large $t$. Instead, when it gets far from $x_\\infty$, the position of $x$ is restored, until an equilibrium is reached.\n",
        "\n",
        "The equilibrium variance for our drift-diffusion system is\n",
        "\n",
        "Var $= \\frac{\\sigma^2}{1 - \\lambda^2}$.\n",
        "\n",
        "Notice that the value of this equilibrium variance depends on $\\lambda$ and $\\sigma$. It does not depend on $x_0$ and $x_\\infty$."
      ]
    },
    {
      "cell_type": "markdown",
      "metadata": {
        "id": "w8Ab15FzJQa4"
      },
      "source": [
        "To convince ourselves that things are behaving sensibly, let's compare the empirical variances of the equilibrium solution to the OU equations with the expected formula.\n",
        "\n"
      ]
    },
    {
      "cell_type": "markdown",
      "metadata": {
        "id": "FCsc0VRWJQa4"
      },
      "source": [
        "## Exercise 4 (3C): Computing the variances empirically\n",
        "\n",
        "Write code to compute the analytical variance: Var $= \\frac{\\sigma^2}{1 - \\lambda^2}$, and compare against the empirical variances (which is already provided for you using the helper function). You should see that they should be about equal to each other and lie close to the 45 degree ($y=x$) line. "
      ]
    },
    {
      "cell_type": "code",
      "metadata": {
        "cellView": "code",
        "id": "QBwCl2ryJQa4"
      },
      "source": [
        "np.random.seed(2020) # set random seed\n",
        "\n",
        "# sweep through values for lambda\n",
        "lambdas = np.arange(0.05, 0.95, 0.01)\n",
        "empirical_variances = np.zeros_like(lambdas)\n",
        "analytical_variances = np.zeros_like(lambdas)\n",
        "\n",
        "sig = 0.87\n",
        "\n",
        "# compute empirical equilibrium variance\n",
        "for i, lam in enumerate(lambdas):\n",
        "    empirical_variances[i] = ddm_eq_var(5000, x0, xinfty, lambdas[i], sig)\n",
        "\n",
        "##############################################################################\n",
        "## Insert your code below to calculate the analytical variances\n",
        "##############################################################################\n",
        "# Hint: you can also do this in one line outside the loop!\n",
        "# analytical_variances = ...\n",
        "\n",
        "# Uncomment this line to plot the empirical variance vs analytical variance\n",
        "# var_comparison_plot(empirical_variances, analytical_variances)"
      ],
      "execution_count": null,
      "outputs": []
    },
    {
      "cell_type": "code",
      "metadata": {
        "id": "rhWdyAtsJQa4"
      },
      "source": [
        "# to_remove solution\n",
        "np.random.seed(2020) # set random seed\n",
        "\n",
        "# sweep through values for lambda\n",
        "lambdas = np.arange(0.05, 0.95, 0.01)\n",
        "empirical_variances = np.zeros_like(lambdas)\n",
        "analytical_variances = np.zeros_like(lambdas)\n",
        "\n",
        "sig = 0.87\n",
        "\n",
        "# compute empirical equilibrium variance\n",
        "for i, lam in enumerate(lambdas):\n",
        "    empirical_variances[i] = ddm_eq_var(5000, x0, xinfty, lambdas[i], sig)\n",
        "\n",
        "# Hint: you can also do this in one line outside the loop!\n",
        "analytical_variances = sig**2 / (1 - lambdas**2)\n",
        "\n",
        "with plt.xkcd():\n",
        "  var_comparison_plot(empirical_variances, analytical_variances)"
      ],
      "execution_count": null,
      "outputs": []
    },
    {
      "cell_type": "markdown",
      "metadata": {
        "id": "qA0dMnY7JQa4"
      },
      "source": [
        "---\n",
        "# Summary\n",
        "\n",
        "In this tutorial, we have built and observed OU systems, which have both deterministic and stochastic parts. We see that they behave, on average, similar to our expectations from analyzing deterministic dynamical systems. \n",
        "\n",
        "Importantly, **the interplay between the deterministic and stochastic parts** serve to _balance_ the tendency of purely stochastic processes (like the random walk) to increase in variance over time. This behavior is one of the properties of OU systems that make them popular choices for modeling cognitive functions, including short-term memory and decision-making."
      ]
    }
  ]
}