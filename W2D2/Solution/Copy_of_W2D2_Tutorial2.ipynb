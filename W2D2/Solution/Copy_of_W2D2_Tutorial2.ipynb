{
  "nbformat": 4,
  "nbformat_minor": 0,
  "metadata": {
    "colab": {
      "name": "Copy of W2D2_Tutorial2",
      "provenance": [],
      "collapsed_sections": [],
      "toc_visible": true
    },
    "kernel": {
      "display_name": "Python 3",
      "language": "python",
      "name": "python3"
    },
    "kernelspec": {
      "display_name": "Python 3",
      "name": "python3"
    },
    "language_info": {
      "codemirror_mode": {
        "name": "ipython",
        "version": 3
      },
      "file_extension": ".py",
      "mimetype": "text/x-python",
      "name": "python",
      "nbconvert_exporter": "python",
      "pygments_lexer": "ipython3",
      "version": "3.7.8"
    }
  },
  "cells": [
    {
      "cell_type": "markdown",
      "metadata": {
        "id": "y_QYhlqv6kSG"
      },
      "source": [
        "# Neuromatch Academy 2020, Week 2, Day 2, Tutorial 2\n",
        "\n",
        "# Markov Processes\n",
        "\n",
        "**Content Creators**: Bing Wen Brunton, Ellie Stradquist\n",
        "\n",
        "**Content Reviewers**: Norma Kuhn, Karolina Stosio, John Butler, Matthew Krause, Ella Batty, Richard Gao, Michael Waskom"
      ]
    },
    {
      "cell_type": "markdown",
      "metadata": {
        "id": "4JHjgFdY6kSO"
      },
      "source": [
        "---\n",
        "# Tutorial Objectives\n",
        "\n",
        "In this tutorial, we will look at the dynamical systems introduced in the first tutorial through a different lens. \n",
        "\n",
        "In Tutorial 1, we studied dynamical systems as a deterministic process. For Tutorial 2, we will look at **probabilistic** dynamical systems. You may sometimes hear these systems called _stochastic_. In a probabilistic process, elements of randomness are involved. Every time you observe some probabilistic dynamical system, started from the same initial conditions, the outcome will likely be different. Put another way, dynamical systems that involve probability will incorporate random variations in their behavior. \n",
        "\n",
        "For some probabilistic dynamical systems, the differential equations express a relationship between $\\dot{x}$ and $x$ at every time $t$, so that the direction of $x$ at _every_ time depends entirely on the value of $x$. Said a different way, knowledge of the value of the state variables $x$ at time t is _all_ the information needed to determine $\\dot{x}$ and therefore $x$ at the next time.\n",
        "\n",
        "This property --- that the present state entirely determines the transition to the next state --- is what defines a **Markov process** and systems obeying this property can be described as **Markovian**.\n",
        "\n",
        "The goal of Tutorial 2 is to consider this type of Markov process in a simple example where the state transitions are probabilistic. In particular, we will:\n",
        "\n",
        "* Understand Markov processes and history dependence.\n",
        "* Explore the behavior of a two-state telegraph process and understand how its equilibrium distribution is dependent on its parameters.\n",
        "\n"
      ]
    },
    {
      "cell_type": "markdown",
      "metadata": {
        "id": "y9RVC6u16kSR"
      },
      "source": [
        "---\n",
        "# Setup"
      ]
    },
    {
      "cell_type": "code",
      "metadata": {
        "id": "aLlBC09Z6kST"
      },
      "source": [
        "import numpy as np\n",
        "import matplotlib.pyplot as plt"
      ],
      "execution_count": null,
      "outputs": []
    },
    {
      "cell_type": "code",
      "metadata": {
        "cellView": "form",
        "id": "R_L13qTq6kSU"
      },
      "source": [
        "#@title Figure settings\n",
        "import ipywidgets as widgets       # interactive display\n",
        "%config InlineBackend.figure_format = 'retina'\n",
        "plt.style.use(\"https://raw.githubusercontent.com/NeuromatchAcademy/course-content/master/nma.mplstyle\")"
      ],
      "execution_count": null,
      "outputs": []
    },
    {
      "cell_type": "code",
      "metadata": {
        "id": "XIVHkom56kSW"
      },
      "source": [
        "#@title Helper Functions\n",
        "\n",
        "def plot_switch_simulation(t, x):\n",
        "  fig = plt.figure()\n",
        "  plt.plot(t, x)\n",
        "  plt.title('State-switch simulation')\n",
        "  plt.xlabel('Time')\n",
        "  plt.xlim((0, 300)) # zoom in time\n",
        "  plt.ylabel('State of ion channel 0/1', labelpad=-60)\n",
        "  plt.yticks([0, 1], ['Closed (0)', 'Open (1)'])\n",
        "  plt.show()\n",
        "  return\n",
        "\n",
        "def plot_interswitch_interval_histogram(inter_switch_intervals):\n",
        "  fig = plt.figure()\n",
        "  plt.hist(inter_switch_intervals)\n",
        "  plt.title('Inter-switch Intervals Distribution')\n",
        "  plt.ylabel('Interval Count')\n",
        "  plt.xlabel('time')\n",
        "  plt.show()\n",
        "\n",
        "def plot_state_probabilities(time, states):\n",
        "  fig = plt.figure()\n",
        "  plt.plot(time, states[:,0], label='Closed to open')\n",
        "  plt.plot(time, states[:,1], label='Open to closed')\n",
        "  plt.legend()\n",
        "  plt.xlabel('time')\n",
        "  plt.ylabel('prob(open OR closed)')"
      ],
      "execution_count": null,
      "outputs": []
    },
    {
      "cell_type": "markdown",
      "metadata": {
        "id": "7n6XmXhz7_de"
      },
      "source": [
        "# Discussion of helper functions:\n",
        "*plot_switch_simulation*:\n",
        "plot the state switch simulation at open and close states with state of ion channel (yaxis) over time (xaxis)\n",
        "\n",
        "*plot_interswitch_interval_histogram*:\n",
        "plot the interswitch interval distribution with xaxis (time) and yaxis (interval count)\n",
        "\n",
        "*plot_state_probabilities*:\n",
        "plot close to open and open to close states where xaxis (time) and probability(yaxis)"
      ]
    },
    {
      "cell_type": "markdown",
      "metadata": {
        "id": "Orq4ZUne6kSX"
      },
      "source": [
        "---\n",
        "# Section 1:  Telegraph Process"
      ]
    },
    {
      "cell_type": "code",
      "metadata": {
        "cellView": "form",
        "id": "T2_HnP-16kSY",
        "colab": {
          "base_uri": "https://localhost:8080/",
          "height": 518
        },
        "outputId": "f07ee936-b326-422d-9475-c5facaa73c3b"
      },
      "source": [
        "#@title Video 1: Markov Process\n",
        "# Insert the ID of the corresponding youtube video\n",
        "from IPython.display import YouTubeVideo\n",
        "video = YouTubeVideo(id=\"xZO6GbU48ns\", width=854, height=480, fs=1)\n",
        "print(\"Video available at https://youtu.be/\" + video.id)\n",
        "video"
      ],
      "execution_count": 1,
      "outputs": [
        {
          "output_type": "stream",
          "text": [
            "Video available at https://youtu.be/xZO6GbU48ns\n"
          ],
          "name": "stdout"
        },
        {
          "output_type": "execute_result",
          "data": {
            "text/html": [
              "\n",
              "        <iframe\n",
              "            width=\"854\"\n",
              "            height=\"480\"\n",
              "            src=\"https://www.youtube.com/embed/xZO6GbU48ns?fs=1\"\n",
              "            frameborder=\"0\"\n",
              "            allowfullscreen\n",
              "        ></iframe>\n",
              "        "
            ],
            "text/plain": [
              "<IPython.lib.display.YouTubeVideo at 0x7f6bd5a646a0>"
            ],
            "image/jpeg": "[encoded data removed]"
          },
          "metadata": {
            "tags": []
          },
          "execution_count": 1
        }
      ]
    },
    {
      "cell_type": "markdown",
      "metadata": {
        "id": "KGiqqV7s_YmV"
      },
      "source": [
        "# Summary of Video 1:\n",
        "\n",
        "Markovian systems.\n",
        "- the present determines the probability of transitions to the\n",
        "next state. \n",
        "The present state is all you need to determine the probability\n",
        "transitions to the next state. That means you're not dependent on\n",
        "a longtime history, you don't care about where you were a long time ago\n",
        "or even a moment ago, you only care about the present\n",
        "state.\n",
        "The second part of this definition is that it determines, the present\n",
        "state determines the probability of transitions, which means that\n",
        "transitions to the next state are not deterministic, in fact\n",
        "they have some element of chance to it. \n",
        "eg: opening and closing of ion channels. These\n",
        "ion channels, think of them as \n",
        "little bits that turn on and off that underlie all\n",
        "of neural processes.\n",
        "These are ion channels that are embedded in the\n",
        "cytoplasm of a cell and depending on which ones,\n",
        "what fraction of them are closed or open,\n",
        "ion channels like sodium and chlorine\n",
        "and potassium will float in and out of the cell\n",
        "and that changes the electrical potential of the cell and is the\n",
        "basis of an action potential.\n",
        "\n",
        "But at a single channel,\n",
        "these closing and opening events are\n",
        "very well modeled as binary events.\n",
        "Each channel is only either open or\n",
        "closed. And you can monitor that by taking a\n",
        "very small recording micropipette, sticking\n",
        "it onto the cytoplasm of the cell, and\n",
        "forming what's called a single channel patch-clamp.\n",
        "\n",
        "And, thereby, monitoring\n",
        "exactly what's happening: the flow of ions  through\n",
        "a single channel. \n",
        "voltage in time of what a single ion channel would look like,\n",
        "where you can see that it's a little bit stochastic\n",
        "because temperature is not zero\n",
        "Kelvin, and the channel is either closed\n",
        "or it's open. And, when it closes\n",
        "and when it goes from closed to open\n",
        "and when it goes from open to closed is a stochastic process that has\n",
        "some probability.\n",
        "\n",
        "model this\n",
        "by what's known as a telegraph process.\n",
        "And a telegraph process is really simple, it has two states,\n",
        "it's either closed or open, and we specify the\n",
        "transitions among these states by two numbers.\n",
        "\n",
        "So if it's closed, it will transition to the open state\n",
        "with some probability, specified by probability of closed\n",
        "to open.\n",
        "\n",
        "And if it's open, it's going to transition to a closed\n",
        "with a probability of open to closed, so\n",
        "two numbers specifies everything probabilistically speaking.\n",
        "\n",
        "- simulate the opening and closing of a single ion channel as a\n",
        "state transition in a telegraph process, and we're just\n",
        "going to be looking at trajectories of the states from\n",
        "open to closed in time, and you're going to plot many of them, and as you\n",
        "may suspect, because this is a probabilistic process, the trace is going to\n",
        "look different every time, but they're going to be specified by\n",
        "these two numbers that specify the probabilities.\n"
      ]
    },
    {
      "cell_type": "markdown",
      "metadata": {
        "id": "AgZk1_bE6kSY"
      },
      "source": [
        "Let's consider a Markov process with two states, where switches between each two states are probabilistic (known as a telegraph process). To be concrete, let's say we are modeling an **ion channel in a neuron that can be in one of two states: Closed (0) or Open (1)**. \n",
        "\n",
        "If the ion channel is Closed, it may transition to the Open state with probability $P(0 \\rightarrow 1 | x = 0) = \\mu_{c2o}$. Likewise, If the ion channel is Open, it transitions to Closed with probability $P(1 \\rightarrow 0 | x=1) = \\mu_{o2c}$.\n",
        "\n",
        "We simulate the process of changing states as a **Poisson process**. The Poisson process is a way to model discrete events where the average time between event occurrences is known but the exact time of some event is not known. Importantly, the Poisson process dictates the following points: \n",
        "1. The probability of some event occurring is _independent from all other events_.\n",
        "2. The average rate of events within a given time period is constant.\n",
        "3. Two events cannot occur at the same moment. Our ion channel can either be in an open or closed state, but not both simultaneously. \n",
        "\n",
        "In the simulation below, we will use the Poisson process to model the state of our ion channel at all points $t$ within the total simulation time $T$. \n",
        "\n",
        "As we simulate the state change process, we also track at which times throughout the simulation the state makes a switch. We can use those times to measure the distribution of the time _intervals_ between state switches."
      ]
    },
    {
      "cell_type": "markdown",
      "metadata": {
        "id": "rqRdcWdX6kSa"
      },
      "source": [
        "**Run the cell below** to show the state-change simulation process. Note that a random seed was set in the code block, so re-running the code will produce the same plot. Commenting out that line will produce a different simulation each run."
      ]
    },
    {
      "cell_type": "code",
      "metadata": {
        "cellView": "form",
        "id": "6pHi9cKN6kSb"
      },
      "source": [
        "# @title State-change simulation process\n",
        "\n",
        "# parameters\n",
        "T = 5000     # total Time duration\n",
        "dt = 0.001   # timestep of our simulation\n",
        "\n",
        "# simulate state of our ion channel in time\n",
        "# the two parameters that govern transitions are\n",
        "# c2o: closed to open rate\n",
        "# o2c: open to closed rate\n",
        "def ion_channel_opening(c2o, o2c, T, dt):\n",
        "    # initialize variables\n",
        "    t = np.arange(0, T, dt)\n",
        "    x = np.zeros_like(t)\n",
        "    switch_times = []\n",
        "\n",
        "    # assume we always start in Closed state\n",
        "    x[0] = 0\n",
        "\n",
        "    # generate a bunch of random uniformly distributed numbers\n",
        "    # between zero and unity: [0, 1),\n",
        "    # one for each dt in our simulation.\n",
        "    # we will use these random numbers to model the\n",
        "    # closed/open transitions\n",
        "    myrand = np.random.random_sample(size=len(t))\n",
        "\n",
        "\n",
        "    # walk through time steps of the simulation\n",
        "    for k in range(len(t)-1):\n",
        "        # switching between closed/open states are\n",
        "        # Poisson processes\n",
        "        if x[k] == 0 and myrand[k] < c2o*dt: # remember to scale by dt!\n",
        "            x[k+1:] = 1\n",
        "            switch_times.append(k*dt)\n",
        "        elif x[k] == 1 and myrand[k] < o2c*dt:\n",
        "            x[k+1:] = 0\n",
        "            switch_times.append(k*dt)\n",
        "\n",
        "    return t, x, switch_times\n",
        "\n",
        "\n",
        "c2o = 0.02\n",
        "o2c = 0.1\n",
        "np.random.seed(0) # set random seed\n",
        "t, x, switch_times = ion_channel_opening(c2o, o2c, T, .1)\n",
        "plot_switch_simulation(t,x)"
      ],
      "execution_count": null,
      "outputs": []
    },
    {
      "cell_type": "markdown",
      "metadata": {
        "id": "kzOQ-1b06kSc"
      },
      "source": [
        "## Exercise 1 (2A): Computing intervals between switches\n",
        "We now have `switch_times`, which is a list consisting of times when the state switched. Using this, calculate the time intervals between each state switch and store these in a list called `inter_switch_intervals`.\n",
        "\n",
        "We will then plot the distribution of these intervals. How would you describe the shape of the distribution?\n"
      ]
    },
    {
      "cell_type": "code",
      "metadata": {
        "id": "8ivJFzH36kSe"
      },
      "source": [
        "##############################################################################\n",
        "## TODO: Insert your code here to calculate between-state-switch intervals,\n",
        "##       and uncomment the last line to plot the histogram\n",
        "##############################################################################\n",
        "\n",
        "# hint: see np.diff()\n",
        "# inter_switch_intervals = ...\n",
        "\n",
        "\n",
        "# plot_interswitch_interval_histogram(inter_switch_intervals)"
      ],
      "execution_count": null,
      "outputs": []
    },
    {
      "cell_type": "code",
      "metadata": {
        "id": "zv-3wa_c6kSe"
      },
      "source": [
        "# to_remove solution\n",
        "\n",
        "# hint: see np.diff()\n",
        "inter_switch_intervals = np.diff(switch_times)\n",
        "\n",
        "# plot inter-switch intervals\n",
        "with plt.xkcd():\n",
        "  plot_interswitch_interval_histogram(inter_switch_intervals)"
      ],
      "execution_count": null,
      "outputs": []
    },
    {
      "cell_type": "markdown",
      "metadata": {
        "id": "U7A_LUVO6kSe"
      },
      "source": [
        "We can also generate a bar graph to visualize the distribution of the number of time-steps spent in each of the two possible system states during the simulation. **Run the cell below** to visualize the distribution. \n",
        "\n"
      ]
    },
    {
      "cell_type": "code",
      "metadata": {
        "cellView": "form",
        "id": "LekqC7lU6kSe"
      },
      "source": [
        "# @title Distribution of time spent in each state.\n",
        "\n",
        "states = ['Closed', 'Open']\n",
        "(unique, counts) = np.unique(x, return_counts=True)\n",
        "plt.bar(states, counts)\n",
        "plt.ylabel('Number of time steps')\n",
        "plt.xlabel('State of ion channel');"
      ],
      "execution_count": null,
      "outputs": []
    },
    {
      "cell_type": "markdown",
      "metadata": {
        "id": "Nh8Ec0fm6kSf"
      },
      "source": [
        "<!-- Though the system started initially in the Closed ($x=0$) state, over time, it settles into a equilibrium distribution where we can predict on what fraction of time it is Open as a function of the $\\mu$ parameters. \n",
        "\n",
        "Before we continue exploring these distributions further, let's first take a look at the this fraction of Open states as a cumulative mean of the state $x$: -->\n",
        "\n",
        "Even though the state is _discrete_--the ion channel can only be either Closed or Open--we can still look at the **mean state** of the system, averaged over some window of time. \n",
        "\n",
        "Since we've coded Closed as $x=0$ and Open as $x=1$, conveniently, the mean of $x$ over some window of time has the interpretation of **fraction of time channel is Open**.\n",
        "\n",
        "Let's also take a look at the fraction of Open states as a cumulative mean of the state $x$. The cumulative mean tells us the average number of state-changes that the system will have undergone after a certain amount of time. **Run the cell below**."
      ]
    },
    {
      "cell_type": "code",
      "metadata": {
        "cellView": "form",
        "id": "4wWXCGjn6kSf"
      },
      "source": [
        "# @title Cumulative mean of state\n",
        "plt.plot(t, np.cumsum(x) / np.arange(1, len(t)+1))\n",
        "plt.xlabel('time')\n",
        "plt.ylabel('Cumulative mean of state');"
      ],
      "execution_count": null,
      "outputs": []
    },
    {
      "cell_type": "markdown",
      "metadata": {
        "id": "NjJVbTAB6kSg"
      },
      "source": [
        "Notice in the plot above that, although the channel started in the Closed ($x=0$) state, gradually adopted some mean value after some time. This mean value is related to the transition probabilities $\\mu_{c2o}$\n",
        "and $\\mu_{o2c}$."
      ]
    },
    {
      "cell_type": "markdown",
      "metadata": {
        "id": "CXFLwzOu6kSg"
      },
      "source": [
        "## Interactive Demo: Varying transition probability values & T\n",
        "\n",
        "Using the interactive demo below, explore the state-switch simulation for different transition probability values of states $\\mu_{c2o}$ and $\\mu_{o2c}$. Also, try different values for total simulation time length *T*. \n",
        "\n",
        "Does the general shape of the inter-switch interval distribution change or does it stay relatively the same? How does the bar graph of system states change based on these values?"
      ]
    },
    {
      "cell_type": "code",
      "metadata": {
        "cellView": "form",
        "id": "wsSMrJYQ6kSh"
      },
      "source": [
        "#@title\n",
        "\n",
        "#@markdown Make sure you execute this cell to enable the widget!\n",
        "\n",
        "@widgets.interact\n",
        "def plot_inter_switch_intervals(c2o = (0,1, .01), o2c = (0, 1, .01), T=(1000,10000, 1000)):\n",
        "\n",
        "  t, x, switch_times = ion_channel_opening(c2o, o2c, T, .1)\n",
        "\n",
        "  inter_switch_intervals = np.diff(switch_times)\n",
        "\n",
        "  #plot inter-switch intervals\n",
        "  plt.hist(inter_switch_intervals)\n",
        "  plt.title('Inter-switch Intervals Distribution')\n",
        "  plt.ylabel('Interval Count')\n",
        "  plt.xlabel('time')\n",
        "  plt.show()\n",
        "  plt.close()"
      ],
      "execution_count": null,
      "outputs": []
    },
    {
      "cell_type": "code",
      "metadata": {
        "id": "GV3pANEb6kSh"
      },
      "source": [
        "# to_remove explanation\n",
        "\"\"\"\n",
        "Discussion:\n",
        "(1) Does the general shape of the inter-switch interval distribution\n",
        "change or does it stay relatively the same?\n",
        "(2) How does the bar graph of system states change based on these values?\n",
        "\n",
        "Answers:\n",
        "(1) The shape of the distribution remains the same, but larger values of either\n",
        "c2o or o2c shifts the distribution towards shorter intervals.\n",
        "(2) If c2o is larger than o2c, then the channel tends to be open a larger\n",
        "fraction of the time.\n",
        "\n",
        "\"\"\";"
      ],
      "execution_count": null,
      "outputs": []
    },
    {
      "cell_type": "markdown",
      "metadata": {
        "id": "5PZ4atQ96kSh"
      },
      "source": [
        "---\n",
        "# Section 2: Distributional Perspective\n",
        "\n"
      ]
    },
    {
      "cell_type": "code",
      "metadata": {
        "cellView": "form",
        "id": "JvHbryFL6kSi",
        "colab": {
          "base_uri": "https://localhost:8080/",
          "height": 518
        },
        "outputId": "d76acaa2-b705-4268-c419-ff4a40e45e64"
      },
      "source": [
        "#@title Video 2: State Transitions\n",
        "# Insert the ID of the corresponding youtube video\n",
        "from IPython.display import YouTubeVideo\n",
        "video = YouTubeVideo(id=\"U6YRhLuRhHg\", width=854, height=480, fs=1)\n",
        "print(\"Video available at https://youtu.be/\" + video.id)\n",
        "video"
      ],
      "execution_count": 2,
      "outputs": [
        {
          "output_type": "stream",
          "text": [
            "Video available at https://youtu.be/U6YRhLuRhHg\n"
          ],
          "name": "stdout"
        },
        {
          "output_type": "execute_result",
          "data": {
            "text/html": [
              "\n",
              "        <iframe\n",
              "            width=\"854\"\n",
              "            height=\"480\"\n",
              "            src=\"https://www.youtube.com/embed/U6YRhLuRhHg?fs=1\"\n",
              "            frameborder=\"0\"\n",
              "            allowfullscreen\n",
              "        ></iframe>\n",
              "        "
            ],
            "text/plain": [
              "<IPython.lib.display.YouTubeVideo at 0x7f6bd522d470>"
            ],
            "image/jpeg": "[encoded data removed]"
          },
          "metadata": {
            "tags": []
          },
          "execution_count": 2
        }
      ]
    },
    {
      "cell_type": "markdown",
      "metadata": {
        "id": "kwUDM05JCw0t"
      },
      "source": [
        "# Summary of Video 2:\n",
        "\n",
        "Now imagine\n",
        "you had a large number of ion channels. Now to any given moment,\n",
        "some fraction of them are going to be open, and some other fraction\n",
        "are going to be closed. Now, to understand what fraction are going to be open\n",
        "and what fraction are going to be closed we can either, well, just run that simulation a lot of different times or\n",
        "we can keep track instead of\n",
        "individual ion channels we can keep track of the state as a probability.\n",
        "\n",
        "So what I'm talking about here is now instead of keeping track of - if a single ion channel is in the closed state or the\n",
        "open state, we're tracking the probability that\n",
        "the channel is in the closed or the open state on average.\n",
        "\n",
        "And we can write down 'a' by just looking at the state transition diagram on the diagonals\n",
        "we have the respective probabilities of closed remaining closed and open remaining open and\n",
        "these two off diagonal terms\n",
        "specify the probability of transitioning between the close state to the open state or the open state to the close state.\n",
        "\n",
        "write the simulation of the opening and closing and of ion channel as a\n",
        "propagation of probabilities in time. Now instead of keeping track of\n",
        "whether it is closed or open as a binary state, we're keeping track of the probabilities it's in either of those states.\n"
      ]
    },
    {
      "cell_type": "markdown",
      "metadata": {
        "id": "5zn-E9Vr6kSj"
      },
      "source": [
        "We can run this simulation many times and gather empirical distributions of open/closed states. Alternatively, we can formulate the exact same system probabilistically, keeping track of the probability of being in each state.\n",
        "\n",
        "<!-- Although the system started initially in the Closed ($x=0$) state, over time, it settles into a equilibrium distribution where we can predict on what fraction of time it is Open as a function of the $\\mu$ parameters.  -->\n",
        "\n",
        "(see diagram in lecture)\n",
        "\n",
        "The same system of transitions can then be formulated using a vector of 2 elements as the state vector and a dynamics matrix $\\mathbf{A}$. The result of this formulation is a *state transition matrix*:\n",
        "\n",
        "$\\left[ \\begin{array}{c} C \\\\ O \\end{array} \\right]_{k+1} = \\mathbf{A} \\left[ \\begin{array}{c} C \\\\ O \\end{array} \\right]_k = \\left[ \\begin{array} & 1-\\mu_{\\text{c2o}} & \\mu_{\\text{o2c}} \\\\ \\mu_{\\text{c2o}} & 1-\\mu_{\\text{o2c}} \\end{array} \\right] \\left[ \\begin{array}{c} C \\\\ O \\end{array} \\right]_k$.\n",
        "\n",
        "\n",
        "Each transition probability shown in the matrix is as follows:\n",
        "1. $1-\\mu_{\\text{c2o}}$, the probability that the closed state remains closed. \n",
        "2. $\\mu_{\\text{c2o}}$, the probability that the closed state transitions to the open state.\n",
        "3.  $\\mu_{\\text{o2c}}$, the probability that the open state transitions to the closed state. \n",
        "4. $1-\\mu_{\\text{o2c}}$, the probability that the open state remains open. \n",
        "\n",
        "\n",
        "_Notice_ that this system is written as a discrete step in time, and $\\mathbf{A}$ describes the transition, mapping the state from step $k$ to step $k+1$. This is different from what we did in the exercises above where $\\mathbf{A}$ had described the function from the state to the time derivative of the state.\n"
      ]
    },
    {
      "cell_type": "markdown",
      "metadata": {
        "id": "4X3dRU_16kSj"
      },
      "source": [
        "## Exercise 2 (2B): Probability Propagation\n",
        "\n",
        "Complete the code below to simulate the propagation of probabilities of closed/open of the ion channel through time. A variable called `x_kp1` (short for, $x$ at timestep $k$ plus 1) should be calculated per each step *k* in the loop. However, you should plot $x$."
      ]
    },
    {
      "cell_type": "code",
      "metadata": {
        "id": "B0aRezLL6kSj"
      },
      "source": [
        "def simulate_prob_prop(A, x0, dt, T):\n",
        "  \"\"\" Simulate the propagation of probabilities given the transition matrix A,\n",
        "  with initial state x0, for a duration of T at timestep dt.\n",
        "\n",
        "  Args:\n",
        "    A (ndarray): state transition matrix\n",
        "    x0 (ndarray): state probabilities at time 0\n",
        "    dt (scalar): timestep of the simulation\n",
        "    T (scalar): total duration of the simulation\n",
        "\n",
        "  Returns:\n",
        "    ndarray, ndarray: `x` for all simulation steps and the time `t` at each step\n",
        "  \"\"\"\n",
        "\n",
        "  # Initialize variables\n",
        "  t = np.arange(0, T, dt)\n",
        "  x = x0 # x at time t_0\n",
        "\n",
        "  # Step through the system in time\n",
        "  for k in range(len(t)-1):\n",
        "      ###################################################################\n",
        "      ## TODO: Insert your code here to compute x_kp1 (x at k plus 1)\n",
        "      raise NotImplementedError(\"Student exercise: need to implement simulation\")\n",
        "      ## hint: use np.dot(a, b) function to compute the dot product\n",
        "      ##       of the transition matrix A and the last state in x\n",
        "      ## hint 2: use np.vstack to append the latest state to x\n",
        "      ###################################################################\n",
        "\n",
        "      # Compute the state of x at time k+1\n",
        "      x_kp1 = ...\n",
        "      # Stack (append) this new state onto x to keep track of x through time steps\n",
        "      x = ...\n",
        "\n",
        "  return x, t\n",
        "\n",
        "# parameters\n",
        "T = 500     # total Time duration\n",
        "dt = 0.1   # timestep of our simulation\n",
        "\n",
        "# same parameters as above\n",
        "# c2o: closed to open rate\n",
        "# o2c: open to closed rate\n",
        "c2o = 0.02\n",
        "o2c = 0.1\n",
        "A = np.array([[1 - c2o*dt, o2c*dt],\n",
        "              [c2o*dt,     1 - o2c*dt]])\n",
        "\n",
        "# initial condition: start as Closed\n",
        "x0 = np.array([[1, 0]])\n",
        "\n",
        "# Uncomment this to plot the probabilities\n",
        "# x, t = simulate_prob_prop(A, x0, dt, T)\n",
        "# plot_state_probabilities(t,x)"
      ],
      "execution_count": null,
      "outputs": []
    },
    {
      "cell_type": "code",
      "metadata": {
        "id": "q_mTmgaY6kSj"
      },
      "source": [
        "# to_remove solution\n",
        "\n",
        "def simulate_prob_prop(A, x0, dt, T):\n",
        "  \"\"\" Simulate the propagation of probabilities given the transition matrix A,\n",
        "  with initial state x0, for a duration of T at timestep dt.\n",
        "\n",
        "  Args:\n",
        "    A (ndarray): state transition matrix\n",
        "    x0 (ndarray): state probabilities at time 0\n",
        "    dt (scalar): timestep of the simulation\n",
        "    T (scalar): total duration of the simulation\n",
        "\n",
        "  Returns:\n",
        "    ndarray, ndarray: `x` for all simulation steps and the time `t` at each step\n",
        "  \"\"\"\n",
        "\n",
        "  # Initialize variables\n",
        "  t = np.arange(0, T, dt)\n",
        "  x = x0 # x at time t_0\n",
        "\n",
        "  # Step through the system in time\n",
        "  for k in range(len(t)-1):\n",
        "      # Compute the state of x at time k+1\n",
        "      x_kp1 = np.dot(A, x[-1,:])\n",
        "      # Stack (append) this new state onto x to keep track of x through time steps\n",
        "      x = np.vstack((x, x_kp1))\n",
        "\n",
        "  return x, t\n",
        "\n",
        "# parameters\n",
        "T = 500     # total Time duration\n",
        "dt = 0.1   # timestep of our simulation\n",
        "\n",
        "# same parameters as above\n",
        "# c2o: closed to open rate\n",
        "# o2c: open to closed rate\n",
        "c2o = 0.02\n",
        "o2c = 0.1\n",
        "A = np.array([[1 - c2o*dt, o2c*dt],\n",
        "              [c2o*dt,     1 - o2c*dt]])\n",
        "\n",
        "# initial condition: start as Closed\n",
        "x0 = np.array([[1, 0]])\n",
        "\n",
        "# Uncomment this to plot the probabilities\n",
        "x, t = simulate_prob_prop(A, x0, dt, T)\n",
        "with plt.xkcd():\n",
        "  plot_state_probabilities(t,x)"
      ],
      "execution_count": null,
      "outputs": []
    },
    {
      "cell_type": "markdown",
      "metadata": {
        "id": "0ZJ57hpi6kSk"
      },
      "source": [
        "Here, we simulated the propagation of probabilities of the ion channel's state changing through time. Using this method is useful in that we can **run the simulation once** and see **how the probabilities propagate throughout time**, rather than re-running and empirically observing the telegraph simulation over and over again. \n",
        "\n",
        "Although the system started initially in the Closed ($x=0$) state, over time, it settles into a equilibrium distribution where we can predict what fraction of time it is Open as a function of the $\\mu$ parameters. We can say that the plot above show this _relaxation towards equilibrium_.\n",
        "\n",
        "Re-calculating our value of the probability of $c2o$ again with this method, we see that this matches the simulation output from the telegraph process! \n",
        "\n"
      ]
    },
    {
      "cell_type": "code",
      "metadata": {
        "id": "1XLmqwF16kSl"
      },
      "source": [
        "print(\"Probability of state c2o: %.3f\"%(c2o / (c2o + o2c)))\n",
        "x[-1,:]"
      ],
      "execution_count": null,
      "outputs": []
    },
    {
      "cell_type": "markdown",
      "metadata": {
        "id": "P-EW3kSG6kSl"
      },
      "source": [
        "---\n",
        "# Section 3: Equilibrium of the telegraph process"
      ]
    },
    {
      "cell_type": "code",
      "metadata": {
        "id": "m7_gOUN56kSl",
        "colab": {
          "base_uri": "https://localhost:8080/",
          "height": 518
        },
        "outputId": "d176bc77-0b59-4c9e-9b4c-49b1e4a44769"
      },
      "source": [
        "#@title Video 3: Continuous vs. Discrete Time Formulation\n",
        "# Insert the ID of the corresponding youtube video\n",
        "from IPython.display import YouTubeVideo\n",
        "video = YouTubeVideo(id=\"csetTTauIh8\", width=854, height=480, fs=1)\n",
        "print(\"Video available at https://youtu.be/\" + video.id)\n",
        "video"
      ],
      "execution_count": 3,
      "outputs": [
        {
          "output_type": "stream",
          "text": [
            "Video available at https://youtu.be/csetTTauIh8\n"
          ],
          "name": "stdout"
        },
        {
          "output_type": "execute_result",
          "data": {
            "text/html": [
              "\n",
              "        <iframe\n",
              "            width=\"854\"\n",
              "            height=\"480\"\n",
              "            src=\"https://www.youtube.com/embed/csetTTauIh8?fs=1\"\n",
              "            frameborder=\"0\"\n",
              "            allowfullscreen\n",
              "        ></iframe>\n",
              "        "
            ],
            "text/plain": [
              "<IPython.lib.display.YouTubeVideo at 0x7f6bd5215c50>"
            ],
            "image/jpeg": "[encoded data removed]"
          },
          "metadata": {
            "tags": []
          },
          "execution_count": 3
        }
      ]
    },
    {
      "cell_type": "markdown",
      "metadata": {
        "id": "Vm_gbGM4G6zl"
      },
      "source": [
        "# Summary of Video 3:\n",
        "\n",
        "plot its numerical solutions in time,\n",
        "\n",
        "What they have in common is that these are all dynamical systems,\n",
        "In other case you have an 'a' matrix that tells you something about how the system evolves in time.\n",
        "The continuous time formulation is written in terms of x dot and the discrete time formulation is written in terms of a map.\n",
        "Now what this means is that the continuous time formulation tells you something about the flow and the direction,\n",
        "there's a vector of how things change at that particular time.\n",
        "\n",
        "In the continuous time formulation things don't change unless 'a' equals zero.\n",
        "In the discrete time formulation, instead,\n",
        "things don't change unless 'a' equals one.\n",
        "So even though these two formulations are related, the stable solution lives in a very different place.\n",
        "When we're looking at the eigenvalues of 'a' which determines the stability\n",
        "of the discrete time formulation \n",
        "\n",
        "if you plot the eigenvalue spectrum of 'a'\n",
        "you can separate it into growing decaying or stable with oscillations and frequencies of oscillation on the imaginary axis.\n",
        "\n",
        "If you are looking at the discrete time formulation\n",
        "and the eigenvalue spectrum of 'a' in the discrete time formulation:\n",
        "Instead of looking at the left half plane or the right half plane,\n",
        "we're actually looking at whether inside or outside the unit circle. Where the unit circle is where the eigenvalue has a radius of one\n",
        "and things are totally stable on the unit circle. Everything inside the unit circle is going to be decaying everything outside\n",
        "the unit circle is going to be growing.\n",
        "Now these two eigenvalues spectra are actually related to each other\n",
        "by a logarithm operation where you scale it \n",
        "\n",
        "In the continuous time formulation 'b' is proportional to the frequency,\n",
        "and if you take the logarithm of that what you'll discover, is that the angle\n",
        "of the eigenvalue is proportional to the frequency of oscillation. \n",
        "\n",
        "If we go back to our probabilistic model of closing and opening ion channels\n",
        "and take the eigendecomposition of this 'a' matrix here,\n",
        " this is a two by two system, you're going to get two eigenvalues and two eigenvectors.\n",
        "\n",
        " goal is to discover which of these eigenvalues corresponds to the stable solution.\n",
        "In other words which one equals one?\n",
        "\n",
        "And if you look at the corresponding eigenvector that tells you something about the direction in which\n",
        "this solution is stable.\n",
        "\n",
        "So,  take the eigendecomposition of 'a'\n",
        "and identify which one is a stable solution and look at its corresponding eigenvector and you're going to compare\n",
        "this eigenvector to the equilibrium numerical solution.\n"
      ]
    },
    {
      "cell_type": "markdown",
      "metadata": {
        "id": "gNIRps5N6kSm"
      },
      "source": [
        "Since we have now modeled the propagation of probabilities by the transition matrix $\\mathbf{A}$ in Section 2, let's connect the behavior of the system at equilibrium with the eigendecomposition of $\\mathbf{A}$.\n",
        "\n",
        "As introduced in the lecture video, the eigenvalues of $\\mathbf{A}$ tell us about the stability of the system, specifically in the directions of the corresponding eigenvectors."
      ]
    },
    {
      "cell_type": "code",
      "metadata": {
        "id": "pKUppmzB6kSm"
      },
      "source": [
        "# compute the eigendecomposition of A\n",
        "lam, v = np.linalg.eig(A)\n",
        "\n",
        "# print the 2 eigenvalues\n",
        "print(\"Eigenvalues:\",lam)\n",
        "\n",
        "# print the 2 eigenvectors\n",
        "eigenvector1 = v[:,0]\n",
        "eigenvector2 = v[:,1]\n",
        "print(\"Eigenvector 1:\", eigenvector1)\n",
        "print(\"Eigenvector 2:\", eigenvector2)"
      ],
      "execution_count": null,
      "outputs": []
    },
    {
      "cell_type": "markdown",
      "metadata": {
        "id": "Pou_34TS6kSm"
      },
      "source": [
        "## Exercise 3 (2C): Finding a stable state\n",
        "\n",
        "Which of these eigenvalues corresponds to the **stable** (equilibrium) solution? What is the eigenvector of this eigenvalue? How does that explain \n",
        "the equilibrium solutions in simulation in Section 2 of this tutorial?\n",
        "\n",
        "_hint_: our simulation is written in terms of probabilities, so they must sum to 1. Therefore, you may also want to rescale the elements of the eigenvector such that they also sum to 1. These can then be directly compared with the probabilities of the states in the simulation. "
      ]
    },
    {
      "cell_type": "code",
      "metadata": {
        "id": "IyO6r8kE6kSm"
      },
      "source": [
        "###################################################################\n",
        "## Insert your thoughts here\n",
        "###################################################################"
      ],
      "execution_count": null,
      "outputs": []
    },
    {
      "cell_type": "code",
      "metadata": {
        "id": "ZegC3n3T6kSn"
      },
      "source": [
        "# to_remove explanation\n",
        "\"\"\"\n",
        "Discussion:\n",
        "Which of the eigenvalues corresponds to the stable solution?\n",
        "What is the eigenvector of this eigenvalue?\n",
        "How does that explain the equilibrium solutions in Section 2?\n",
        "\n",
        "Recommendation:\n",
        "Ask the students to work in small groups (of 2 or 3) to discuss these questions.\n",
        "\n",
        "\n",
        "Answers:\n",
        "Whichever eigenvalue is 1 is the stable solution. There should be another\n",
        "eigenvalue that is <1, which means it is decaying and goes away after the\n",
        "transient period.\n",
        "\n",
        "The eigenvector corresponding to this eigenvalue is the stable solution.\n",
        "To see this, we need to normalize this eigenvector so that its 2 elements\n",
        "sum to one, then we would see that the two numbers correspond to\n",
        "[P(open), P(closed)] at equilibrium -- hopefully these are exactly the\n",
        "equilibrium solutions observed in Section 2.\n",
        "\n",
        "\n",
        "\"\"\";\n",
        "\n",
        "\n",
        "# whichever eigenvalue is 1, the other one makes no sense\n",
        "print(eigenvector1 / eigenvector1.sum())\n",
        "print(eigenvector2 / eigenvector2.sum())"
      ],
      "execution_count": null,
      "outputs": []
    },
    {
      "cell_type": "markdown",
      "metadata": {
        "id": "veB1w-nx6kSn"
      },
      "source": [
        "---\n",
        "# Summary\n",
        "\n",
        "In this tutorial, we learned:\n",
        "\n",
        "* The definition of a Markov process with history dependence.\n",
        "* The behavior of a simple 2-state Markov proces--the telegraph process--can be simulated either as a state-change simulation or as a propagation of probability distributions.\n",
        "* The relationship between the stability analysis of a dynamical system expressed either in continuous or discrete time.\n",
        "* The equilibrium behavior of a telegraph process is predictable and can be understood using the same strategy as for deterministic systems in Tutorial 1: by taking the eigendecomposition of the A matrix."
      ]
    }
  ]
}