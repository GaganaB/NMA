{
  "nbformat": 4,
  "nbformat_minor": 0,
  "metadata": {
    "colab": {
      "name": "Copy of W2D2_Tutorial1",
      "provenance": [],
      "collapsed_sections": [],
      "toc_visible": true
    },
    "kernel": {
      "display_name": "Python 3",
      "language": "python",
      "name": "python3"
    },
    "kernelspec": {
      "display_name": "Python 3",
      "name": "python3"
    },
    "language_info": {
      "codemirror_mode": {
        "name": "ipython",
        "version": 3
      },
      "file_extension": ".py",
      "mimetype": "text/x-python",
      "name": "python",
      "nbconvert_exporter": "python",
      "pygments_lexer": "ipython3",
      "version": "3.7.8"
    }
  },
  "cells": [
    {
      "cell_type": "markdown",
      "metadata": {
        "id": "kqaHqW9Tr3W_"
      },
      "source": [
        "# Neuromatch Academy 2020, Week 2, Day 2, Tutorial 1\n",
        "\n",
        "# Linear dynamical systems\n",
        "\n",
        "**Content Creators**: Bing Wen Brunton, Alice Schwarze\n",
        "\n",
        "**Content Reviewers**: Norma Kuhn, Karolina Stosio, John Butler, Matthew Krause, Ella Batty, Richard Gao, Michael Waskom"
      ]
    },
    {
      "cell_type": "markdown",
      "metadata": {
        "id": "9cmqBzYnr3XI"
      },
      "source": [
        "---\n",
        "# Tutorial Objectives\n",
        "\n",
        "In this tutorial, we will be learning about behavior of dynamical systems -- systems that evolve in time -- where the rules by which they evolve in time are described precisely by a differential equation.\n",
        "\n",
        "Differential equations are equations that express the **rate of change** of the state variable $x$. One typically describes this rate of change using the derivative of $x$ with respect to time ($dx/dt$) on the left hand side of the differential equation:\n",
        "\n",
        "$$\\frac{dx}{dt} = f(x)$$\n",
        "\n",
        "A common notational short-hand is to write $\\dot{x}$ for $\\frac{dx}{dt}$. The dot means \"the derivative with respect to time\".\n",
        "\n",
        "Today, the focus will be on **linear dynamics**, where $f(x)$ is a linear function of $x$. In Tutorial 1, we will:\n",
        "\n",
        "* Explore and understand the behavior of such systems where $x$ is a single variable\n",
        "* Consider cases where $\\mathbf{x}$ is a state vector representing two variables. \n"
      ]
    },
    {
      "cell_type": "markdown",
      "metadata": {
        "id": "WUhnEteZr3XK"
      },
      "source": [
        "---\n",
        "# Setup"
      ]
    },
    {
      "cell_type": "code",
      "metadata": {
        "id": "Vf9WYNgvr3XK"
      },
      "source": [
        "# Imports\n",
        "import numpy as np\n",
        "import matplotlib.pyplot as plt\n",
        "from scipy.integrate import solve_ivp  # numerical integration solver"
      ],
      "execution_count": null,
      "outputs": []
    },
    {
      "cell_type": "code",
      "metadata": {
        "cellView": "form",
        "id": "Yb754tFCr3XM"
      },
      "source": [
        "#@title Figure settings\n",
        "import ipywidgets as widgets       # interactive display\n",
        "%config InlineBackend.figure_format = 'retina'\n",
        "plt.style.use(\"https://raw.githubusercontent.com/NeuromatchAcademy/course-content/master/nma.mplstyle\")"
      ],
      "execution_count": null,
      "outputs": []
    },
    {
      "cell_type": "code",
      "metadata": {
        "id": "9oxCXeeWr3XM"
      },
      "source": [
        "#@title Helper functions\n",
        "def plot_trajectory(system, params, initial_condition, dt=0.1, T=6,\n",
        "                    figtitle=None):\n",
        "\n",
        "    \"\"\"\n",
        "    Shows the solution of a linear system with two variables in 3 plots.\n",
        "    The first plot shows x1 over time. The second plot shows x2 over time.\n",
        "    The third plot shows x1 and x2 in a phase portrait.\n",
        "\n",
        "    Args:\n",
        "      system (function): a function f(x) that computes a derivative from\n",
        "                         inputs (t, [x1, x2], *params)\n",
        "      params (list or tuple): list of parameters for function \"system\"\n",
        "      initial_condition (list or array): initial condition x0\n",
        "      dt (float): time step of simulation\n",
        "      T (float): end time of simulation\n",
        "      figtitlte (string): title for the figure\n",
        "\n",
        "    Returns:\n",
        "      nothing, but it shows a figure\n",
        "    \"\"\"\n",
        "\n",
        "    # time points for which we want to evaluate solutions\n",
        "    t = np.arange(0, T, dt)\n",
        "\n",
        "    # Integrate\n",
        "    # use built-in ode solver\n",
        "    solution = solve_ivp(system,\n",
        "                     t_span=(0, T),\n",
        "                     y0=initial_condition, t_eval=t,\n",
        "                     args=(params),\n",
        "                     dense_output=True)\n",
        "    x = solution.y\n",
        "\n",
        "    # make a color map to visualize time\n",
        "    timecolors = np.array([(1 , 0 , 0, i)  for i in t / t[-1]])\n",
        "\n",
        "    # make a large figure\n",
        "    fig, (ah1, ah2, ah3) = plt.subplots(1, 3)\n",
        "    fig.set_size_inches(10, 3)\n",
        "\n",
        "    # plot x1 as a function of time\n",
        "    ah1.scatter(t, x[0,], color=timecolors)\n",
        "    ah1.set_xlabel('time')\n",
        "    ah1.set_ylabel('x1', labelpad=-5)\n",
        "\n",
        "    # plot x2 as a function of time\n",
        "    ah2.scatter(t, x[1], color=timecolors)\n",
        "    ah2.set_xlabel('time')\n",
        "    ah2.set_ylabel('x2', labelpad=-5)\n",
        "\n",
        "    # plot x1 and x2 in a phase portrait\n",
        "    ah3.scatter(x[0,], x[1,], color=timecolors)\n",
        "    ah3.set_xlabel('x1')\n",
        "    ah3.set_ylabel('x2', labelpad=-5)\n",
        "    #include initial condition is a blue cross\n",
        "    ah3.plot(x[0,0], x[1,0], 'bx')\n",
        "\n",
        "    # adjust spacing between subplots\n",
        "    plt.subplots_adjust(wspace=0.5)\n",
        "\n",
        "    # add figure title\n",
        "    if figtitle is not None:\n",
        "      fig.suptitle(figtitle, size=16)\n",
        "\n",
        "\n",
        "def plot_streamplot(A, ax, figtitle=None):\n",
        "    \"\"\"\n",
        "    Show a stream plot for a linear ordinary differential equation with\n",
        "    state vector x=[x1,x2] in axis ax.\n",
        "\n",
        "    Args:\n",
        "      A (numpy array): 2x2 matrix specifying the dynamical system\n",
        "      figtitle (string): title for the figure\n",
        "\n",
        "    Returns:\n",
        "      nothing, but shows a figure\n",
        "    \"\"\"\n",
        "\n",
        "    # sample 20 x 20 grid uniformly to get x1 and x2\n",
        "    grid = np.arange(-20, 21, 1)\n",
        "    x1, x2 = np.meshgrid(grid, grid)\n",
        "\n",
        "    # calculate x1dot and x2dot at each grid point\n",
        "    x1dot = A[0,0] * x1 + A[0,1] * x2\n",
        "    x2dot = A[1,0] * x1 + A[1,1] * x2\n",
        "\n",
        "    # make a colormap\n",
        "    magnitude = np.sqrt(x1dot ** 2 + x2dot ** 2)\n",
        "    color = 2 * np.log1p(magnitude) #Avoid taking log of zero\n",
        "\n",
        "    # plot\n",
        "    plt.sca(ax)\n",
        "    plt.streamplot(x1, x2, x1dot, x2dot, color=color,\n",
        "                   linewidth=1, cmap=plt.cm.cividis,\n",
        "                   density=2, arrowstyle='->', arrowsize=1.5)\n",
        "    plt.xlabel(r'$x1$')\n",
        "    plt.ylabel(r'$x2$')\n",
        "\n",
        "    # figure title\n",
        "    if figtitle is not None:\n",
        "        plt.title(figtitle, size=16)\n",
        "\n",
        "    # include eigenvectors\n",
        "    if True:\n",
        "        # get eigenvalues and eigenvectors of A\n",
        "        lam, v = np.linalg.eig(A)\n",
        "\n",
        "        # get eigenvectors of A\n",
        "        eigenvector1 = v[:,0].real\n",
        "        eigenvector2 = v[:,1].real\n",
        "\n",
        "        # plot eigenvectors\n",
        "        plt.arrow(0, 0, 20*eigenvector1[0], 20*eigenvector1[1],\n",
        "                  width=0.5, color='r', head_width=2,\n",
        "                  length_includes_head=True)\n",
        "        plt.arrow(0, 0, 20*eigenvector2[0], 20*eigenvector2[1],\n",
        "                  width=0.5, color='b', head_width=2,\n",
        "                  length_includes_head=True)\n",
        "\n",
        "def plot_specific_example_stream_plots(A_options):\n",
        "    \"\"\"\n",
        "    Show a stream plot for each A in A_options\n",
        "\n",
        "    Args:\n",
        "      A (list): a list of numpy arrays (each element is A)\n",
        "\n",
        "    Returns:\n",
        "      nothing, but shows a figure\n",
        "    \"\"\"\n",
        "    # get stream plots for the four different systems\n",
        "    plt.figure(figsize=(10,10))\n",
        "\n",
        "    for i, A in enumerate(A_options):\n",
        "\n",
        "        ax = plt.subplot(2, 2, 1+i)\n",
        "        # get eigenvalues and eigenvectors\n",
        "        lam, v = np.linalg.eig(A)\n",
        "\n",
        "        # plot eigenvalues as title\n",
        "        # (two spaces looks better than one)\n",
        "        eigstr = \",  \".join([f\"{x:.2f}\" for x in lam])\n",
        "        figtitle =f\"A with eigenvalues\\n\"+ '[' + eigstr + ']'\n",
        "        plot_streamplot(A, ax, figtitle=figtitle)\n",
        "\n",
        "        # Remove y_labels on righthand plots\n",
        "        if i%2:\n",
        "          ax.set_ylabel(None)\n",
        "        if i<2:\n",
        "          ax.set_xlabel(None)\n",
        "\n",
        "        plt.subplots_adjust(wspace=0.3, hspace=0.3)"
      ],
      "execution_count": null,
      "outputs": []
    },
    {
      "cell_type": "markdown",
      "metadata": {
        "id": "gzp44Ly61-k9"
      },
      "source": [
        "# Summary of Helper functions:\n",
        "\n",
        "*plot_trajectory*:\n",
        "Shows the solution of a linear system with two variables in 3 plots based on function f(x) computing derivative from inputs and list of parameters. \n",
        "- The first plot shows x1 over time. \n",
        "- The second plot shows x2 over time.\n",
        "- The third plot shows x1 and x2 in a phase portrait.\n",
        "\n",
        "*plot_streamplot*:\n",
        "Show a stream plot for a linear ordinary differential equation with state vector x=[x1,x2] (obtained by sampling 2*2 specifying dynamical system) in axis ax.\n",
        "\n",
        "*plot_specific_example_stream_plots*:\n",
        "Show a stream plot for each A using eigenvalues and vectors. "
      ]
    },
    {
      "cell_type": "markdown",
      "metadata": {
        "id": "MysCeskGr3XO"
      },
      "source": [
        "---\n",
        "# Section 1: One-dimensional Differential Equations"
      ]
    },
    {
      "cell_type": "code",
      "metadata": {
        "cellView": "form",
        "id": "NGGajpjAr3XO",
        "colab": {
          "base_uri": "https://localhost:8080/",
          "height": 518
        },
        "outputId": "15c191ed-d84f-4df2-aa62-7ba3e3db77ed"
      },
      "source": [
        "#@title Video 1: Linear Dynamical Systems\n",
        "# Insert the ID of the corresponding youtube video\n",
        "from IPython.display import YouTubeVideo\n",
        "video = YouTubeVideo(id=\"87z6OR7-DBI\", width=854, height=480, fs=1)\n",
        "print(\"Video available at https://youtu.be/\" + video.id)\n",
        "video"
      ],
      "execution_count": 1,
      "outputs": [
        {
          "output_type": "stream",
          "text": [
            "Video available at https://youtu.be/87z6OR7-DBI\n"
          ],
          "name": "stdout"
        },
        {
          "output_type": "execute_result",
          "data": {
            "text/html": [
              "\n",
              "        <iframe\n",
              "            width=\"854\"\n",
              "            height=\"480\"\n",
              "            src=\"https://www.youtube.com/embed/87z6OR7-DBI?fs=1\"\n",
              "            frameborder=\"0\"\n",
              "            allowfullscreen\n",
              "        ></iframe>\n",
              "        "
            ],
            "text/plain": [
              "<IPython.lib.display.YouTubeVideo at 0x7f5d084c9668>"
            ],
            "image/jpeg": "[encoded data removed]"
          },
          "metadata": {
            "tags": []
          },
          "execution_count": 1
        }
      ]
    },
    {
      "cell_type": "markdown",
      "metadata": {
        "id": "-Z6XnhLL4MvI"
      },
      "source": [
        "# Summary of Video 1:\n",
        "\n",
        "- dynamical systems is the mathematics of things that change in time.\n",
        "But it has a lot in common in terms of the mathematical models that we used to describe them. \n",
        "On the size of a synapse, all the way up to\n",
        "dendrites, neurons, layers of\n",
        "different neurons working together, the connections among different brain areas,\n",
        "all the way up to the\n",
        "order of a meter which is the size of our bodies and so our nervous systems as they controlled our extremities.\n",
        "Not only does the brain have multiscale structures in space,\n",
        "it is also interesting because this multi scale dynamics in time.\n",
        "So here in our horizontal axis, we are looking at, again orders of magnitude differences in timescales.\n",
        "Usually the shortest timescale that is\n",
        "relevant for the study of neuroscience is an action potential, which is approximately one millisecond.\n",
        "It's only dynamical systems that can be expressed by the form of x dot equals ax.\n",
        "Now if X is not just a single state variable,\n",
        "but more than one state variable, we can express it as an x vector, a state vector.\n",
        "if this is a linear higher dimensional dynamical system,\n",
        "then we have instead of a number 'a' we have a matrix bold A which is\n",
        "something that tells us about all of the linear dynamics that happens in the system.\n",
        "Deterministic means that there is no element of chance in these dynamical systems. Their systems are changing time or where you can specify and write\n",
        "down exactly what's going to happen as a function of time."
      ]
    },
    {
      "cell_type": "markdown",
      "metadata": {
        "id": "sg3RQ8MBr3XP"
      },
      "source": [
        "\n",
        "\n",
        "Let's start by reminding ourselves of a one-dimensional differential equation in $x$ of the form \n",
        "\n",
        "$$\\dot{x} = a x$$ \n",
        "\n",
        "where $a$ is a scalar. \n",
        "\n",
        "Solutions for how $x$ evolves in time when its dynamics are governed by such a differential equation take the form\n",
        "\n",
        "$$x(t) = x_0\\exp(a t)$$\n",
        "\n",
        "where $x_0$ is the **initial condition** of the equation -- that is, the value of $x$ at time $0$.\n",
        "\n",
        "To gain further intuition, let's explore the behavior of such systems with a simple simulation. We can simulate an ordinary differential equation by approximating or modelling time as a discrete list of time steps $t_0, t_1, t_2, \\dots$, such that $t_{i+1}=t_i+dt$. We can get the small change $dx$ over a small duration $dt$ of time from the definition of the differential:\n",
        "\n",
        "$$ \\\n",
        "\\begin{eqnarray}\n",
        "  \\dot x &=& \\frac{dx}{dt} \\\\\n",
        "  dx     &=& \\dot x\\, dt  \\\\\n",
        "\\end{eqnarray}\n",
        "$$\n",
        "\n",
        "So, at each time step $t_i$, we compute a value of $x$, $x(t_i)$, as the sum of the value of $x$ at the previous time step, $x(t_{i-1})$ and a small change $dx=\\dot x\\,dt$:\n",
        "\n",
        "$$x(t_i)=x(t_{i-1})+\\dot x(t_{i-1}) dt$$\n",
        "\n",
        "This very simple integration scheme, known as **forward Euler integration**, works well if $dt$ is small and the ordinary differential equation is simple. It can run into issues when the ordinary differential equation is very noisy or when the dynamics include sudden big changes of $x$. Such big jumps can occur, for example, in models of excitable neurons. In such cases, one needs to choose an integration scheme carefully. However, for our simple system, the simple integration scheme should work just fine! \n"
      ]
    },
    {
      "cell_type": "markdown",
      "metadata": {
        "id": "8Wc7JSdWr3XP"
      },
      "source": [
        "## Exercise 1 (1A): Forward Euler Integration\n",
        "\n",
        "In this exercise, we will complete a function, ``integrate_exponential``, to compute the solution of the differential equation $\\dot{x} = a x$ using forward Euler integration. We will then plot this solution over time.\n",
        "\n",
        "\n",
        "\n"
      ]
    },
    {
      "cell_type": "code",
      "metadata": {
        "cellView": "code",
        "id": "SaPoc9Yur3XP"
      },
      "source": [
        "def integrate_exponential(a, x0, dt, T):\n",
        "  \"\"\"Compute solution of the differential equation xdot=a*x with\n",
        "  initial condition x0 for a duration T. Use time step dt for numerical\n",
        "  solution.\n",
        "\n",
        "  Args:\n",
        "    a (scalar): parameter of xdot (xdot=a*x)\n",
        "    x0 (scalar): initial condition (x at time 0)\n",
        "    dt (scalar): timestep of the simulation\n",
        "    T (scalar): total duration of the simulation\n",
        "\n",
        "  Returns:\n",
        "    ndarray, ndarray: `x` for all simulation steps and the time `t` at each step\n",
        "  \"\"\"\n",
        "\n",
        "  # Initialize variables\n",
        "  t = np.arange(0, T, dt)\n",
        "  x = np.zeros_like(t, dtype=complex)\n",
        "  x[0] = x0 # This is x at time t_0\n",
        "\n",
        "  # Step through system and integrate in time\n",
        "  for k in range(1, len(t)):\n",
        "\n",
        "    ###################################################################\n",
        "    ## Fill out the following then remove\n",
        "    raise NotImplementedError(\"Student exercise: need to implement simulation\")\n",
        "    ###################################################################\n",
        "\n",
        "    # for each point in time, compute xdot from x[k-1]\n",
        "    xdot = ...\n",
        "\n",
        "    # Update x based on x[k-1] and xdot\n",
        "    x[k] = ...\n",
        "\n",
        "  return x, t\n",
        "\n",
        "\n",
        "# choose parameters\n",
        "a = -0.5    # parameter in f(x)\n",
        "T = 10      # total Time duration\n",
        "dt = 0.001  # timestep of our simulation\n",
        "x0 = 1.     # initial condition of x at time 0\n",
        "\n",
        "# Uncomment once you've filled in code above\n",
        "# x, t = integrate_exponential(a, x0, dt, T)\n",
        "# plt.plot(t, x.real)\n",
        "# plt.xlabel('Time (s)')\n",
        "# plt.ylabel('x')"
      ],
      "execution_count": null,
      "outputs": []
    },
    {
      "cell_type": "code",
      "metadata": {
        "id": "BydxHIomr3XR"
      },
      "source": [
        "# to_remove solution\n",
        "def integrate_exponential(a, x0, dt, T):\n",
        "  \"\"\"Compute solution of the differential equation xdot=a*x with\n",
        "  initial condition x0 for a duration T. Use time step dt for numerical\n",
        "  solution.\n",
        "\n",
        "  Args:\n",
        "    a (scalar): parameter of xdot (xdot=a*x)\n",
        "    x0 (scalar): initial condition (x at time 0)\n",
        "    dt (scalar): timestep of the simulation\n",
        "    T (scalar): total duration of the simulation\n",
        "\n",
        "  Returns:\n",
        "    ndarray, ndarray: `x` for all simulation steps and the time `t` at each step\n",
        "  \"\"\"\n",
        "\n",
        "  # Initialize variables\n",
        "  t = np.arange(0, T, dt)\n",
        "  x = np.zeros_like(t, dtype=complex)\n",
        "  x[0] = x0 # This is x at time t_0\n",
        "\n",
        "  # Step through system and integrate in time\n",
        "  for k in range(1, len(t)):\n",
        "    # for each point in time, compute xdot from x[k-1]\n",
        "    xdot = (a*x[k-1])\n",
        "\n",
        "    # Update x based on x[k-1] and xdot\n",
        "    x[k] = x[k-1] +  xdot * dt\n",
        "\n",
        "  return x, t\n",
        "\n",
        "# choose parameters\n",
        "a = -0.5    # parameter in f(x)\n",
        "T = 10      # total Time duration\n",
        "dt = 0.001  # timestep of our simulation\n",
        "x0 = 1.     # initial condition of x at time 0\n",
        "\n",
        "# Uncomment once you've filled in code above\n",
        "x, t = integrate_exponential(a, x0, dt, T)\n",
        "with plt.xkcd():\n",
        "  plt.plot(t, x.real)\n",
        "  plt.xlabel('Time (s)')\n",
        "  plt.ylabel('x')"
      ],
      "execution_count": null,
      "outputs": []
    },
    {
      "cell_type": "markdown",
      "metadata": {
        "id": "F6tCxbd9r3XS"
      },
      "source": [
        "## Interactive Demo: Forward Euler Integration\n",
        "\n",
        " What happens when you change $a$? Try values where $a<0$ and $a>0$. \n",
        " \n",
        " The $dt$ is the step size of the forward Euler integration. Try $a = -1.5$ and increase $dt$. What happens to the numerical solution when you increase $dt$?"
      ]
    },
    {
      "cell_type": "code",
      "metadata": {
        "cellView": "form",
        "id": "fPBjOICZr3XS"
      },
      "source": [
        "#@title\n",
        "\n",
        "#@markdown Make sure you execute this cell to enable the widget!\n",
        "\n",
        "T = 10      # total Time duration\n",
        "x0 = 1.     # initial condition of x at time 0\n",
        "\n",
        "@widgets.interact\n",
        "def plot_euler_integration(a=(-2.5, 1.5, .25), dt = widgets.SelectionSlider(options=[(\"%g\"%i,i) for i in np.arange(0.001, 1.001, 0.01)])):\n",
        "  # Have to do this clunky word around to show small values in slider accurately\n",
        "  # (from https://github.com/jupyter-widgets/ipywidgets/issues/259)\n",
        "\n",
        "  x, t = integrate_exponential(a, x0, dt, T)\n",
        "  plt.plot(t, x.real) # integrate_exponential returns complex\n",
        "  plt.xlabel('Time (s)')\n",
        "  plt.ylabel('x')"
      ],
      "execution_count": null,
      "outputs": []
    },
    {
      "cell_type": "code",
      "metadata": {
        "id": "9FEbpQRfr3XT"
      },
      "source": [
        "# to_remove explanation\n",
        "\n",
        "\"\"\"\n",
        "For a<0, the solution decays in time.\n",
        "For a>0, the solution grows in time.\n",
        "For a=0, the solution stays at 1 (and is stable).\n",
        "\n",
        "For small-ish dt, the solution still looks the same.\n",
        "As dt gets bigger, the solution starts to look choppier and is no longer smooth,\n",
        "but still has mostly the right trends.\n",
        "For a = 0.15, as dt gets above 0.7 or so, we start to see the forward Euler\n",
        "integration start to actually break down. Specifically, the solution is no\n",
        "longer decreasing monotonically and has developed an erroneous dip below zero.\n",
        "\n",
        "The more general lesson is that, for each system, there is a dt threshold\n",
        "above which the simulation introduces numerical artifacts and no longer behaves\n",
        "as an accurate estimate of the true underlying system. We may tolerate some\n",
        "choppiness in the solution, but eventually qualitatively wrong things creep in!\n",
        "\"\"\";"
      ],
      "execution_count": null,
      "outputs": []
    },
    {
      "cell_type": "markdown",
      "metadata": {
        "id": "0isVfU_gr3XT"
      },
      "source": [
        "---\n",
        "# Section 2: Oscillatory Dynamics\n",
        "\n"
      ]
    },
    {
      "cell_type": "code",
      "metadata": {
        "cellView": "form",
        "id": "Vx8vaUQYr3XU",
        "colab": {
          "base_uri": "https://localhost:8080/",
          "height": 518
        },
        "outputId": "61a02737-3973-40c6-d43e-cc73395521df"
      },
      "source": [
        "#@title Video 2: Oscillatory Solutions\n",
        "# Insert the ID of the corresponding youtube video\n",
        "from IPython.display import YouTubeVideo\n",
        "video = YouTubeVideo(id=\"vPYQPI4nKT8\", width=854, height=480, fs=1)\n",
        "print(\"Video available at https://youtu.be/\" + video.id)\n",
        "video"
      ],
      "execution_count": 2,
      "outputs": [
        {
          "output_type": "stream",
          "text": [
            "Video available at https://youtu.be/vPYQPI4nKT8\n"
          ],
          "name": "stdout"
        },
        {
          "output_type": "execute_result",
          "data": {
            "text/html": [
              "\n",
              "        <iframe\n",
              "            width=\"854\"\n",
              "            height=\"480\"\n",
              "            src=\"https://www.youtube.com/embed/vPYQPI4nKT8?fs=1\"\n",
              "            frameborder=\"0\"\n",
              "            allowfullscreen\n",
              "        ></iframe>\n",
              "        "
            ],
            "text/plain": [
              "<IPython.lib.display.YouTubeVideo at 0x7f5d07c7bc88>"
            ],
            "image/jpeg": "[encoded data removed]"
          },
          "metadata": {
            "tags": []
          },
          "execution_count": 2
        }
      ]
    },
    {
      "cell_type": "markdown",
      "metadata": {
        "id": "qTg2deI0uSGq"
      },
      "source": [
        "# Summary of Video 2:\n",
        "\n",
        "exploring the behavior of a\n",
        "one-dimensional deterministic linear system,\n",
        "with exponential growth and decay.\n",
        "the growth and decay of the behavior of\n",
        "the system is entirely dependent on the real component of lambda (complex).\n",
        "And if a is greater than zero, the system is growing. If a is less than zero, the\n",
        "system is decaying just like before when lambda had been a strictly real valued number.\n",
        "If a is zero, then the whole system is stable, and it keeps doing exactly the same thing for the indefinite future.\n",
        "'b', the imaginary component now determines the frequency of oscillation.\n",
        "\n",
        "We will now\n",
        "explore the behavior of the system as it's determined by the parameter lambda where lambda is allowed to be complex valued.\n",
        "So now not only do we have exponential growth and decay, we can have oscillations.\n"
      ]
    },
    {
      "cell_type": "markdown",
      "metadata": {
        "id": "_Ir-5ML6r3XU"
      },
      "source": [
        "We will now explore what happens when $a$ is a complex number and has a non-zero imaginary component."
      ]
    },
    {
      "cell_type": "markdown",
      "metadata": {
        "id": "VHLz-Xr1r3XU"
      },
      "source": [
        "## Interactive Demo: Oscillatory Dynamics\n",
        "In the following demo, you can change the real part and imaginary part of $a$ (so a = real + imaginary i)\n"
      ]
    },
    {
      "cell_type": "code",
      "metadata": {
        "cellView": "form",
        "id": "IdtrQruPr3XU"
      },
      "source": [
        "#@title\n",
        "\n",
        "#@markdown Make sure you execute this cell to enable the widget!\n",
        "\n",
        "# parameters\n",
        "T = 5         # total Time duration\n",
        "dt = 0.0001      # timestep of our simulation\n",
        "x0 = 1.        # initial condition of x at time 0\n",
        "\n",
        "@widgets.interact\n",
        "def plot_euler_integration(real=(-2, 2, .2), imaginary=(-4, 7, .1)):\n",
        "\n",
        "  a = complex(real, imaginary)\n",
        "  x, t = integrate_exponential(a, x0, dt, T)\n",
        "  plt.plot(t, x.real) #integrate exponential returns complex\n",
        "  plt.grid(True)\n",
        "  plt.xlabel('Time (s)')\n",
        "  plt.ylabel('x')"
      ],
      "execution_count": null,
      "outputs": []
    },
    {
      "cell_type": "markdown",
      "metadata": {
        "id": "lBhdwQQlr3XV"
      },
      "source": [
        "## Exercise 2 (1B): Finding Oscillatory Solutions\n",
        "Using the demo above, answer the following: \n",
        "- What values of $a$ produce dynamics that both ***oscillate*** and ***grow***?\n",
        "- What value of $a$ is needed to produce a stable oscillation of 0.5 Hertz (cycles/time units)?"
      ]
    },
    {
      "cell_type": "code",
      "metadata": {
        "id": "zMtSYTOjr3XV"
      },
      "source": [
        "# to_remove explanation\n",
        "\"\"\"\n",
        "To make the system both oscillate and grow, real has to be positive,\n",
        "and imaginary has to be not zero.\n",
        "\n",
        "Stable oscillation of 0.5 Hz (half a cycle per unit time, or one cycle per two\n",
        "unit time) is achieved with real = 0 and imagineary = +/- pi\n",
        "(approximately 3.1 or -3.1).\n",
        "\n",
        "Note: For really large values of the imaginary component, the numerical\n",
        "integration scheme breaks down a bit, and we see non-stable oscillations\n",
        "even when real=0. This is a numerical artifact of the forward Euler scheme.\n",
        "Some of the students may discover this if they push the parameters, but I've\n",
        "tried to constrain the widget so that it is not obvious, as it is not the point\n",
        "of this exercise.\n",
        "\n",
        "\"\"\";"
      ],
      "execution_count": null,
      "outputs": []
    },
    {
      "cell_type": "markdown",
      "metadata": {
        "id": "FusPmf9jr3XV"
      },
      "source": [
        "---\n",
        "# Section 3: Deterministic Linear Dynamics in Two Dimensions"
      ]
    },
    {
      "cell_type": "code",
      "metadata": {
        "cellView": "form",
        "id": "GDiQ7agfr3XV",
        "colab": {
          "base_uri": "https://localhost:8080/",
          "height": 518
        },
        "outputId": "91ec71fb-ef1f-4d85-b383-4a35a43af073"
      },
      "source": [
        "#@title Video 3: Multi-Dimensional Dynamics\n",
        "# Insert the ID of the corresponding youtube video\n",
        "from IPython.display import YouTubeVideo\n",
        "video = YouTubeVideo(id=\"c_GdNS3YH_M\", width=854, height=480, fs=1)\n",
        "print(\"Video available at https://youtu.be/\" + video.id)\n",
        "video"
      ],
      "execution_count": 1,
      "outputs": [
        {
          "output_type": "stream",
          "text": [
            "Video available at https://youtu.be/c_GdNS3YH_M\n"
          ],
          "name": "stdout"
        },
        {
          "output_type": "execute_result",
          "data": {
            "text/html": [
              "\n",
              "        <iframe\n",
              "            width=\"854\"\n",
              "            height=\"480\"\n",
              "            src=\"https://www.youtube.com/embed/c_GdNS3YH_M?fs=1\"\n",
              "            frameborder=\"0\"\n",
              "            allowfullscreen\n",
              "        ></iframe>\n",
              "        "
            ],
            "text/plain": [
              "<IPython.lib.display.YouTubeVideo at 0x7f86c32656a0>"
            ],
            "image/jpeg": "[encoded data removed]"
          },
          "metadata": {
            "tags": []
          },
          "execution_count": 1
        }
      ]
    },
    {
      "cell_type": "markdown",
      "metadata": {
        "id": "xxuaOoE11CDc"
      },
      "source": [
        "# Summary of Video 3:\n",
        "\n",
        "So, when you consider the dynamical systems of more than one variable,\n",
        "the simplest possible thing is just write them down separately. And that works quite well as long as they have nothing\n",
        "to do with each other.\n",
        "instead of having just a state x,\n",
        "we have a state vector, which is x1 and x2 stacked on top of each other.\n",
        "\n",
        "Now, in this two dimensional\n",
        "deterministic linear dynamical system,  behavior of the system depends on the eigenvalues and eigenvectors of my matrix 'A'.\n",
        "write down the solution for this two dimensional\n",
        "deterministic linear system as a weighted sum of the eigen decomposition.\n",
        "the eigen decomposition is a really important concept here because it allows us to determine\n",
        "separate directions in which the\n",
        "linear dynamical system changes and value of lambda 1 and lambda 2 tells you about the direction of the growth. \n",
        "And the eigenvectors,\n",
        "tell you about the spatial dimensions in which those changes are taking place.\n",
        "- synthesizing all that information.\n",
        "in a phase portrait or a stream plot;\n",
        "these arrows which tells us about the flow of the system \n",
        "If one of the eigenvalues is positive and the other one is not positive, its negative. Then we have something that's called a saddle.\n",
        "- stable, decaying in one direction but\n",
        "unstable and exponentially growing in the opposite direction.\n",
        "If my eigenvalues have an imaginary component,\n",
        "there are actually degenerate eigenvectors because they're exactly the same.\n",
        "- stable oscillations in the\n",
        "context of a two dimensional dynamical system actually gives you orbits and these types of\n",
        "behaviors are convenient for modeling\n",
        "cyclic behaviors.\n",
        "So for example,\n",
        "neurons that fire and then slow down and fire and slow down,\n",
        "the people also use these for modeling systems of cyclic behaviors such as rhythmic walking of all kinds.\n",
        "\n",
        "Exercise is to simulate two-dimensional deterministic linear\n",
        "dynamical systems and visualizing these behaviors as\n",
        "trajectories in time and connect that with a four phase portrait description of things and then explore\n",
        "qualitatively at least the behavior of these systems and goal is to develop an understanding of\n",
        "how these behaviors are connected to the eigenvalues and eigenvectors of the matrix 'A'.\n"
      ]
    },
    {
      "cell_type": "markdown",
      "metadata": {
        "id": "ItIogaIYr3XW"
      },
      "source": [
        "Adding one additional variable (or _dimension_) adds more variety of behaviors. Additional variables are useful in modeling the dynamics of more complex systems with richer behaviors, such as systems of multiple neurons. We can write such a system using two linear ordinary differential equations:\n",
        "$$\n",
        "\\begin{eqnarray}\n",
        "  \\dot{x}_1 &=& {a}_{11} x_1 \\\\\n",
        "  \\dot{x}_2 &=& {a}_{22} x_2 \\\\\n",
        "\\end{eqnarray}\n",
        "$$\n",
        "So far, this system consists of two variables (e.g. neurons) in isolation. To make things interesting, we can add interaction terms:\n",
        "$$\n",
        "\\begin{eqnarray}\n",
        "  \\dot{x}_1 &=& {a}_{11} x_1 + {a}_{12} x_2 \\\\\n",
        "  \\dot{x}_2 &=& {a}_{21} x_1 + {a}_{22} x_2 \\\\\n",
        "\\end{eqnarray}\n",
        "$$\n",
        "We can write the two equations that describe our system as one (vector-valued) linear ordinary differential equation:\n",
        "\n",
        "$$\\dot{\\mathbf{x}} = \\mathbf{A} \\mathbf{x}$$\n",
        "\n",
        "For two-dimensional systems, $\\mathbf{x}$ is a vector with 2 elements ($x_1$ and $x_2$) and $\\mathbf{A}$ is a $2 \\times 2$ matrix with $\\mathbf{A}=\\bigg[\\begin{array} & a_{11} & a_{12} \\\\ a_{21} & a_{22} \\end{array} \\bigg]$."
      ]
    },
    {
      "cell_type": "markdown",
      "metadata": {
        "id": "4YPwCU5sr3XW"
      },
      "source": [
        "## Exercise 3 (1C): Sample trajectories in 2 dimensions\n",
        "\n",
        "\n",
        "We want to simulate some **trajectories** of a given system and plot how  𝑥1  and  𝑥2  evolve in time. We will begin with this example system:\n",
        "\n",
        "$$\\dot{\\mathbf{x}} = \\bigg[\\begin{array} &2 & -5 \\\\ 1 & -2 \\end{array} \\bigg] \\mathbf{x}$$\n",
        "\n",
        "We will use an integrator from scipy, so we won't have to solve the system ourselves. We have a helper function, ``plot_trajectory``, that plots these trajectories given a system function. In this exercise, we will write the system function for a linear system with two variables. \n",
        "\n",
        "\n"
      ]
    },
    {
      "cell_type": "code",
      "metadata": {
        "id": "F19R0-fWr3XX"
      },
      "source": [
        "def system(t, x, a00, a01, a10, a11):\n",
        "    '''\n",
        "    Compute the derivative of the state x at time t for a linear\n",
        "    differential equation with A matrix [[a00, a01], [a10, a11]].\n",
        "\n",
        "    Args:\n",
        "      t (float): time\n",
        "      x (ndarray): state variable\n",
        "      a00, a01, a10, a11 (float): parameters of the system\n",
        "\n",
        "    Returns:\n",
        "      ndarray: derivative xdot of state variable x at time t\n",
        "    '''\n",
        "    #################################################\n",
        "    ## TODO for students: Compute xdot1 and xdot2 ##\n",
        "    ## Fill out the following then remove\n",
        "    raise NotImplementedError(\"Student exercise: say what they should have done\")\n",
        "    #################################################\n",
        "\n",
        "    # compute x1dot and x2dot\n",
        "    x1dot = ...\n",
        "    x2dot = ...\n",
        "\n",
        "    return np.array([x1dot, x2dot])\n",
        "\n",
        "\n",
        "T = 6 # total time duration\n",
        "dt = 0.1 # timestep of our simulation\n",
        "A = np.array([[2, -5],\n",
        "              [1, -2]])\n",
        "x0 = [-0.1, 0.2]\n",
        "\n",
        "# Uncomment once the system function is complete\n",
        "# plot_trajectory(system, [A[0,0],A[0,1],A[1,0],A[1,1]], x0, dt=dt, T=T)"
      ],
      "execution_count": null,
      "outputs": []
    },
    {
      "cell_type": "code",
      "metadata": {
        "id": "3mF41m47r3XX"
      },
      "source": [
        "# to_remove solution\n",
        "def system(t, x, a00, a01, a10, a11):\n",
        "    '''\n",
        "    Compute the derivative of the state x at time t for a linear\n",
        "    differential equation with A matrix [[a00, a01], [a10, a11]].\n",
        "\n",
        "    Args:\n",
        "      t (float): time\n",
        "      x (ndarray): state variable\n",
        "      a00, a01, a10, a11 (float): parameters of the system\n",
        "\n",
        "    Returns:\n",
        "      ndarray: derivative xdot of state variable x at time t\n",
        "    '''\n",
        "\n",
        "    # compute x1dot and x2dot\n",
        "    x1dot = a00 * x[0] + a01 * x[1]\n",
        "    x2dot = a10 * x[0] + a11 * x[1]\n",
        "\n",
        "    return np.array([x1dot, x2dot])\n",
        "\n",
        "T = 6 # total time duration\n",
        "dt = 0.1 # timestep of our simulation\n",
        "A = np.array([[2, -5],\n",
        "              [1, -2]])\n",
        "x0 = [-0.1, 0.2]\n",
        "\n",
        "# Uncomment once the system function is complete\n",
        "plot_trajectory(system, [A[0,0],A[0,1],A[1,0],A[1,1]], x0, dt=dt, T=T)"
      ],
      "execution_count": null,
      "outputs": []
    },
    {
      "cell_type": "markdown",
      "metadata": {
        "id": "Z9hmXBTkr3XX"
      },
      "source": [
        "## Interactive Demo: Varying A\n",
        "\n",
        "We will now use the function we created in the last exercise to plot trajectories with different options for A. What kinds of qualitatively different dynamics do you observe? Hint: Keep an eye on the x-axis and y-axis!"
      ]
    },
    {
      "cell_type": "code",
      "metadata": {
        "cellView": "form",
        "id": "47vLmCwvr3XY"
      },
      "source": [
        "#@title\n",
        "\n",
        "#@markdown Make sure you execute this cell to enable the widget!\n",
        "\n",
        "# parameters\n",
        "T = 6      # total Time duration\n",
        "dt = 0.1   # timestep of our simulation\n",
        "x0 = np.asarray([-0.1, 0.2])        # initial condition of x at time 0\n",
        "\n",
        "A_option_1 = [[2, -5],[1, -2]]\n",
        "A_option_2 = [[3,4], [1, 2]]\n",
        "A_option_3 = [[-1, -1], [0, -0.25]]\n",
        "A_option_4 = [[3, -2],[2, -2]]\n",
        "\n",
        "@widgets.interact\n",
        "def plot_euler_integration(A = widgets.Dropdown(\n",
        "  options=[A_option_1, A_option_2, A_option_3, A_option_4, None],\n",
        "  value=A_option_1\n",
        ")):\n",
        "  if A:\n",
        "    plot_trajectory(system, [A[0][0],A[0][1],A[1][0],A[1][1]], x0, dt=dt, T=T)"
      ],
      "execution_count": null,
      "outputs": []
    },
    {
      "cell_type": "code",
      "metadata": {
        "id": "l9K0mIKWr3XY"
      },
      "source": [
        "# to_remove explanation\n",
        "\"\"\"\n",
        "\n",
        "Students should observe exponential growth to positive values, exponential\n",
        "growth to negative values, stable oscillations, and decay to the origin.\n",
        "\n",
        "\"\"\";"
      ],
      "execution_count": null,
      "outputs": []
    },
    {
      "cell_type": "markdown",
      "metadata": {
        "id": "ezPXT5B-r3XY"
      },
      "source": [
        "## Interactive Demo: Varying Initial Conditions\n",
        "\n",
        "We will now vary the initial conditions for a given $\\mathbf{A}$:\n",
        "\n",
        "$$\\dot{\\mathbf{x}} = \\bigg[\\begin{array} &2 & -5 \\\\ 1 & -2 \\end{array} \\bigg] \\mathbf{x}$$\n",
        "\n",
        "What kinds of qualitatively different dynamics do you observe? Hint: Keep an eye on the x-axis and y-axis!"
      ]
    },
    {
      "cell_type": "code",
      "metadata": {
        "cellView": "form",
        "id": "0hiMZBfOr3XY"
      },
      "source": [
        "#@title\n",
        "\n",
        "#@markdown Make sure you execute this cell to enable the widget!\n",
        "\n",
        "# parameters\n",
        "T = 6      # total Time duration\n",
        "dt = 0.1   # timestep of our simulation\n",
        "x0 = np.asarray([-0.1, 0.2])        # initial condition of x at time 0\n",
        "A = [[2, -5],[1, -2]]\n",
        "\n",
        "x0_option_1 = [-.1, 0.2]\n",
        "x0_option_2 = [10, 10]\n",
        "x0_option_3 = [-4, 3]\n",
        "\n",
        "@widgets.interact\n",
        "def plot_euler_integration(x0 = widgets.Dropdown(\n",
        "  options=[x0_option_1, x0_option_2, x0_option_3, None],\n",
        "  value=x0_option_1\n",
        ")):\n",
        "  if x0:\n",
        "    plot_trajectory(system, [A[0][0],A[0][1],A[1][0],A[1][1]], x0, dt=dt, T=T)"
      ],
      "execution_count": null,
      "outputs": []
    },
    {
      "cell_type": "code",
      "metadata": {
        "id": "4F2-qOdVr3XY"
      },
      "source": [
        "# to_remove explanation\n",
        "\"\"\"\n",
        "Changing the initial conditions for this A always produces oscillatory\n",
        "dynamics. The only difference is the radii of the resulting elliptical\n",
        "trajectories.\n",
        "\n",
        "\"\"\";"
      ],
      "execution_count": null,
      "outputs": []
    },
    {
      "cell_type": "markdown",
      "metadata": {
        "id": "ymt_IK8Ir3Xa"
      },
      "source": [
        "---\n",
        "# Section 4: Stream Plots"
      ]
    },
    {
      "cell_type": "markdown",
      "metadata": {
        "id": "se3N890dr3Xa"
      },
      "source": [
        "It's a bit tedious to plot trajectories one initial condition at a time!\n",
        "\n",
        "Fortunately, to get an overview of how a grid of initial conditions affect trajectories of a system, we can use a _stream plot_. \n",
        "\n",
        "We can think of a initial condition ${\\bf x}_0=(x_{1_0},x_{2_0})$  as coordinates for a position in a space. For a 2x2 matrix $\\bf A$, a stream plot computes at each position $\\bf x$ a small arrow that indicates $\\bf Ax$ and then connects the small arrows to form _stream lines_. Remember from the beginning of this tutorial that $\\dot {\\bf x} = \\bf Ax$ is the rate of change of $\\bf x$. So the stream lines indicate how a system changes. If you are interested in a particular initial condition ${\\bf x}_0$, just find the corresponding position in the stream plot. The stream line that goes through that point in the stream plot indicates ${\\bf x}(t)$."
      ]
    },
    {
      "cell_type": "markdown",
      "metadata": {
        "id": "1F1h6vI6r3Xa"
      },
      "source": [
        "Using some helper functions, we show the stream plots for each option of A that you examined in the earlier interactive demo. We included the eigenvectors of $\\bf A$ as a red line (1st eigenvalue) and a blue line (2nd eigenvalue) in the stream plots.\n"
      ]
    },
    {
      "cell_type": "code",
      "metadata": {
        "id": "fE61s0Lpr3Xa"
      },
      "source": [
        "A_option_1 = np.array([[2, -5], [1, -2]])\n",
        "A_option_2 = np.array([[3,4], [1, 2]])\n",
        "A_option_3 = np.array([[-1, -1], [0, -0.25]])\n",
        "A_option_4 = np.array([[3, -2], [2, -2]])\n",
        "\n",
        "A_options = [A_option_1, A_option_2, A_option_3, A_option_4]\n",
        "plot_specific_example_stream_plots(A_options)"
      ],
      "execution_count": null,
      "outputs": []
    },
    {
      "cell_type": "markdown",
      "metadata": {
        "id": "RzHW8Zsar3Xa"
      },
      "source": [
        "### Think\n",
        "\n",
        "What is special about the direction in which the principal eigenvector points? And how does the stability of the system relate to the corresponding eigenvalues? (Hint: Remember from your [introduction to linear algebra](https://www.youtube.com/watch?v=PFDu9oVAE-g&list=PLZHQObOWTQDPD3MizzM2xVFitgF8hE_ab&index=15&t=0s) that, for matrices with real eigenvalues, the eigenvectors indicate the lines on which $\\bf Ax$ is parallel to $\\bf x$ and real eigenvalues indicate the factor by which $\\bf Ax$ is stretched or shrunk compared to $\\bf x$.)"
      ]
    },
    {
      "cell_type": "code",
      "metadata": {
        "id": "j-WIDIG4r3Xa"
      },
      "source": [
        "#### Jot downs some thoughts here ###"
      ],
      "execution_count": null,
      "outputs": []
    },
    {
      "cell_type": "code",
      "metadata": {
        "id": "8-rl2BWgr3Xb"
      },
      "source": [
        "# to_remove explanation\n",
        "\"\"\"\n",
        "In top-left A, both eigenvalues are imaginary (no real component, the two\n",
        "eigenvalues are complex conjugate pairs), so the solutions are all stable\n",
        "oscillations. The eigenvectors are also complex conjugate pairs (that's why\n",
        "we see them plotted on top of each other). They point in the direction of the\n",
        "major axis of the elliptical trajectories.\n",
        "\n",
        "In the top-right A, both eigenvalues are positive, so they are growing. The larger\n",
        "eigenvalue direction (red) grows faster than the other direction (blue),\n",
        "so trajectories all eventually follow the red eigenvector direction. Those that\n",
        "start close to the blue direction follow blue for a bit initially.\n",
        "\n",
        "In the bottom-left A, both eigenvalues are negative, so they are both decaying.\n",
        "All solutions decay towards the origin [0, 0]. The red eigenvalue is larger in\n",
        "magnitude, so decay is faster along the red eigenvector.\n",
        "\n",
        "In the bottm-right A, one eigenvalue is positive (red) and one eigenvalue is negative\n",
        "(blue). This makes the shape of the landscape the shape of a saddle (named after\n",
        "the saddle that one puts on a horse for a rider). Trajectories decay along the\n",
        "blue eigenvector but grow along the red eigenvector.\n",
        "\n",
        "\n",
        "\"\"\";"
      ],
      "execution_count": null,
      "outputs": []
    },
    {
      "cell_type": "markdown",
      "metadata": {
        "id": "zJEZlSQVr3Xb"
      },
      "source": [
        "---\n",
        "# Summary\n",
        "\n",
        "In this tutorial, we learned:\n",
        "\n",
        "* How to simulate the trajectory of a dynamical system specified by a differential equation $\\dot{x} = f(x)$ using a forward Euler integration scheme. \n",
        "* The behavior of a one-dimensional linear dynamical system $\\dot{x} = a x$ is determined by $a$, which may be a complex valued number. Knowing $a$, we know about the stability and oscillatory dynamics of the system.\n",
        "* The dynamics of high-dimensional linear dynamical systems $\\dot{\\mathbf{x}} = \\mathbf{A} \\mathbf{x}$ can be understood using the same intuitions, where we can summarize the behavior of the trajectories using the eigenvalues and eigenvectors of $\\mathbf{A}$."
      ]
    }
  ]
}