{
  "nbformat": 4,
  "nbformat_minor": 0,
  "metadata": {
    "colab": {
      "name": "Copy of W3D4_Tutorial1",
      "provenance": [],
      "collapsed_sections": [],
      "toc_visible": true
    },
    "kernel": {
      "display_name": "Python 3",
      "language": "python",
      "name": "python3"
    },
    "kernelspec": {
      "display_name": "Python 3",
      "language": "python",
      "name": "python3"
    },
    "language_info": {
      "codemirror_mode": {
        "name": "ipython",
        "version": 3
      },
      "file_extension": ".py",
      "mimetype": "text/x-python",
      "name": "python",
      "nbconvert_exporter": "python",
      "pygments_lexer": "ipython3",
      "version": "3.7.8"
    }
  },
  "cells": [
    {
      "cell_type": "markdown",
      "metadata": {
        "id": "FJLwUhKX5X1K"
      },
      "source": [
        "# Neuromatch Academy: Week 3, Day 4, Tutorial 1\n",
        "# Deep Learning: Decoding Neural Responses\n",
        "\n",
        "**Content creators**: Jorge A. Menendez, Carsen Stringer\n",
        "\n",
        "**Content reviewers**: Roozbeh Farhoodi,  Madineh Sarvestani, Kshitij Dwivedi, Spiros Chavlis, Ella Batty, Michael Waskom\n"
      ]
    },
    {
      "cell_type": "markdown",
      "metadata": {
        "id": "_Kw22Z0Q5X1T"
      },
      "source": [
        "---\n",
        "# Tutorial Objectives\n",
        "In this tutorial, we'll use deep learning to decode stimulus information from the responses of sensory neurons. Specifically, we'll look at the activity of ~20,000 neurons in mouse primary visual cortex responding to oriented gratings recorded in [this study](https://www.biorxiv.org/content/10.1101/679324v2.abstract). Our task will be to decode the orientation of the presented stimulus from the responses of the whole population of neurons. We could do this in a number of ways, but here we'll use deep learning. Deep learning is particularly well-suited to this problem for a number of reasons:\n",
        "* The data are very high-dimensional: the neural response to a stimulus is a ~20,000 dimensional vector. Many machine learning techniques fail in such high dimensions, but deep learning actually thrives in this regime, as long as you have enough data (which we do here!).\n",
        "* As you'll be able to see below, different neurons can respond quite differently to stimuli. This complex pattern of responses will, therefore, require non-linear methods to be decoded, which we can easily do with non-linear activation functions in deep networks.\n",
        "* Deep learning architectures are highly flexible, meaning we can easily adapt the architecture of our decoding model to optimize decoding. Here, we'll focus on a single architecture, but you'll see that it can easily be modified with few changes to the code.\n",
        "\n",
        "More concretely, our goal will be learn how to:\n",
        "* Build a deep feed-forward network using PyTorch\n",
        "* Evaluate the network's outputs using PyTorch built-in loss functions\n",
        "* Compute gradients of the loss with respect to each parameter of the network using automatic differentiation\n",
        "* Implement gradient descent to optimize the network's parameters\n",
        "\n",
        "This tutorial will take up the first full session (equivalent to two tutorials on other days)."
      ]
    },
    {
      "cell_type": "code",
      "metadata": {
        "cellView": "form",
        "id": "Q1dYIz_25X1V",
        "colab": {
          "base_uri": "https://localhost:8080/",
          "height": 518
        },
        "outputId": "ece7f548-e061-4dd5-ce96-7ed205f03256"
      },
      "source": [
        "#@title Video 1: Decoding from neural data using feed-forward networks in pytorch\n",
        "from IPython.display import YouTubeVideo\n",
        "video = YouTubeVideo(id=\"SlrbMvvBOzM\", width=854, height=480, fs=1)\n",
        "print(\"Video available at https://youtu.be/\" + video.id)\n",
        "video"
      ],
      "execution_count": 1,
      "outputs": [
        {
          "output_type": "stream",
          "text": [
            "Video available at https://youtu.be/SlrbMvvBOzM\n"
          ],
          "name": "stdout"
        },
        {
          "output_type": "execute_result",
          "data": {
            "text/html": [
              "\n",
              "        <iframe\n",
              "            width=\"854\"\n",
              "            height=\"480\"\n",
              "            src=\"https://www.youtube.com/embed/SlrbMvvBOzM?fs=1\"\n",
              "            frameborder=\"0\"\n",
              "            allowfullscreen\n",
              "        ></iframe>\n",
              "        "
            ],
            "text/plain": [
              "<IPython.lib.display.YouTubeVideo at 0x7fa7308e1908>"
            ],
            "image/jpeg": "[encoded data removed]"
          },
          "metadata": {
            "tags": []
          },
          "execution_count": 1
        }
      ]
    },
    {
      "cell_type": "markdown",
      "metadata": {
        "id": "LadpG-x3GaRP"
      },
      "source": [
        "#Summary of Video 1:\n",
        "\n",
        "- Decoding models \n",
        "are used to predict external correlates from neural activity.\n",
        "In this case you predicted the choice of a mouse in a\n",
        "decision-making task using neural activity from various brain areas by doing this you can determine how much\n",
        "information a brain area has about a given external correlate.\n",
        "- Encoding models on the other hand are used to predict neural activity from external correlates.\n",
        "You build a model such as this \n",
        "to predict retinal neural activity from image pixels.\n",
        "This type of model can help you understand how a brain area represents different external correlates such as visual stimuli.\n",
        "In both of these cases you used linear models.\n",
        "\n",
        "- use deep neural networks to build decoding and encoding models due to their ability to fit\n",
        "non-linear functions and their ability to be fit easily.\n",
        "\n",
        "- So we will be exploring neural activity in mice,\n",
        "while the mice are viewing oriented grading stimuli on a screen in front of it.\n",
        "We record this neural activity using a technique called two photon calcium imaging\n",
        "which allows us to record many thousands of neurons simultaneously.\n",
        "These neurons light up when they fire.\n",
        "We then convert this imaging data to a matrix of neural responses by stimuli presented.\n",
        "(bin the neural responses and compute the neuron's tuning curve.)\n",
        "We used bins of one degree.\n",
        "We will use the response of all neurons in a single bin\n",
        "in order to predict which stimulus was shown.\n",
        "\n",
        "- So we're going to be using the responses of 24,000 neurons\n",
        "to try to predict\n",
        "360 possible stimulus conditions corresponding to each of the degrees of these different orientations.\n",
        "So to do this\n",
        "we're going to build a deep neural network to predict stimuli from neural responses.\n",
        "Because we're now in a regime of having large amounts of data.\n",
        "\n",
        "- Let's start with a linear network with no hidden layers\n",
        "where the stimulus prediction y\n",
        "is a product of the weights w_out and neural responses r plus a bias term.\n",
        "When you fit a linear model such as this\n",
        "you likely minimized the squared error between the stimulus prediction and the true stimulus.\n",
        "This is called the loss function.\n",
        "The solution to minimizing this loss function in a linear model can be found in closed form\n",
        "\n",
        "- So if we use a simple linear model such as this\n",
        "we are able to predict the stimulus within two to three degrees.\n",
        "So, let's see if we can improve this prediction by using a deep neural network.\n",
        "\n",
        "- So let's start by adding a single hidden layer\n",
        "with m units to this linear model, where now the output y depends on the activity of these hidden units h\n",
        "and the hidden layer h - its activations depend on the neural responses r.\n",
        "This linear network with one hidden layer where m is less than n, where n is the number of neurons\n",
        "is equivalent to performing reduced rank regression, which is a technique that is actually useful for regularizing your regression model.\n",
        "Adding this hidden layer means that the network now has a depth of 1\n",
        "and a width of m.\n",
        "Increasing the depth and the width of this network can increase the expressivity of the model.\n",
        "In other words, how well it can fit complex non-linear functions.\n",
        "\n",
        "- so working with a model with a depth of one, and see if we can improve our prediction of the stimulus.\n",
        "\n",
        "Structure of code:\n",
        "1. import the PyTorch module\n",
        "2. we import the neural network module nn.\n",
        "3. create a class for this deep network called DeepNet.\n",
        "(method's first argument is self, which is the class itself).\n",
        "4. initialize with this init method - takes two inputs n_inputs ( number of neurons ) and n_hidden (number of hidden units).\n",
        "5. So we first call this super function\n",
        "in order to invoke the nn module, then we add our first hidden layer, which is going to be this in_layer here with nn.linear unit\n",
        "which is n_inputs by n_hidden.\n",
        "And then we're only adding one hidden layer here. \n",
        "6. So now let's add the output layer\n",
        "which is going to be nn.linear, which is n_hidden by 1 because we're only predicting 1 stimulus here\n",
        "which is the orientation here.\n",
        "7. add another method to this class called the forward method\n",
        "and this is the method that runs when you call this class as a function.\n",
        "It takes as input r which are our neural responses here,\n",
        "and they're passed through this first\n",
        "hidden layer to produce our activations h\n",
        "and then they're passed through this output layer to produce our final prediction of the stimulus y.\n",
        "8. And now that we've declared our class, let's create an instantiation of this class called net.\n",
        "And we're going to give it the number of inputs we have which is the number of neurons\n",
        "and then also the number of hidden units, which is 200.\n",
        "\n",
        "Now let's run our neural responses through this net\n",
        "So we're going to take our neural response to a single stimulus, istim = 0 in this case,\n",
        "and we're going to run the network\n",
        "run the response through the network using this call of net as a function here,\n",
        "and this call calls the forward pass.\n",
        "\n",
        "So every deep network that you build with PyTorch you need to make sure you have this init method and this forward method\n",
        "and then you can use it in this way in order to run your data through the network\n"
      ]
    },
    {
      "cell_type": "markdown",
      "metadata": {
        "id": "fxsi4Wjk5X1X"
      },
      "source": [
        "---\n",
        "# Setup\n"
      ]
    },
    {
      "cell_type": "code",
      "metadata": {
        "cellView": "both",
        "id": "Hs85ATgq5X1X"
      },
      "source": [
        "import os\n",
        "import numpy as np\n",
        "\n",
        "import torch\n",
        "from torch import nn\n",
        "from torch import optim\n",
        "\n",
        "import matplotlib as mpl\n",
        "from matplotlib import pyplot as plt"
      ],
      "execution_count": null,
      "outputs": []
    },
    {
      "cell_type": "code",
      "metadata": {
        "cellView": "form",
        "id": "QYEa2iDZ5X1Z"
      },
      "source": [
        "#@title Data retrieval and loading\n",
        "import hashlib\n",
        "import requests\n",
        "\n",
        "fname = \"W3D4_stringer_oribinned1.npz\"\n",
        "url = \"https://osf.io/683xc/download\"\n",
        "expected_md5 = \"436599dfd8ebe6019f066c38aed20580\"\n",
        "\n",
        "if not os.path.isfile(fname):\n",
        "  try:\n",
        "    r = requests.get(url)\n",
        "  except requests.ConnectionError:\n",
        "    print(\"!!! Failed to download data !!!\")\n",
        "  else:\n",
        "    if r.status_code != requests.codes.ok:\n",
        "      print(\"!!! Failed to download data !!!\")\n",
        "    elif hashlib.md5(r.content).hexdigest() != expected_md5:\n",
        "      print(\"!!! Data download appears corrupted !!!\")\n",
        "    else:\n",
        "      with open(fname, \"wb\") as fid:\n",
        "        fid.write(r.content)"
      ],
      "execution_count": null,
      "outputs": []
    },
    {
      "cell_type": "code",
      "metadata": {
        "cellView": "form",
        "id": "WccvXU2G5X1a"
      },
      "source": [
        "#@title Figure Settings\n",
        "%config InlineBackend.figure_format = 'retina'\n",
        "plt.style.use(\"https://raw.githubusercontent.com/NeuromatchAcademy/course-content/master/nma.mplstyle\")"
      ],
      "execution_count": null,
      "outputs": []
    },
    {
      "cell_type": "code",
      "metadata": {
        "id": "hmv7-RlR5X1a"
      },
      "source": [
        "#@title Helper Functions\n",
        "\n",
        "def load_data(data_name=fname, bin_width=1):\n",
        "  \"\"\"Load mouse V1 data from Stringer et al. (2019)\n",
        "\n",
        "  Data from study reported in this preprint:\n",
        "  https://www.biorxiv.org/content/10.1101/679324v2.abstract\n",
        "\n",
        "  These data comprise time-averaged responses of ~20,000 neurons\n",
        "  to ~4,000 stimulus gratings of different orientations, recorded\n",
        "  through Calcium imaging. The responses have been normalized by\n",
        "  spontaneous levels of activity and then z-scored over stimuli, so\n",
        "  expect negative numbers. They have also been binned and averaged\n",
        "  to each degree of orientation.\n",
        "\n",
        "  This function returns the relevant data (neural responses and\n",
        "  stimulus orientations) in a torch.Tensor of data type torch.float32\n",
        "  in order to match the default data type for nn.Parameters in\n",
        "  Google Colab.\n",
        "\n",
        "  This function will actually average responses to stimuli with orientations\n",
        "  falling within bins specified by the bin_width argument. This helps\n",
        "  produce individual neural \"responses\" with smoother and more\n",
        "  interpretable tuning curves.\n",
        "\n",
        "  Args:\n",
        "    bin_width (float): size of stimulus bins over which to average neural\n",
        "      responses\n",
        "\n",
        "  Returns:\n",
        "    resp (torch.Tensor): n_stimuli x n_neurons matrix of neural responses,\n",
        "        each row contains the responses of each neuron to a given stimulus.\n",
        "        As mentioned above, neural \"response\" is actually an average over\n",
        "        responses to stimuli with similar angles falling within specified bins.\n",
        "    stimuli: (torch.Tensor): n_stimuli x 1 column vector with orientation\n",
        "        of each stimulus, in degrees. This is actually the mean orientation\n",
        "        of all stimuli in each bin.\n",
        "\n",
        "  \"\"\"\n",
        "  with np.load(data_name) as dobj:\n",
        "    data = dict(**dobj)\n",
        "  resp = data['resp']\n",
        "  stimuli = data['stimuli']\n",
        "\n",
        "  if bin_width > 1:\n",
        "    # Bin neural responses and stimuli\n",
        "    bins = np.digitize(stimuli, np.arange(0, 360 + bin_width, bin_width))\n",
        "    stimuli_binned = np.array([stimuli[bins == i].mean() for i in np.unique(bins)])\n",
        "    resp_binned = np.array([resp[bins == i, :].mean(0) for i in np.unique(bins)])\n",
        "  else:\n",
        "    resp_binned = resp\n",
        "    stimuli_binned = stimuli\n",
        "\n",
        "  # Return as torch.Tensor\n",
        "  resp_tensor = torch.tensor(resp_binned, dtype=torch.float32)\n",
        "  stimuli_tensor = torch.tensor(stimuli_binned, dtype=torch.float32).unsqueeze(1)  # add singleton dimension to make a column vector\n",
        "\n",
        "  return resp_tensor, stimuli_tensor\n",
        "\n",
        "\n",
        "def plot_data_matrix(X, ax):\n",
        "  \"\"\"Visualize data matrix of neural responses using a heatmap\n",
        "\n",
        "  Args:\n",
        "    X (torch.Tensor or np.ndarray): matrix of neural responses to visualize\n",
        "        with a heatmap\n",
        "    ax (matplotlib axes): where to plot\n",
        "\n",
        "  \"\"\"\n",
        "\n",
        "  cax = ax.imshow(X, cmap=mpl.cm.pink, vmin=np.percentile(X, 1), vmax=np.percentile(X, 99))\n",
        "  cbar = plt.colorbar(cax, ax=ax, label='normalized neural response')\n",
        "\n",
        "  ax.set_aspect('auto')\n",
        "  ax.set_xticks([])\n",
        "  ax.set_yticks([])\n",
        "\n",
        "\n",
        "def identityLine():\n",
        "  \"\"\"\n",
        "  Plot the identity line y=x\n",
        "  \"\"\"\n",
        "  ax = plt.gca()\n",
        "  lims = np.array([ax.get_xlim(), ax.get_ylim()])\n",
        "  minval = lims[:, 0].min()\n",
        "  maxval = lims[:, 1].max()\n",
        "  equal_lims = [minval, maxval]\n",
        "  ax.set_xlim(equal_lims)\n",
        "  ax.set_ylim(equal_lims)\n",
        "  line = ax.plot([minval, maxval], [minval, maxval], color=\"0.7\")\n",
        "  line[0].set_zorder(-1)\n",
        "\n",
        "def get_data(n_stim, train_data, train_labels):\n",
        "  \"\"\" Return n_stim randomly drawn stimuli/resp pairs\n",
        "\n",
        "  Args:\n",
        "    n_stim (scalar): number of stimuli to draw\n",
        "    resp (torch.Tensor):\n",
        "    train_data (torch.Tensor): n_train x n_neurons tensor with neural\n",
        "      responses to train on\n",
        "    train_labels (torch.Tensor): n_train x 1 tensor with orientations of the\n",
        "      stimuli corresponding to each row of train_data, in radians\n",
        "\n",
        "  Returns:\n",
        "    (torch.Tensor, torch.Tensor): n_stim x n_neurons tensor of neural responses and n_stim x 1 of orientations respectively\n",
        "  \"\"\"\n",
        "  n_stimuli = train_labels.shape[0]\n",
        "  istim = np.random.choice(n_stimuli, n_stim)\n",
        "  r = train_data[istim]  # neural responses to this stimulus\n",
        "  ori = train_labels[istim]  # true stimulus orientation\n",
        "\n",
        "  return r, ori\n",
        "\n",
        "def stimulus_class(ori, n_classes):\n",
        "  \"\"\"Get stimulus class from stimulus orientation\n",
        "\n",
        "  Args:\n",
        "    ori (torch.Tensor): orientations of stimuli to return classes for\n",
        "    n_classes (int): total number of classes\n",
        "\n",
        "  Returns:\n",
        "    torch.Tensor: 1D tensor with the classes for each stimulus\n",
        "\n",
        "  \"\"\"\n",
        "  bins = np.linspace(0, 360, n_classes + 1)\n",
        "  return torch.tensor(np.digitize(ori.squeeze(), bins)) - 1  # minus 1 to accomodate Python indexing\n",
        "\n",
        "def plot_decoded_results(train_loss, test_labels, predicted_test_labels):\n",
        "  \"\"\" Plot decoding results in the form of network training loss and test predictions\n",
        "\n",
        "  Args:\n",
        "    train_loss (list): training error over iterations\n",
        "    test_labels (torch.Tensor): n_test x 1 tensor with orientations of the\n",
        "      stimuli corresponding to each row of train_data, in radians\n",
        "    predicted_test_labels (torch.Tensor): n_test x 1 tensor with predicted orientations of the\n",
        "      stimuli from decoding neural network\n",
        "\n",
        "  \"\"\"\n",
        "\n",
        "  # Plot results\n",
        "  fig, (ax1, ax2) = plt.subplots(1, 2, figsize=(16, 6))\n",
        "\n",
        "  # Plot the training loss over iterations of GD\n",
        "  ax1.plot(train_loss)\n",
        "\n",
        "  # Plot true stimulus orientation vs. predicted class\n",
        "  ax2.plot(stimuli_test.squeeze(), predicted_test_labels, '.')\n",
        "\n",
        "  ax1.set_xlim([0, None])\n",
        "  ax1.set_ylim([0, None])\n",
        "  ax1.set_xlabel('iterations of gradient descent')\n",
        "  ax1.set_ylabel('negative log likelihood')\n",
        "  ax2.set_xlabel('true stimulus orientation ($^o$)')\n",
        "  ax2.set_ylabel('decoded orientation bin')\n",
        "  ax2.set_xticks(np.linspace(0, 360, n_classes + 1))\n",
        "  ax2.set_yticks(np.arange(n_classes))\n",
        "  class_bins = [f'{i * 360 / n_classes: .0f}$^o$ - {(i + 1) * 360 / n_classes: .0f}$^o$' for i in range(n_classes)]\n",
        "  ax2.set_yticklabels(class_bins);\n",
        "\n",
        "  # Draw bin edges as vertical lines\n",
        "  ax2.set_ylim(ax2.get_ylim())  # fix y-axis limits\n",
        "  for i in range(n_classes):\n",
        "    lower = i * 360 / n_classes\n",
        "    upper = (i + 1) * 360 / n_classes\n",
        "    ax2.plot([lower, lower], ax2.get_ylim(), '-', color=\"0.7\", linewidth=1, zorder=-1)\n",
        "    ax2.plot([upper, upper], ax2.get_ylim(), '-', color=\"0.7\", linewidth=1, zorder=-1)\n",
        "\n",
        "  plt.tight_layout()"
      ],
      "execution_count": null,
      "outputs": []
    },
    {
      "cell_type": "markdown",
      "metadata": {
        "id": "8vEwb9eBB83P"
      },
      "source": [
        "# Summary of Helper functions:\n",
        "\n",
        "*load_data*: Load mouse V1 data from Stringer et al. (2019)\n",
        "\n",
        "\n",
        "    These data comprise time-averaged responses of ~20,000 neurons\n",
        "    to ~4,000 stimulus gratings of different orientations, recorded\n",
        "    through Calcium imaginge. The responses have been normalized by\n",
        "    spontanous levels of activity and then z-scored over stimuli, so\n",
        "    expect negative numbers. They have also been binned and averaged\n",
        "    to each degree of orientation.\n",
        "\n",
        "    This function returns the relevant data (neural responses and\n",
        "    stimulus orientations) in a torch.Tensor of data type torch.float32\n",
        "    in order to match the default data type for nn.Parameters in\n",
        "    Google Colab.\n",
        "\n",
        "    This function will actually average responses to stimuli with orientations\n",
        "    falling within bins specified by the bin_width argument. This helps\n",
        "    produce individual neural \"responses\" with smoother and more\n",
        "    interpretable tuning curves.\n",
        "\n",
        "\n",
        "\n",
        "*plot_data_matrix(X, ax)*: Visualize data matrix of normalised neural responses using a heatmap\n",
        "\n",
        "*identityLine()*: Plot the identity line y=x\n",
        "\n",
        "*get_data(n_stim, train_data, train_labels)*: Return n_stim randomly drawn stimuli/resp pairs\n",
        "\n",
        "*stimulus_class(ori, n_classes)*: Get stimulus class from stimulus orientation\n",
        "\n",
        "*plot_decoded_results(train_loss, test_labels, predicted_test_labels*: Plot decoding results in the form of network training loss and test predictions; \n",
        "- true stimulus orientation vs. predicted class:\n",
        "  - iterations of gradient descent (xaxis) vs negative log likelihood (yaxis)\n",
        "  - true stimulus orientation (xaxis) vs decoded orientation bin (yaxis)"
      ]
    },
    {
      "cell_type": "markdown",
      "metadata": {
        "id": "aEV0gIci5X1b"
      },
      "source": [
        "---\n",
        "# Section 1: Load and visualize data\n",
        "\n",
        "In the next cell, we have provided code to load the data and plot the matrix of neural responses.\n",
        "\n",
        "Next to it, we plot the tuning curves of three randomly selected neurons."
      ]
    },
    {
      "cell_type": "code",
      "metadata": {
        "cellView": "form",
        "id": "65pHuTNr5X1c"
      },
      "source": [
        "#@title\n",
        "\n",
        "#@markdown Execute this cell to load and visualize data\n",
        "\n",
        "# Load data\n",
        "resp_all, stimuli_all = load_data()  # argument to this function specifies bin width\n",
        "n_stimuli, n_neurons = resp_all.shape\n",
        "\n",
        "print(f'{n_neurons} neurons in response to {n_stimuli} stimuli')\n",
        "\n",
        "fig, (ax1, ax2) = plt.subplots(1, 2, figsize=(2 * 6, 5))\n",
        "\n",
        "# Visualize data matrix\n",
        "plot_data_matrix(resp_all[:100, :].T, ax1)  # plot responses of first 100 neurons\n",
        "ax1.set_xlabel('stimulus')\n",
        "ax1.set_ylabel('neuron')\n",
        "\n",
        "# Plot tuning curves of three random neurons\n",
        "ineurons = np.random.choice(n_neurons, 3, replace=False)  # pick three random neurons\n",
        "ax2.plot(stimuli_all, resp_all[:, ineurons])\n",
        "ax2.set_xlabel('stimulus orientation ($^o$)')\n",
        "ax2.set_ylabel('neural response')\n",
        "ax2.set_xticks(np.linspace(0, 360, 5))\n",
        "\n",
        "plt.tight_layout()"
      ],
      "execution_count": null,
      "outputs": []
    },
    {
      "cell_type": "markdown",
      "metadata": {
        "id": "FXXM0sCg5X1d"
      },
      "source": [
        "We will split our data into a training set and test set. In particular, we will have a training set of orientations (`stimuli_train`) and the corresponding responses (`resp_train`). Our testing set will have held-out orientations (`stimuli_test`) and the corresponding responses (`resp_test`)."
      ]
    },
    {
      "cell_type": "code",
      "metadata": {
        "cellView": "form",
        "id": "z678Dir-5X1d"
      },
      "source": [
        "#@title\n",
        "#@markdown Execute this cell to split into training and test sets\n",
        "\n",
        "# Set random seeds for reproducibility\n",
        "np.random.seed(4)\n",
        "torch.manual_seed(4)\n",
        "\n",
        "# Split data into training set and testing set\n",
        "n_train = int(0.6 * n_stimuli)  # use 60% of all data for training set\n",
        "ishuffle = torch.randperm(n_stimuli)\n",
        "itrain = ishuffle[:n_train]  # indices of data samples to include in training set\n",
        "itest = ishuffle[n_train:]  # indices of data samples to include in testing set\n",
        "stimuli_test = stimuli_all[itest]\n",
        "resp_test = resp_all[itest]\n",
        "stimuli_train = stimuli_all[itrain]\n",
        "resp_train = resp_all[itrain]"
      ],
      "execution_count": null,
      "outputs": []
    },
    {
      "cell_type": "markdown",
      "metadata": {
        "id": "V_1aQnlR5X1e"
      },
      "source": [
        "---\n",
        "# Section 2: Deep feed-forward networks in *pytorch* \n",
        "\n",
        "We'll now build a simple deep neural network that takes as input a vector of neural responses and outputs a single number representing the decoded stimulus orientation.\n",
        "\n",
        "To keep things simple, we'll build a deep network with **one** hidden layer. See the appendix for a deeper discussion of what this choice entails, and when one might want to use deeper/shallower and wider/narrower architectures.\n",
        "\n",
        "Let $\\mathbf{r}^{(n)} = \\begin{bmatrix} r_1^{(n)} & r_2^{(n)} & \\ldots & r_N^{(n)} \\end{bmatrix}^T$ denote the vector of neural responses (of neurons $1, \\ldots, N$) to the $n$th stimulus. The network we will use is described by the following set of equations:\n",
        "\\begin{align}\n",
        "    \\mathbf{h}^{(n)} &= \\mathbf{W}^{in} \\mathbf{r}^{(n)} + \\mathbf{b}^{in}, && [\\mathbf{W}^{in}: M \\times N], \\\\\n",
        "    y^{(n)} &= \\mathbf{W}^{out} \\mathbf{h}^{(n)} + \\mathbf{b}^{out},  && [\\mathbf{W}^{out}: 1 \\times M],\n",
        "\\end{align}\n",
        "where $y^{(n)}$ denotes the scalar output of the network: the decoded orientation of the $n$th stimulus. \n",
        "\n",
        "The $M$-dimensional vector $\\mathbf{h}^{(n)}$ denotes the activations of the **hidden layer** of the network. \n",
        "\n",
        "<p align=\"center\">\n",
        "  <img src=\"https://github.com/NeuromatchAcademy/course-content/blob/master/tutorials/static/one-layer-network.png?raw=true\" width=\"450\" />\n",
        "</p>\n",
        "\n",
        "The blue components of this diagram denote the **parameters** of the network, which we will later optimize with gradient descent. These include all the weights and biases $\\mathbf{W}^{in}, \\mathbf{b}^{in}, \\mathbf{W}^{out}, \\mathbf{b}^{out}$.\n",
        "\n"
      ]
    },
    {
      "cell_type": "markdown",
      "metadata": {
        "id": "RyI84KG55X1e"
      },
      "source": [
        "### Section 2.1: Introduction to PyTorch\n",
        "\n",
        "Here, we'll use the **PyTorch** package to build, run, and train deep networks of this form in Python. There are two core components to the PyTorch package: \n",
        "\n",
        "1. The first is the `torch.Tensor` data type used in PyTorch. `torch.Tensor`'s are effectively just like a `numpy` arrays, except that they have some important attributes and methods needed for automatic differentiation (to be discussed below). They also come along with infrastructure for easily storing and computing with them on GPU's, a capability we won't touch on here but which can be really useful in practice.\n",
        "\n",
        "2. The second core ingredient is the PyTorch `nn.Module` class. This is the class we'll use for constructing deep networks, so that we can then easily train them using built-in PyTorch functions. Keep in my mind that `nn.Module` classes can actually be used to build, run, and train any model -- not just deep networks!\n",
        "\n",
        "  The next cell contains code for building the deep network we defined above using the `nn.Module` class. It contains three key ingredients:\n",
        "\n",
        "  * `__init__()` method to initialize its parameters, like in any other Python class. In this case, it takes two arguments:\n",
        "    * `n_inputs`: the number of input units. This should always be set to the number of neurons whose activities are being decoded (i.e. the dimensionality of the input to the network). \n",
        "    * `n_hidden`: the number of hidden units. This is a parameter that we are free to vary in deciding how to build our network. See the appendix for a discussion of how this architectural choice affects the computations the network can perform.\n",
        "\n",
        "  * `nn.Linear` modules, which are built-in PyTorch classes containing all the weights and biases for a given network layer (documentation [here](https://pytorch.org/docs/master/generated/torch.nn.Linear.html)). This class takes two arguments to initialize:\n",
        "    * \\# of inputs to that layer\n",
        "    * \\# of outputs from that layer\n",
        "\n",
        "    For the input layer, for example, we have:\n",
        "    * \\# of inputs = \\# of neurons whose responses are to be decoded ($N$, specified by `n_inputs`)\n",
        "    * \\# of outputs = \\# of hidden layer units ($M$, specified by `n_hidden`)\n",
        "    \n",
        "    PyTorch will initialize all weights and biases randomly.\n",
        "\n",
        "  * `forward()` method, which takes as argument an input to the network and returns the network output. In our case, this comprises computing the output $y$ from a given input $\\mathbf{r}$ using the above two equations. See the next cell for code implementing this computation using the built-in PyTorch `nn.Linear` classes."
      ]
    },
    {
      "cell_type": "code",
      "metadata": {
        "cellView": "both",
        "id": "MpucL2bM5X1f"
      },
      "source": [
        "class DeepNet(nn.Module):\n",
        "  \"\"\"Deep Network with one hidden layer\n",
        "\n",
        "  Args:\n",
        "    n_inputs (int): number of input units\n",
        "    n_hidden (int): number of units in hidden layer\n",
        "\n",
        "  Attributes:\n",
        "    in_layer (nn.Linear): weights and biases of input layer\n",
        "    out_layer (nn.Linear): weights and biases of output layer\n",
        "\n",
        "  \"\"\"\n",
        "\n",
        "  def __init__(self, n_inputs, n_hidden):\n",
        "    super().__init__()  # needed to invoke the properties of the parent class nn.Module\n",
        "    self.in_layer = nn.Linear(n_inputs, n_hidden) # neural activity --> hidden units\n",
        "    self.out_layer = nn.Linear(n_hidden, 1) # hidden units --> output\n",
        "\n",
        "  def forward(self, r):\n",
        "    \"\"\"Decode stimulus orientation from neural responses\n",
        "\n",
        "    Args:\n",
        "      r (torch.Tensor): vector of neural responses to decode, must be of\n",
        "        length n_inputs. Can also be a tensor of shape n_stimuli x n_inputs,\n",
        "        containing n_stimuli vectors of neural responses\n",
        "\n",
        "    Returns:\n",
        "      torch.Tensor: network outputs for each input provided in r. If\n",
        "        r is a vector, then y is a 1D tensor of length 1. If r is a 2D\n",
        "        tensor then y is a 2D tensor of shape n_stimuli x 1.\n",
        "\n",
        "    \"\"\"\n",
        "    h = self.in_layer(r)  # hidden representation\n",
        "    y = self.out_layer(h)\n",
        "    return y"
      ],
      "execution_count": null,
      "outputs": []
    },
    {
      "cell_type": "markdown",
      "metadata": {
        "id": "tOmmNhEQ5X1f"
      },
      "source": [
        "The next cell contains code for initializing and running this network. We use it to decode stimulus orientation from a vector of neural responses to the very first stimulus. Note that when the initialized network class is called as a function on an input (e.g. `net(r)`), its `.forward()` method is called. This is a special property of the `nn.Module` class.\n",
        "\n",
        "Note that the decoded orientations at this point will be nonsense, since the network has been initialized with random weights. Below, we'll learn how to optimize these weights for good stimulus decoding."
      ]
    },
    {
      "cell_type": "code",
      "metadata": {
        "id": "Di6etFgb5X1f"
      },
      "source": [
        "# Set random seeds for reproducibility\n",
        "np.random.seed(1)\n",
        "torch.manual_seed(1)\n",
        "\n",
        "# Initialize a deep network with M=200 hidden units\n",
        "net = DeepNet(n_neurons, 200)\n",
        "\n",
        "# Get neural responses (r) to and orientation (ori) to one stimulus in dataset\n",
        "r, ori = get_data(1, resp_train, stimuli_train)  # using helper function get_data\n",
        "\n",
        "# Decode orientation from these neural responses using initialized network\n",
        "out = net(r)  # compute output from network, equivalent to net.forward(r)\n",
        "\n",
        "print('decoded orientation: %.2f degrees' % out)\n",
        "print('true orientation: %.2f degrees' % ori)"
      ],
      "execution_count": null,
      "outputs": []
    },
    {
      "cell_type": "markdown",
      "metadata": {
        "id": "5LgzwYXm5X1f"
      },
      "source": [
        "---\n",
        "### Section 2.2: Activation functions"
      ]
    },
    {
      "cell_type": "code",
      "metadata": {
        "cellView": "form",
        "id": "ixpzbYAX5X1g",
        "colab": {
          "base_uri": "https://localhost:8080/",
          "height": 518
        },
        "outputId": "18ae7836-c216-4d24-d3e0-daaf4ba188d6"
      },
      "source": [
        "#@title Video 2: Nonlinear activation functions\n",
        "from IPython.display import YouTubeVideo\n",
        "video = YouTubeVideo(id=\"JAdukDCQALA\", width=854, height=480, fs=1)\n",
        "print(\"Video available at https://youtu.be/\" + video.id)\n",
        "video"
      ],
      "execution_count": 2,
      "outputs": [
        {
          "output_type": "stream",
          "text": [
            "Video available at https://youtu.be/JAdukDCQALA\n"
          ],
          "name": "stdout"
        },
        {
          "output_type": "execute_result",
          "data": {
            "text/html": [
              "\n",
              "        <iframe\n",
              "            width=\"854\"\n",
              "            height=\"480\"\n",
              "            src=\"https://www.youtube.com/embed/JAdukDCQALA?fs=1\"\n",
              "            frameborder=\"0\"\n",
              "            allowfullscreen\n",
              "        ></iframe>\n",
              "        "
            ],
            "text/plain": [
              "<IPython.lib.display.YouTubeVideo at 0x7fa730095da0>"
            ],
            "image/jpeg": "[encoded data removed]"
          },
          "metadata": {
            "tags": []
          },
          "execution_count": 2
        }
      ]
    },
    {
      "cell_type": "markdown",
      "metadata": {
        "id": "dLRXXYPKHPbQ"
      },
      "source": [
        "# Summary of Video 2:\n",
        "\n",
        "- So the power of neural networks comes with their ability to fit complex functions,\n",
        "and this ability is possible by using non-linear activation functions.\n",
        "\n",
        "- These activation functions are non-linearities\n",
        "that are added to our hidden layer such as this function phi.\n",
        "The most common non-linearity used is the rectified linear unit, or ReLU,\n",
        "which is the function max(0,x) - where x is the input to our hidden layer here.\n",
        "\n",
        "- At the beginning of neural network development researchers experimented with various different\n",
        "non-linearities such as sigmoid and tanh functions.\n",
        "But, in the end they found that ReLU activation functions work the best\n",
        "and that's because in ReLU activation functions the gradient\n",
        "is one for all values of x greater than zero and zero for all values of x less than zero.\n",
        "\n",
        "So the gradient is able to back-propagate through the network as long as the input is greater than zero,\n",
        "whereas with this saturating non-linearity the gradients become very small and these saturating regimes which reduces the effective computing regime of this unit."
      ]
    },
    {
      "cell_type": "markdown",
      "metadata": {
        "id": "1WCyi3KZ5X1g"
      },
      "source": [
        "Note that the deep network we constructed above comprises solely **linear** operations on each layer: each layer is just a weighted sum of the elements in the previous layer. It turns out that linear hidden layers like this aren't particularly useful, since a sequence of linear transformations is actually essentially the same as a single linear transformation. We can see this from the above equations by plugging in the first one into the second one to obtain\n",
        "\\begin{equation}\n",
        "    y^{(n)} = \\mathbf{W}^{out} \\left( \\mathbf{W}^{in} \\mathbf{r}^{(n)} + \\mathbf{b}^{in} \\right) + \\mathbf{b}^{out} = \\mathbf{W}^{out}\\mathbf{W}^{in} \\mathbf{r}^{(n)} + \\left( \\mathbf{W}^{out}\\mathbf{b}^{in} + \\mathbf{b}^{out} \\right)\n",
        "\\end{equation}\n",
        "In other words, the output is still just a weighted sum of elements in the input -- the hidden layer has done nothing to change this.\n",
        "\n",
        "To extend the set of computable input/output transformations to more than just weighted sums, we'll incorporate a **non-linear activation function** in the hidden units. This is done by simply modifying the equation for the hidden layer activations to be\n",
        "\\begin{equation}\n",
        "    \\mathbf{h}^{(n)} = \\phi(\\mathbf{W}^{in} \\mathbf{r}^{(n)} + \\mathbf{b}^{in})\n",
        "\\end{equation}\n",
        "where $\\phi$ is referred to as the activation function. Using a non-linear activation function will ensure that the hidden layer performs a non-linear transformation of the input, which will make our network much more powerful (or *expressive*, cf. appendix). In practice, deep networks *always* use non-linear activation functions.\n",
        "\n"
      ]
    },
    {
      "cell_type": "markdown",
      "metadata": {
        "id": "Fwm5AL4F5X1g"
      },
      "source": [
        "#### Exercise 1: Nonlinear Activations \n",
        "\n",
        "Create a new class `DeepNetReLU` by modifying our above deep network model to use a non-linear activation function. We'll use the linear rectification function:\n",
        "\\begin{equation}\n",
        "  \\phi(x) = \n",
        "  \\begin{cases}\n",
        "    x & \\text{if } x > 0 \\\\\n",
        "    0 & \\text{else}\n",
        "  \\end{cases}\n",
        "\\end{equation}\n",
        "which can be implemented in PyTorch using `torch.relu()`. Hidden layers with this activation function are typically referred to as \"**Re**ctified **L**inear **U**nits\", or **ReLU**'s.\n",
        "\n",
        "Initialize this network with 20 hidden units and run on an example stimulus.\n",
        "\n",
        "**Hint**: you only need to modify the `forward()` method of the above `DeepNet()` class.\n"
      ]
    },
    {
      "cell_type": "code",
      "metadata": {
        "id": "EXPGxj_45X1g"
      },
      "source": [
        "class DeepNetReLU(nn.Module):\n",
        "\n",
        "  def __init__(self, n_inputs, n_hidden):\n",
        "    super().__init__()  # needed to invoke the properties of the parent class nn.Module\n",
        "    self.in_layer = nn.Linear(n_inputs, n_hidden) # neural activity --> hidden units\n",
        "    self.out_layer = nn.Linear(n_hidden, 1) # hidden units --> output\n",
        "\n",
        "  def forward(self, r):\n",
        "\n",
        "    ############################################################################\n",
        "    ## TO DO for students: write code for computing network output using a\n",
        "    ## rectified linear activation function for the hidden units\n",
        "    # Fill out function and remove\n",
        "    raise NotImplementedError(\"Student exercise: complete DeepNetReLU forward\")\n",
        "    ############################################################################\n",
        "\n",
        "    h = ...\n",
        "    y = ...\n",
        "\n",
        "    return y\n",
        "\n",
        "\n",
        "# Set random seeds for reproducibility\n",
        "np.random.seed(1)\n",
        "torch.manual_seed(1)\n",
        "\n",
        "# Get neural responses (r) to and orientation (ori) to one stimulus in dataset\n",
        "r, ori = get_data(1, resp_train, stimuli_train)\n",
        "\n",
        "# Uncomment to test your class\n",
        "\n",
        "# Initialize deep network with M=20 hidden units and uncomment lines below\n",
        "# net = DeepNetReLU(...)\n",
        "\n",
        "# Decode orientation from these neural responses using initialized network\n",
        "# net(r) is equivalent to net.forward(r)\n",
        "# out = net(r)\n",
        "\n",
        "# print('decoded orientation: %.2f degrees' % out)\n",
        "# print('true orientation: %.2f degrees' % ori)"
      ],
      "execution_count": null,
      "outputs": []
    },
    {
      "cell_type": "code",
      "metadata": {
        "id": "LaXeaexl5X1h"
      },
      "source": [
        "# to_remove solution\n",
        "\n",
        "class DeepNetReLU(nn.Module):\n",
        "\n",
        "  def __init__(self, n_inputs, n_hidden):\n",
        "    super().__init__()  # needed to invoke the properties of the parent class nn.Module\n",
        "    self.in_layer = nn.Linear(n_inputs, n_hidden) # neural activity --> hidden units\n",
        "    self.out_layer = nn.Linear(n_hidden, 1) # hidden units --> output\n",
        "\n",
        "  def forward(self, r):\n",
        "\n",
        "    h = torch.relu(self.in_layer(r))\n",
        "    y = self.out_layer(h)\n",
        "\n",
        "    return y\n",
        "\n",
        "\n",
        "# Set random seeds for reproducibility\n",
        "np.random.seed(1)\n",
        "torch.manual_seed(1)\n",
        "\n",
        "# Get neural responses (r) to and orientation (ori) to one stimulus in dataset\n",
        "r, ori = get_data(1, resp_train, stimuli_train)\n",
        "\n",
        "\n",
        "# Initialize deep network with M=20 hidden units and uncomment lines below\n",
        "net = DeepNetReLU(n_neurons, 20)\n",
        "\n",
        "# Decode orientation from these neural responses using initialized network\n",
        "# net(r) is equivalent to net.forward(r)\n",
        "out = net(r)\n",
        "\n",
        "print('decoded orientation: %.2f degrees' % out)\n",
        "print('true orientation: %.2f degrees' % ori)"
      ],
      "execution_count": null,
      "outputs": []
    },
    {
      "cell_type": "markdown",
      "metadata": {
        "id": "ELCCZVos5X1h"
      },
      "source": [
        "You should see that the decoded orientation is 0.13 $^{\\circ}$ while the true orientation is 139.00 $^{\\circ}$."
      ]
    },
    {
      "cell_type": "markdown",
      "metadata": {
        "id": "D7m5V65z5X1i"
      },
      "source": [
        "---\n",
        "# Section 3: Loss functions and gradient descent\n"
      ]
    },
    {
      "cell_type": "code",
      "metadata": {
        "cellView": "form",
        "id": "Uaj3ZYEf5X1i",
        "colab": {
          "base_uri": "https://localhost:8080/",
          "height": 518
        },
        "outputId": "e2cbcd0c-77d2-4ec6-8901-0e494e8ff844"
      },
      "source": [
        "#@title Video 3: Loss functions & gradient descent\n",
        "from IPython.display import YouTubeVideo\n",
        "video = YouTubeVideo(id=\"aEtKpzEuviw\", width=854, height=480, fs=1)\n",
        "print(\"Video available at https://youtu.be/\" + video.id)\n",
        "video"
      ],
      "execution_count": 3,
      "outputs": [
        {
          "output_type": "stream",
          "text": [
            "Video available at https://youtu.be/aEtKpzEuviw\n"
          ],
          "name": "stdout"
        },
        {
          "output_type": "execute_result",
          "data": {
            "text/html": [
              "\n",
              "        <iframe\n",
              "            width=\"854\"\n",
              "            height=\"480\"\n",
              "            src=\"https://www.youtube.com/embed/aEtKpzEuviw?fs=1\"\n",
              "            frameborder=\"0\"\n",
              "            allowfullscreen\n",
              "        ></iframe>\n",
              "        "
            ],
            "text/plain": [
              "<IPython.lib.display.YouTubeVideo at 0x7fa730095e48>"
            ],
            "image/jpeg": "[encoded data removed]"
          },
          "metadata": {
            "tags": []
          },
          "execution_count": 3
        }
      ]
    },
    {
      "cell_type": "markdown",
      "metadata": {
        "id": "Z6kxIuMjK54o"
      },
      "source": [
        "# Summary of Video 3:\n",
        "\n",
        "**How do we train this neural network so that it optimally predicts stimuli from neural responses?**\n",
        "\n",
        "- First, we need to define a loss function that we are optimizing the network to minimize.\n",
        "In this case, we want to minimize the squared error between the prediction and the stimulus.\n",
        "First, we're going to run the neural responses through the network 'net', to get this out.\n",
        "Then, we're going to declare our loss function - to create a mean squared error loss function.\n",
        "- This loss function takes two inputs -\n",
        "which is the output of the network and in this case ori which is the original,\n",
        "true orientation that the mouse saw on the screen.\n",
        "Once we've defined this loss function we minimize this loss function using gradient descent.\n",
        "- In gradient descent we compute the gradient of the loss function with respect to each parameter,\n",
        "which in this case is all of our w's and our b's.\n",
        "We then update the parameters by subtracting a learning rate alpha times our gradient\n",
        "with respect to the loss function L.\n",
        "- Let's visualize this loss function with respect to a weight w -\n",
        "if the gradient is positive, then we want to move in the opposite direction\n",
        "to minimize this loss, which is in the negative direction. So we accordingly update\n",
        "w in this negative direction - in the opposite direction of the gradient.\n",
        "Once the iterations of the training are complete, ideally the weight will be at a value that minimizes this cost function.\n",
        "In reality these cost functions are not convex \n",
        "and they depend on hundreds and thousands or millions of parameters.\n",
        "- There are tricks to help navigate this rocky cost landscape such as adding momentum or changing the optimizer.\n",
        "There's also another way that you can change the architecture of the network to improve optimization such as including skip connections,\n",
        "and these connections are used in residual networks to allow for the optimization of these really deep networks.\n",
        "In our case we're working with\n",
        "a single hidden layer network. So we're going to stick with\n",
        "standard gradient descent in PyTorch. You can create this optimizer called optim.sgd\n",
        "or stochastic gradient descent to do this optimization,\n",
        "and the optimizer object takes as input the parameters net.parameters\n",
        "and it takes also as input the learning rate.\n",
        "- So on each iteration, we're going to run the training data\n",
        "through our network 'net' and compute the loss function.\n",
        "Then, once we have the loss function, clear our gradients\n",
        "and compute our gradients using this loss.backward method.\n",
        "This loss.backward method is also known as automatic differentiation,\n",
        "and this is an incredibly powerful tool.\n",
        "You can use this backward step for any model and any loss function that you can define in PyTorch, not just deep networks.\n",
        "So I highly recommend using it when you're fitting complex models rather than computing gradients using pen and paper.\n",
        "It's much less error prone to do it this way and it will save you a lot of time.\n",
        "- Finally, once you've computed the gradients using this automatic differentiation that's built into PyTorch,\n",
        "we update the parameters using this step method of the optimizer\n",
        "and then we repeat this method or this loop\n",
        "for many iterations.\n"
      ]
    },
    {
      "cell_type": "markdown",
      "metadata": {
        "id": "lo67r6l15X1i"
      },
      "source": [
        "### Section 3.1: Loss functions\n",
        "\n",
        "Because the weights of the network are currently randomly chosen, the outputs of the network are nonsense: the decoded stimulus orientation is nowhere close to the true stimulus orientation. We'll shortly write some code to change these weights so that the network does a better job of decoding.\n",
        "\n",
        "But to do so, we first need to define what we mean by \"better\". One simple way of defining this is to use the squared error\n",
        "\\begin{equation}\n",
        "    L = (y - \\tilde{y})^2\n",
        "\\end{equation}\n",
        "where $y$ is the network output and $\\tilde{y}$ is the true stimulus orientation. When the decoded stimulus orientation is far from the true stimulus orientation, $L$ will be large. We thus refer to $L$ as the **loss function**, as it quantifies how *bad* the network is at decoding stimulus orientation.\n",
        "\n",
        "PyTorch actually carries with it a number of built-in loss functions. The one corresponding to the squared error is called `nn.MSELoss()`. This will take as arguments a **batch** of network outputs $y_1, y_2, \\ldots, y_P$ and corresponding target outputs $\\tilde{y}_1, \\tilde{y}_2, \\ldots, \\tilde{y}_P$, and compute the **mean squared error (MSE)**\n",
        "\\begin{equation}\n",
        "    L = \\frac{1}{P}\\sum_{n=1}^P \\left(y^{(n)} - \\tilde{y}^{(n)}\\right)^2\n",
        "\\end{equation}\n",
        "\n"
      ]
    },
    {
      "cell_type": "markdown",
      "metadata": {
        "id": "kf2kaAH25X1i"
      },
      "source": [
        "#### Exercise 2: Computing MSE \n",
        "\n",
        "\n",
        "Evaluate the mean squared error for a deep network with $M=20$ rectified linear units, on the decoded orientations from neural responses to 20 random stimuli."
      ]
    },
    {
      "cell_type": "code",
      "metadata": {
        "id": "xogNRxcI5X1i"
      },
      "source": [
        "# Set random seeds for reproducibility\n",
        "np.random.seed(1)\n",
        "torch.manual_seed(1)\n",
        "\n",
        "# Initialize a deep network with M=20 hidden units\n",
        "net = DeepNetReLU(n_neurons, 20)\n",
        "\n",
        "# Get neural responses to first 20 stimuli in the data set\n",
        "r, ori = get_data(20, resp_train, stimuli_train)\n",
        "\n",
        "# Decode orientation from these neural responses\n",
        "out = net(r)\n",
        "\n",
        "###################################################\n",
        "## TO DO for students: evaluate mean squared error\n",
        "###################################################\n",
        "\n",
        "# Initialize PyTorch mean squared error loss function (Hint: look at nn.MSELoss)\n",
        "loss_fn = ...\n",
        "\n",
        "# Evaluate mean squared error\n",
        "loss = ...\n",
        "\n",
        "# Uncomment once above is filled in\n",
        "# print('mean squared error: %.2f' % loss)"
      ],
      "execution_count": null,
      "outputs": []
    },
    {
      "cell_type": "code",
      "metadata": {
        "id": "GrNDMqjk5X1i"
      },
      "source": [
        "# to_remove solution\n",
        "\n",
        "# Set random seeds for reproducibility\n",
        "np.random.seed(1)\n",
        "torch.manual_seed(1)\n",
        "\n",
        "# Initialize a deep network with M=20 hidden units\n",
        "net = DeepNetReLU(n_neurons, 20)\n",
        "\n",
        "# Get neural responses to first 20 stimuli in the data set\n",
        "r, ori = get_data(20, resp_train, stimuli_train)\n",
        "\n",
        "# Decode orientation from these neural responses\n",
        "out = net(r)\n",
        "\n",
        "# Initialize PyTorch mean squared error loss function (Hint: look at nn.MSELoss)\n",
        "loss_fn = nn.MSELoss()\n",
        "\n",
        "# Evaluate mean squared error\n",
        "loss = loss_fn(out, ori)\n",
        "\n",
        "print('mean squared error: %.2f' % loss)"
      ],
      "execution_count": null,
      "outputs": []
    },
    {
      "cell_type": "markdown",
      "metadata": {
        "id": "vJtVJh4f5X1j"
      },
      "source": [
        "You should see a mean squared error of 42943.75."
      ]
    },
    {
      "cell_type": "markdown",
      "metadata": {
        "id": "SdLKIRx75X1j"
      },
      "source": [
        "---\n",
        "### Section 3.2: Optimization with gradient descent\n",
        "\n",
        "Our goal is now to modify the weights to make the mean squared error loss $L$ as small as possible over the whole data set. To do this, we'll use the **gradient descent (GD)** algorithm, which consists of iterating three steps:\n",
        "1. **Evaluate the loss** on the training data,\n",
        "```\n",
        "out = net(train_data)\n",
        "loss = loss_fn(out, train_labels)\n",
        "```\n",
        "where `train_data` are the network inputs in the training data (in our case, neural responses), and `train_labels` are the target outputs for each input (in our case, true stimulus orientations).\n",
        "2. **Compute the gradient of the loss** with respect to each of the network weights. In PyTorch, we can do this with one line of code:\n",
        "```\n",
        "loss.backward()\n",
        "```\n",
        "This command tells PyTorch to compute the gradients of the quantity stored in the variable `loss` with respect to each network parameter using [automatic differentiation](https://en.wikipedia.org/wiki/Automatic_differentiation). These gradients are then stored behind the scenes (see appendix for more details).\n",
        "3. **Update the network weights** by descending the gradient. In Pytorch, we can do this using built-in optimizers. We'll use the `optim.SGD` optimizer (documentation [here](https://pytorch.org/docs/stable/optim.html#torch.optim.SGD)) which updates parameters along the negative gradient, scaled by a learning rate (see appendix for details). To initialize this optimizer, we have to tell it\n",
        "  * which parameters to update, and\n",
        "  * what learning rate to use\n",
        "\n",
        "  For example, to optimize *all* the parameters of a network `net` using a learning rate of .001, the optimizer would be initialized as follows\n",
        "  ```\n",
        "  optimizer = optim.SGD(net.parameters(), lr=.001)\n",
        "  ```\n",
        "  where `.parameters()` is a method of the `nn.Module` class that returns a [Python generator object](https://wiki.python.org/moin/Generators) over all the parameters of that `nn.Module` class (in our case, $\\mathbf{W}^{in}, \\mathbf{b}^{in}, \\mathbf{W}^{out}, \\mathbf{b}^{out}$).\n",
        "  \n",
        "  After computing all the parameter gradients in step 2, we can then update each of these parameters using the `.step()` method of this optimizer,\n",
        "  ```\n",
        "  optimizer.step()\n",
        "  ```\n",
        "  This single line of code will extract all the gradients computed with `.backward()` and execute the SGD updates for each parameter given to the optimizer. Note that this is true no matter how big/small the network is, allowing us to use the same two lines of code to perform the gradient descent updates for any deep network model built using PyTorch.\n",
        "\n",
        "Finally, an important detail to remember is that the gradients of each parameter need to be cleared before calling `.backward()`, or else PyTorch will try to accumulate gradients across iterations. This can again be done using built-in optimizers via the method `zero_grad()`, as follows:\n",
        "```\n",
        "optimizer.zero_grad()\n",
        "```\n",
        "\n",
        "Putting all this together, each iteration of the GD algorithm will contain a block of code that looks something like this:\n",
        "```\n",
        "Get outputs from network\n",
        "Evaluate loss\n",
        "\n",
        "# Compute gradients\n",
        "optimizer.zero_grad()  # clear gradients\n",
        "loss.backward()\n",
        "\n",
        "# Update weights\n",
        "optimizer.step()\n",
        "```\n",
        "\n",
        "In the next exercise, we'll give you a code skeleton for implementing the GD algorithm. Your job will be to fill in the blanks.\n",
        "\n",
        "For the mathematical details of the GD algorithm, see the appendix. Note, in particular, that here we using the gradient descent algorithm, rather than the more commonly used *stochastic* gradient descent algorithm. See the appendix for a more detailed discussion of how these differ and when one might need to use the stochastic variant."
      ]
    },
    {
      "cell_type": "markdown",
      "metadata": {
        "id": "_9KseDde5X1j"
      },
      "source": [
        "#### Exercise 3: Gradient descent in PyTorch\n",
        "\n",
        "Complete the function `train()` that uses the gradient descent algorithm to optimize the weights of a given network. This function takes as input arguments\n",
        "* `net`: the PyTorch network whose weights to optimize\n",
        "* `loss_fn`: the PyTorch loss function to use to evaluate the loss\n",
        "* `train_data`: the training data to evaluate the loss on (i.e. neural responses to decode)\n",
        "* `train_labels`: the target outputs for each data point in `train_data` (i.e. true stimulus orientations)\n",
        "\n",
        "We will then train a neural network on our data and plot the loss (mean squared error) over time. When we run this function, behind the scenes PyTorch is actually changing the parameters inside this network to make the network better at decoding, so its weights will now be different than they were at initialization.\n",
        "\n",
        "\n",
        "**Hint:** all the code you need for doing this is provided in the above description of the GD algorithm."
      ]
    },
    {
      "cell_type": "code",
      "metadata": {
        "id": "ccGh06mO5X1j"
      },
      "source": [
        "def train(net, loss_fn, train_data, train_labels, n_iter=50, learning_rate=1e-4):\n",
        "  \"\"\"Run gradient descent to opimize parameters of a given network\n",
        "\n",
        "  Args:\n",
        "    net (nn.Module): PyTorch network whose parameters to optimize\n",
        "    loss_fn: built-in PyTorch loss function to minimize\n",
        "    train_data (torch.Tensor): n_train x n_neurons tensor with neural\n",
        "      responses to train on\n",
        "    train_labels (torch.Tensor): n_train x 1 tensor with orientations of the\n",
        "      stimuli corresponding to each row of train_data, in radians\n",
        "    n_iter (int): number of iterations of gradient descent to run\n",
        "    learning_rate (float): learning rate to use for gradient descent\n",
        "\n",
        "  Returns:\n",
        "    (list): training loss over iterations\n",
        "\n",
        "  \"\"\"\n",
        "\n",
        "  # Initialize PyTorch SGD optimizer\n",
        "  optimizer = optim.SGD(net.parameters(), lr=learning_rate)\n",
        "\n",
        "  # Placeholder to save the loss at each iteration\n",
        "  track_loss = []\n",
        "\n",
        "  # Loop over epochs (cf. appendix)\n",
        "  for i in range(n_iter):\n",
        "\n",
        "    ######################################################################\n",
        "    ## TO DO for students: fill in missing code for GD iteration\n",
        "    raise NotImplementedError(\"Student exercise: write code for GD iterations\")\n",
        "    ######################################################################\n",
        "\n",
        "    # Evaluate loss using loss_fn\n",
        "    out = ...  # compute network output from inputs in train_data\n",
        "    loss = ...  # evaluate loss function\n",
        "\n",
        "    # Compute gradients\n",
        "    ...\n",
        "\n",
        "    # Update weights\n",
        "    ...\n",
        "\n",
        "    # Store current value of loss\n",
        "    track_loss.append(loss.item())  # .item() needed to transform the tensor output of loss_fn to a scalar\n",
        "\n",
        "    # Track progress\n",
        "    if (i + 1) % (n_iter // 5) == 0:\n",
        "      print(f'iteration {i + 1}/{n_iter} | loss: {loss.item():.3f}')\n",
        "\n",
        "  return track_loss\n",
        "\n",
        "# Set random seeds for reproducibility\n",
        "np.random.seed(1)\n",
        "torch.manual_seed(1)\n",
        "\n",
        "# Initialize network\n",
        "net = DeepNetReLU(n_neurons, 20)\n",
        "\n",
        "# Initialize built-in PyTorch MSE loss function\n",
        "loss_fn = nn.MSELoss()\n",
        "\n",
        "# Run GD on data\n",
        "#train_loss = train(net, loss_fn, resp_train, stimuli_train)\n",
        "\n",
        "# Plot the training loss over iterations of GD\n",
        "#plt.plot(train_loss)\n",
        "plt.xlim([0, None])\n",
        "plt.ylim([0, None])\n",
        "plt.xlabel('iterations of gradient descent')\n",
        "plt.ylabel('mean squared error')\n",
        "plt.show()"
      ],
      "execution_count": null,
      "outputs": []
    },
    {
      "cell_type": "code",
      "metadata": {
        "id": "Y2dEpsLz5X1j"
      },
      "source": [
        "# to_remove solution\n",
        "\n",
        "def train(net, loss_fn, train_data, train_labels, n_iter=50, learning_rate=1e-4):\n",
        "  \"\"\"Run gradient descent to opimize parameters of a given network\n",
        "\n",
        "  Args:\n",
        "    net (nn.Module): PyTorch network whose parameters to optimize\n",
        "    loss_fn: built-in PyTorch loss function to minimize\n",
        "    train_data (torch.Tensor): n_train x n_neurons tensor with neural\n",
        "      responses to train on\n",
        "    train_labels (torch.Tensor): n_train x 1 tensor with orientations of the\n",
        "      stimuli corresponding to each row of train_data, in radians\n",
        "    n_iter (int): number of iterations of gradient descent to run\n",
        "    learning_rate (float): learning rate to use for gradient descent\n",
        "\n",
        "  \"\"\"\n",
        "\n",
        "  # Initialize PyTorch SGD optimizer\n",
        "  optimizer = optim.SGD(net.parameters(), lr=learning_rate)\n",
        "\n",
        "  # Placeholder to save the loss at each iteration\n",
        "  track_loss = []\n",
        "\n",
        "  # Loop over epochs (cf. appendix)\n",
        "  for i in range(n_iter):\n",
        "\n",
        "    # Evaluate loss using loss_fn\n",
        "    out = net(train_data)  # compute network output from inputs in train_data\n",
        "    loss = loss_fn(out, train_labels)  # evaluate loss function\n",
        "\n",
        "    # Compute gradients\n",
        "    optimizer.zero_grad()\n",
        "    loss.backward()\n",
        "\n",
        "    # Update weights\n",
        "    optimizer.step()\n",
        "\n",
        "    # Store current value of loss\n",
        "    track_loss.append(loss.item())  # .item() needed to transform the tensor output of loss_fn to a scalar\n",
        "\n",
        "    # Track progress\n",
        "    if (i + 1) % (n_iter // 5) == 0:\n",
        "      print(f'iteration {i + 1}/{n_iter} | loss: {loss.item():.3f}')\n",
        "\n",
        "  return track_loss\n",
        "\n",
        "# Set random seeds for reproducibility\n",
        "np.random.seed(1)\n",
        "torch.manual_seed(1)\n",
        "\n",
        "# Initialize network\n",
        "net = DeepNetReLU(n_neurons, 20)\n",
        "\n",
        "# Initialize built-in PyTorch MSE loss function\n",
        "loss_fn = nn.MSELoss()\n",
        "\n",
        "# Run GD on data\n",
        "train_loss = train(net, loss_fn, resp_train, stimuli_train)\n",
        "\n",
        "# Plot the training loss over iterations of GD\n",
        "with plt.xkcd():\n",
        "  plt.plot(train_loss)\n",
        "  plt.xlim([0, None])\n",
        "  plt.ylim([0, None])\n",
        "  plt.xlabel('iterations of gradient descent')\n",
        "  plt.ylabel('mean squared error')\n",
        "  plt.show()"
      ],
      "execution_count": null,
      "outputs": []
    },
    {
      "cell_type": "markdown",
      "metadata": {
        "id": "jMDgTGfo5X1k"
      },
      "source": [
        "---\n",
        "# Section 4: Evaluating model performance\n",
        "\n"
      ]
    },
    {
      "cell_type": "markdown",
      "metadata": {
        "id": "1zfNsgiu5X1k"
      },
      "source": [
        "## Section 4.1: Generalization performance with test data\n",
        "\n",
        "Note that gradient descent is essentially an algorithm for fitting the network's parameters to a given set of training data. Selecting this training data is thus crucial for ensuring that the optimized parameters **generalize** to unseen data they weren't trained on. In our case, for example, we want to make sure that our trained network is good at decoding stimulus orientations from neural responses to any orientation, not just those in our data set.\n",
        "\n",
        "To ensure this, we have split up the full data set into a **training set** and a **testing set**. In Exercise 3, we trained a deep network by optimizing the parameters on a training set. We will now evaluate how good the optimized parameters are by using the trained network to decode stimulus orientations from neural responses in the testing set. Good decoding performance on this testing set should then be indicative of good decoding performance on the neurons' responses to any other stimulus orientation. This procedure is commonly used in machine learning (not just in deep learning)and is typically referred to as **cross-validation**.\n",
        "\n",
        "We will compute the MSE on the test data and plot the decoded stimulus orientations as a function of the true stimulus.\n"
      ]
    },
    {
      "cell_type": "code",
      "metadata": {
        "cellView": "form",
        "id": "p_0DmrSE5X1k"
      },
      "source": [
        "#@title\n",
        "#@markdown Execute this cell to evaluate and plot test error\n",
        "\n",
        "out = net(resp_test)  # decode stimulus orientation for neural responses in testing set\n",
        "ori = stimuli_test  # true stimulus orientations\n",
        "test_loss = loss_fn(out, ori)  # MSE on testing set (Hint: use loss_fn initialized in previous exercise)\n",
        "\n",
        "plt.plot(ori, out.detach(), '.')  # N.B. need to use .detach() to pass network output into plt.plot()\n",
        "identityLine()  # draw the identity line y=x; deviations from this indicate bad decoding!\n",
        "plt.title('MSE on testing set: %.2f' % test_loss.item())  # N.B. need to use .item() to turn test_loss into a scalar\n",
        "plt.xlabel('true stimulus orientation ($^o$)')\n",
        "plt.ylabel('decoded stimulus orientation ($^o$)')\n",
        "axticks = np.linspace(0, 360, 5)\n",
        "plt.xticks(axticks)\n",
        "plt.yticks(axticks)\n",
        "plt.show()"
      ],
      "execution_count": null,
      "outputs": []
    },
    {
      "cell_type": "markdown",
      "metadata": {
        "id": "gdGXJwrE5X1l"
      },
      "source": [
        "**PyTorch Note**:\n",
        "\n",
        "An important thing to note in the code snippet for plotting the decoded orientations is the `.detach()` method. The PyTorch `nn.Module` class is special in that, behind the scenes, each of the variables inside it are linked to each other in a computational graph, for the purposes of automatic differentiation (the algorithm used in `.backward()` to compute gradients). As a result, if you want to do anything that is not a `torch` operation to the parameters or outputs of an `nn.Module` class, you'll need to first \"detach\" it from its computational graph. This is what the `.detach()` method does. In this hidden code above, we need to call it on the outputs of the network so that we can plot them with the `plt.plot()` function."
      ]
    },
    {
      "cell_type": "markdown",
      "metadata": {
        "id": "4huCPa7E5X1l"
      },
      "source": [
        "---\n",
        "## (Bonus) Section 4.2: Model criticism\n",
        "\n",
        "Please move to the Summary and visit this section only if you have time after completing all non-bonus material! \n",
        "\n",
        "Let's now take a step back and think about how our model is succeeding/failing and how to improve it."
      ]
    },
    {
      "cell_type": "code",
      "metadata": {
        "cellView": "form",
        "id": "GBi9TYQT5X1m"
      },
      "source": [
        "#@title\n",
        "#@markdown Execute this cell to plot decoding error\n",
        "\n",
        "out = net(resp_test)  # decode stimulus orientation for neural responses in testing set\n",
        "ori = stimuli_test  # true stimulus orientations\n",
        "error = out - ori  # decoding error\n",
        "\n",
        "\n",
        "plt.plot(ori, error.detach(), '.')   # plot decoding error as a function of true orientation (make sure all arguments to plt.plot() have been detached from PyTorch network!)\n",
        "\n",
        "# Plotting\n",
        "plt.xlabel('true stimulus orientation ($^o$)')\n",
        "plt.ylabel('decoding error ($^o$)')\n",
        "plt.xticks(np.linspace(0, 360, 5))\n",
        "plt.yticks(np.linspace(-360, 360, 9))\n",
        "plt.show()"
      ],
      "execution_count": null,
      "outputs": []
    },
    {
      "cell_type": "markdown",
      "metadata": {
        "id": "v-LsTqcR5X1m"
      },
      "source": [
        "### Think \n",
        "\n",
        "In the cell below, we will plot the *decoding error* for each neural response in the testing set. The decoding error is defined as the decoded stimulus orientation minus true stimulus orientation\n",
        "\\begin{equation}\n",
        "  \\text{decoding error} = y^{(n)} - \\tilde{y}^{(n)}\n",
        "\\end{equation}\n",
        "\n",
        "In particular, we plot decoding error as a function of the true stimulus orientation.\n",
        "\n",
        "\n",
        "  * Are some stimulus orientations harder to decode than others?\n",
        "  * If so, in what sense? Are the decoded orientations for these stimuli more variable and/or are they biased?\n",
        "  * Can you explain this variability/bias? What makes these stimulus orientations different from the others?\n",
        "  * (Will be addressed in next exercise) Can you think of a way to modify the deep network in order to avoid this?"
      ]
    },
    {
      "cell_type": "markdown",
      "metadata": {
        "id": "mk5xmZ1BLqzu"
      },
      "source": [
        "**HINTS**:\n",
        "\n",
        "1. How does orientation bias error direction?\n",
        "2. To prevent this, think of trigoalgorithnometric solutions. \n",
        "3. How can you convert this classification problem into regression?"
      ]
    },
    {
      "cell_type": "code",
      "metadata": {
        "id": "qMqwmsL95X1m"
      },
      "source": [
        "# to_remove explanation\n",
        "\n",
        "\"\"\"\n",
        "It appears that the errors are larger at 0 and 360 degrees. The errors are biased\n",
        "in the positive direction at 0 degrees and in the negative direction at 360 degrees.\n",
        "This is because the 0 degree stimulus and the 360 degree stimulus are in fact the\n",
        "same because orientation is a circular variable. The network therefore has trouble\n",
        "determining whether the stimulus is 0 or 360 degrees.\n",
        "\n",
        "We can modify the deep network to avoid this problem in a few different ways.\n",
        "One approach would be to predict a sine and a cosine of the angle and then taking\n",
        " the predicted angle as the angle of the complex number $sin(\\theta) + i cos(\\theta)$.\n",
        "\n",
        "An alternative approach is to bin the stimulus responses and predict the bin of the stimulus.\n",
        "This turns the problem into a classification problem rather than a regression problem,\n",
        "and in this case you will need to use a new loss function (see below).\n",
        "\"\"\""
      ],
      "execution_count": null,
      "outputs": []
    },
    {
      "cell_type": "markdown",
      "metadata": {
        "id": "TIEnKW7H5X1m"
      },
      "source": [
        "### (Advanced Bonus) Exercise 4: Improving the loss function \n",
        "As illustrated in the previous exercise, the squared error is not a good loss function for circular quantities like angles, since two angles that are very close (e.g. $1^o$ and $359^o$) might actually have a very large squared error.\n",
        "\n",
        "Here, we'll avoid this problem by changing our loss function to treat our decoding problem as a **classification problem**. Rather than estimating the *exact* angle of the stimulus, we'll now aim to construct a decoder that classifies the stimulus into one of $C$ classes, corresponding to different bins of angles of width $b = \\frac{360}{C}$. The true class $\\tilde{y}^{(n)}$ of stimulus $i$ is now given by\n",
        "\\begin{equation}\n",
        "  \\tilde{y}^{(n)} =\n",
        "  \\begin{cases}\n",
        "    1 &\\text{if angle of stimulus $n$ is in the range } [0, b] \\\\\n",
        "    2 &\\text{if angle of stimulus $n$ is in the range } [b, 2b] \\\\\n",
        "    3 &\\text{if angle of stimulus $n$ is in the range } [2b, 3b] \\\\\n",
        "    \\vdots \\\\\n",
        "    C &\\text{if angle of stimulus $n$ is in the range } [(C-1)b, 360]\n",
        "  \\end{cases}\n",
        "\\end{equation}\n",
        "\n",
        "We have a helper function `stimulus_class` that will extract `n_classes` stimulus classes for us from the stimulus orientations."
      ]
    },
    {
      "cell_type": "markdown",
      "metadata": {
        "id": "QvP8HAMG5X1m"
      },
      "source": [
        "To decode the stimulus class from neural responses, we'll use a deep network that outputs a $C$-dimensional vector of probabilities $\\mathbf{p} = \\begin{bmatrix} p_1, p_2, \\ldots, p_C \\end{bmatrix}^T$, corresponding to the estimated probabilities of the stimulus belonging to each class $1, 2, \\ldots, C$. \n",
        "\n",
        "To ensure the network's outputs are indeed probabilities (i.e. they are positive numbers between 0 and 1, and sum to 1), we'll use a [softmax function](https://en.wikipedia.org/wiki/Softmax_function) to transform the real-valued outputs from the hidden layer into probabilities. Letting $\\sigma(\\cdot)$ denote this softmax function, the equations describing our network are\n",
        "\\begin{align}\n",
        "    \\mathbf{h}^{(n)} &= \\phi(\\mathbf{W}^{in} \\mathbf{r}^{(n)} + \\mathbf{b}^{in}), && [\\mathbf{W}^{in}: M \\times N], \\\\\n",
        "    \\mathbf{p}^{(n)} &= \\sigma(\\mathbf{W}^{out} \\mathbf{h}^{(n)} + \\mathbf{b}^{out}),  && [\\mathbf{W}^{out}: C \\times M],\n",
        "\\end{align}\n",
        "The decoded stimulus class is then given by that assigned the highest probability by the network:\n",
        "\\begin{equation}\n",
        "  y^{(n)} = \\underset{i}{\\arg\\max} \\,\\, p_i\n",
        "\\end{equation}\n",
        "The softmax function can be implemented in PyTorch simply using `torch.softmax()`.\n",
        "\n",
        "Often *log* probabilities are easier to work with than actual probabilities, because probabilities tend to be very small numbers that computers have trouble representing. We'll therefore actually use the logarithm of the softmax as the output of our network,\n",
        "\\begin{equation}\n",
        "    \\mathbf{l}^{(n)} = \\log \\left( \\mathbf{p}^{(n)} \\right)\n",
        "\\end{equation}\n",
        "which can be implemented in PyTorch together with the softmax via an `nn.LogSoftmax` layer. The nice thing about the logarithmic function is that it's *monotonic*, so if one probability is larger/smaller than another, then its logarithm is also larger/smaller than the other's. We therefore have that\n",
        "\\begin{equation}\n",
        "  y^{(n)} = \\underset{i}{\\arg\\max} \\,\\, p_i^{(n)} = \\underset{i}{\\arg\\max} \\, \\log p_i^{(n)} = \\underset{i}{\\arg\\max} \\,\\, l_i^{(n)}\n",
        "\\end{equation}\n",
        "\n",
        "See the next cell for code for constructing a deep network with one hidden layer that of ReLU's that outputs a vector of log probabilities."
      ]
    },
    {
      "cell_type": "code",
      "metadata": {
        "id": "J2bOBnZ05X1m"
      },
      "source": [
        "# Deep network for classification\n",
        "class DeepNetSoftmax(nn.Module):\n",
        "  \"\"\"Deep Network with one hidden layer, for classification\n",
        "\n",
        "  Args:\n",
        "    n_inputs (int): number of input units\n",
        "    n_hidden (int): number of units in hidden layer\n",
        "    n_classes (int): number of outputs, i.e. number of classes to output\n",
        "      probabilities for\n",
        "\n",
        "  Attributes:\n",
        "    in_layer (nn.Linear): weights and biases of input layer\n",
        "    out_layer (nn.Linear): weights and biases of output layer\n",
        "\n",
        "  \"\"\"\n",
        "\n",
        "  def __init__(self, n_inputs, n_hidden, n_classes):\n",
        "    super().__init__()  # needed to invoke the properties of the parent class nn.Module\n",
        "    self.in_layer = nn.Linear(n_inputs, n_hidden)  # neural activity --> hidden units\n",
        "    self.out_layer = nn.Linear(n_hidden, n_classes)  # hidden units --> outputs\n",
        "    self.logprob = nn.LogSoftmax(dim=1)  # probabilities across columns should sum to 1 (each output row corresponds to a different input)\n",
        "\n",
        "  def forward(self, r):\n",
        "    \"\"\"Predict stimulus orientation bin from neural responses\n",
        "\n",
        "    Args:\n",
        "      r (torch.Tensor): n_stimuli x n_inputs tensor with neural responses to n_stimuli\n",
        "\n",
        "    Returns:\n",
        "      torch.Tensor: n_stimuli x n_classes tensor with predicted class probabilities\n",
        "\n",
        "    \"\"\"\n",
        "    h = torch.relu(self.in_layer(r))\n",
        "    logp = self.logprob(self.out_layer(h))\n",
        "    return logp"
      ],
      "execution_count": null,
      "outputs": []
    },
    {
      "cell_type": "markdown",
      "metadata": {
        "id": "r2ZF7om55X1n"
      },
      "source": [
        "What should our loss function now be? Ideally, we want the probabilities outputted by our network to be such that the probability of the true stimulus class is high. One way to formalize this is to say that we want to maximize the *log* probability of the true stimulus class $\\tilde{y}^{(n)}$ under the class probabilities predicted by the network,\n",
        "\\begin{equation}\n",
        "  \\log \\left( \\text{predicted probability of stimulus } n \\text{ being of class } \\tilde{y}^{(n)} \\right) = \\log p^{(n)}_{\\tilde{y}^{(n)}} = l^{(n)}_{\\tilde{y}^{(n)}}\n",
        "\\end{equation}\n",
        "To turn this into a loss function to be *minimized*, we can then simply multiply it by -1: maximizing the log probability is the same as minimizing the *negative* log probability. Summing over a batch of $P$ inputs, our loss function is then given by\n",
        "\\begin{equation}\n",
        "  L = -\\sum_{n=1}^P \\log p^{(n)}_{\\tilde{y}^{(n)}} = -\\sum_{n=1}^P l^{(n)}_{\\tilde{y}^{(n)}}\n",
        "\\end{equation}\n",
        "In the deep learning community, this loss function is typically referred to as the **cross-entropy**, or **negative log likelihood**. The corresponding built-in loss function in PyTorch is `nn.NLLLoss()` (documentation [here](https://pytorch.org/docs/master/generated/torch.nn.CrossEntropyLoss.html)).\n",
        "\n",
        "In the next cell, we've provided most of the code to train and test a network to decode stimulus orientations via classification, by minimizing the negative log likelihood. Fill in the missing pieces.\n",
        "\n",
        "Once you've done this, have a look at the plotted results. Does changing the loss function from mean squared error to a classification loss solve our problems? Note that errors may still occur -- but are these errors as bad as the ones that our network above was making?"
      ]
    },
    {
      "cell_type": "code",
      "metadata": {
        "id": "nGt2X5Di5X1n"
      },
      "source": [
        "def decode_orientation(n_classes, train_data, train_labels, test_data, test_labels):\n",
        "  \"\"\" Initialize, train, and test deep network to decode binned orientation from neural responses\n",
        "\n",
        "  Args:\n",
        "    n_classes (scalar): number of classes in which to bin orientation\n",
        "    train_data (torch.Tensor): n_train x n_neurons tensor with neural\n",
        "      responses to train on\n",
        "    train_labels (torch.Tensor): n_train x 1 tensor with orientations of the\n",
        "      stimuli corresponding to each row of train_data, in radians\n",
        "    test_data (torch.Tensor): n_test x n_neurons tensor with neural\n",
        "      responses to train on\n",
        "    test_labels (torch.Tensor): n_test x 1 tensor with orientations of the\n",
        "      stimuli corresponding to each row of train_data, in radians\n",
        "\n",
        "  Returns:\n",
        "    (list, torch.Tensor): training loss over iterations, n_test x 1 tensor with predicted orientations of the\n",
        "      stimuli from decoding neural network\n",
        "  \"\"\"\n",
        "\n",
        "  # Bin stimulus orientations in training set\n",
        "  train_binned_labels = stimulus_class(train_labels, n_classes)\n",
        "\n",
        "  ##############################################################################\n",
        "  ## TODO for students: fill out missing pieces below to initialize, train, and\n",
        "  # test network\n",
        "  # Fill out function and remove\n",
        "  raise NotImplementedError(\"Student exercise: complete decode_orientation function\")\n",
        "  ##############################################################################\n",
        "\n",
        "  # Initialize network\n",
        "  net = ...  # use M=20 hidden units\n",
        "\n",
        "  # Initialize built-in PyTorch MSE loss function\n",
        "  loss_fn = nn.NLLLoss()\n",
        "\n",
        "  # Run GD on training set data, using learning rate of 0.1\n",
        "  train_loss = ...\n",
        "\n",
        "  # Decode neural responses in testing set data\n",
        "  out = ...\n",
        "  out_labels = np.argmax(out.detach(), axis=1)  # predicted classes\n",
        "\n",
        "  return train_loss, out_labels\n",
        "\n",
        "\n",
        "# Set random seeds for reproducibility\n",
        "np.random.seed(1)\n",
        "torch.manual_seed(1)\n",
        "\n",
        "n_classes = 12  # start with 12, then (bonus) try making this as big as possible! does decoding get worse?\n",
        "\n",
        "# Uncomment below to test your function\n",
        "\n",
        "# Initialize, train, and test network\n",
        "#train_loss, predicted_test_labels = decode_orientation(n_classes, resp_train, stimuli_train, resp_test, stimuli_test)\n",
        "\n",
        "# Plot results\n",
        "#plot_decoded_results(train_loss, stimuli_test, predicted_test_labels)"
      ],
      "execution_count": null,
      "outputs": []
    },
    {
      "cell_type": "code",
      "metadata": {
        "id": "cktM55Og5X1n"
      },
      "source": [
        "# to_remove solution\n",
        "\n",
        "def decode_orientation(n_classes, train_data, train_labels, test_data, test_labels):\n",
        "  \"\"\" Initialize, train, and test deep network to decode binned orientation from neural responses\n",
        "\n",
        "  Args:\n",
        "    n_classes (scalar): number of classes in which to bin orientation\n",
        "    train_data (torch.Tensor): n_train x n_neurons tensor with neural\n",
        "      responses to train on\n",
        "    train_labels (torch.Tensor): n_train x 1 tensor with orientations of the\n",
        "      stimuli corresponding to each row of train_data, in radians\n",
        "    test_data (torch.Tensor): n_test x n_neurons tensor with neural\n",
        "      responses to train on\n",
        "    test_labels (torch.Tensor): n_test x 1 tensor with orientations of the\n",
        "      stimuli corresponding to each row of train_data, in radians\n",
        "\n",
        "  Returns:\n",
        "    (list, torch.Tensor): training loss over iterations, n_test x 1 tensor with predicted orientations of the\n",
        "      stimuli from decoding neural network\n",
        "  \"\"\"\n",
        "\n",
        "  # Bin stimulus orientations in training set\n",
        "  train_binned_labels = stimulus_class(train_labels, n_classes)\n",
        "\n",
        "  # Initialize network\n",
        "  net = DeepNetSoftmax(n_neurons, 20, n_classes)  # use M=20 hidden units\n",
        "\n",
        "  # Initialize built-in PyTorch MSE loss function\n",
        "  loss_fn = nn.NLLLoss()\n",
        "\n",
        "  # Run GD on training set data, using learning rate of 0.1\n",
        "  train_loss = train(net, loss_fn, train_data, train_binned_labels, learning_rate=0.1)\n",
        "\n",
        "  # Decode neural responses in testing set data\n",
        "  out = net(test_data)\n",
        "  out_labels = np.argmax(out.detach(), axis=1)  # predicted classes\n",
        "\n",
        "  return train_loss, out_labels\n",
        "\n",
        "\n",
        "# Set random seeds for reproducibility\n",
        "np.random.seed(1)\n",
        "torch.manual_seed(1)\n",
        "\n",
        "n_classes = 12  # start with 12, then (bonus) try making this as big as possible! does decoding get worse?\n",
        "\n",
        "# Initialize, train, and test network\n",
        "train_loss, predicted_test_labels = decode_orientation(n_classes, resp_train, stimuli_train, resp_test, stimuli_test)\n",
        "\n",
        "# Plot results\n",
        "with plt.xkcd():\n",
        "  plot_decoded_results(train_loss, stimuli_test, predicted_test_labels)"
      ],
      "execution_count": null,
      "outputs": []
    },
    {
      "cell_type": "markdown",
      "metadata": {
        "id": "PFX4215l5X1o"
      },
      "source": [
        "---\n",
        "# Summary\n",
        "\n",
        "We have now covered a number of common and powerful techniques for applying deep learning to decoding from neural data, some of which are common to almost any machine learning problem:\n",
        "* Building and training deep networks using the **PyTorch** `nn.Module` class and built-in **optimizers**\n",
        "* Choosing and evaluating **loss functions**\n",
        "* Testing a trained model on unseen data via **cross-validation**, by splitting the data into a **training set and testing set**\n",
        "\n",
        "An important aspect of this tutorial was the `train()` function we wrote in exercise 6. Note that it can be used to train *any* network to minimize *any* loss function (cf. advanced exercise) on *any* training data. This is the power of using PyTorch to train neural networks and, for that matter, **any other model**! There is nothing in the `nn.Module` class that forces us to use `nn.Linear` layers that implement neural network operations. You can actually put anything you want inside the `.__init__()` and `.forward()` methods of this class. As long as its parameters and computations involve only `torch.Tensor`'s, and the model is differentiable, you'll then be able to optimize the parameters of this model in exactly the same way we optimized the deep networks here.\n",
        "\n",
        "What kinds of conclusions can we draw from these sorts of analyses? If we can decode the stimulus well from visual cortex activity, that means that there is information about this stimulus available in visual cortex. Whether or not the animal uses that information to make decisions is not determined from an analysis like this. In fact mice perform poorly in orientation discrimination tasks compared to monkeys and humans, even though they have information about these stimuli in their visual cortex. Why do you think they perform poorly in orientation discrimination tasks?\n",
        "\n",
        "See this paper for some potential hypotheses (https://www.biorxiv.org/content/10.1101/679324v2), but this is totally an open question!"
      ]
    },
    {
      "cell_type": "markdown",
      "metadata": {
        "id": "KDOpMLiM5X1p"
      },
      "source": [
        "---\n",
        "# Appendix"
      ]
    },
    {
      "cell_type": "markdown",
      "metadata": {
        "id": "ZXOAD9g-5X1p"
      },
      "source": [
        "## Neural network *depth*, *width* and *expressivity*\n",
        "\n",
        "Two important architectural choices that always have to be made when constructing deep feed-forward networks like those used here are\n",
        "* the number of hidden layers, or the network's *depth*\n",
        "* the number of units in each layer, or the layer *widths*\n",
        "\n",
        "Here, we restricted ourselves to networks with a single hidden layer with a width of $M$ units, but it is easy to see how this code could be adapted to arbitrary depths. Adding another hidden layer simply requires adding another `nn.Linear` module to the `__init__()` method and incorporating it into the `.forward()` method.\n",
        "\n",
        "The depth and width of a network determine the set of input/output transformations that it can perform, often referred to as its *expressivity*. The deeper and wider the network, the more *expressive* it is; that is, the larger the class of input/output transformations it can compute. In fact, it turns out that an infinitely wide *or* infinitely deep networks can in principle [compute (almost) *any* input/output transformation](https://en.wikipedia.org/wiki/Universal_approximation_theorem).\n",
        "\n",
        "A classic mathematical demonstration of the power of depth is given by the so-called [XOR problem](https://medium.com/@jayeshbahire/the-xor-problem-in-neural-networks-50006411840b#:~:text=The%20XOr%2C%20or%20%E2%80%9Cexclusive%20or,value%20if%20they%20are%20equal.). This toy problem demonstrates how even a single hidden layer can drastically expand the set of input/output transformations a network can perform, relative to a shallow network with no hidden layers. The key intuition is that the hidden layer allows you to represent the input in a new format, which can then allow you to do almost anything you want with it. The *wider* this hidden layer, the more flexibility you have in this representation. In particular, if you have more hidden units than input units, then the hidden layer representation of the input is higher-dimensional than the raw data representation. This higher dimensionality effectively gives you more \"room\" to perform arbitrary computations in. It turns out that even with just this one hidden layer, if you make it wide enough you can actually approximate any input/output transformation you want. See [here](http://neuralnetworksanddeeplearning.com/chap4.html) for a neat visual demonstration of this.\n",
        "\n",
        "In practice, however, it turns out that increasing depth seems to grant more expressivity with fewer units than increasing width does (for reasons that are not well understood). It is for this reason that truly *deep* networks are almost always used in machine learning, which is why this set of techniques is often referred to as *deep* learning.\n",
        "\n",
        "That said, there is a cost to making networks deeper and wider. The bigger your network, the more parameters (i.e. weights and biases) it has, which need to be optimized! The extra expressivity afforded by higher width and/or depth thus carries with it (at least) two problems:\n",
        "* optimizing more parameters usually requires more data\n",
        "* a more highly parameterized network is more prone to overfit to the training data, so requires more sophisticated optimization algorithms to ensure generalization"
      ]
    },
    {
      "cell_type": "markdown",
      "metadata": {
        "id": "GbooAewB5X1p"
      },
      "source": [
        "## Gradient descent equations\n",
        "\n",
        "Here we provide the equations for the three steps of the gradient descent algorithm, as applied to our decoding problem:\n",
        "\n",
        "1. **Evaluate the loss** on the training data. For a mean squared error loss, this is given by\n",
        "\\begin{equation}\n",
        "    L = \\frac{1}{P}\\sum_{n=1}^P (y^{(n)} - \\tilde{y}^{(n)})^2\n",
        "\\end{equation}\n",
        "where $y^{(n)}$ denotes the stimulus orientation decoded from the population response $\\mathbf{r}^{(n)}$ to the $n$th stimulus in the training data, and $\\tilde{y}^{(n)}$ is the true orientation of that stimulus. $P$ denotes the total number of data samples in the training set. In the syntax of our `train()` function above, $\\mathbf{r}^{(n)}$ is given by `train_data[n, :]` and $\\tilde{y}^{(n)}$ by `train_labels[n]`.\n",
        "\n",
        "2. **Compute the gradient of the loss** with respect to each of the network weights. In our case, this entails computing the quantities\n",
        "\\begin{equation}\n",
        "    \\frac{\\partial L}{\\partial \\mathbf{W}^{in}}, \\frac{\\partial L}{\\partial \\mathbf{b}^{in}}, \\frac{\\partial L}{\\partial \\mathbf{W}^{out}}, \\frac{\\partial L}{\\partial \\mathbf{b}^{out}}\n",
        "\\end{equation}\n",
        "Usually, we would require lots of math in order to derive each of these gradients, and lots of code to compute them. But this is where PyTorch comes to the rescue! Using a cool technique called [automatic differentiation](https://en.wikipedia.org/wiki/Automatic_differentiation), PyTorch automatically calculates these gradients when the `.backward()` function is called.\n",
        "\n",
        "  More specifically, when this function is called on a particular variable (e.g. `loss`, as above), PyTorch will compute the gradients with respect to each network parameter. These are computed and stored behind the scenes, and can be accessed through the `.grad` attribute of each of the network's parameters. As we saw above, however, we actually never need to look at or call these gradients when implementing gradient descent, as this can be taken care of by PyTorch's built-in optimizers, like `optim.SGD`.\n",
        "\n",
        "3. **Update the network weights** by descending the gradient:\n",
        "\\begin{align}\n",
        "    \\mathbf{W}^{in} &\\leftarrow \\mathbf{W}^{in} - \\alpha \\frac{\\partial L}{\\partial \\mathbf{W}^{in}} \\\\\n",
        "    \\mathbf{b}^{in} &\\leftarrow \\mathbf{b}^{in} - \\alpha \\frac{\\partial L}{\\partial \\mathbf{b}^{in}} \\\\\n",
        "    \\mathbf{W}^{out} &\\leftarrow \\mathbf{W}^{out} - \\alpha \\frac{\\partial L}{\\partial \\mathbf{W}^{out}} \\\\\n",
        "    \\mathbf{b}^{out} &\\leftarrow \\mathbf{b}^{out} - \\alpha \\frac{\\partial L}{\\partial \\mathbf{b}^{out}}\n",
        "\\end{align}\n",
        "where $\\alpha$ is called the **learning rate**. This **hyperparameter** of the SGD algorithm controls how far we descend the gradient on each iteration. It should be as large as possible so that fewer iterations are needed, but not too large so as to avoid parameter updates from skipping over minima in the loss landscape.\n",
        "\n",
        "While the equations written down here are specific to the network and loss function considered in this tutorial, the code provided above for implementing these three steps is completely general: no matter what loss function or network you are using, exactly the same commands can be used to implement these three steps."
      ]
    },
    {
      "cell_type": "markdown",
      "metadata": {
        "id": "Py4wsNWL5X1p"
      },
      "source": [
        "## *Stochastic* gradient descent (SGD) vs. gradient descent (GD)\n",
        "\n",
        "In this tutorial, we used the gradient descent algorithm, which differs in a subtle yet very important way from the more commonly used **stochastic gradient descent (SGD)** algorithm. The key difference is in the very first step of each iteration, where in the GD algorithm we evaluate the loss *at every data sample in the training set*. In SGD, on the other hand, we evaluate the loss only at a random subset of data samples from the full training set, called a **mini-batch**. At each iteration, we randomly sample a mini-batch to perform steps 1-3 on. All the above equations still hold, but now the $P$ data samples $\\mathbf{r}^{(n)}, \\tilde{y}^{(n)}$ denote a mini-batch of $P$ random samples from the training set, rather than the whole training set.\n",
        "\n",
        "There are several reasons why one might want to use SGD instead of GD. The first is that the training set might be too big, so that we actually can't actually evaluate the loss on every single data sample in it. In this case, GD is simply infeasible, so we have no choice but to turn to SGD, which bypasses the restrictive memory demands of GD by sub-sampling the training set into smaller mini-batches.\n",
        "\n",
        "But, even when GD is feasible, SGD turns out to be generally better. The stochasticity induced by the extra random sampling step in SGD effectively adds some noise in the search for local minima of the loss function. This can be really useful for avoiding potential local minima, and enforce that whatever minimum is converged to is a good one. This is particularly important when networks are wider and/or deeper, in which case the large number of parameters can lead to overfitting.\n",
        "\n",
        "Here, we used only GD because (1) it is simpler, and (2) it suffices for the problem being considered here. Because we have so many neurons in our data set, decoding is not too challenging and doesn't require a particularly deep or wide network. The small number of parameters in our deep networks therefore can be optimized without a problem using GD."
      ]
    }
  ]
}