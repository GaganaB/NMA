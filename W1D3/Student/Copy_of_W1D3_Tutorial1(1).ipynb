{
  "nbformat": 4,
  "nbformat_minor": 0,
  "metadata": {
    "celltoolbar": "Slideshow",
    "colab": {
      "name": "Copy of W1D3_Tutorial1",
      "provenance": [],
      "collapsed_sections": [],
      "toc_visible": true
    },
    "kernel": {
      "display_name": "Python 3",
      "language": "python",
      "name": "python3"
    },
    "kernelspec": {
      "display_name": "Python 3",
      "language": "python",
      "name": "python3"
    },
    "language_info": {
      "codemirror_mode": {
        "name": "ipython",
        "version": 3
      },
      "file_extension": ".py",
      "mimetype": "text/x-python",
      "name": "python",
      "nbconvert_exporter": "python",
      "pygments_lexer": "ipython3",
      "version": "3.7.8"
    }
  },
  "cells": [
    {
      "cell_type": "markdown",
      "metadata": {
        "id": "RvrIWxFq2u-W"
      },
      "source": [
        "# Neuromatch Academy: Week 1, Day 3, Tutorial 1\n",
        "# Model Fitting: Linear regression with MSE\n",
        "\n",
        "**Content creators**: Pierre-Étienne Fiquet, Anqi Wu, Alex Hyafil with help from Byron Galbraith\n",
        "\n",
        "**Content reviewers**: Lina Teichmann, Saeed Salehi, Patrick Mineault,  Ella Batty, Michael Waskom\n",
        "\n",
        "\n",
        "\n"
      ]
    },
    {
      "cell_type": "markdown",
      "metadata": {
        "id": "vXCfnQmc2u-W"
      },
      "source": [
        "___\n",
        "#Tutorial Objectives\n",
        "\n",
        "This is Tutorial 1 of a series on fitting models to data. We start with simple linear regression, using least squares optimization (Tutorial 1) and Maximum Likelihood Estimation (Tutorial 2). We will use bootstrapping to build confidence intervals around the inferred linear model parameters (Tutorial 3). We'll finish our exploration of regression models by generalizing to multiple linear regression and polynomial regression (Tutorial 4). We end by learning how to choose between these various models. We discuss the bias-variance trade-off (Tutorial 5) and Cross Validation for model selection (Tutorial 6).\n",
        "\n",
        "In this tutorial, we will learn how to fit simple linear models to data.\n",
        "- Learn how to calculate the mean-squared error (MSE) \n",
        "- Explore how model parameters (slope) influence the MSE\n",
        "- Learn how to find the optimal model parameter using least-squares optimization\n",
        "\n",
        "---\n",
        "\n",
        "**acknowledgements:** \n",
        "- we thank Eero Simoncelli, much of today's tutorials are inspired by exercises asigned in his mathtools class."
      ]
    },
    {
      "cell_type": "markdown",
      "metadata": {
        "id": "6JdaFLB92u-X"
      },
      "source": [
        "---\n",
        "# Setup"
      ]
    },
    {
      "cell_type": "code",
      "metadata": {
        "cellView": "both",
        "id": "tw5PaVGi2u-X"
      },
      "source": [
        "import numpy as np\n",
        "import matplotlib.pyplot as plt"
      ],
      "execution_count": null,
      "outputs": []
    },
    {
      "cell_type": "code",
      "metadata": {
        "cellView": "form",
        "id": "Epyp5mkR2u-X"
      },
      "source": [
        "#@title Figure Settings\n",
        "import ipywidgets as widgets       # interactive display\n",
        "%config InlineBackend.figure_format = 'retina'\n",
        "plt.style.use(\"https://raw.githubusercontent.com/NeuromatchAcademy/course-content/master/nma.mplstyle\")"
      ],
      "execution_count": null,
      "outputs": []
    },
    {
      "cell_type": "code",
      "metadata": {
        "cellView": "form",
        "id": "UQHiMm5t2u-X"
      },
      "source": [
        "#@title Helper functions\n",
        "\n",
        "def plot_observed_vs_predicted(x, y, y_hat, theta_hat):\n",
        "  \"\"\" Plot observed vs predicted data\n",
        "\n",
        "  Args:\n",
        "      x (ndarray): observed x values\n",
        "  y (ndarray): observed y values\n",
        "  y_hat (ndarray): predicted y values\n",
        "\n",
        "  \"\"\"\n",
        "  fig, ax = plt.subplots()\n",
        "  ax.scatter(x, y, label='Observed')  # our data scatter plot\n",
        "  ax.plot(x, y_hat, color='r', label='Fit')  # our estimated model\n",
        "  # plot residuals\n",
        "  ymin = np.minimum(y, y_hat)\n",
        "  ymax = np.maximum(y, y_hat)\n",
        "  ax.vlines(x, ymin, ymax, 'g', alpha=0.5, label='Residuals')\n",
        "  ax.set(\n",
        "      title=fr\"$\\hat{{\\theta}}$ = {theta_hat:0.2f}, MSE = {mse(x, y, theta_hat):.2f}\",\n",
        "      xlabel='x',\n",
        "      ylabel='y'\n",
        "  )\n",
        "  ax.legend()"
      ],
      "execution_count": null,
      "outputs": []
    },
    {
      "cell_type": "markdown",
      "metadata": {
        "id": "qN_puBFF2u-X"
      },
      "source": [
        "---\n",
        "# Section 1: Mean Squared Error (MSE)"
      ]
    },
    {
      "cell_type": "code",
      "metadata": {
        "cellView": "form",
        "id": "v1OLsdJC2u-X"
      },
      "source": [
        "#@title Video 1: Linear Regression & Mean Squared Error\n",
        "from IPython.display import YouTubeVideo\n",
        "video = YouTubeVideo(id=\"HumajfjJ37E\", width=854, height=480, fs=1)\n",
        "print(\"Video available at https://youtube.com/watch?v=\" + video.id)\n",
        "video"
      ],
      "execution_count": null,
      "outputs": []
    },
    {
      "cell_type": "markdown",
      "metadata": {
        "id": "A1wcB9cy6lVt"
      },
      "source": [
        "# Summary of Video 1:\n",
        "\n",
        "Roadmap of W1D3:\n",
        "Tutorial 1: \n",
        "- linear regression with mean squared error, maximum likelihood estimation\n",
        "- boostrapping \n",
        "- multiple linear regression and polynomial regression\n",
        "\n",
        "Tutorial 2:\n",
        "- bias-variance tradeoff with underfitting/ overfitting\n",
        "- cross validation like k-fold and leave one out. \n",
        "\n",
        "Linear regresson makes predictions about the linear relationship between input variable / contrast and output variable / neural response of single neuron.\n",
        "\n",
        "Typical plot: y = linear weight / slope * input + intercept\n",
        "\n",
        "For simplicity, assume one parameter model\n",
        "y = slope * input\n",
        "\n",
        "Linear line is the one that fits all the data well (aka find theta).\n",
        "One of the ways of doing the same is to minimise the mean squared error which is the average error (over N number of data points) between model prediction y_hat and true y (equivalent to reducing the sum of squares of residual of each data point). \n",
        "\n",
        "Substituting MSE into minimum, we find that - there's one global minima (valley of landscape). Optimal value of theta is equal to min of MSE. We can solve the minimisation problem by setting gradient of MSE with respect to theta = 0 (closed form solution for theta). True theta is close to theta MSE which implies that MSE is a good estimator for the linear regression model. \n",
        "\n",
        "We will now define and fit the Linear regreesion by minimising MSE and hence, recover the linear weight.\n",
        "\n",
        "\n",
        "\n",
        "\n"
      ]
    },
    {
      "cell_type": "markdown",
      "metadata": {
        "id": "TLvD8lB02u-X"
      },
      "source": [
        "**Linear least squares regression** is an old but gold  optimization procedure that we are going to use for data fitting. Least squares (LS) optimization problems are those in which the objective function is a quadratic function of the\n",
        "parameter(s) being optimized.\n",
        "\n",
        "Suppose you have a set of measurements, $y_{n}$ (the \"dependent\" variable) obtained for different input values, $x_{n}$ (the \"independent\" or \"explanatory\" variable). Suppose we believe the measurements are proportional to the input values, but are corrupted by some (random) measurement errors, $\\epsilon_{n}$, that is:\n",
        "\n",
        "$$y_{n}= \\theta x_{n}+\\epsilon_{n}$$\n",
        "\n",
        "for some unknown slope parameter $\\theta.$ The least squares regression problem uses **mean squared error (MSE)** as its objective function, it aims to find the value of the parameter $\\theta$ by minimizing the average of squared errors:\n",
        "\n",
        "\\begin{align}\n",
        "\\min _{\\theta} \\frac{1}{N}\\sum_{n=1}^{N}\\left(y_{n}-\\theta x_{n}\\right)^{2}\n",
        "\\end{align}"
      ]
    },
    {
      "cell_type": "markdown",
      "metadata": {
        "id": "iKtmJJVI2u-X"
      },
      "source": [
        "We will now explore how MSE is used in fitting a linear regression model to data. For illustrative purposes, we will create a simple synthetic dataset where we know the true underlying model. This will allow us to see how our estimation efforts compare in uncovering the real model (though in practice we rarely have this luxury).\n",
        "\n",
        "First we will generate some noisy samples $x$ from [0, 10) along the line $y = 1.2x$ as our dataset we wish to fit a model to."
      ]
    },
    {
      "cell_type": "code",
      "metadata": {
        "cellView": "form",
        "id": "1QHKknLD2u-Y"
      },
      "source": [
        "# @title\n",
        "\n",
        "# @markdown Execute this cell to generate some simulated data\n",
        "\n",
        "# setting a fixed seed to our random number generator ensures we will always\n",
        "# get the same psuedorandom number sequence\n",
        "np.random.seed(121)\n",
        "\n",
        "# Let's set some parameters\n",
        "theta = 1.2\n",
        "n_samples = 30\n",
        "\n",
        "# Draw x and then calculate y\n",
        "x = 10 * np.random.rand(n_samples)  # sample from a uniform distribution over [0,10)\n",
        "noise = np.random.randn(n_samples)  # sample from a standard normal distribution\n",
        "y = theta * x + noise\n",
        "\n",
        "# Plot the results\n",
        "fig, ax = plt.subplots()\n",
        "ax.scatter(x, y)  # produces a scatter plot\n",
        "ax.set(xlabel='x', ylabel='y');"
      ],
      "execution_count": null,
      "outputs": []
    },
    {
      "cell_type": "markdown",
      "metadata": {
        "id": "gc7rzNGx2u-Y"
      },
      "source": [
        "Now that we have our suitably noisy dataset, we can start trying to estimate the underlying model that produced it. We use MSE to evaluate how successful a particular slope estimate $\\hat{\\theta}$ is for explaining the data, with the closer to 0 the MSE is, the better our estimate fits the data."
      ]
    },
    {
      "cell_type": "markdown",
      "metadata": {
        "id": "A0xLpgYd2u-Y"
      },
      "source": [
        "## Exercise 1: Compute MSE\n",
        "\n",
        "In this exercise you will implement a method to compute the mean squared error for a set of inputs $x$, measurements $y$, and slope estimate $\\hat{\\theta}$. We will then compute and print the mean squared error for 3 different choices of theta"
      ]
    },
    {
      "cell_type": "code",
      "metadata": {
        "id": "cdGfej9A2u-Y"
      },
      "source": [
        "def mse(x, y, theta_hat):\n",
        "  \"\"\"Compute the mean squared error\n",
        "\n",
        "  Args:\n",
        "    x (ndarray): An array of shape (samples,) that contains the input values.\n",
        "    y (ndarray): An array of shape (samples,) that contains the corresponding\n",
        "      measurement values to the inputs.\n",
        "    theta_hat (float): An estimate of the slope parameter\n",
        "\n",
        "  Returns:\n",
        "    float: The mean squared error of the data with the estimated parameter.\n",
        "  \"\"\"\n",
        "  ####################################################\n",
        "  ## TODO for students: compute the mean squared error\n",
        "  # Fill out function and remove\n",
        "  raise NotImplementedError(\"Student exercise: compute the mean squared error\")\n",
        "  ####################################################\n",
        "\n",
        "  # Compute the estimated y\n",
        "  y_hat = ...\n",
        "\n",
        "  # Compute mean squared error\n",
        "  mse = ...\n",
        "\n",
        "  return mse\n",
        "\n",
        "\n",
        "# Uncomment below to test your function\n",
        "theta_hats = [0.75, 1.0, 1.5]\n",
        "# for theta_hat in theta_hats:\n",
        "#   print(f\"theta_hat of {theta_hat} has an MSE of {mse(x, y, theta_hat):.2f}\")"
      ],
      "execution_count": null,
      "outputs": []
    },
    {
      "cell_type": "markdown",
      "metadata": {
        "cellView": "both",
        "outputId": "3ed61eef-3d5e-4118-b0b8-dc2a299c461a",
        "id": "u_Fe5SHq2u-Z"
      },
      "source": [
        "[*Click for solution*](https://github.com/NeuromatchAcademy/course-content/tree/master//tutorials/W1D3_ModelFitting/solutions/W1D3_Tutorial1_Solution_12a57de0.py)\n",
        "\n"
      ]
    },
    {
      "cell_type": "markdown",
      "metadata": {
        "id": "YgxIhrWW2u-Z"
      },
      "source": [
        "The result should be:\n",
        "\n",
        "theta_hat of 0.75 has an MSE of 9.08\\\n",
        "theta_hat of 1.0 has an MSE of 3.0\\\n",
        "theta_hat of 1.5 has an MSE of 4.52\n",
        "\n",
        "\n",
        "\n"
      ]
    },
    {
      "cell_type": "markdown",
      "metadata": {
        "id": "ttXzq7mg2u-Z"
      },
      "source": [
        "We see that $\\hat{\\theta} = 1.0$ is our best estimate from the three we tried. Looking just at the raw numbers, however, isn't always satisfying, so let's visualize what our estimated model looks like over the data. \n",
        "\n"
      ]
    },
    {
      "cell_type": "code",
      "metadata": {
        "cellView": "form",
        "id": "XWyUKvDV2u-Z"
      },
      "source": [
        "#@title\n",
        "\n",
        "#@markdown Execute this cell to visualize estimated models\n",
        "\n",
        "fig, axes = plt.subplots(ncols=3, figsize=(18, 4))\n",
        "for theta_hat, ax in zip(theta_hats, axes):\n",
        "\n",
        "  # True data\n",
        "  ax.scatter(x, y, label='Observed')  # our data scatter plot\n",
        "\n",
        "  # Compute and plot predictions\n",
        "  y_hat = theta_hat * x\n",
        "  ax.plot(x, y_hat, color='r', label='Fit')  # our estimated model\n",
        "\n",
        "  ax.set(\n",
        "      title= fr'$\\hat{{\\theta}}$= {theta_hat}, MSE = {mse(x, y, theta_hat):.2f}',\n",
        "      xlabel='x',\n",
        "      ylabel='y'\n",
        "  );\n",
        "\n",
        "axes[0].legend()"
      ],
      "execution_count": null,
      "outputs": []
    },
    {
      "cell_type": "markdown",
      "metadata": {
        "id": "Y-vXUgsx2u-Z"
      },
      "source": [
        "## Interactive Demo: MSE Explorer\n",
        "\n",
        "Using an interactive widget, we can easily see how changing our slope estimate changes our model fit. We display the **residuals**, the differences between observed and predicted data, as line segments between the data point (observed response) and the corresponding predicted response on the model fit line."
      ]
    },
    {
      "cell_type": "code",
      "metadata": {
        "cellView": "form",
        "id": "UNdoCUc32u-Z"
      },
      "source": [
        "#@title\n",
        "\n",
        "#@markdown Make sure you execute this cell to enable the widget!\n",
        "\n",
        "@widgets.interact(theta_hat=widgets.FloatSlider(1.0, min=0.0, max=2.0))\n",
        "def plot_data_estimate(theta_hat):\n",
        "  y_hat = theta_hat * x\n",
        "  plot_observed_vs_predicted(x, y, y_hat, theta_hat)"
      ],
      "execution_count": null,
      "outputs": []
    },
    {
      "cell_type": "markdown",
      "metadata": {
        "id": "jqMaeqX62u-Z"
      },
      "source": [
        "While visually exploring several estimates can be instructive, it's not the most efficient for finding the best estimate to fit our data. Another technique we can use is choose a reasonable range of parameter values and compute the MSE at several values in that interval. This allows us to plot the error against the parameter value (this is also called an **error landscape**, especially when we deal with more than one parameter). We can select the final $\\hat{\\theta}$ ($\\hat{\\theta}_{MSE}$) as the one which results in the lowest error."
      ]
    },
    {
      "cell_type": "code",
      "metadata": {
        "cellView": "form",
        "id": "KVpKIIqB2u-Z"
      },
      "source": [
        "# @title\n",
        "\n",
        "# @markdown Execute this cell to loop over theta_hats, compute MSE, and plot results\n",
        "\n",
        "# Loop over different thetas, compute MSE for each\n",
        "theta_hat_grid = np.linspace(-2.0, 4.0)\n",
        "errors = np.zeros(len(theta_hat_grid))\n",
        "for i, theta_hat in enumerate(theta_hat_grid):\n",
        "  errors[i] = mse(x, y, theta_hat)\n",
        "\n",
        "# Find theta that results in lowest error\n",
        "best_error = np.min(errors)\n",
        "theta_hat = theta_hat_grid[np.argmin(errors)]\n",
        "\n",
        "\n",
        "# Plot results\n",
        "fig, ax = plt.subplots()\n",
        "ax.plot(theta_hat_grid, errors, '-o', label='MSE', c='C1')\n",
        "ax.axvline(theta, color='g', ls='--', label=r\"$\\theta_{True}$\")\n",
        "ax.axvline(theta_hat, color='r', ls='-', label=r\"$\\hat{{\\theta}}_{MSE}$\")\n",
        "ax.set(\n",
        "  title=fr\"Best fit: $\\hat{{\\theta}}$ = {theta_hat:.2f}, MSE = {best_error:.2f}\",\n",
        "  xlabel=r\"$\\hat{{\\theta}}$\",\n",
        "  ylabel='MSE')\n",
        "ax.legend();"
      ],
      "execution_count": null,
      "outputs": []
    },
    {
      "cell_type": "markdown",
      "metadata": {
        "id": "qBhblP1w2u-Z"
      },
      "source": [
        "We can see that our best fit is $\\hat{\\theta}=1.18$ with an MSE of 1.45. This is quite close to the original true value $\\theta=1.2$!\n"
      ]
    },
    {
      "cell_type": "markdown",
      "metadata": {
        "id": "pRYQFdne2u-Z"
      },
      "source": [
        "---\n",
        "# Section 2: Least-squares optimization\n",
        "\n",
        "\n",
        "While the approach detailed above (computing MSE at various values of $\\hat\\theta$) quickly got us to a good estimate, it still relied on evaluating the MSE value across a grid of hand-specified values. If we didn't pick a good range to begin with, or with enough granularity, we might miss the best possible estimator. Let's go one step further, and instead of finding the minimum MSE from a set of candidate estimates, let's solve for it analytically.\n",
        "\n",
        "We can do this by minimizing the cost function. Mean squared error is a convex objective function, therefore we can compute its minimum using calculus. Please see video or appendix for this derivation! After computing the minimum, we find that:\n",
        "\n",
        "\\begin{align}\n",
        "\\hat\\theta = \\frac{\\vec{x}^\\top \\vec{y}}{\\vec{x}^\\top \\vec{x}}\n",
        "\\end{align}\n",
        "\n",
        "This is known as solving the normal equations. For different ways of obtaining the solution, see the notes on [Least Squares Optimization](https://www.cns.nyu.edu/~eero/NOTES/leastSquares.pdf) by Eero Simoncelli."
      ]
    },
    {
      "cell_type": "markdown",
      "metadata": {
        "id": "TjOFSJBb2u-Z"
      },
      "source": [
        "### Exercise 2: Solve for the Optimal Estimator\n",
        "\n",
        "In this exercise, you will write a function that finds the optimal $\\hat{\\theta}$ value using the least squares optimization approach (the equation above) to solve MSE minimization. It shoud take arguments $x$ and $y$ and return the solution $\\hat{\\theta}$.\n",
        "\n",
        "We will then use your function to compute $\\hat{\\theta}$ and plot the resulting prediction on top of the data. "
      ]
    },
    {
      "cell_type": "code",
      "metadata": {
        "id": "_PHsv6uC2u-Z"
      },
      "source": [
        "def solve_normal_eqn(x, y):\n",
        "  \"\"\"Solve the normal equations to produce the value of theta_hat that minimizes\n",
        "    MSE.\n",
        "\n",
        "    Args:\n",
        "    x (ndarray): An array of shape (samples,) that contains the input values.\n",
        "    y (ndarray): An array of shape (samples,) that contains the corresponding\n",
        "      measurement values to the inputs.\n",
        "\n",
        "  Returns:\n",
        "    float: the value for theta_hat arrived from minimizing MSE\n",
        "  \"\"\"\n",
        "\n",
        "  ################################################################################\n",
        "  ## TODO for students: solve for the best parameter using least squares\n",
        "  # Fill out function and remove\n",
        "  raise NotImplementedError(\"Student exercise: solve for theta_hat using least squares\")\n",
        "  ################################################################################\n",
        "\n",
        "  # Compute theta_hat analytically\n",
        "  theta_hat = ...\n",
        "\n",
        "  return theta_hat\n",
        "\n",
        "\n",
        "# Uncomment below to test your function\n",
        "# theta_hat = solve_normal_eqn(x, y)\n",
        "# y_hat = theta_hat * x\n",
        "# plot_observed_vs_predicted(x, y, y_hat, theta_hat)"
      ],
      "execution_count": null,
      "outputs": []
    },
    {
      "cell_type": "markdown",
      "metadata": {
        "cellView": "both",
        "outputId": "5a46f798-31e1-4fbd-da7a-de8a270c5f7d",
        "id": "k-ZW-1h-2u-Z"
      },
      "source": [
        "[*Click for solution*](https://github.com/NeuromatchAcademy/course-content/tree/master//tutorials/W1D3_ModelFitting/solutions/W1D3_Tutorial1_Solution_7a89ba24.py)\n",
        "\n",
        "*Example output:*\n",
        "\n",
        "<img alt='Solution hint' align='left' width=558 height=414 src=https://raw.githubusercontent.com/NeuromatchAcademy/course-content/master/tutorials/W1D3_ModelFitting/static/W1D3_Tutorial1_Solution_7a89ba24_0.png>\n",
        "\n"
      ]
    },
    {
      "cell_type": "markdown",
      "metadata": {
        "id": "s8uJDHWI2u-Z"
      },
      "source": [
        "We see that the analytic solution produces an even better result than our grid search from before, producing $\\hat{\\theta} = 1.21$ with MSE = 1.43!"
      ]
    },
    {
      "cell_type": "markdown",
      "metadata": {
        "id": "ipbCIx3W2u-Z"
      },
      "source": [
        "---\n",
        "# Summary\n",
        "\n",
        "- Linear least squares regression is an optimization procedure that can be used for data fitting:\n",
        "    - Task: predict a value for $y$ given $x$\n",
        "    - Performance measure: $\\textrm{MSE}$\n",
        "    - Procedure: minimize $\\textrm{MSE}$ by solving the normal equations\n",
        "- **Key point**: We fit the model by defining an *objective function* and minimizing it. \n",
        "- **Note**: In this case, there is an *analytical* solution to the minimization problem and in practice, this solution can be computed using *linear algebra*. This is *extremely* powerful and forms the basis for much of numerical computation throughout the sciences."
      ]
    },
    {
      "cell_type": "markdown",
      "metadata": {
        "id": "lBDBhJOq2u-Z"
      },
      "source": [
        "---\n",
        "# Appendix"
      ]
    },
    {
      "cell_type": "markdown",
      "metadata": {
        "id": "UH7VEByP2u-Z"
      },
      "source": [
        "## Least Squares Optimization Derivation\n",
        "\n",
        "We will outline here the derivation of the least squares solution.\n",
        "\n",
        "We first set the derivative of the error expression with respect to $\\theta$ equal to zero, \n",
        "\n",
        "\\begin{align}\n",
        "\\frac{d}{d\\theta}\\frac{1}{N}\\sum_{i=1}^N(y_i - \\theta x_i)^2 = 0 \\\\\n",
        "\\frac{1}{N}\\sum_{i=1}^N-2x_i(y_i - \\theta x_i) = 0\n",
        "\\end{align}\n",
        "\n",
        "where we used the chain rule. Now solving for $\\theta$, we obtain an optimal value of:\n",
        "\n",
        "\\begin{align}\n",
        "\\hat\\theta = \\frac{\\sum_{i=1}^N x_i y_i}{\\sum_{i=1}^N x_i^2}\n",
        "\\end{align}\n",
        "\n",
        "Which we can write in vector notation as:\n",
        "\n",
        "\\begin{align}\n",
        "\\hat\\theta = \\frac{\\vec{x}^\\top \\vec{y}}{\\vec{x}^\\top \\vec{x}}\n",
        "\\end{align}\n",
        "\n",
        "\n",
        "This is known as solving the *normal equations*. For different ways of obtaining the solution, see the notes on [Least Squares Optimization](https://www.cns.nyu.edu/~eero/NOTES/leastSquares.pdf) by Eero Simoncelli."
      ]
    }
  ]
}