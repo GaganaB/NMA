{
  "nbformat": 4,
  "nbformat_minor": 0,
  "metadata": {
    "colab": {
      "name": "Copy of W3D2_Tutorial1",
      "provenance": [],
      "collapsed_sections": [
        "pC5Ai7vczUZD",
        "SSH4tatxzUZm",
        "_WJxPZz5zUZp",
        "qMh0MDzmzUZy",
        "cgzre_i7zUZ0",
        "lHq7DTFmzUZ5",
        "gOEdvGUhzUZ6",
        "8qgQkGUOzUZ7",
        "RjEyBrtqzUZ9",
        "JEEMPilQzUZ9",
        "IOO-e1pezUaE",
        "iiYtbZOLzUaF",
        "TavHNBkZzUaG"
      ],
      "toc_visible": true
    },
    "kernel": {
      "display_name": "Python 3",
      "language": "python",
      "name": "python3"
    },
    "kernelspec": {
      "display_name": "Python 3",
      "name": "python3"
    },
    "language_info": {
      "codemirror_mode": {
        "name": "ipython",
        "version": 3
      },
      "file_extension": ".py",
      "mimetype": "text/x-python",
      "name": "python",
      "nbconvert_exporter": "python",
      "pygments_lexer": "ipython3",
      "version": "3.7.8"
    }
  },
  "cells": [
    {
      "cell_type": "markdown",
      "metadata": {
        "id": "pC5Ai7vczUZD"
      },
      "source": [
        "# Neuromatch Academy: Week 3, Day 2, Tutorial 1\n",
        "# Neuronal Network Dynamics: Neural Rate Models\n",
        "\n",
        "__Content creators:__ Qinglong Gu, Songtin Li, Arvind Kumar, John Murray, Julijana Gjorgjieva \n",
        "\n",
        "__Content reviewers:__  Maryam Vaziri-Pashkam, Ella Batty, Lorenzo Fontolan, Richard Gao, Spiros Chavlis, Michael Waskom\n"
      ]
    },
    {
      "cell_type": "markdown",
      "metadata": {
        "id": "SSH4tatxzUZm"
      },
      "source": [
        "---\n",
        "# Tutorial Objectives\n",
        "\n",
        "The brain is a complex system, not because it is composed of a large number of diverse types of neurons, but mainly because of how neurons are connected to each other. The brain is indeed a network of highly specialized neuronal networks. \n",
        "\n",
        "The activity of a neural network constantly evolves in time. For this reason, neurons can be modeled as dynamical systems. The dynamical system approach is only one of the many modeling approaches that computational neuroscientists have developed (other points of view include information processing,  statistical models, etc.). \n",
        "\n",
        "How the dynamics of neuronal networks affect the representation and processing of information in the brain is an open question. However, signatures of altered brain dynamics present in many brain diseases (e.g., in epilepsy or Parkinson's disease) tell us that it is crucial to study network activity dynamics if we want to understand the brain.\n",
        "\n",
        "In this tutorial, we will simulate and study one of the simplest models of biological neuronal networks. Instead of modeling and simulating individual excitatory neurons (e.g., LIF models that you implemented yesterday), we will treat them as a single homogeneous population and approximate their dynamics using a single one-dimensional equation describing the evolution of their average spiking rate in time.\n",
        "\n",
        "In this tutorial, we will learn how to build a firing rate model of a single population of excitatory neurons. \n",
        "\n",
        "**Steps:**\n",
        "- Write the equation for the firing rate dynamics of a 1D excitatory population.\n",
        "- Visualize the response of the population as a function of parameters such as threshold level and gain, using the frequency-current (F-I) curve.\n",
        "- Numerically simulate the dynamics of the excitatory population and find the fixed points of the system. \n",
        "- Investigate the stability of the fixed points by linearizing the dynamics around them.\n",
        " \n"
      ]
    },
    {
      "cell_type": "markdown",
      "metadata": {
        "id": "_WJxPZz5zUZp"
      },
      "source": [
        "---\n",
        "# Setup"
      ]
    },
    {
      "cell_type": "code",
      "metadata": {
        "cellView": "both",
        "id": "OerekiNrzUZt"
      },
      "source": [
        "# Imports\n",
        "import matplotlib.pyplot as plt\n",
        "import numpy as np\n",
        "import scipy.optimize as opt       # root-finding algorithm"
      ],
      "execution_count": null,
      "outputs": []
    },
    {
      "cell_type": "code",
      "metadata": {
        "cellView": "form",
        "id": "3aiuT1VmzUZv"
      },
      "source": [
        "# @title Figure Settings\n",
        "import ipywidgets as widgets       # interactive display\n",
        "%config InlineBackend.figure_format = 'retina'\n",
        "plt.style.use(\"https://raw.githubusercontent.com/NeuromatchAcademy/course-content/master/nma.mplstyle\")"
      ],
      "execution_count": null,
      "outputs": []
    },
    {
      "cell_type": "code",
      "metadata": {
        "id": "k6k0LOnnzUZw"
      },
      "source": [
        "# @title Helper functions\n",
        "\n",
        "\n",
        "def plot_fI(x, f):\n",
        "  plt.figure(figsize=(6, 4))  # plot the figure\n",
        "  plt.plot(x, f, 'k')\n",
        "  plt.xlabel('x (a.u.)', fontsize=14)\n",
        "  plt.ylabel('F(x)', fontsize=14)\n",
        "  plt.show()\n",
        "\n",
        "\n",
        "def plot_dr_r(r, drdt, x_fps=None):\n",
        "  plt.figure()\n",
        "  plt.plot(r, drdt, 'k')\n",
        "  plt.plot(r, 0. * r, 'k--')\n",
        "  if x_fps is not None:\n",
        "    plt.plot(x_fps, np.zeros_like(x_fps), \"ko\", ms=12)\n",
        "  plt.xlabel(r'$r$')\n",
        "  plt.ylabel(r'$\\frac{dr}{dt}$', fontsize=20)\n",
        "  plt.ylim(-0.1, 0.1)\n",
        "\n",
        "\n",
        "def plot_dFdt(x, dFdt):\n",
        "  plt.figure()\n",
        "  plt.plot(x, dFdt, 'r')\n",
        "  plt.xlabel('x (a.u.)', fontsize=14)\n",
        "  plt.ylabel('dF(x)', fontsize=14)\n",
        "  plt.show()"
      ],
      "execution_count": null,
      "outputs": []
    },
    {
      "cell_type": "markdown",
      "metadata": {
        "id": "6z_MqDve0VA_"
      },
      "source": [
        "`helper functions`:\n",
        "\n",
        "*plot_fI*: \n",
        "plot x (xaxis) vs f(x) (yaxis)\n",
        "\n",
        "*plot_dr_r*:\n",
        "plot r (xaxis) vs dr/dt (yaxis)\n",
        "\n",
        "*plot_dFdt*: \n",
        "plot x (xaxis) vs dF(x) (yaxis)"
      ]
    },
    {
      "cell_type": "markdown",
      "metadata": {
        "id": "qMh0MDzmzUZy"
      },
      "source": [
        "---\n",
        "# Section 1: Neuronal network dynamics"
      ]
    },
    {
      "cell_type": "code",
      "metadata": {
        "cellView": "form",
        "id": "6TQTBduwzUZz",
        "colab": {
          "base_uri": "https://localhost:8080/",
          "height": 518
        },
        "outputId": "4b986437-ec1a-4e14-9e21-825600b57f8c"
      },
      "source": [
        "# @title Video 1: Dynamic networks\n",
        "from IPython.display import YouTubeVideo\n",
        "video = YouTubeVideo(id=\"p848349hPyw\", width=854, height=480, fs=1)\n",
        "print(\"Video available at https://youtube.com/watch?v=\" + video.id)\n",
        "video"
      ],
      "execution_count": null,
      "outputs": [
        {
          "output_type": "stream",
          "text": [
            "Video available at https://youtube.com/watch?v=p848349hPyw\n"
          ],
          "name": "stdout"
        },
        {
          "output_type": "execute_result",
          "data": {
            "text/html": [
              "\n",
              "        <iframe\n",
              "            width=\"854\"\n",
              "            height=\"480\"\n",
              "            src=\"https://www.youtube.com/embed/p848349hPyw?fs=1\"\n",
              "            frameborder=\"0\"\n",
              "            allowfullscreen\n",
              "        ></iframe>\n",
              "        "
            ],
            "text/plain": [
              "<IPython.lib.display.YouTubeVideo at 0x7f8e198c5898>"
            ],
            "image/jpeg": "[encoded data removed]"
          },
          "metadata": {
            "tags": []
          },
          "execution_count": 1
        }
      ]
    },
    {
      "cell_type": "markdown",
      "metadata": {
        "id": "Tono73mY2mgX"
      },
      "source": [
        "# Summary of Video 1:\n",
        "\n",
        "*learn how single neurons create network dynamics*\n",
        "\n",
        "- single neurons can generate & represent information.\n",
        "By using their combination of ion channels that operate on different timescales and complex morphologies\n",
        "and understand the computations that these neurons can actually achieve.\n",
        "- many neural circuits in the brain are not made up of single neurons,\n",
        "but rather of interconnected populations of neurons\n",
        "with diverse properties and synaptic dynamics.\n",
        "How these single neurons can generate population on it or network dynamics\n",
        "\n",
        "(a) studying rate models namely network models,\n",
        "whereby the activity of donors and described using firing rates.\n",
        "- describe the dynamics of these networks by focusing on the firing rate activity\n",
        "- we will investigate\n",
        "networks of neurons comprised of a single population of neurons that have similar properties \n",
        "That's why these these models are known as rate models. \n",
        "(b) expand the framework and introduce a second population, namely a population of inhibitory neurons that together with excitatory neurons generate interesting neural dynamics using the framework of two- dimensional dynamical systems; define the notion of fixed points and their stability in this two-dimensional system, as well as vector fields in a complimentary way to the system with a single population\n",
        "\n",
        "Excitatory neurons that all code for the same\n",
        "Stimulus feature and use the mathematical framework of dynamical systems to understand\n",
        "Concepts like fi curves fixed points and their stability and vector fields\n",
        "To understand how these networks generate dynamics and what this means. \n",
        "\n",
        "A feed-forward network is comprised of three different Ingredients.\n",
        "first we have a layer of pre-synaptic neurons or inputs that we describe here by the vector u\n",
        "We also have a single post-synaptic neuron. So this is a very simple feed-forward network\n",
        "with a single post-synaptic neuron whose activity, whose firing rate is described by the variable V\n",
        "This is a scalar\n",
        "and the way this postsynaptic neuron generates activity is by integrating the presynaptic inputs u\n",
        "weighted by some weight matrix \"m\" which gives us the third component in the feed-forward network\n",
        "namely the strength of the synaptic weights or connection\n",
        "between the presynaptic inputs and the postsynaptic neuron\n",
        "\n",
        "Now to determine how this post-synaptic neuron generates a firing rate\n",
        "We need to understand what the total input current is at this post-synaptic neuron\n",
        "that it receives from the presynaptic neurons.\n",
        "To do that, we assume that simply this postsynaptic neuron scales linearly the presynaptic input units\n",
        "so that the total input current experienced by the postsynaptic neuron\n",
        "is just a product or which of the individual weights M sub J times\n",
        "The activity of the corresponding presynaptic unit U sub J\n",
        "So then we can write a differential equation that tells us what the firing rate activity is of this postsynaptic unit V\n",
        "We have a differential equation that consists of two parts first. We have a leak term\n",
        "so this minus V that tells us upon the removal of a presynaptic input\n",
        "What how the activity of this postsynaptic neuron will became time? \n",
        "So this current that it receives from the presynaptic\n",
        "units that can also be written as the dot product between the weight vector and the input vector U\n",
        "So we can extend this feed-forward network to include multiple\n",
        "postsynaptic neurons V\n",
        "\n",
        "What's the strength of the connection into a given postsynaptic neuron from a given presynaptic neuron?\n",
        "- allows us to simplify the schematic a little bit where instead of this entire array of presynaptic units you that we\n",
        "Had before we now just have a single\n",
        "external vector \n",
        "input that goes into all of the postsynaptic units V\n",
        "again, we can simplify this even further instead of considering this entire post synaptic array as effectively an array\n",
        "or a vector of firing rates of postsynaptic neurons we can lump them together into a single population\n",
        "So instead of having a vector of firing rates\n",
        "we now have a single scalar which describes the firing rate of the entire population of neurons and we can do this if\n",
        "We assume that all of these neurons have very similar properties that can be described by the same equation\n",
        "So now we have an equation\n",
        "for the entire population\n",
        "This defines very naturally the concept of an fi curve namely R describes the firing rate of the population\n",
        "and\n",
        "It tells us how this so this non-linearity F tells us how the firing rate of the population\n",
        "depends on the total input current that it receives\n",
        "This is known as an F-I curve because for obvious reasons F stands for\n",
        "Firing rate and I stands for Input current but in literature this is also known as the transfer function or the stimulus response\n",
        "Function or even the tuning curve of the population here\n",
        "We have taken a sigmoidal tuning curve or sigmoidal F-I curve described by this expression here\n",
        "But depending on the system that you try to model this can\n",
        "Have a very different shape and might not even be monotonically increasing like the sigmoid that we have considered here\n",
        "\n",
        "there are two properties of this F-I curve :\n",
        "1. threshold which tells us how much input current is needed to drive the\n",
        "Population to fire with a given firing rate and \n",
        "2. gain which tells us how fast does the firing rate change\n",
        "As you change the input current\n",
        "These two can be varied. So of course we can increase the threshold"
      ]
    },
    {
      "cell_type": "markdown",
      "metadata": {
        "id": "cgzre_i7zUZ0"
      },
      "source": [
        "## Section 1.1: Dynamics of a single excitatory population\n",
        "\n",
        "Individual neurons respond by spiking. When we average the spikes of neurons in a population, we can define the average firing activity of the population. In this model, we are interested in how the population-averaged firing varies as a function of time and network parameters. Mathematically, we can describe the firing rate dynamic as:\n",
        "\n",
        "\\begin{align}\n",
        "\\tau \\frac{dr}{dt} &= -r + F(w\\cdot r + I_{\\text{ext}})  \\quad\\qquad (1)\n",
        "\\end{align}\n",
        "\n",
        "$r(t)$ represents the average firing rate of the excitatory population at time $t$, $\\tau$ controls the timescale of the evolution of the average firing rate, $w$ denotes the strength (synaptic weight) of the recurrent input to the population, $I_{\\text{ext}}$ represents the external input, and the transfer function $F(\\cdot)$ (which can be related to f-I curve of individual neurons described in the next sections) represents the population activation function in response to all received inputs.\n",
        "\n",
        "To start building the model, please execute the cell below to initialize the simulation parameters."
      ]
    },
    {
      "cell_type": "code",
      "metadata": {
        "cellView": "form",
        "id": "BBZPdhSKzUZ1"
      },
      "source": [
        "# @markdown *Execute this cell to set default parameters for a single excitatory population model*\n",
        "\n",
        "\n",
        "def default_pars_single(**kwargs):\n",
        "  pars = {}\n",
        "\n",
        "  # Excitatory parameters\n",
        "  pars['tau'] = 1.     # Timescale of the E population [ms]\n",
        "  pars['a'] = 1.2      # Gain of the E population\n",
        "  pars['theta'] = 2.8  # Threshold of the E population\n",
        "\n",
        "  # Connection strength\n",
        "  pars['w'] = 0.  # E to E, we first set it to 0\n",
        "\n",
        "  # External input\n",
        "  pars['I_ext'] = 0.\n",
        "\n",
        "  # simulation parameters\n",
        "  pars['T'] = 20.       # Total duration of simulation [ms]\n",
        "  pars['dt'] = .1       # Simulation time step [ms]\n",
        "  pars['r_init'] = 0.2  # Initial value of E\n",
        "\n",
        "  # External parameters if any\n",
        "  pars.update(kwargs)\n",
        "\n",
        "  # Vector of discretized time points [ms]\n",
        "  pars['range_t'] = np.arange(0, pars['T'], pars['dt'])\n",
        "\n",
        "  return pars"
      ],
      "execution_count": null,
      "outputs": []
    },
    {
      "cell_type": "markdown",
      "metadata": {
        "id": "xPXSeQEozUZ2"
      },
      "source": [
        "You can now use:\n",
        "- `pars = default_pars_single()` to get all the parameters, and then you can execute `print(pars)` to check these parameters. \n",
        "- `pars = default_pars_single(T=T_sim, dt=time_step)` to set new simulation time and time step\n",
        "- To update an existing parameter dictionary, use `pars['New_para'] = value`\n",
        "\n",
        "Because `pars` is a dictionary, it can be passed to a function that requires individual parameters as arguments using `my_func(**pars)` syntax."
      ]
    },
    {
      "cell_type": "markdown",
      "metadata": {
        "id": "lHq7DTFmzUZ5"
      },
      "source": [
        "## Section 1.2: F-I curves\n",
        "In electrophysiology, a neuron is often characterized by its spike rate output in response to input currents. This is often called the **F-I** curve, denoting the output spike frequency (**F**) in response to different injected currents (**I**). We estimated this for an LIF neuron in yesterday's tutorial.\n",
        "\n",
        "The transfer function $F(\\cdot)$ in Equation $1$ represents the gain of the population as a function of the total input. The gain is often modeled as a sigmoidal function, i.e., more input drive leads to a nonlinear increase in the population firing rate. The output firing rate will eventually saturate for high input values. \n",
        "\n",
        "A sigmoidal $F(\\cdot)$ is parameterized by its gain $a$ and threshold $\\theta$.\n",
        "\n",
        "$$ F(x;a,\\theta) = \\frac{1}{1+\\text{e}^{-a(x-\\theta)}} - \\frac{1}{1+\\text{e}^{a\\theta}}  \\quad(2)$$\n",
        "\n",
        "The argument $x$ represents the input to the population. Note that the second term is chosen so that $F(0;a,\\theta)=0$.\n",
        "\n",
        "Many other transfer functions (generally monotonic) can be also used. Examples are the rectified linear function $ReLU(x)$ or the hyperbolic tangent $tanh(x)$."
      ]
    },
    {
      "cell_type": "markdown",
      "metadata": {
        "id": "gOEdvGUhzUZ6"
      },
      "source": [
        "### Exercise 1: Implement F-I curve \n",
        "\n",
        "Let's first investigate the activation functions before simulating the dynamics of the entire population. \n",
        "\n",
        "In this exercise, you will implement a sigmoidal **F-I** curve or transfer function $F(x)$, with gain $a$ and threshold level $\\theta$ as parameters."
      ]
    },
    {
      "cell_type": "code",
      "metadata": {
        "id": "pGi_z_0azUZ6"
      },
      "source": [
        "def F(x, a, theta):\n",
        "  \"\"\"\n",
        "  Population activation function.\n",
        "\n",
        "  Args:\n",
        "    x (float): the population input\n",
        "    a (float): the gain of the function\n",
        "    theta (float): the threshold of the function\n",
        "\n",
        "  Returns:\n",
        "    float: the population activation response F(x) for input x\n",
        "  \"\"\"\n",
        "  #################################################\n",
        "  ## TODO for students: compute f = F(x) ##\n",
        "  # Fill out function and remove\n",
        "  raise NotImplementedError(\"Student excercise: implement the f-I function\")\n",
        "  #################################################\n",
        "\n",
        "  # Define the sigmoidal transfer function f = F(x)\n",
        "  f = ...\n",
        "\n",
        "  return f\n",
        "\n",
        "\n",
        "pars = default_pars_single()  # get default parameters\n",
        "x = np.arange(0, 10, .1)      # set the range of input\n",
        "\n",
        "# Uncomment below to test your function\n",
        "# f = F(x, pars['a'], pars['theta'])\n",
        "# plot_fI(x, f)"
      ],
      "execution_count": null,
      "outputs": []
    },
    {
      "cell_type": "code",
      "metadata": {
        "cellView": "both",
        "id": "D7wL20uwzUZ6"
      },
      "source": [
        "# to_remove solution\n",
        "def F(x, a, theta):\n",
        "  \"\"\"\n",
        "  Population activation function.\n",
        "\n",
        "  Args:\n",
        "    x (float): the population input\n",
        "    a (float): the gain of the function\n",
        "    theta (float): the threshold of the function\n",
        "\n",
        "  Returns:\n",
        "    float: the population activation response F(x) for input x\n",
        "  \"\"\"\n",
        "\n",
        "  # Define the sigmoidal transfer function f = F(x)\n",
        "  f = (1 + np.exp(-a * (x - theta)))**-1 - (1 + np.exp(a * theta))**-1\n",
        "\n",
        "  return f\n",
        "\n",
        "\n",
        "pars = default_pars_single()  # get default parameters\n",
        "x = np.arange(0, 10, .1)      # set the range of input\n",
        "\n",
        "# Uncomment below to test your function\n",
        "f = F(x, pars['a'], pars['theta'])\n",
        "\n",
        "with plt.xkcd():\n",
        "  plot_fI(x, f)"
      ],
      "execution_count": null,
      "outputs": []
    },
    {
      "cell_type": "markdown",
      "metadata": {
        "id": "8qgQkGUOzUZ7"
      },
      "source": [
        "### Interactive Demo: Parameter exploration of F-I curve\n",
        "Here's an interactive demo that shows how the F-I curve changes for different values of the gain and threshold parameters. How do the gain and threshold parameters affect the F-I curve?"
      ]
    },
    {
      "cell_type": "code",
      "metadata": {
        "cellView": "form",
        "id": "zzBgnQaOzUZ7"
      },
      "source": [
        "# @title\n",
        "\n",
        "# @markdown Make sure you execute this cell to enable the widget!\n",
        "\n",
        "\n",
        "def interactive_plot_FI(a, theta):\n",
        "  \"\"\"\n",
        "  Population activation function.\n",
        "\n",
        "  Expecxts:\n",
        "    a     : the gain of the function\n",
        "    theta : the threshold of the function\n",
        "\n",
        "  Returns:\n",
        "    plot the F-I curve with give parameters\n",
        "  \"\"\"\n",
        "\n",
        "  # set the range of input\n",
        "  x = np.arange(0, 10, .1)\n",
        "  plt.figure()\n",
        "  plt.plot(x, F(x, a, theta), 'k')\n",
        "  plt.xlabel('x (a.u.)', fontsize=14)\n",
        "  plt.ylabel('F(x)', fontsize=14)\n",
        "  plt.show()\n",
        "\n",
        "\n",
        "_ = widgets.interact(interactive_plot_FI, a=(0.3, 3, 0.3), theta=(2, 4, 0.2))"
      ],
      "execution_count": null,
      "outputs": []
    },
    {
      "cell_type": "code",
      "metadata": {
        "id": "lEtNh-JxzUZ8"
      },
      "source": [
        "# to_remove explanation\n",
        "\n",
        "\"\"\"\n",
        "Discussion:\n",
        "\n",
        "For the function we have chosen to model the F-I curve (eq 2),\n",
        "- a determines the slope (gain) of the rising phase of the F-I curve\n",
        "- theta determines the input at which the function F(x) reaches its mid-value (0.5).\n",
        "That is, theta shifts the F-I curve along the horizontal axis.\n",
        "\n",
        "For our neurons we are using in this tutorial:\n",
        "- a controls the gain of the neuron population\n",
        "- theta controls the threshold at which the neuron population starts to respond\n",
        "\"\"\";"
      ],
      "execution_count": null,
      "outputs": []
    },
    {
      "cell_type": "markdown",
      "metadata": {
        "id": "RjEyBrtqzUZ9"
      },
      "source": [
        "## Section 1.3: Simulation scheme of E dynamics\n",
        "\n",
        "Because $F(\\cdot)$ is a nonlinear function, the exact solution of Equation $1$ can not be determined via analytical methods. Therefore, numerical methods must be used to find the solution. In practice, the derivative on the left-hand side of Equation $1$ can be approximated using the Euler method on a time-grid of stepsize $\\Delta t$:\n",
        "\n",
        "\\begin{align}\n",
        "&\\frac{dr}{dt} \\approx \\frac{r[k+1]-r[k]}{\\Delta t} \n",
        "\\end{align}\n",
        "where $r[k] = r(k\\Delta t)$. \n",
        "\n",
        "Thus,\n",
        "\n",
        "$$\\Delta r[k] = \\frac{\\Delta t}{\\tau}[-r[k] + F(w\\cdot r[k] + I_{\\text{ext}}[k];a,\\theta)]$$\n",
        "\n",
        "\n",
        "Hence, Equation (1) is updated at each time step by:\n",
        "\n",
        "$$r[k+1] = r[k] + \\Delta r[k]$$\n"
      ]
    },
    {
      "cell_type": "code",
      "metadata": {
        "cellView": "form",
        "id": "JPFH6OzIzUZ9"
      },
      "source": [
        "# @markdown *Execute this cell to enable the single population rate model simulator: `simulate_single`*\n",
        "\n",
        "\n",
        "def simulate_single(pars):\n",
        "  \"\"\"\n",
        "  Simulate an excitatory population of neurons\n",
        "\n",
        "  Args:\n",
        "    pars   : Parameter dictionary\n",
        "\n",
        "  Returns:\n",
        "    rE     : Activity of excitatory population (array)\n",
        "\n",
        "  Example:\n",
        "    pars = default_pars_single()\n",
        "    r = simulate_single(pars)\n",
        "  \"\"\"\n",
        "\n",
        "  # Set parameters\n",
        "  tau, a, theta = pars['tau'], pars['a'], pars['theta']\n",
        "  w = pars['w']\n",
        "  I_ext = pars['I_ext']\n",
        "  r_init = pars['r_init']\n",
        "  dt, range_t = pars['dt'], pars['range_t']\n",
        "  Lt = range_t.size\n",
        "\n",
        "  # Initialize activity\n",
        "  r = np.zeros(Lt)\n",
        "  r[0] = r_init\n",
        "  I_ext = I_ext * np.ones(Lt)\n",
        "\n",
        "  # Update the E activity\n",
        "  for k in range(Lt - 1):\n",
        "      dr = dt / tau * (-r[k] + F(w * r[k] + I_ext[k], a, theta))\n",
        "      r[k+1] = r[k] + dr\n",
        "\n",
        "  return r\n",
        "\n",
        "help(simulate_single)"
      ],
      "execution_count": null,
      "outputs": []
    },
    {
      "cell_type": "markdown",
      "metadata": {
        "id": "JEEMPilQzUZ9"
      },
      "source": [
        "### Interactive Demo: Parameter Exploration of single population dynamics\n",
        "\n",
        "Note that $w=0$, as in the default setting, means no recurrent input to the neuron population in Equation (1). Hence, the dynamics are entirely determined by the external input $I_{\\text{ext}}$. Explore these dynamics in this interactive demo.\n",
        "\n",
        "How does $r_{\\text{sim}}(t)$ change with different $I_{\\text{ext}}$ values? How does it change with different $\\tau$ values? Investigate the relationship between $F(I_{\\text{ext}}; a, \\theta)$ and the steady value of $r(t)$. \n",
        "\n",
        "Note that, $r_{\\rm ana}(t)$ denotes the analytical solution - you will learn how this is computed in the next section."
      ]
    },
    {
      "cell_type": "code",
      "metadata": {
        "cellView": "form",
        "id": "2VU8CFPRzUZ9"
      },
      "source": [
        "# @title\n",
        "\n",
        "# @markdown Make sure you execute this cell to enable the widget!\n",
        "\n",
        "# get default parameters\n",
        "pars = default_pars_single(T=20.)\n",
        "\n",
        "\n",
        "def Myplot_E_diffI_difftau(I_ext, tau):\n",
        "  # set external input and time constant\n",
        "  pars['I_ext'] = I_ext\n",
        "  pars['tau'] = tau\n",
        "\n",
        "  # simulation\n",
        "  r = simulate_single(pars)\n",
        "\n",
        "  # Analytical Solution\n",
        "  r_ana = (pars['r_init']\n",
        "           + (F(I_ext, pars['a'], pars['theta'])\n",
        "           - pars['r_init']) * (1. - np.exp(-pars['range_t'] / pars['tau'])))\n",
        "\n",
        "  # plot\n",
        "  plt.figure()\n",
        "  plt.plot(pars['range_t'], r, 'b', label=r'$r_{\\mathrm{sim}}$(t)', alpha=0.5,\n",
        "           zorder=1)\n",
        "  plt.plot(pars['range_t'], r_ana, 'b--', lw=5, dashes=(2, 2),\n",
        "           label=r'$r_{\\mathrm{ana}}$(t)', zorder=2)\n",
        "  plt.plot(pars['range_t'],\n",
        "           F(I_ext, pars['a'], pars['theta']) * np.ones(pars['range_t'].size),\n",
        "           'k--', label=r'$F(I_{\\mathrm{ext}})$')\n",
        "  plt.xlabel('t (ms)', fontsize=16.)\n",
        "  plt.ylabel('Activity r(t)', fontsize=16.)\n",
        "  plt.legend(loc='best', fontsize=14.)\n",
        "  plt.show()\n",
        "\n",
        "\n",
        "_ = widgets.interact(Myplot_E_diffI_difftau, I_ext=(0.0, 10., 1.),\n",
        "                     tau=(1., 5., 0.2))"
      ],
      "execution_count": null,
      "outputs": []
    },
    {
      "cell_type": "code",
      "metadata": {
        "id": "iLd-5dmjzUZ-"
      },
      "source": [
        "# to_remove explanation\n",
        "\n",
        "\"\"\"\n",
        "Discussion:\n",
        "\n",
        "Given the choice of F-I curve (eq 2) and dynamics of the neuron population (eq. 1)\n",
        "the neurons have two fixed points or steady-state responses irrespective of the input.\n",
        "- Weak inputs to the neurons eventually result in the activity converging to zero\n",
        "- Strong inputs to the neurons eventually result in the activity converging to max value\n",
        "\n",
        "The time constant tau, does not affect the steady-state response but it determines\n",
        "the time the neurons take to reach to their fixed point.\n",
        "\"\"\";"
      ],
      "execution_count": null,
      "outputs": []
    },
    {
      "cell_type": "markdown",
      "metadata": {
        "id": "V_Gxen8mzUZ-"
      },
      "source": [
        "## Think!\n",
        "Above, we have numerically solved a system driven by a positive input. Yet, $r_E(t)$ either decays to zero or reaches a fixed non-zero value.\n",
        "- Why doesn't the solution of the system \"explode\" in a finite time? In other words, what guarantees that $r_E$(t) stays finite? \n",
        "- Which parameter would you change in order to increase the maximum value of the response? "
      ]
    },
    {
      "cell_type": "markdown",
      "metadata": {
        "id": "Pjf2ky5k2sl0"
      },
      "source": [
        "*hint*:\n",
        "\n",
        "1. Is the FI curve bounded?\n",
        "2. Think of unbounded functions. "
      ]
    },
    {
      "cell_type": "code",
      "metadata": {
        "id": "NQs4Mr5_zUZ-"
      },
      "source": [
        "# to_remove explanation\n",
        "\n",
        "\"\"\"\n",
        "Discussion:\n",
        "\n",
        "1) As the F-I curve is bounded between zero and one, the system doesn't explode.\n",
        "The f-curve guarantees this property\n",
        "\n",
        "2) One way to increase the maximum response is to change the f-I curve. For\n",
        "example, the ReLU is an unbounded function, and thus will increase the overall maximal\n",
        "response of the network.\n",
        "\"\"\";"
      ],
      "execution_count": null,
      "outputs": []
    },
    {
      "cell_type": "markdown",
      "metadata": {
        "id": "qBGiExqXzUZ_"
      },
      "source": [
        "---\n",
        "# Section 2: Fixed points of the single population system\n"
      ]
    },
    {
      "cell_type": "code",
      "metadata": {
        "cellView": "form",
        "id": "PxWJdfrtzUaA",
        "colab": {
          "base_uri": "https://localhost:8080/",
          "height": 518
        },
        "outputId": "e69505ac-8f11-4b8e-9ac0-551e70d5f189"
      },
      "source": [
        "# @title Video 2: Fixed point\n",
        "from IPython.display import YouTubeVideo\n",
        "video = YouTubeVideo(id=\"Ox3ELd1UFyo\", width=854, height=480, fs=1)\n",
        "print(\"Video available at https://youtube.com/watch?v=\" + video.id)\n",
        "video"
      ],
      "execution_count": null,
      "outputs": [
        {
          "output_type": "stream",
          "text": [
            "Video available at https://youtube.com/watch?v=Ox3ELd1UFyo\n"
          ],
          "name": "stdout"
        },
        {
          "output_type": "execute_result",
          "data": {
            "text/html": [
              "\n",
              "        <iframe\n",
              "            width=\"854\"\n",
              "            height=\"480\"\n",
              "            src=\"https://www.youtube.com/embed/Ox3ELd1UFyo?fs=1\"\n",
              "            frameborder=\"0\"\n",
              "            allowfullscreen\n",
              "        ></iframe>\n",
              "        "
            ],
            "text/plain": [
              "<IPython.lib.display.YouTubeVideo at 0x7f8e19079e80>"
            ],
            "image/jpeg": "[encoded data removed]"
          },
          "metadata": {
            "tags": []
          },
          "execution_count": 2
        }
      ]
    },
    {
      "cell_type": "markdown",
      "metadata": {
        "id": "UeVTDlLl5sua"
      },
      "source": [
        "# Summary of Video 2:\n",
        "\n",
        "- to understand not just how feed-forward networks generate interesting dynamics\n",
        "and evolve their firing rates as a function of external input\n",
        "but how recurrent networks\n",
        "indeed which most of the networks in the brain are\n",
        "also generate dynamics and interesting\n",
        "firing rate\n",
        "activities\n",
        "- introduce the concept of fixed points, or steady states of these networks.\n",
        "- the activity and the dynamics of this neural population is not just determined by the external input \"I-external\"\n",
        "but also by recurrent connectivity that exists among all the neurons in this population. They can all be connected\n",
        "All-to-all, or they can be connected with a given probability\n",
        "like ten percent probability and so on, and this of course, depends on the properties of\n",
        "The neurons that you're trying to model.\n",
        "To represent this inner modeling framework, we're just going to assume that we have this connection \"w\"\n",
        "That is the recurrent connection that effectively denotes how strongly the population is coupled to itself.\n",
        "and this particular parameter will depend on the strength of the connection.\n",
        "It will also depend on the nature of the connectivity, namely are the neurons connected all-to-all or with a particular probability\n",
        "and so on. But, this now allows us to modify slightly\n",
        "The equation for the firing rate activity of this population \"r\". So in addition to the external input, we also have\n",
        "another term that contributes to the total input current received by neurons in this postsynaptic population\n",
        "namely the product of the connection strength and the firing rate activity \"r\"\n",
        "So, how can we understand the dynamics of these recurrent networks?\n",
        "- Obviously, the dynamics of these recurrent networks depends on the strength of this recurrent connectivity\n",
        "as well as the strength of the external input.\n",
        "- We're going to use the mathematical framework of dynamical systems\n",
        "to actually explain or to describe the dynamics of these networks\n",
        "by using one-dimensional dynamical systems.\n",
        "One-dimensional because here we just have a single population of neurons that\n",
        "presumably have similar computational properties.\n",
        "We're going to investigate the diversity of behaviors that such a network of neurons can generate as a\n",
        "function of the connectivity strength and the external input\n",
        "So, one of the the first things that we can do in this network is determine the fixed points\n",
        "so mathematics tells us that every dynamical system has\n",
        "fixed points that also have different names they're also known as equilibria, or steady states, and these fixed points\n",
        "correspond to\n",
        "values of the firing rate where the dynamics of the rate does not change at all\n",
        "so we can do this by looking at the\n",
        "equation that describes the activity of this neural population so dr/dt and\n",
        "by definition, we're looking for values of \"r\" where these dynamics do not change in time\n",
        "so this means that we're going to set the derivative of \"r\"\n",
        "with respect to time equal to zero. \n",
        "- We need to also introduce the concept of a vector field or a phase plane\n",
        "So indeed just by plotting the dr/dt as a function of \"r\"\n",
        "we have effectively plotted the phase plane of this one-dimensional dynamical system\n",
        "So this tells us not how the activity \"r\" changes in time; how the change in the activity with respect to time\n",
        "depends on the values\n",
        "of the firing rate of the population at that given time point\n",
        "This now defines the notion of a phase plane from one dimensional dynamical system\n",
        "so now we can\n",
        "plot indeed the fixed points in this graphical representation in the phase plane of this 1 dimensional dynamical\n",
        "system as we said, the fixed points correspond exactly to\n",
        "the values of the population activity \"r\" where the dynamics do not change, and this is exactly the values where dr/dt is equal to 0\n",
        "\n",
        "- investigate the fixed points of the dynamics of the equation that we just wrote down for a recurrent network; \n",
        "these fixed points exactly correspond to\n",
        "values of the firing rate activity where nothing changes where the dynamics does not change\n",
        "It doesn't increase or doesn't decrease it. Just stays at that point\n",
        "\n",
        "- explore how to calculate and how to visualize these fixed points graphically\n",
        "- determine how these fixed points depend on\n",
        "parameters in the network, for example the connectivity \"w\"\n",
        "the external Input \"I-external\", and the time constant. \n"
      ]
    },
    {
      "cell_type": "markdown",
      "metadata": {
        "id": "P5f3HjWHzUaA"
      },
      "source": [
        "As you varied the two parameters in the last Interactive Demo, you noticed that, while at first the system output quickly changes, with time, it reaches its maximum/minimum value and does not change anymore. The value eventually reached by the system is called the **steady state** of the system, or the **fixed point**. Essentially, in the steady states the derivative with respect to time of the activity ($r$) is zero, i.e. $\\displaystyle \\frac{dr}{dt}=0$. \n",
        "\n",
        "We can find that the steady state of the Equation. (1) by setting $\\displaystyle{\\frac{dr}{dt}=0}$ and solve for $r$:\n",
        "\n",
        "$$-r_{\\text{steady}} + F(w\\cdot r_{\\text{steady}} + I_{\\text{ext}};a,\\theta) = 0, \\qquad (3)$$\n",
        "\n",
        "When it exists, the solution of Equation. (3) defines a **fixed point** of the dynamical system in Equation (1). Note that if $F(x)$ is nonlinear, it is not always possible to find an analytical solution, but the solution can be found via numerical simulations, as we will do later.\n",
        "\n",
        "From the Interactive Demo, one could also notice that the value of $\\tau$ influences how quickly the activity will converge to the steady state from its initial value. \n",
        "\n",
        "In the specific case of $w=0$, we can also analytically compute  the solution of Equation (1) (i.e., the thick blue dashed line) and deduce the role of $\\tau$ in determining the convergence to the fixed point: \n",
        "\n",
        "$$\\displaystyle{r(t) = \\big{[}F(I_{\\text{ext}};a,\\theta) -r(t=0)\\big{]} (1-\\text{e}^{-\\frac{t}{\\tau}})} + r(t=0)$$ \\\\\n",
        "\n",
        "We can now numerically calculate the fixed point with a root finding algorithm."
      ]
    },
    {
      "cell_type": "markdown",
      "metadata": {
        "id": "GKKTlNbPzUaA"
      },
      "source": [
        "## Exercise 2: Visualization of the fixed points\n",
        "\n",
        "When it is not possible to find the solution for Equation (3) analytically, a graphical approach can be taken. To that end, it is useful to plot $\\displaystyle{\\frac{dr}{dt}}$ as a function of $r$. The values of $r$ for which the plotted function crosses zero on the y axis correspond to fixed points. \n",
        "\n",
        "Here, let us, for example, set $w=5.0$ and $I^{\\text{ext}}=0.5$. From Equation (1), you can obtain\n",
        "\n",
        "$$\\frac{dr}{dt} = [-r + F(w\\cdot r + I^{\\text{ext}})]\\,/\\,\\tau $$\n",
        "\n",
        "Then, plot the $dr/dt$ as a function of $r$, and check for the presence of fixed points. "
      ]
    },
    {
      "cell_type": "code",
      "metadata": {
        "id": "xgDXXlnNzUaB"
      },
      "source": [
        "def compute_drdt(r, I_ext, w, a, theta, tau, **other_pars):\n",
        "  \"\"\"Given parameters, compute dr/dt as a function of r.\n",
        "\n",
        "  Args:\n",
        "    r (1D array) : Average firing rate of the excitatory population\n",
        "    I_ext, w, a, theta, tau (numbers): Simulation parameters to use\n",
        "    other_pars : Other simulation parameters are unused by this function\n",
        "\n",
        "  Returns\n",
        "    drdt function for each value of r\n",
        "  \"\"\"\n",
        "  #########################################################################\n",
        "  # TODO compute drdt and disable the error\n",
        "  raise NotImplementedError(\"Finish the compute_drdt function\")\n",
        "  #########################################################################\n",
        "\n",
        "  # Calculate drdt\n",
        "  drdt = ...\n",
        "\n",
        "  return drdt\n",
        "\n",
        "\n",
        "# Define a vector of r values and the simulation parameters\n",
        "r = np.linspace(0, 1, 1000)\n",
        "pars = default_pars_single(I_ext=0.5, w=5)\n",
        "\n",
        "# Uncomment to test your function\n",
        "# drdt = compute_drdt(r, **pars)\n",
        "# plot_dr_r(r, drdt)"
      ],
      "execution_count": null,
      "outputs": []
    },
    {
      "cell_type": "code",
      "metadata": {
        "id": "u3YdUBVLzUaB"
      },
      "source": [
        "# to_remove solution\n",
        "def compute_drdt(r, I_ext, w, a, theta, tau, **other_pars):\n",
        "  \"\"\"Given parameters, compute dr/dt as a function of r.\n",
        "\n",
        "  Args:\n",
        "    r (1D array) : Average firing rate of the excitatory population\n",
        "    I_ext, w, a, theta, tau (numbers): Simulation parameters to use\n",
        "    other_pars : Other simulation parameters are unused by this function\n",
        "\n",
        "  Returns\n",
        "    drdt function for each value of r\n",
        "  \"\"\"\n",
        "  # Calculate drdt\n",
        "  drdt = (-r + F(w * r + I_ext, a, theta)) / tau\n",
        "\n",
        "  return drdt\n",
        "\n",
        "\n",
        "# Define a vector of r values and the simulation parameters\n",
        "r = np.linspace(0, 1, 1000)\n",
        "pars = default_pars_single(I_ext=0.5, w=5)\n",
        "\n",
        "drdt = compute_drdt(r, **pars)\n",
        "with plt.xkcd():\n",
        "  plot_dr_r(r, drdt)"
      ],
      "execution_count": null,
      "outputs": []
    },
    {
      "cell_type": "markdown",
      "metadata": {
        "id": "kaCU_hokzUaB"
      },
      "source": [
        "## Exercise 3: Fixed point calculation\n",
        "\n",
        "We will now find the fixed points numerically. To do so, we need to specif initial values ($r_{\\text{guess}}$) for the root-finding algorithm to start from. From the line $\\displaystyle{\\frac{dr}{dt}}$ plotted above in Exercise 2, initial values can be chosen as a set of values close to where the line crosses zero on the y axis (real fixed point).\n",
        "\n",
        "The next cell defines three helper functions that we will use:\n",
        "\n",
        "- `my_fp_single(r_guess, **pars)` uses a root-finding algorithm to locate a fixed point near a given initial value\n",
        "- `check_fp_single(x_fp, **pars)`, verifies that the values of $r_{\\rm fp}$ for which $\\displaystyle{\\frac{dr}{dt}} = 0$ are the true fixed points\n",
        "- `my_fp_finder(r_guess_vector, **pars)` accepts an array of initial values and finds the same number of fixed points, using the above two functions"
      ]
    },
    {
      "cell_type": "code",
      "metadata": {
        "cellView": "form",
        "id": "tByxRVAmzUaB"
      },
      "source": [
        "# @markdown *Execute this cell to enable the fixed point functions*\n",
        "\n",
        "def my_fp_single(r_guess, a, theta, w, I_ext, **other_pars):\n",
        "  \"\"\"\n",
        "  Calculate the fixed point through drE/dt=0\n",
        "\n",
        "  Args:\n",
        "    r_guess  : Initial value used for scipy.optimize function\n",
        "    a, theta, w, I_ext : simulation parameters\n",
        "\n",
        "  Returns:\n",
        "    x_fp    : value of fixed point\n",
        "  \"\"\"\n",
        "  # define the right hand of E dynamics\n",
        "  def my_WCr(x):\n",
        "    r = x\n",
        "    drdt = (-r + F(w * r + I_ext, a, theta))\n",
        "    y = np.array(drdt)\n",
        "\n",
        "    return y\n",
        "\n",
        "  x0 = np.array(r_guess)\n",
        "  x_fp = opt.root(my_WCr, x0).x.item()\n",
        "\n",
        "  return x_fp\n",
        "\n",
        "\n",
        "def check_fp_single(x_fp, a, theta, w, I_ext, mytol=1e-4, **other_pars):\n",
        "  \"\"\"\n",
        "   Verify |dr/dt| < mytol\n",
        "\n",
        "  Args:\n",
        "    fp      : value of fixed point\n",
        "    a, theta, w, I_ext: simulation parameters\n",
        "    mytol   : tolerance, default as 10^{-4}\n",
        "\n",
        "  Returns :\n",
        "    Whether it is a correct fixed point: True/False\n",
        "  \"\"\"\n",
        "  # calculate Equation(3)\n",
        "  y = x_fp - F(w * x_fp + I_ext, a, theta)\n",
        "\n",
        "  # Here we set tolerance as 10^{-4}\n",
        "  return np.abs(y) < mytol\n",
        "\n",
        "\n",
        "def my_fp_finder(pars, r_guess_vector, mytol=1e-4):\n",
        "  \"\"\"\n",
        "  Calculate the fixed point(s) through drE/dt=0\n",
        "\n",
        "  Args:\n",
        "    pars    : Parameter dictionary\n",
        "    r_guess_vector  : Initial values used for scipy.optimize function\n",
        "    mytol   : tolerance for checking fixed point, default as 10^{-4}\n",
        "\n",
        "  Returns:\n",
        "    x_fps   : values of fixed points\n",
        "\n",
        "  \"\"\"\n",
        "  x_fps = []\n",
        "  correct_fps = []\n",
        "  for r_guess in r_guess_vector:\n",
        "    x_fp = my_fp_single(r_guess, **pars)\n",
        "    if check_fp_single(x_fp, **pars, mytol=mytol):\n",
        "      x_fps.append(x_fp)\n",
        "\n",
        "  return x_fps\n",
        "\n",
        "help(my_fp_finder)"
      ],
      "execution_count": null,
      "outputs": []
    },
    {
      "cell_type": "code",
      "metadata": {
        "id": "RmzhFrcCzUaB"
      },
      "source": [
        "r = np.linspace(0, 1, 1000)\n",
        "pars = default_pars_single(I_ext=0.5, w=5)\n",
        "drdt = compute_drdt(r, **pars)\n",
        "\n",
        "#############################################################################\n",
        "# TODO for students:\n",
        "# Define initial values close to the intersections of drdt and y=0\n",
        "# (How many initial values? Hint: How many times do the two lines intersect?)\n",
        "# Calculate the fixed point with these initial values and plot them\n",
        "#############################################################################\n",
        "r_guess_vector = [...]\n",
        "\n",
        "# Uncomment to test your values\n",
        "# x_fps = my_fp_finder(pars, r_guess_vector)\n",
        "# plot_dr_r(r, drdt, x_fps)"
      ],
      "execution_count": null,
      "outputs": []
    },
    {
      "cell_type": "code",
      "metadata": {
        "id": "bEFyCYrdzUaC"
      },
      "source": [
        "# to_remove solution\n",
        "r = np.linspace(0, 1, 1000)\n",
        "pars = default_pars_single(I_ext=0.5, w=5)\n",
        "drdt = compute_drdt(r, **pars)\n",
        "\n",
        "r_guess_vector = [0, .4, .9]\n",
        "\n",
        "x_fps = my_fp_finder(pars, r_guess_vector)\n",
        "with plt.xkcd():\n",
        "  plot_dr_r(r, drdt, x_fps)"
      ],
      "execution_count": null,
      "outputs": []
    },
    {
      "cell_type": "markdown",
      "metadata": {
        "id": "qzzEnq5PzUaC"
      },
      "source": [
        "## Interactive Demo: fixed points as a function of recurrent and external inputs.\n",
        "\n",
        "You can now explore how the previous plot changes when the recurrent coupling $w$ and the external input $I_{\\text{ext}}$ take different values. How does the number of fixed points change?"
      ]
    },
    {
      "cell_type": "code",
      "metadata": {
        "id": "IsJGipiDzUaD"
      },
      "source": [
        "# @title\n",
        "\n",
        "# @markdown Make sure you execute this cell to enable the widget!\n",
        "\n",
        "\n",
        "def plot_intersection_single(w, I_ext):\n",
        "  # set your parameters\n",
        "  pars = default_pars_single(w=w, I_ext=I_ext)\n",
        "\n",
        "  # find fixed points\n",
        "  r_init_vector = [0, .4, .9]\n",
        "  x_fps = my_fp_finder(pars, r_init_vector)\n",
        "\n",
        "  # plot\n",
        "  r = np.linspace(0, 1., 1000)\n",
        "  drdt = (-r + F(w * r + I_ext, pars['a'], pars['theta'])) / pars['tau']\n",
        "\n",
        "  plot_dr_r(r, drdt, x_fps)\n",
        "\n",
        "_ = widgets.interact(plot_intersection_single, w=(1, 7, 0.2),\n",
        "                     I_ext=(0, 3, 0.1))"
      ],
      "execution_count": null,
      "outputs": []
    },
    {
      "cell_type": "code",
      "metadata": {
        "id": "dJx5uQTBzUaE"
      },
      "source": [
        "# to_remove explanation\n",
        "\n",
        "\"\"\"\n",
        "Discussion:\n",
        "\n",
        "The fixed points of the single excitatory neuron population are determined by both\n",
        "recurrent connections w and external input I_ext. In a previous interactive demo\n",
        "we saw how the system showed two different steady-states when w = 0. But when w\n",
        "doe not equal 0, for some range of w the system shows three fixed points (the middle\n",
        "one being unstable) and the steady state depends on the initial conditions (i.e.\n",
        "r at time zero.).\n",
        "\n",
        "More on this will be explained in the next section.\n",
        "\"\"\";"
      ],
      "execution_count": null,
      "outputs": []
    },
    {
      "cell_type": "markdown",
      "metadata": {
        "id": "IOO-e1pezUaE"
      },
      "source": [
        "---\n",
        "# Summary\n",
        "\n",
        "In this tutorial, we have investigated the dynamics of a rate-based single population of neurons.\n",
        "\n",
        "We learned about:\n",
        "- The effect of the input parameters and the time constant of the network on the dynamics of the population.\n",
        "- How to find the fixed point(s) of the system.\n",
        "\n",
        "Next, we have two Bonus, but important concepts in dynamical system analysis and simulation. If you have time left, watch the next video and proceed to solve the exercises. You will learn:\n",
        "\n",
        "- How to determine the stability of a fixed point by linearizing the system.\n",
        "- How to add realistic inputs to our model."
      ]
    },
    {
      "cell_type": "markdown",
      "metadata": {
        "id": "0Vn7duqNzUaE"
      },
      "source": [
        "---\n",
        "# Bonus 1: Stability of a fixed point"
      ]
    },
    {
      "cell_type": "code",
      "metadata": {
        "cellView": "form",
        "id": "K0A2Xz59zUaE",
        "colab": {
          "base_uri": "https://localhost:8080/",
          "height": 518
        },
        "outputId": "b2f53cec-92f2-4148-f13a-13dab52fc787"
      },
      "source": [
        "# @title Video 3: Stability of fixed points\n",
        "from IPython.display import YouTubeVideo\n",
        "video = YouTubeVideo(id=\"KKMlWWU83Jg\", width=854, height=480, fs=1)\n",
        "print(\"Video available at https://youtube.com/watch?v=\" + video.id)\n",
        "video"
      ],
      "execution_count": 3,
      "outputs": [
        {
          "output_type": "stream",
          "text": [
            "Video available at https://youtube.com/watch?v=KKMlWWU83Jg\n"
          ],
          "name": "stdout"
        },
        {
          "output_type": "execute_result",
          "data": {
            "text/html": [
              "\n",
              "        <iframe\n",
              "            width=\"854\"\n",
              "            height=\"480\"\n",
              "            src=\"https://www.youtube.com/embed/KKMlWWU83Jg?fs=1\"\n",
              "            frameborder=\"0\"\n",
              "            allowfullscreen\n",
              "        ></iframe>\n",
              "        "
            ],
            "text/plain": [
              "<IPython.lib.display.YouTubeVideo at 0x7f8e19079da0>"
            ],
            "image/jpeg": "[encoded data removed]"
          },
          "metadata": {
            "tags": []
          },
          "execution_count": 3
        }
      ]
    },
    {
      "cell_type": "markdown",
      "metadata": {
        "id": "IJ7zVOIT_Hmg"
      },
      "source": [
        "# Summary of Video 3:\n",
        "\n",
        "- how to find the stability of fixed points\n",
        "- So the phase plane allows us to visualize the dynamics of change of the population activity 'R' as a function of time.\n",
        "As a function of the activity of this neural population itself, 'R.'\n",
        "So, rather than plotting R versus T, seeing how the activity changes in time, here\n",
        "we are plotting the change in R\n",
        "as a function of T\n",
        "- define the concept now of\n",
        "flow in this phase plane that tells us whether the dynamics will increase or decrease in time.\n",
        "- change in the activity versus time was positive or negative, so in\n",
        "regions of this phase plane where the derivative was positive, where dr/dt was bigger than zero,\n",
        "the flow of the\n",
        "dynamics was to the right meaning that a population activity R will increase in time and\n",
        "vice-versa in regions where this derivative dr/dt was negative. The flow was to the left meaning that the population\n",
        "activity R will decrease in time.\n",
        "- We also define the fixed points of the dynamics by setting the derivative dR/dT equal to zero.\n",
        "- However, we can also determine the stability of these fixed points in a mathematical or an algebraic way by actually looking at\n",
        "the equations for how a small perturbation of the activity around each fixed point will evolve in time.\n",
        "So in order to do this\n",
        "we have to look at how this perturbation will behave locally around the fixed point. So\n",
        "by linearizing\n",
        "the dynamics of the activity of the population around each of the fixed points.\n",
        "So we effectively have to consider the tangents of this curve\n",
        "and, which are indicated here with with the gray lines, and we have to see whether then this local\n",
        "perturbation will be amplified\n",
        "in which case the activity will go away from the fixed point or it will decay to zero in which case the activity will converge\n",
        "back to the fixed point which is indicative of a stable fixed point.\n",
        "- So the question is how do such small perturbations of the activity around each of the fixed points\n",
        "behave? Namely, do they grow or do they decay in time?\n",
        "\t\n",
        "- study a two dimensional dynamical system,\n",
        "because we investigate networks with two populations of excitatory and inhibitory neurons.\n",
        "- So we consider two cases: the first case is when lambda is negative,\n",
        "so then the solution is just an exponential with a negative exponent which, as you know, decays in time.\n",
        "So this means that the perturbation will completely decay in time, meaning that the activity around\n",
        "which was the fixed point that was perturbed will actually converge just to the fixed point,\n",
        "so this determines that the fixed point is stable.\n",
        "So this is the case, indeed, for the two fixed points that we\n",
        "identified as stable using the graphical analysis namely the one with the low and the one with the high value.\n",
        "On the other hand if this exponent is positive,\n",
        "that means that the perturbation will grow in time because now the\n",
        "solution for the perturbation epsilon will be an exponential with a positive exponent that will obviously blow up.\n",
        "So this means that the activity will grow further and further away from the fixed point and\n",
        "therefore the fixed point is defined to be unstable.\n",
        "So this is the case for the fixed point of this intermediate value that we determined earlier in the graphical way.\n",
        "\n",
        "- visualize the activity of the population, not in the phase plane where we showed dr/dt\n",
        "versus R, but in the more traditional way mainly to visualize how the activity changes in time.\n",
        "\n",
        "- determine the stability of the\n",
        "fixed points, one a graphical way which really helps us\n",
        "determine the stability simply by looking at the direction of flow\n",
        "of the vector field in the phase plane.\n",
        "Fixed points are stable if the trajectories flow towards them and if they flow out of them, then the fixed points are unstable.\n",
        "We also derived an analytical way that allowed us to\n",
        "effectively\n",
        "perturb the activity around the fixed point and derive\n",
        "using linearization techniques\n",
        "a differential equation that told us whether the perturbation will grow or decay in time.\n",
        "\n",
        "- find the fixed points and you will determine\n",
        "their stability both graphically and algebraically.\n",
        "- simulate a more interesting biological scenario where the external input is not just static but is also noisy and random.\n"
      ]
    },
    {
      "cell_type": "markdown",
      "metadata": {
        "id": "K35CGx6kzUaE"
      },
      "source": [
        "#### Initial values and trajectories\n",
        "\n",
        "Here, let us first set $w=5.0$ and $I_{\\text{ext}}=0.5$, and investigate the dynamics of $r(t)$ starting with different initial values $r(0) \\equiv r_{\\text{init}}$. We will plot the trajectories of $r(t)$ with $r_{\\text{init}} = 0.0, 0.1, 0.2,..., 0.9$."
      ]
    },
    {
      "cell_type": "code",
      "metadata": {
        "cellView": "form",
        "id": "k25DFrNrzUaE"
      },
      "source": [
        "# @markdown Execute this cell to see the trajectories!\n",
        "\n",
        "pars = default_pars_single()\n",
        "pars['w'] = 5.0\n",
        "pars['I_ext'] = 0.5\n",
        "\n",
        "plt.figure(figsize=(8, 5))\n",
        "for ie in range(10):\n",
        "  pars['r_init'] = 0.1 * ie  # set the initial value\n",
        "  r = simulate_single(pars)  # run the simulation\n",
        "\n",
        "  # plot the activity with given initial\n",
        "  plt.plot(pars['range_t'], r, 'b', alpha=0.1 + 0.1 * ie,\n",
        "           label=r'r$_{\\mathrm{init}}$=%.1f' % (0.1 * ie))\n",
        "\n",
        "plt.xlabel('t (ms)')\n",
        "plt.title('Two steady states?')\n",
        "plt.ylabel(r'$r$(t)')\n",
        "plt.legend(loc=[1.01, -0.06], fontsize=14)\n",
        "plt.show()"
      ],
      "execution_count": null,
      "outputs": []
    },
    {
      "cell_type": "markdown",
      "metadata": {
        "id": "N1qvdarMzUaF"
      },
      "source": [
        "## Interactive Demo: dynamics as a function of the initial value\n",
        "\n",
        "Let's now set $r_{\\rm init}$ to a value of your choice in this demo. How does the solution change? What do you observe?"
      ]
    },
    {
      "cell_type": "code",
      "metadata": {
        "cellView": "form",
        "id": "Do_39tXvzUaF"
      },
      "source": [
        "# @title\n",
        "\n",
        "# @markdown Make sure you execute this cell to enable the widget!\n",
        "\n",
        "pars = default_pars_single(w=5.0, I_ext=0.5)\n",
        "\n",
        "def plot_single_diffEinit(r_init):\n",
        "  pars['r_init'] = r_init\n",
        "  r = simulate_single(pars)\n",
        "\n",
        "  plt.figure()\n",
        "  plt.plot(pars['range_t'], r, 'b', zorder=1)\n",
        "  plt.plot(0, r[0], 'bo', alpha=0.7, zorder=2)\n",
        "  plt.xlabel('t (ms)', fontsize=16)\n",
        "  plt.ylabel(r'$r(t)$', fontsize=16)\n",
        "  plt.ylim(0, 1.0)\n",
        "  plt.show()\n",
        "\n",
        "\n",
        "_ = widgets.interact(plot_single_diffEinit, r_init=(0, 1, 0.02))"
      ],
      "execution_count": null,
      "outputs": []
    },
    {
      "cell_type": "code",
      "metadata": {
        "id": "rot4HVa8zUaF"
      },
      "source": [
        "# to_remove explanation\n",
        "\"\"\"\n",
        "Discussion:\n",
        "\n",
        "To better appreciate what is happening here, you should go back to the previous\n",
        "interactive demo. Set the w = 5 and I_ext = 0.5.\n",
        "\n",
        "You will find that there are three fixed points of the system for these values of\n",
        "w and I_ext. Now, choose the initial value in this demo and see in which direction\n",
        "the system output moves. When r_init is in the vicinity of the leftmost fixed points\n",
        "it moves towards the left most fixed point. When r_init is in the vicinity of the\n",
        "rightmost fixed points it moves towards the rightmost fixed point.\n",
        "\"\"\";"
      ],
      "execution_count": null,
      "outputs": []
    },
    {
      "cell_type": "markdown",
      "metadata": {
        "id": "iiYtbZOLzUaF"
      },
      "source": [
        "### Stability analysis via linearization of the dynamics\n",
        "\n",
        "Just like Equation $1$ in the case ($w=0$) discussed above, a generic linear system \n",
        "$$\\frac{dx}{dt} = \\lambda (x - b),$$ \n",
        "has a fixed point for $x=b$. The analytical solution of such a system can be found to be:\n",
        "$$x(t) = b + \\big{(} x(0) - b \\big{)} \\text{e}^{\\lambda t}.$$ \n",
        "Now consider a small perturbation of the activity around the fixed point: $x(0) = b+ \\epsilon$, where $|\\epsilon| \\ll 1$. Will the perturbation $\\epsilon(t)$ grow with time or will it decay to the fixed point? The evolution of the perturbation with time can be written, using the analytical solution for $x(t)$, as:\n",
        " $$\\epsilon (t) = x(t) - b = \\epsilon \\text{e}^{\\lambda t}$$\n",
        "\n",
        "- if $\\lambda < 0$, $\\epsilon(t)$ decays to zero, $x(t)$ will still converge to $b$ and the fixed point is \"**stable**\".\n",
        "\n",
        "- if $\\lambda > 0$, $\\epsilon(t)$ grows with time, $x(t)$ will leave the fixed point $b$ exponentially, and the fixed point is, therefore, \"**unstable**\" ."
      ]
    },
    {
      "cell_type": "markdown",
      "metadata": {
        "id": "TavHNBkZzUaG"
      },
      "source": [
        "### Compute the stability of Equation $1$\n",
        "\n",
        "Similar to what we did in the linear system above, in order to determine the stability of a fixed point $r^{*}$ of the excitatory population dynamics, we perturb Equation (1) around $r^{*}$ by $\\epsilon$, i.e. $r = r^{*} + \\epsilon$. We can plug in Equation (1) and obtain the equation determining the time evolution of the perturbation $\\epsilon(t)$:\n",
        "\n",
        "\\begin{align}\n",
        "\\tau \\frac{d\\epsilon}{dt} \\approx -\\epsilon + w F'(w\\cdot r^{*} + I_{\\text{ext}};a,\\theta) \\epsilon \n",
        "\\end{align}\n",
        "\n",
        "where $F'(\\cdot)$ is the derivative of the transfer function $F(\\cdot)$. We can rewrite the above equation as:\n",
        "\n",
        "\\begin{align}\n",
        "\\frac{d\\epsilon}{dt} \\approx \\frac{\\epsilon}{\\tau }[-1 + w F'(w\\cdot r^* + I_{\\text{ext}};a,\\theta)] \n",
        "\\end{align}\n",
        "\n",
        "That is, as in the linear system above, the value of\n",
        "\n",
        "$$\\lambda = [-1+ wF'(w\\cdot r^* + I_{\\text{ext}};a,\\theta)]/\\tau \\qquad (4)$$\n",
        "\n",
        "determines whether the perturbation will grow or decay to zero, i.e., $\\lambda$ defines the stability of the fixed point. This value is called the **eigenvalue** of the dynamical system."
      ]
    },
    {
      "cell_type": "markdown",
      "metadata": {
        "id": "81bggmeHzUaH"
      },
      "source": [
        "## Exercise 4: Compute $dF$\n",
        "\n",
        "The derivative of the sigmoid transfer function is:\n",
        "\\begin{align} \n",
        "\\frac{dF}{dx} & = \\frac{d}{dx} (1+\\exp\\{-a(x-\\theta)\\})^{-1}  \\\\\n",
        "& = a\\exp\\{-a(x-\\theta)\\} (1+\\exp\\{-a(x-\\theta)\\})^{-2}. \\qquad (5)\n",
        "\\end{align}\n",
        "\n",
        "Let's now find the expression for the derivative $\\displaystyle{\\frac{dF}{dx}}$ in the following cell and plot it."
      ]
    },
    {
      "cell_type": "code",
      "metadata": {
        "id": "NsgMYOIJzUaH"
      },
      "source": [
        "def dF(x, a, theta):\n",
        "  \"\"\"\n",
        "  Population activation function.\n",
        "\n",
        "  Args:\n",
        "    x     : the population input\n",
        "    a     : the gain of the function\n",
        "    theta : the threshold of the function\n",
        "\n",
        "  Returns:\n",
        "    dFdx  : the population activation response F(x) for input x\n",
        "  \"\"\"\n",
        "\n",
        "  ###########################################################################\n",
        "  # TODO for students: compute dFdx ##\n",
        "  raise NotImplementedError(\"Student excercise: compute the deravitive of F\")\n",
        "  ###########################################################################\n",
        "\n",
        "  # Calculate the population activation\n",
        "  dFdx = ...\n",
        "\n",
        "  return dFdx\n",
        "\n",
        "\n",
        "pars = default_pars_single()  # get default parameters\n",
        "x = np.arange(0, 10, .1)      # set the range of input\n",
        "\n",
        "# Uncomment below to test your function\n",
        "# df = dF(x, pars['a'], pars['theta'])\n",
        "# plot_dFdt(x, df)"
      ],
      "execution_count": null,
      "outputs": []
    },
    {
      "cell_type": "code",
      "metadata": {
        "id": "cRKyJ4lWzUaI"
      },
      "source": [
        "# to_remove solution\n",
        "def dF(x, a, theta):\n",
        "  \"\"\"\n",
        "  Population activation function.\n",
        "\n",
        "  Args:\n",
        "    x     : the population input\n",
        "    a     : the gain of the function\n",
        "    theta : the threshold of the function\n",
        "\n",
        "  Returns:\n",
        "    dFdx  : the population activation response F(x) for input x\n",
        "  \"\"\"\n",
        "\n",
        "  # Calculate the population activation\n",
        "  dFdx = a * np.exp(-a * (x - theta)) * (1 + np.exp(-a * (x - theta)))**-2\n",
        "\n",
        "  return dFdx\n",
        "\n",
        "\n",
        "pars = default_pars_single()  # get default parameters\n",
        "x = np.arange(0, 10, .1)      # set the range of input\n",
        "\n",
        "df = dF(x, pars['a'], pars['theta'])\n",
        "\n",
        "with plt.xkcd():\n",
        "  plot_dFdt(x, df)"
      ],
      "execution_count": null,
      "outputs": []
    },
    {
      "cell_type": "markdown",
      "metadata": {
        "id": "4ffj06RlzUaI"
      },
      "source": [
        "## Exercise 5: Compute eigenvalues\n",
        "\n",
        "As discussed above, for the case with $w=5.0$ and $I_{\\text{ext}}=0.5$, the system displays **three** fixed points. However, when we simulated the dynamics and varied the initial conditions $r_{\\rm init}$, we could only obtain **two** steady states. In this exercise, we will now check the stability of each of the three fixed points by calculating the corresponding eigenvalues with the function `eig_single`. Check the sign of each eigenvalue (i.e., stability of each fixed point). How many of the fixed points are stable?\n",
        "\n",
        "Note that the expression of the eigenvalue at fixed point $r^*$\n",
        "$$\\lambda = [-1+ wF'(w\\cdot r^* + I_{\\text{ext}};a,\\theta)]/\\tau$$"
      ]
    },
    {
      "cell_type": "code",
      "metadata": {
        "id": "UdD15e-FzUaI"
      },
      "source": [
        "def eig_single(fp, tau, a, theta, w, I_ext, **other_pars):\n",
        "  \"\"\"\n",
        "  Args:\n",
        "    fp   : fixed point r_fp\n",
        "    tau, a, theta, w, I_ext : Simulation parameters\n",
        "\n",
        "  Returns:\n",
        "    eig : eigevalue of the linearized system\n",
        "  \"\"\"\n",
        "  #####################################################################\n",
        "  ## TODO for students: compute eigenvalue and disable the error\n",
        "  raise NotImplementedError(\"Student excercise: compute the eigenvalue\")\n",
        "  ######################################################################\n",
        "  # Compute the eigenvalue\n",
        "  eig = ...\n",
        "\n",
        "  return eig\n",
        "\n",
        "\n",
        "# Find the eigenvalues for all fixed points of Exercise 2\n",
        "pars = default_pars_single(w=5, I_ext=.5)\n",
        "r_guess_vector = [0, .4, .9]\n",
        "x_fp = my_fp_finder(pars, r_guess_vector)\n",
        "\n",
        "# Uncomment below lines after completing the eig_single function.\n",
        "\n",
        "# for fp in x_fp:\n",
        "#   eig_fp = eig_single(fp, **pars)\n",
        "#   print(f'Fixed point1 at {fp:.3f} with Eigenvalue={eig_fp:.3f}')"
      ],
      "execution_count": null,
      "outputs": []
    },
    {
      "cell_type": "markdown",
      "metadata": {
        "id": "DzzEH0pQzUaJ"
      },
      "source": [
        "**SAMPLE OUTPUT**\n",
        "\n",
        "```\n",
        "Fixed point1 at 0.042 with Eigenvalue=-0.583\n",
        "Fixed point2 at 0.447 with Eigenvalue=0.498\n",
        "Fixed point3 at 0.900 with Eigenvalue=-0.626\n",
        "```"
      ]
    },
    {
      "cell_type": "code",
      "metadata": {
        "id": "aQ6Jkg4-zUaK"
      },
      "source": [
        "# to_remove solution\n",
        "def eig_single(fp, tau, a, theta, w, I_ext, **other_pars):\n",
        "  \"\"\"\n",
        "  Args:\n",
        "    fp   : fixed point r_fp\n",
        "    tau, a, theta, w, I_ext : Simulation parameters\n",
        "\n",
        "  Returns:\n",
        "    eig : eigevalue of the linearized system\n",
        "  \"\"\"\n",
        "  # Compute the eigenvalue\n",
        "  eig = (-1. + w * dF(w * fp + I_ext, a, theta)) / tau\n",
        "\n",
        "  return eig\n",
        "\n",
        "\n",
        "# Find the eigenvalues for all fixed points of Exercise 2\n",
        "pars = default_pars_single(w=5, I_ext=.5)\n",
        "r_guess_vector = [0, .4, .9]\n",
        "x_fp = my_fp_finder(pars, r_guess_vector)\n",
        "\n",
        "for fp in x_fp:\n",
        "  eig_fp = eig_single(fp, **pars)\n",
        "  print(f'Fixed point1 at {fp:.3f} with Eigenvalue={eig_fp:.3f}')"
      ],
      "execution_count": null,
      "outputs": []
    },
    {
      "cell_type": "markdown",
      "metadata": {
        "id": "8x0hPu0QzUaK"
      },
      "source": [
        "## Think! \n",
        "Throughout the tutorial, we have assumed $w> 0 $, i.e., we considered a single population of **excitatory** neurons. What do you think will be the behavior of a population of inhibitory neurons, i.e., where $w> 0$ is replaced by $w< 0$? "
      ]
    },
    {
      "cell_type": "markdown",
      "metadata": {
        "id": "zvEixvpl_Ps9"
      },
      "source": [
        "*Hint*:\n",
        "\n",
        "1. Go back to the interactive demo and try the values that'll help answer the question. How many fixed points can be observed?"
      ]
    },
    {
      "cell_type": "code",
      "metadata": {
        "id": "M5EdNj_szUaK"
      },
      "source": [
        "# to_remove explanation\n",
        "\n",
        "\"\"\"\n",
        "Discussion:\n",
        "\n",
        "You can check this by going back the second last interactive demo and set the\n",
        "weight to w<0. You will notice that the system has only one fixed point and that\n",
        "is at zero value. For this particular dynamics, the system will eventually converge\n",
        "to zero. But try it out.\n",
        "\"\"\";"
      ],
      "execution_count": null,
      "outputs": []
    },
    {
      "cell_type": "markdown",
      "metadata": {
        "id": "CP5FMMS4zUaL"
      },
      "source": [
        "---\n",
        "# Bonus 2: Noisy input drives the transition between two stable states\n",
        "\n"
      ]
    },
    {
      "cell_type": "markdown",
      "metadata": {
        "id": "cBncq7FizUaL"
      },
      "source": [
        "## Ornstein-Uhlenbeck (OU) process\n",
        "\n",
        "As discussed in several previous tutorials, the OU process is usually used to generate a noisy input into the neuron. The OU input $\\eta(t)$ follows: \n",
        "\n",
        "$$\\tau_\\eta \\frac{d}{dt}\\eta(t) = -\\eta (t) + \\sigma_\\eta\\sqrt{2\\tau_\\eta}\\xi(t)$$\n",
        "\n",
        "Execute the following function `my_OU(pars, sig, myseed=False)` to generate an OU process."
      ]
    },
    {
      "cell_type": "code",
      "metadata": {
        "cellView": "form",
        "id": "zpOVgOI4zUaL"
      },
      "source": [
        "# @title OU process `my_OU(pars, sig, myseed=False)`\n",
        "\n",
        "# @markdown Make sure you execute this cell to visualize the noise!\n",
        "\n",
        "\n",
        "def my_OU(pars, sig, myseed=False):\n",
        "  \"\"\"\n",
        "  A functions that generates Ornstein-Uhlenback process\n",
        "\n",
        "  Args:\n",
        "    pars       : parameter dictionary\n",
        "    sig        : noise amplitute\n",
        "    myseed     : random seed. int or boolean\n",
        "\n",
        "  Returns:\n",
        "    I          : Ornstein-Uhlenbeck input current\n",
        "  \"\"\"\n",
        "\n",
        "  # Retrieve simulation parameters\n",
        "  dt, range_t = pars['dt'], pars['range_t']\n",
        "  Lt = range_t.size\n",
        "  tau_ou = pars['tau_ou']  # [ms]\n",
        "\n",
        "  # set random seed\n",
        "  if myseed:\n",
        "      np.random.seed(seed=myseed)\n",
        "  else:\n",
        "      np.random.seed()\n",
        "\n",
        "  # Initialize\n",
        "  noise = np.random.randn(Lt)\n",
        "  I_ou = np.zeros(Lt)\n",
        "  I_ou[0] = noise[0] * sig\n",
        "\n",
        "  # generate OU\n",
        "  for it in range(Lt - 1):\n",
        "    I_ou[it + 1] = (I_ou[it]\n",
        "                    + dt / tau_ou * (0. - I_ou[it])\n",
        "                    + np.sqrt(2 * dt / tau_ou) * sig * noise[it + 1])\n",
        "\n",
        "  return I_ou\n",
        "\n",
        "\n",
        "pars = default_pars_single(T=100)\n",
        "pars['tau_ou'] = 1.  # [ms]\n",
        "sig_ou = 0.1\n",
        "I_ou = my_OU(pars, sig=sig_ou, myseed=2020)\n",
        "plt.figure(figsize=(10, 4))\n",
        "plt.plot(pars['range_t'], I_ou, 'r')\n",
        "plt.xlabel('t (ms)')\n",
        "plt.ylabel(r'$I_{\\mathrm{OU}}$')\n",
        "plt.show()"
      ],
      "execution_count": null,
      "outputs": []
    },
    {
      "cell_type": "markdown",
      "metadata": {
        "id": "C6F7maxPzUaM"
      },
      "source": [
        "## Example: Up-Down transition\n",
        "\n",
        "In the presence of two or more fixed points, noisy inputs can drive a transition between the fixed points! Here, we stimulate an E population for 1,000 ms applying OU inputs."
      ]
    },
    {
      "cell_type": "code",
      "metadata": {
        "cellView": "form",
        "id": "X0HlwuTlzUaM"
      },
      "source": [
        "# @title Simulation of an E population with OU inputs\n",
        "\n",
        "# @markdown Make sure you execute this cell to spot the Up-Down states!\n",
        "\n",
        "pars = default_pars_single(T=1000)\n",
        "pars['w'] = 5.0\n",
        "sig_ou = 0.7\n",
        "pars['tau_ou'] = 1.  # [ms]\n",
        "pars['I_ext'] = 0.56 + my_OU(pars, sig=sig_ou, myseed=2020)\n",
        "\n",
        "r = simulate_single(pars)\n",
        "\n",
        "plt.figure(figsize=(10, 4))\n",
        "plt.plot(pars['range_t'], r, 'b', alpha=0.8)\n",
        "plt.xlabel('t (ms)')\n",
        "plt.ylabel(r'$r(t)$')\n",
        "plt.show()"
      ],
      "execution_count": null,
      "outputs": []
    }
  ]
}